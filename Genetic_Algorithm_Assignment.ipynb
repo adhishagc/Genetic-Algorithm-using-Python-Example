{
  "nbformat": 4,
  "nbformat_minor": 0,
  "metadata": {
    "colab": {
      "name": "Genetic Algorithm Assignment.ipynb",
      "version": "0.3.2",
      "provenance": [],
      "collapsed_sections": [
        "NrydFJLYZ8TN",
        "ZZbApi5tApCR",
        "nGw3JHBKp1_J",
        "kpO0AXAPmYnI",
        "XbQ4-DPC_Eds"
      ],
      "toc_visible": true,
      "include_colab_link": true
    },
    "kernelspec": {
      "name": "python3",
      "display_name": "Python 3"
    }
  },
  "cells": [
    {
      "cell_type": "markdown",
      "metadata": {
        "id": "view-in-github",
        "colab_type": "text"
      },
      "source": [
        "<a href=\"https://colab.research.google.com/github/adhishagc/Genetic-Algorithm-using-Python-Example/blob/master/Genetic_Algorithm_Assignment.ipynb\" target=\"_parent\"><img src=\"https://colab.research.google.com/assets/colab-badge.svg\" alt=\"Open In Colab\"/></a>"
      ]
    },
    {
      "cell_type": "markdown",
      "metadata": {
        "id": "Tzl3sKqNjh0H",
        "colab_type": "text"
      },
      "source": [
        "## **Table of Contents**\n",
        "\n",
        "---\n",
        "\n",
        "\n",
        "1.   **Importing Libraries**\n",
        "2.   **Access to Google Drive**\n",
        "3.**Function Definitions**\n",
        "4. **Running the Model**\n",
        "\n",
        "\n",
        "\n"
      ]
    },
    {
      "cell_type": "markdown",
      "metadata": {
        "id": "BEFLTAgH9Jxo",
        "colab_type": "text"
      },
      "source": [
        "### **Initialization**\n",
        "\n",
        "\n",
        "1.   Import of Libraries\n",
        "2.   Access to Google Drive\n",
        "3. Load the Dataset\n",
        "4. View the Dataset as a Dataframe\n",
        "\n"
      ]
    },
    {
      "cell_type": "code",
      "metadata": {
        "id": "-eurb3QNqpfi",
        "colab_type": "code",
        "colab": {}
      },
      "source": [
        "#importing libraries\n",
        "import pandas as pd\n",
        "import numpy as np\n",
        "import random as random\n",
        "from matplotlib import pyplot as plt\n",
        "import time"
      ],
      "execution_count": 0,
      "outputs": []
    },
    {
      "cell_type": "code",
      "metadata": {
        "id": "XbdYNXe5rWwX",
        "colab_type": "code",
        "outputId": "e7a67466-736f-461b-9580-2c2a4da1099e",
        "colab": {
          "base_uri": "https://localhost:8080/",
          "height": 122
        }
      },
      "source": [
        "#Access to google drive. The Video Store dataset was uploaded to google drive.\n",
        "from google.colab import drive\n",
        "drive.mount('/content/gdrive')"
      ],
      "execution_count": 2,
      "outputs": [
        {
          "output_type": "stream",
          "text": [
            "Go to this URL in a browser: https://accounts.google.com/o/oauth2/auth?client_id=947318989803-6bn6qk8qdgf4n4g3pfee6491hc0brc4i.apps.googleusercontent.com&redirect_uri=urn%3Aietf%3Awg%3Aoauth%3A2.0%3Aoob&scope=email%20https%3A%2F%2Fwww.googleapis.com%2Fauth%2Fdocs.test%20https%3A%2F%2Fwww.googleapis.com%2Fauth%2Fdrive%20https%3A%2F%2Fwww.googleapis.com%2Fauth%2Fdrive.photos.readonly%20https%3A%2F%2Fwww.googleapis.com%2Fauth%2Fpeopleapi.readonly&response_type=code\n",
            "\n",
            "Enter your authorization code:\n",
            "··········\n",
            "Mounted at /content/gdrive\n"
          ],
          "name": "stdout"
        }
      ]
    },
    {
      "cell_type": "code",
      "metadata": {
        "id": "2x9m61XNt9iD",
        "colab_type": "code",
        "colab": {}
      },
      "source": [
        "#The dataset is load dataset to a dataframe\n",
        "df = pd.read_csv('/content/gdrive/My Drive/Genetic Algorithms/Assignment 01/dataset.csv')"
      ],
      "execution_count": 0,
      "outputs": []
    },
    {
      "cell_type": "code",
      "metadata": {
        "id": "QfQMTCpC-rop",
        "colab_type": "code",
        "outputId": "2863ffcb-2025-41e7-e7a5-f88608ff9f4d",
        "colab": {
          "base_uri": "https://localhost:8080/",
          "height": 359
        }
      },
      "source": [
        "#view dataset\n",
        "df"
      ],
      "execution_count": 4,
      "outputs": [
        {
          "output_type": "execute_result",
          "data": {
            "text/html": [
              "<div>\n",
              "<style scoped>\n",
              "    .dataframe tbody tr th:only-of-type {\n",
              "        vertical-align: middle;\n",
              "    }\n",
              "\n",
              "    .dataframe tbody tr th {\n",
              "        vertical-align: top;\n",
              "    }\n",
              "\n",
              "    .dataframe thead th {\n",
              "        text-align: right;\n",
              "    }\n",
              "</style>\n",
              "<table border=\"1\" class=\"dataframe\">\n",
              "  <thead>\n",
              "    <tr style=\"text-align: right;\">\n",
              "      <th></th>\n",
              "      <th>file</th>\n",
              "      <th>size</th>\n",
              "      <th>duration</th>\n",
              "    </tr>\n",
              "  </thead>\n",
              "  <tbody>\n",
              "    <tr>\n",
              "      <th>0</th>\n",
              "      <td>1</td>\n",
              "      <td>800</td>\n",
              "      <td>121</td>\n",
              "    </tr>\n",
              "    <tr>\n",
              "      <th>1</th>\n",
              "      <td>2</td>\n",
              "      <td>700</td>\n",
              "      <td>95</td>\n",
              "    </tr>\n",
              "    <tr>\n",
              "      <th>2</th>\n",
              "      <td>3</td>\n",
              "      <td>650</td>\n",
              "      <td>85</td>\n",
              "    </tr>\n",
              "    <tr>\n",
              "      <th>3</th>\n",
              "      <td>4</td>\n",
              "      <td>750</td>\n",
              "      <td>100</td>\n",
              "    </tr>\n",
              "    <tr>\n",
              "      <th>4</th>\n",
              "      <td>5</td>\n",
              "      <td>600</td>\n",
              "      <td>78</td>\n",
              "    </tr>\n",
              "    <tr>\n",
              "      <th>5</th>\n",
              "      <td>6</td>\n",
              "      <td>900</td>\n",
              "      <td>125</td>\n",
              "    </tr>\n",
              "    <tr>\n",
              "      <th>6</th>\n",
              "      <td>7</td>\n",
              "      <td>950</td>\n",
              "      <td>130</td>\n",
              "    </tr>\n",
              "    <tr>\n",
              "      <th>7</th>\n",
              "      <td>8</td>\n",
              "      <td>875</td>\n",
              "      <td>128</td>\n",
              "    </tr>\n",
              "    <tr>\n",
              "      <th>8</th>\n",
              "      <td>9</td>\n",
              "      <td>1050</td>\n",
              "      <td>135</td>\n",
              "    </tr>\n",
              "    <tr>\n",
              "      <th>9</th>\n",
              "      <td>10</td>\n",
              "      <td>1500</td>\n",
              "      <td>120</td>\n",
              "    </tr>\n",
              "  </tbody>\n",
              "</table>\n",
              "</div>"
            ],
            "text/plain": [
              "   file  size  duration\n",
              "0     1   800       121\n",
              "1     2   700        95\n",
              "2     3   650        85\n",
              "3     4   750       100\n",
              "4     5   600        78\n",
              "5     6   900       125\n",
              "6     7   950       130\n",
              "7     8   875       128\n",
              "8     9  1050       135\n",
              "9    10  1500       120"
            ]
          },
          "metadata": {
            "tags": []
          },
          "execution_count": 4
        }
      ]
    },
    {
      "cell_type": "markdown",
      "metadata": {
        "id": "7JEmrYDp_IZo",
        "colab_type": "text"
      },
      "source": [
        "### **Population Creation Function**\n",
        "A dataframe which consists of the entire population is returned when this function is called. The structure would be of 1 column to label the chromosome number and the remaining 10 columns will represent the file number of the dataset. The returned dataframe (population) will consist of random 0 or 1 values in the  chromosome."
      ]
    },
    {
      "cell_type": "code",
      "metadata": {
        "id": "JKhFpNlW6UCH",
        "colab_type": "code",
        "colab": {}
      },
      "source": [
        "# function for init population\n",
        "def createInitPop(popSize):\n",
        "  #array of data to represent the chromosomes and random file labellings\n",
        "  values ={\n",
        "    'chromosome':[i for i in range(1,popSize+1)],\n",
        "    'file 1':[random.randint(0, 1) for _ in range(popSize)],\n",
        "    'file 2':[random.randint(0, 1) for _ in range(popSize)],\n",
        "    'file 3':[random.randint(0, 1) for _ in range(popSize)],\n",
        "    'file 4':[random.randint(0, 1) for _ in range(popSize)],\n",
        "    'file 5':[random.randint(0, 1) for _ in range(popSize)],\n",
        "    'file 6':[random.randint(0, 1) for _ in range(popSize)],\n",
        "    'file 7':[random.randint(0, 1) for _ in range(popSize)],\n",
        "    'file 8':[random.randint(0, 1) for _ in range(popSize)],\n",
        "    'file 9':[random.randint(0, 1) for _ in range(popSize)],\n",
        "    'file 10':[random.randint(0, 1) for _ in range(popSize)],\n",
        "  }\n",
        "  #convert the array of population to a dataframe\n",
        "  values = pd.DataFrame(values)\n",
        "  \n",
        "  #return the dataframe\n",
        "  return values"
      ],
      "execution_count": 0,
      "outputs": []
    },
    {
      "cell_type": "markdown",
      "metadata": {
        "id": "o45jFGcl_Rq_",
        "colab_type": "text"
      },
      "source": [
        "### **Evaluate Fitness Function**\n",
        "\n",
        "\\begin{equation}\n",
        "f(x_i) = \\textrm{Playing time of video file of } x_i\n",
        "\\end{equation}\n",
        "\n",
        "\\begin{equation}\n",
        "g(x_i) = \\textrm{File size of video file of } x_i\n",
        "\\end{equation}\n",
        "\n",
        "**Objective Function**\n",
        "\\begin{equation}\n",
        "\\textrm{Maximize }\\sum f(x_i) \\textrm{ such that } \\sum g(x_i)<=4500\n",
        "\\end{equation}"
      ]
    },
    {
      "cell_type": "code",
      "metadata": {
        "id": "aLZeRrRsX5UC",
        "colab_type": "code",
        "colab": {}
      },
      "source": [
        "#Evaluate Fitness Function\n",
        "def EvaluateFitness(chromosome,df,popSize):\n",
        "  #fitness array\n",
        "  fitness = {\n",
        "      'chromosome':[x for x in range(1,popSize+1)],\n",
        "      'fitness':[0 for x in range(0,popSize)]\n",
        "  }\n",
        "  \n",
        "  #size array\n",
        "  filesize = {\n",
        "      'chromosome':[x for x in range(1,popSize+1)],\n",
        "      'size':[0 for x in range(0,popSize)]\n",
        "  }\n",
        "\n",
        "  #convert to dataframe\n",
        "  fitness = pd.DataFrame(fitness)\n",
        "  filesize = pd.DataFrame(filesize)\n",
        "\n",
        "  #total file size and duration PER Solution\n",
        "  size=0\n",
        "  duration=0\n",
        "  \n",
        "  #implementation of the Fitness Function\n",
        "  # i navigates the rows while the j navigates the file1, file2 ... columns in the chromosome.\n",
        "  for i in range(popSize):\n",
        "    for j in range(1,11):\n",
        "      #navigate through each chromosome in the population and check for the cells which contains a file, that is 1 value in the cell.\n",
        "      \n",
        "      if(chromosome.iloc[i,j] ==1):\n",
        "        #if it contains any file in the cell(that is a 1 value) the size and the duration of the solution is calculated by comparing the dataset.\n",
        "        size += df.iloc[j-1,1]\n",
        "        duration +=df.iloc[j-1,2]\n",
        "    \n",
        "    #calculation of the fitness and the total file size of the entire population\n",
        "    if(size<=4500):\n",
        "      #these values are potential solutions since the size is less than 4500.\n",
        "      #respective fitness and filesizes are added to the dataframe\n",
        "      fitness.loc[i,'fitness'] = duration\n",
        "      filesize.loc[i,'size'] = size\n",
        "      \n",
        "    else:\n",
        "      #These will be non solutions. Therefore the fitness is reduced by multiplying by 0.5\n",
        "      #The file size is stored\n",
        "      fitness.loc[i,'fitness'] = duration*0.5\n",
        "      filesize.loc[i,'size'] = size\n",
        "      \n",
        "    #The PER solution size and duration values are reset\n",
        "    size = 0\n",
        "    duration = 0\n",
        "    #Debug_fitness = fitness\n",
        "  #The entire fitness and filesize of the population is returned as a DataFrame\n",
        "  return fitness, filesize      "
      ],
      "execution_count": 0,
      "outputs": []
    },
    {
      "cell_type": "code",
      "metadata": {
        "id": "i1iNbgvw07dr",
        "colab_type": "code",
        "colab": {}
      },
      "source": [
        "Debug_fitness = pd.DataFrame()"
      ],
      "execution_count": 0,
      "outputs": []
    },
    {
      "cell_type": "code",
      "metadata": {
        "id": "HkVXXOm-1hjH",
        "colab_type": "code",
        "colab": {}
      },
      "source": [
        "popSize = 60 \n",
        "\n",
        "#creation of population of Chromosomes\n",
        "chromosome = createInitPop(popSize)\n",
        "fitness, totFileSize = EvaluateFitness(chromosome,df,popSize)"
      ],
      "execution_count": 0,
      "outputs": []
    },
    {
      "cell_type": "code",
      "metadata": {
        "id": "uCIAaEQL15Da",
        "colab_type": "code",
        "outputId": "f0655948-d549-4f38-9e7e-50015ba61d69",
        "colab": {
          "base_uri": "https://localhost:8080/",
          "height": 1909
        }
      },
      "source": [
        "fitness"
      ],
      "execution_count": 9,
      "outputs": [
        {
          "output_type": "execute_result",
          "data": {
            "text/html": [
              "<div>\n",
              "<style scoped>\n",
              "    .dataframe tbody tr th:only-of-type {\n",
              "        vertical-align: middle;\n",
              "    }\n",
              "\n",
              "    .dataframe tbody tr th {\n",
              "        vertical-align: top;\n",
              "    }\n",
              "\n",
              "    .dataframe thead th {\n",
              "        text-align: right;\n",
              "    }\n",
              "</style>\n",
              "<table border=\"1\" class=\"dataframe\">\n",
              "  <thead>\n",
              "    <tr style=\"text-align: right;\">\n",
              "      <th></th>\n",
              "      <th>chromosome</th>\n",
              "      <th>fitness</th>\n",
              "    </tr>\n",
              "  </thead>\n",
              "  <tbody>\n",
              "    <tr>\n",
              "      <th>0</th>\n",
              "      <td>1</td>\n",
              "      <td>216.0</td>\n",
              "    </tr>\n",
              "    <tr>\n",
              "      <th>1</th>\n",
              "      <td>2</td>\n",
              "      <td>293.0</td>\n",
              "    </tr>\n",
              "    <tr>\n",
              "      <th>2</th>\n",
              "      <td>3</td>\n",
              "      <td>451.0</td>\n",
              "    </tr>\n",
              "    <tr>\n",
              "      <th>3</th>\n",
              "      <td>4</td>\n",
              "      <td>350.0</td>\n",
              "    </tr>\n",
              "    <tr>\n",
              "      <th>4</th>\n",
              "      <td>5</td>\n",
              "      <td>382.0</td>\n",
              "    </tr>\n",
              "    <tr>\n",
              "      <th>5</th>\n",
              "      <td>6</td>\n",
              "      <td>215.0</td>\n",
              "    </tr>\n",
              "    <tr>\n",
              "      <th>6</th>\n",
              "      <td>7</td>\n",
              "      <td>367.0</td>\n",
              "    </tr>\n",
              "    <tr>\n",
              "      <th>7</th>\n",
              "      <td>8</td>\n",
              "      <td>274.0</td>\n",
              "    </tr>\n",
              "    <tr>\n",
              "      <th>8</th>\n",
              "      <td>9</td>\n",
              "      <td>503.0</td>\n",
              "    </tr>\n",
              "    <tr>\n",
              "      <th>9</th>\n",
              "      <td>10</td>\n",
              "      <td>285.0</td>\n",
              "    </tr>\n",
              "    <tr>\n",
              "      <th>10</th>\n",
              "      <td>11</td>\n",
              "      <td>461.0</td>\n",
              "    </tr>\n",
              "    <tr>\n",
              "      <th>11</th>\n",
              "      <td>12</td>\n",
              "      <td>428.5</td>\n",
              "    </tr>\n",
              "    <tr>\n",
              "      <th>12</th>\n",
              "      <td>13</td>\n",
              "      <td>503.0</td>\n",
              "    </tr>\n",
              "    <tr>\n",
              "      <th>13</th>\n",
              "      <td>14</td>\n",
              "      <td>322.0</td>\n",
              "    </tr>\n",
              "    <tr>\n",
              "      <th>14</th>\n",
              "      <td>15</td>\n",
              "      <td>585.0</td>\n",
              "    </tr>\n",
              "    <tr>\n",
              "      <th>15</th>\n",
              "      <td>16</td>\n",
              "      <td>491.0</td>\n",
              "    </tr>\n",
              "    <tr>\n",
              "      <th>16</th>\n",
              "      <td>17</td>\n",
              "      <td>425.0</td>\n",
              "    </tr>\n",
              "    <tr>\n",
              "      <th>17</th>\n",
              "      <td>18</td>\n",
              "      <td>478.0</td>\n",
              "    </tr>\n",
              "    <tr>\n",
              "      <th>18</th>\n",
              "      <td>19</td>\n",
              "      <td>337.0</td>\n",
              "    </tr>\n",
              "    <tr>\n",
              "      <th>19</th>\n",
              "      <td>20</td>\n",
              "      <td>329.0</td>\n",
              "    </tr>\n",
              "    <tr>\n",
              "      <th>20</th>\n",
              "      <td>21</td>\n",
              "      <td>405.0</td>\n",
              "    </tr>\n",
              "    <tr>\n",
              "      <th>21</th>\n",
              "      <td>22</td>\n",
              "      <td>348.0</td>\n",
              "    </tr>\n",
              "    <tr>\n",
              "      <th>22</th>\n",
              "      <td>23</td>\n",
              "      <td>318.5</td>\n",
              "    </tr>\n",
              "    <tr>\n",
              "      <th>23</th>\n",
              "      <td>24</td>\n",
              "      <td>310.5</td>\n",
              "    </tr>\n",
              "    <tr>\n",
              "      <th>24</th>\n",
              "      <td>25</td>\n",
              "      <td>362.0</td>\n",
              "    </tr>\n",
              "    <tr>\n",
              "      <th>25</th>\n",
              "      <td>26</td>\n",
              "      <td>461.0</td>\n",
              "    </tr>\n",
              "    <tr>\n",
              "      <th>26</th>\n",
              "      <td>27</td>\n",
              "      <td>455.5</td>\n",
              "    </tr>\n",
              "    <tr>\n",
              "      <th>27</th>\n",
              "      <td>28</td>\n",
              "      <td>269.0</td>\n",
              "    </tr>\n",
              "    <tr>\n",
              "      <th>28</th>\n",
              "      <td>29</td>\n",
              "      <td>306.5</td>\n",
              "    </tr>\n",
              "    <tr>\n",
              "      <th>29</th>\n",
              "      <td>30</td>\n",
              "      <td>466.0</td>\n",
              "    </tr>\n",
              "    <tr>\n",
              "      <th>30</th>\n",
              "      <td>31</td>\n",
              "      <td>375.5</td>\n",
              "    </tr>\n",
              "    <tr>\n",
              "      <th>31</th>\n",
              "      <td>32</td>\n",
              "      <td>329.0</td>\n",
              "    </tr>\n",
              "    <tr>\n",
              "      <th>32</th>\n",
              "      <td>33</td>\n",
              "      <td>528.0</td>\n",
              "    </tr>\n",
              "    <tr>\n",
              "      <th>33</th>\n",
              "      <td>34</td>\n",
              "      <td>316.0</td>\n",
              "    </tr>\n",
              "    <tr>\n",
              "      <th>34</th>\n",
              "      <td>35</td>\n",
              "      <td>329.5</td>\n",
              "    </tr>\n",
              "    <tr>\n",
              "      <th>35</th>\n",
              "      <td>36</td>\n",
              "      <td>344.5</td>\n",
              "    </tr>\n",
              "    <tr>\n",
              "      <th>36</th>\n",
              "      <td>37</td>\n",
              "      <td>374.0</td>\n",
              "    </tr>\n",
              "    <tr>\n",
              "      <th>37</th>\n",
              "      <td>38</td>\n",
              "      <td>223.0</td>\n",
              "    </tr>\n",
              "    <tr>\n",
              "      <th>38</th>\n",
              "      <td>39</td>\n",
              "      <td>531.0</td>\n",
              "    </tr>\n",
              "    <tr>\n",
              "      <th>39</th>\n",
              "      <td>40</td>\n",
              "      <td>556.0</td>\n",
              "    </tr>\n",
              "    <tr>\n",
              "      <th>40</th>\n",
              "      <td>41</td>\n",
              "      <td>319.5</td>\n",
              "    </tr>\n",
              "    <tr>\n",
              "      <th>41</th>\n",
              "      <td>42</td>\n",
              "      <td>391.0</td>\n",
              "    </tr>\n",
              "    <tr>\n",
              "      <th>42</th>\n",
              "      <td>43</td>\n",
              "      <td>401.0</td>\n",
              "    </tr>\n",
              "    <tr>\n",
              "      <th>43</th>\n",
              "      <td>44</td>\n",
              "      <td>448.5</td>\n",
              "    </tr>\n",
              "    <tr>\n",
              "      <th>44</th>\n",
              "      <td>45</td>\n",
              "      <td>571.0</td>\n",
              "    </tr>\n",
              "    <tr>\n",
              "      <th>45</th>\n",
              "      <td>46</td>\n",
              "      <td>468.0</td>\n",
              "    </tr>\n",
              "    <tr>\n",
              "      <th>46</th>\n",
              "      <td>47</td>\n",
              "      <td>347.0</td>\n",
              "    </tr>\n",
              "    <tr>\n",
              "      <th>47</th>\n",
              "      <td>48</td>\n",
              "      <td>448.0</td>\n",
              "    </tr>\n",
              "    <tr>\n",
              "      <th>48</th>\n",
              "      <td>49</td>\n",
              "      <td>385.5</td>\n",
              "    </tr>\n",
              "    <tr>\n",
              "      <th>49</th>\n",
              "      <td>50</td>\n",
              "      <td>436.0</td>\n",
              "    </tr>\n",
              "    <tr>\n",
              "      <th>50</th>\n",
              "      <td>51</td>\n",
              "      <td>390.5</td>\n",
              "    </tr>\n",
              "    <tr>\n",
              "      <th>51</th>\n",
              "      <td>52</td>\n",
              "      <td>360.0</td>\n",
              "    </tr>\n",
              "    <tr>\n",
              "      <th>52</th>\n",
              "      <td>53</td>\n",
              "      <td>315.0</td>\n",
              "    </tr>\n",
              "    <tr>\n",
              "      <th>53</th>\n",
              "      <td>54</td>\n",
              "      <td>455.5</td>\n",
              "    </tr>\n",
              "    <tr>\n",
              "      <th>54</th>\n",
              "      <td>55</td>\n",
              "      <td>493.5</td>\n",
              "    </tr>\n",
              "    <tr>\n",
              "      <th>55</th>\n",
              "      <td>56</td>\n",
              "      <td>443.0</td>\n",
              "    </tr>\n",
              "    <tr>\n",
              "      <th>56</th>\n",
              "      <td>57</td>\n",
              "      <td>298.0</td>\n",
              "    </tr>\n",
              "    <tr>\n",
              "      <th>57</th>\n",
              "      <td>58</td>\n",
              "      <td>401.0</td>\n",
              "    </tr>\n",
              "    <tr>\n",
              "      <th>58</th>\n",
              "      <td>59</td>\n",
              "      <td>274.0</td>\n",
              "    </tr>\n",
              "    <tr>\n",
              "      <th>59</th>\n",
              "      <td>60</td>\n",
              "      <td>289.5</td>\n",
              "    </tr>\n",
              "  </tbody>\n",
              "</table>\n",
              "</div>"
            ],
            "text/plain": [
              "    chromosome  fitness\n",
              "0            1    216.0\n",
              "1            2    293.0\n",
              "2            3    451.0\n",
              "3            4    350.0\n",
              "4            5    382.0\n",
              "5            6    215.0\n",
              "6            7    367.0\n",
              "7            8    274.0\n",
              "8            9    503.0\n",
              "9           10    285.0\n",
              "10          11    461.0\n",
              "11          12    428.5\n",
              "12          13    503.0\n",
              "13          14    322.0\n",
              "14          15    585.0\n",
              "15          16    491.0\n",
              "16          17    425.0\n",
              "17          18    478.0\n",
              "18          19    337.0\n",
              "19          20    329.0\n",
              "20          21    405.0\n",
              "21          22    348.0\n",
              "22          23    318.5\n",
              "23          24    310.5\n",
              "24          25    362.0\n",
              "25          26    461.0\n",
              "26          27    455.5\n",
              "27          28    269.0\n",
              "28          29    306.5\n",
              "29          30    466.0\n",
              "30          31    375.5\n",
              "31          32    329.0\n",
              "32          33    528.0\n",
              "33          34    316.0\n",
              "34          35    329.5\n",
              "35          36    344.5\n",
              "36          37    374.0\n",
              "37          38    223.0\n",
              "38          39    531.0\n",
              "39          40    556.0\n",
              "40          41    319.5\n",
              "41          42    391.0\n",
              "42          43    401.0\n",
              "43          44    448.5\n",
              "44          45    571.0\n",
              "45          46    468.0\n",
              "46          47    347.0\n",
              "47          48    448.0\n",
              "48          49    385.5\n",
              "49          50    436.0\n",
              "50          51    390.5\n",
              "51          52    360.0\n",
              "52          53    315.0\n",
              "53          54    455.5\n",
              "54          55    493.5\n",
              "55          56    443.0\n",
              "56          57    298.0\n",
              "57          58    401.0\n",
              "58          59    274.0\n",
              "59          60    289.5"
            ]
          },
          "metadata": {
            "tags": []
          },
          "execution_count": 9
        }
      ]
    },
    {
      "cell_type": "code",
      "metadata": {
        "id": "Ta_rJ50k1lMl",
        "colab_type": "code",
        "colab": {}
      },
      "source": [
        "fitness_id = fitness[['fitness']].idxmax()\n",
        "highest_fitness = fitness.iloc[fitness_id[0]]"
      ],
      "execution_count": 0,
      "outputs": []
    },
    {
      "cell_type": "code",
      "metadata": {
        "id": "4bNPNbRJ1yxh",
        "colab_type": "code",
        "outputId": "a3da1f2d-7f43-43aa-dcc5-648c0f4d7656",
        "colab": {
          "base_uri": "https://localhost:8080/",
          "height": 34
        }
      },
      "source": [
        "highest_fitness[1]"
      ],
      "execution_count": 11,
      "outputs": [
        {
          "output_type": "execute_result",
          "data": {
            "text/plain": [
              "585.0"
            ]
          },
          "metadata": {
            "tags": []
          },
          "execution_count": 11
        }
      ]
    },
    {
      "cell_type": "markdown",
      "metadata": {
        "id": "KDNuThva_Wj-",
        "colab_type": "text"
      },
      "source": [
        "### **Rank Selection Function**"
      ]
    },
    {
      "cell_type": "code",
      "metadata": {
        "id": "rHnFx9w2g8wL",
        "colab_type": "code",
        "colab": {}
      },
      "source": [
        "#Rank Selection Function\n",
        "def rankSelection(chromosome,fitness,popSize):\n",
        "  #Total integer value from 0 to population size \n",
        "  #rankTotal = sum(x for x in range(popSize))\n",
        "  rankTotal = 0\n",
        "  for x in range(popSize):\n",
        "    rankTotal += x\n",
        "    \n",
        "  #A random value inbetween 0 and above value\n",
        "  totRandom = random.uniform(0,1)*rankTotal\n",
        "  \n",
        "  #variable to store the accumilation of fitness values\n",
        "  tot=0\n",
        "  #sorting the fitness dataframe having the lowest on the top and the highest in the bottom\n",
        "  fitness_sorted = fitness.sort_values(by=['fitness'])\n",
        "  \n",
        "  for i in fitness_sorted.index:\n",
        "    #accumilation of the fitness values till the accumilation is equal to the random total generated\n",
        "    tot += fitness_sorted.loc[i,'fitness']\n",
        "    if(tot>=totRandom):\n",
        "      global fifo_index\n",
        "      fifo_index = i\n",
        "      \n",
        "      #returning the chromosome(as a parent selected) and the respective value i where the accumilation stopped. \n",
        "      selected_parent = chromosome.loc[i,:]\n",
        "      selected_parent_id = i\n",
        "      \n",
        "      return selected_parent,selected_parent_id"
      ],
      "execution_count": 0,
      "outputs": []
    },
    {
      "cell_type": "code",
      "metadata": {
        "id": "eToBCVTf5gme",
        "colab_type": "code",
        "colab": {}
      },
      "source": [
        "#Roulette Wheel Function\n",
        "def Roulette_wheel(chromosome,fitness,popSize):\n",
        "  #Total integer value from 0 to population size \n",
        "  #rankTotal = sum(x for x in range(popSize))\n",
        "  #rankTotal = 0\n",
        "  sum_of_fitness = 0\n",
        "  for i in range(popSize):\n",
        "    sum_of_fitness += fitness.loc[i,'fitness']\n",
        "    \n",
        "  #A random value inbetween 0 and above value\n",
        "  totRandom = random.uniform(0,sum_of_fitness)\n",
        "  \n",
        "  #variable to store the accumilation of fitness values\n",
        "  tot=0\n",
        "  #sorting the fitness dataframe having the lowest on the top and the highest in the bottom\n",
        "  #fitness_sorted = fitness.sort_values(by=['fitness'])\n",
        "  \n",
        "  for i in fitness.index:\n",
        "    #accumilation of the fitness values till the accumilation is equal to the random total generated\n",
        "    tot += fitness.loc[i,'fitness']\n",
        "    if(tot>=totRandom):\n",
        "      global fifo_index\n",
        "      fifo_index = i\n",
        "      \n",
        "      #returning the chromosome(as a parent selected) and the respective value i where the accumilation stopped. \n",
        "      selected_parent = chromosome.loc[i,:]\n",
        "      selected_parent_id = i\n",
        "      \n",
        "      return selected_parent,selected_parent_id"
      ],
      "execution_count": 0,
      "outputs": []
    },
    {
      "cell_type": "code",
      "metadata": {
        "id": "OivP39RFRSVS",
        "colab_type": "code",
        "colab": {}
      },
      "source": [
        "def tournament_selection(chromosome,fitness,popSize):\n",
        "  #count the loop\n",
        "  count = 1\n",
        "  #needed offspring count\n",
        "  offspring_needed = 1\n",
        "  \n",
        "  \n",
        "  #NEEDs modification. This function should be able to hold needed number of parents. But only for the questions purpose \n",
        "  #only 1 parent is selected\n",
        "  selected_parent = pd.DataFrame()\n",
        "  selected_parent_id = -1\n",
        "\n",
        "  while(count <= offspring_needed):\n",
        "    rand_id_1 = random.randint(0,popSize)\n",
        "    rand_id_2 = random.randint(0,popSize)\n",
        "    \n",
        "    if(fitness.loc[rand_id_1,'fitness'] > fitness.loc[rand_id_2,'fitness']):\n",
        "      selected_parent = chromosome.loc[rand_id_1,:]\n",
        "      selected_parent_id = rand_id_1\n",
        "      count += 1\n",
        "      \n",
        "    \n",
        "    elif (fitness.loc[rand_id_1,'fitness'] < fitness.loc[rand_id_2,'fitness']):\n",
        "      selected_parent = chromosome.loc[rand_id_2,:]\n",
        "      selected_parent_id = rand_id_2\n",
        "      count += 1\n",
        "  \n",
        "  return selected_parent,selected_parent_id\n",
        "  \n",
        " "
      ],
      "execution_count": 0,
      "outputs": []
    },
    {
      "cell_type": "markdown",
      "metadata": {
        "id": "NrydFJLYZ8TN",
        "colab_type": "text"
      },
      "source": [
        "### **Binary Represented N Point Crossover Function Generalized**\n",
        "The function has generalized the Single Point Crossover and the N-Point Crossover operators.\n",
        "When :\n",
        "\\begin{equation}\n",
        "n = 1...n \\textrm{ which is the n-point}\n",
        "\\end{equation}\n",
        "is passed as a parameter it the function it acts as a single point crossover and for the rest as an n point crossover. Also the :\n",
        "\\begin{equation}\n",
        "p_c = 0.8 \\textrm{ or etc, crossover rate}\n",
        "\\end{equation}\n",
        "would be the crossover rate for the function.\n"
      ]
    },
    {
      "cell_type": "code",
      "metadata": {
        "id": "LVeLCuF3Z6jR",
        "colab_type": "code",
        "colab": {}
      },
      "source": [
        "def binary_rep_n_point_crossover(n,parent1,parent2,pc):\n",
        "  \n",
        "  parent1_parts = [] #this list contains parent 1 partwise split sections based on the random values generated\n",
        "  parent2_parts = [] #this list contains parent 2 partwise split sections based on the random values generated\n",
        "  random_vals = [] #list to store the generated random values\n",
        "  start_pos = 0 #start position of the spiliting parents\n",
        "  random_position = start_pos+1 #initial random position\n",
        "  L_1 = 10-1 # the random value range should be in between 1 to 10-1 which is L-1\n",
        "\n",
        "  parent1_array = parent1.values\n",
        "  parent2_array = parent2.values\n",
        "\n",
        "  if(random.uniform(0,1)>=pc):\n",
        "    #crossover takes place\n",
        "    count = 1\n",
        "\n",
        "    for n_times in range(n+1):\n",
        "      #random position is generated here. This random position will be the place\n",
        "      #where the chromosome will be split\n",
        "      random_position = random.randint(random_position,L_1)\n",
        "\n",
        "      #The generated random values are stored in this list\n",
        "      random_vals.append(random_position)\n",
        "\n",
        "\n",
        "      if(n_times == n):\n",
        "        parent1_parts.append(parent1_array[start_pos:L_1+1])\n",
        "        parent2_parts.append(parent2_array[start_pos:L_1+1])\n",
        "\n",
        "      else:\n",
        "\n",
        "        parent1_parts.append(parent1_array[start_pos:random_position])\n",
        "        parent2_parts.append(parent2_array[start_pos:random_position])\n",
        "\n",
        "      start_pos = random_position\n",
        "      #random_position +=1\n",
        "\n",
        "\n",
        "    for i in range(len(parent1_parts)):\n",
        "      if(count%2==0):\n",
        "        temp = parent1_parts[i]\n",
        "        parent1_parts[i] = parent2_parts[i]\n",
        "        parent2_parts[i] = temp\n",
        "        count +=1\n",
        "      else:\n",
        "        #nothing\n",
        "        count += 1\n",
        "\n",
        "\n",
        "    offspring1_array = np.concatenate(([parent1_parts[i] for i in range(len(parent1_parts))]))\n",
        "    offspring2_array = np.concatenate(([parent2_parts[i] for i in range(len(parent1_parts))]))\n",
        "    return offspring1_array,offspring2_array\n",
        "  \n",
        "  else:\n",
        "    return parent1_array,parent2_array \n",
        "  \n"
      ],
      "execution_count": 0,
      "outputs": []
    },
    {
      "cell_type": "code",
      "metadata": {
        "id": "lADMbtA3sG5V",
        "colab_type": "code",
        "colab": {}
      },
      "source": [
        "def uniform_crossover(n,parent1,parent2,p):\n",
        "  \n",
        "  parent1_parts = [] #this list contains parent 1 partwise split sections based on the random values generated\n",
        "  parent2_parts = [] #this list contains parent 2 partwise split sections based on the random values generated\n",
        "  random_vals = [] #list to store the generated random values\n",
        "  start_pos = 0 #start position of the spiliting parents\n",
        "  random_position = start_pos+1 #initial random position\n",
        "  L_1 = 10-1 # the random value range should be in between 1 to 10-1 which is L-1\n",
        "\n",
        "  parent1_array = parent1.values\n",
        "  parent2_array = parent2.values\n",
        "  offspring1_array = np.empty([len(parent1_array)])\n",
        "  offspring2_array = np.empty([len(parent1_array)])\n",
        "  \n",
        "  #create random array\n",
        "  rand_array = np.array([random.randint(0, 1) for _ in range(len(parent1_array))])\n",
        "  \n",
        "  for i in range(len(parent1_array)):\n",
        "    if(rand_array[i] < p):\n",
        "      #inherit from 1st parent\n",
        "      offspring1_array[i] = parent1_array[i]\n",
        "      offspring2_array[i] = parent2_array[i]\n",
        "    else :\n",
        "      #inherit from 2nd parent\n",
        "      offspring1_array[i] = parent2_array[i]\n",
        "      offspring2_array[i] = parent1_array[i]\n",
        "  \n",
        "  return offspring1_array,offspring2_array"
      ],
      "execution_count": 0,
      "outputs": []
    },
    {
      "cell_type": "markdown",
      "metadata": {
        "id": "rYDi-eCZ_hVG",
        "colab_type": "text"
      },
      "source": [
        "### **BitFlip of the Mutation**\n",
        "Bit flip is done based on a randomly generated array of numbers compared with the mutation rate variable. If the compared value is higher than the mutation rate bit value is flipped.\n",
        "\\begin{equation}\n",
        "p_m = 0 .... 1  \\textrm{ Mutation rate Variable}\n",
        "\\end{equation}"
      ]
    },
    {
      "cell_type": "code",
      "metadata": {
        "id": "nnNbniZ-LbQi",
        "colab_type": "code",
        "colab": {}
      },
      "source": [
        "def bitflip(chromosome,pm):\n",
        "  #generate random bit array\n",
        "  bits = [random.uniform(0,1) for _ in range(10)] #range size is the number of files\n",
        "  \n",
        "  for i in range(10):\n",
        "    if(bits[i]>=pm):\n",
        "      if(chromosome[i] == 0):\n",
        "        chromosome[i] = 1\n",
        "      else:\n",
        "        chromosome[i] = 0\n",
        "  \n",
        "  return chromosome\n",
        "      "
      ],
      "execution_count": 0,
      "outputs": []
    },
    {
      "cell_type": "markdown",
      "metadata": {
        "id": "ZtPy1zlX_dY_",
        "colab_type": "text"
      },
      "source": [
        "### **Supportive Functions**\n",
        "These functions are used for retrieving individual chromosome information. Much used for debugging purposes.\n",
        "\n",
        "1.   **getFitness** function retruns the fitness and the total size of the Chromosome\n",
        "2.   **getDetails** function returns the total file size and the total duration of the Chromosome\n",
        "\n"
      ]
    },
    {
      "cell_type": "code",
      "metadata": {
        "id": "_TXQpT10lC5N",
        "colab_type": "code",
        "colab": {}
      },
      "source": [
        "def getFitness(chromosome):\n",
        "  total_size = 0\n",
        "  total_duration = 0\n",
        "  \n",
        "  for i in range(len(chromosome)):\n",
        "    if(chromosome[i]==1):\n",
        "      total_size += df.loc[i,'size']\n",
        "      total_duration += df.loc[i,'duration']\n",
        "  \n",
        "  if(total_size>4500):\n",
        "    fitness = total_duration*0.5\n",
        "    return fitness,total_size\n",
        "  else:\n",
        "    fitness = total_duration\n",
        "    \n",
        "    return fitness,total_size"
      ],
      "execution_count": 0,
      "outputs": []
    },
    {
      "cell_type": "code",
      "metadata": {
        "id": "3Mni32HhOggn",
        "colab_type": "code",
        "colab": {}
      },
      "source": [
        "def getFitness_for_runs(chromosome):\n",
        "  total_size = 0\n",
        "  total_duration = 0\n",
        "  \n",
        "  for i in range(len(chromosome)):\n",
        "    if(chromosome[i]==1):\n",
        "      total_size += df.loc[i,'size']\n",
        "      total_duration += df.loc[i,'duration']\n",
        "  \n",
        "  if(total_size>4500):\n",
        "    fitness = total_duration*0.5\n",
        "    return fitness,total_duration,total_size\n",
        "  else:\n",
        "    fitness = total_duration\n",
        "    \n",
        "    return fitness,total_duration,total_size"
      ],
      "execution_count": 0,
      "outputs": []
    },
    {
      "cell_type": "code",
      "metadata": {
        "id": "npW9BN7ppNiz",
        "colab_type": "code",
        "colab": {}
      },
      "source": [
        "def getDetails(chromosome):\n",
        "  total_size = 0\n",
        "  total_duration = 0\n",
        "  \n",
        "  for i in range(len(chromosome)):\n",
        "    if(chromosome[i]==1):\n",
        "      total_size += df.loc[i,'size']\n",
        "      total_duration += df.loc[i,'duration']\n",
        "      \n",
        "  return total_duration, total_size"
      ],
      "execution_count": 0,
      "outputs": []
    },
    {
      "cell_type": "markdown",
      "metadata": {
        "id": "ZZbApi5tApCR",
        "colab_type": "text"
      },
      "source": [
        "### **Replace the Offspring with the Population**\n",
        "Offspring is replaced based on age. That is the selected parents are replaced.\n",
        "\n"
      ]
    },
    {
      "cell_type": "code",
      "metadata": {
        "id": "A7RbOz8pQZhZ",
        "colab_type": "code",
        "colab": {}
      },
      "source": [
        "def replace_with_offspring(parent1_id,parent2_id,offspring1,offspring2):\n",
        "  #Offspring is replaced based on age. That is the selected parents are replaced.\n",
        "  chromosome.iloc[parent1_id,1:] = offspring1\n",
        "  chromosome.iloc[parent2_id,1:] = offspring2"
      ],
      "execution_count": 0,
      "outputs": []
    },
    {
      "cell_type": "markdown",
      "metadata": {
        "id": "ElR3n9xN_lNP",
        "colab_type": "text"
      },
      "source": [
        "### **Iterate the Model**\n",
        "\n"
      ]
    },
    {
      "cell_type": "code",
      "metadata": {
        "id": "slw5Q3PfSaUe",
        "colab_type": "code",
        "colab": {}
      },
      "source": [
        "def trainModel(n,n_point,p_c,p_m):\n",
        "  #variable to count and display the current epoch\n",
        "  epoch = 0\n",
        "  fit = pd.DataFrame()\n",
        "  filesize = pd.DataFrame()\n",
        "  parent1 = pd.DataFrame()\n",
        "  parent2 = pd.DataFrame()\n",
        "  \n",
        "  p = 0.5 #this is used only in uniform crossover\n",
        "  \n",
        "  for i in range(n):\n",
        "    #Fitness Evaluation\n",
        "    \n",
        "    fitness, totFileSize = EvaluateFitness(chromosome,df,popSize)\n",
        "    \n",
        "    #parent selection\n",
        "    parent1, parent1_id = rankSelection(chromosome,fitness,popSize)\n",
        "    parent2, parent2_id = rankSelection(chromosome,fitness,popSize)\n",
        "    \n",
        "    # Roulette_wheel Selection\n",
        "    #parent1, parent1_id = Roulette_wheel(chromosome,fitness,popSize)\n",
        "    #parent2, parent2_id = Roulette_wheel(chromosome,fitness,popSize)\n",
        "    \n",
        "    #tournament selection\n",
        "    #parent1, parent1_id = tournament_selection(chromosome,fitness,popSize)\n",
        "    #parent2, parent2_id = tournament_selection(chromosome,fitness,popSize)\n",
        "    \n",
        "    #offspring generation through crossover\n",
        "    offspring1,offspring2 = binary_rep_n_point_crossover(n_point,parent1[1:],parent2[1:],p_c)\n",
        "    \n",
        "    \n",
        "    #offspring1,offspring2 = uniform_crossover(n_point,parent1[1:],parent2[1:],p)\n",
        "    \n",
        "    #passing the generated offspring for mutation\n",
        "    offspring1 = bitflip(offspring1,p_m)\n",
        "    offspring2 = bitflip(offspring2,p_m)\n",
        "    \n",
        "    #Using Elitism with FIFO\n",
        "    \n",
        "    #Getting the current fittest in the population\n",
        "    #fitness_only = fitness[['fitness']]\n",
        "    fitness_id = fitness[['fitness']].idxmax()\n",
        "    highest_fitness = fitness.iloc[fitness_id[0]]\n",
        "    #get fitness of generated offspring\n",
        "    fitness_offspring_1,size = getFitness(offspring1)\n",
        "    fitness_offspring_2,size = getFitness(offspring2)\n",
        "    \n",
        "    if(highest_fitness[1] > fitness_offspring_1):\n",
        "     offspring1 = chromosome.iloc[fitness_id[0],1:].values\n",
        "     #print(1)\n",
        "    elif (highest_fitness[1] > fitness_offspring_2):\n",
        "     offspring2 = chromosome.iloc[fitness_id[0],1:].values\n",
        "     #print(2)\n",
        "    \n",
        "    \n",
        "    # UNCOMMENT above if part to avoid Elitism replace parents\n",
        "    replace_with_offspring(parent1_id,parent2_id,offspring1,offspring2)\n",
        "    \n",
        "    #display epoch\n",
        "    #print(epoch)\n",
        "    #epoch +=1\n",
        "    \n",
        "    #debugging purposes returning values\n",
        "    fit = fitness\n",
        "    filesize = totFileSize\n",
        "    \n",
        "    #return parent1,parent2,offspring1,offspring2\n",
        "  #return fit,filesize,parent1,parent2     # general purpose\n",
        "  #return \n"
      ],
      "execution_count": 0,
      "outputs": []
    },
    {
      "cell_type": "code",
      "metadata": {
        "id": "wcjScGui4ERn",
        "colab_type": "code",
        "colab": {}
      },
      "source": [
        "abc = np.array([1,2,3,4,5,6,7,8,9,10])\n",
        "xxx = chromosome.iloc[39,1:]"
      ],
      "execution_count": 0,
      "outputs": []
    },
    {
      "cell_type": "code",
      "metadata": {
        "id": "aUvdz4lC4J4d",
        "colab_type": "code",
        "outputId": "65e59d14-af93-4f5b-e3d0-53eafb0d55ea",
        "colab": {
          "base_uri": "https://localhost:8080/",
          "height": 34
        }
      },
      "source": [
        "abc"
      ],
      "execution_count": 0,
      "outputs": [
        {
          "output_type": "execute_result",
          "data": {
            "text/plain": [
              "array([ 1,  2,  3,  4,  5,  6,  7,  8,  9, 10])"
            ]
          },
          "metadata": {
            "tags": []
          },
          "execution_count": 63
        }
      ]
    },
    {
      "cell_type": "code",
      "metadata": {
        "id": "RbeTKXW-4tw9",
        "colab_type": "code",
        "colab": {}
      },
      "source": [
        "abc = xxx.values"
      ],
      "execution_count": 0,
      "outputs": []
    },
    {
      "cell_type": "code",
      "metadata": {
        "id": "rTczSl4w4v4j",
        "colab_type": "code",
        "outputId": "bb4bf2a1-8280-4260-9588-02ed3907d192",
        "colab": {
          "base_uri": "https://localhost:8080/",
          "height": 34
        }
      },
      "source": [
        "abc"
      ],
      "execution_count": 0,
      "outputs": [
        {
          "output_type": "execute_result",
          "data": {
            "text/plain": [
              "array([1, 1, 0, 0, 0, 1, 1, 1, 0, 0])"
            ]
          },
          "metadata": {
            "tags": []
          },
          "execution_count": 65
        }
      ]
    },
    {
      "cell_type": "code",
      "metadata": {
        "id": "rsu7YB2Sw0Bw",
        "colab_type": "code",
        "colab": {}
      },
      "source": [
        "df3 = pd.DataFrame({\"A\":[4, 5, 2, 6],  \n",
        "                   \"B\":[11, 2, 5, 8], \n",
        "                   \"C\":[1, 8, 66, 4]})"
      ],
      "execution_count": 0,
      "outputs": []
    },
    {
      "cell_type": "code",
      "metadata": {
        "id": "ZJWwbrd9zPKr",
        "colab_type": "code",
        "outputId": "a9676c3a-85d4-44bc-d011-e6a2810f88ff",
        "colab": {
          "base_uri": "https://localhost:8080/",
          "height": 173
        }
      },
      "source": [
        "df3"
      ],
      "execution_count": 0,
      "outputs": [
        {
          "output_type": "execute_result",
          "data": {
            "text/html": [
              "<div>\n",
              "<style scoped>\n",
              "    .dataframe tbody tr th:only-of-type {\n",
              "        vertical-align: middle;\n",
              "    }\n",
              "\n",
              "    .dataframe tbody tr th {\n",
              "        vertical-align: top;\n",
              "    }\n",
              "\n",
              "    .dataframe thead th {\n",
              "        text-align: right;\n",
              "    }\n",
              "</style>\n",
              "<table border=\"1\" class=\"dataframe\">\n",
              "  <thead>\n",
              "    <tr style=\"text-align: right;\">\n",
              "      <th></th>\n",
              "      <th>A</th>\n",
              "      <th>B</th>\n",
              "      <th>C</th>\n",
              "    </tr>\n",
              "  </thead>\n",
              "  <tbody>\n",
              "    <tr>\n",
              "      <th>0</th>\n",
              "      <td>4</td>\n",
              "      <td>11</td>\n",
              "      <td>1</td>\n",
              "    </tr>\n",
              "    <tr>\n",
              "      <th>1</th>\n",
              "      <td>5</td>\n",
              "      <td>2</td>\n",
              "      <td>8</td>\n",
              "    </tr>\n",
              "    <tr>\n",
              "      <th>2</th>\n",
              "      <td>2</td>\n",
              "      <td>5</td>\n",
              "      <td>66</td>\n",
              "    </tr>\n",
              "    <tr>\n",
              "      <th>3</th>\n",
              "      <td>6</td>\n",
              "      <td>8</td>\n",
              "      <td>4</td>\n",
              "    </tr>\n",
              "  </tbody>\n",
              "</table>\n",
              "</div>"
            ],
            "text/plain": [
              "   A   B   C\n",
              "0  4  11   1\n",
              "1  5   2   8\n",
              "2  2   5  66\n",
              "3  6   8   4"
            ]
          },
          "metadata": {
            "tags": []
          },
          "execution_count": 67
        }
      ]
    },
    {
      "cell_type": "code",
      "metadata": {
        "id": "WNf2BFULzRmp",
        "colab_type": "code",
        "colab": {}
      },
      "source": [
        "df4 = df3[['A']]"
      ],
      "execution_count": 0,
      "outputs": []
    },
    {
      "cell_type": "code",
      "metadata": {
        "id": "lNB0wzToznaj",
        "colab_type": "code",
        "outputId": "bb564cf7-d67c-477c-8252-1492a0d48fd1",
        "colab": {
          "base_uri": "https://localhost:8080/",
          "height": 51
        }
      },
      "source": [
        "df4.idxmax(axis=0)"
      ],
      "execution_count": 0,
      "outputs": [
        {
          "output_type": "execute_result",
          "data": {
            "text/plain": [
              "A    3\n",
              "dtype: int64"
            ]
          },
          "metadata": {
            "tags": []
          },
          "execution_count": 69
        }
      ]
    },
    {
      "cell_type": "markdown",
      "metadata": {
        "id": "aGAXyV85_p6m",
        "colab_type": "text"
      },
      "source": [
        "### **Run the Program**"
      ]
    },
    {
      "cell_type": "code",
      "metadata": {
        "id": "C3sAEJ26EO3X",
        "colab_type": "code",
        "outputId": "80260bdf-2912-41b0-a644-0201cf00d080",
        "colab": {
          "base_uri": "https://localhost:8080/",
          "height": 68
        }
      },
      "source": [
        "#SCENE 01\n",
        "#population size\n",
        "popSize = 50 \n",
        "\n",
        "#creation of population of Chromosomes\n",
        "chromosome = createInitPop(popSize)\n",
        "\n",
        "#fifo index relates to the index to be removed. -1 is the initial value\n",
        "fifo_index = -1\n",
        "\n",
        "#iteration and \n",
        "iterations = 100\n",
        "\n",
        "#n point for crossover\n",
        "n_point = 1\n",
        "#crossover rate\n",
        "p_c = 0.8\n",
        "#mutation rate\n",
        "p_m = 0.01\n",
        "\n",
        "#Final population Duration and Size storage\n",
        "finalFitness = []\n",
        "finalDuration = []\n",
        "finalSize = []\n",
        "\n",
        "\n",
        "#train model\n",
        "start = time.time()\n",
        "#fit,filesize,parent1,parent2 = trainModel(iterations,n_point,p_c,p_m)\n",
        "trainModel(iterations,n_point,p_c,p_m)\n",
        "end = time.time()\n",
        "print(\"Population Size :\" + str(popSize))\n",
        "print(\"Iterations :\" + str(iterations))\n",
        "print(\"Elapsed time :\" + str(end - start) + \" seconds\")\n",
        "\n",
        "#Get Fitness and Size information for the Last Population\n",
        "for i in range(popSize):\n",
        "  fitness,duration,size = getFitness_for_runs(chromosome.iloc[i,1:].values)\n",
        "  finalDuration.append(duration)\n",
        "  finalFitness.append(fitness)\n",
        "  finalSize.append(size)\n",
        "  "
      ],
      "execution_count": 0,
      "outputs": [
        {
          "output_type": "stream",
          "text": [
            "Population Size :50\n",
            "Iterations :100\n",
            "Elapsed time :4.806628704071045 seconds\n"
          ],
          "name": "stdout"
        }
      ]
    },
    {
      "cell_type": "code",
      "metadata": {
        "id": "HUU2lBGpww7U",
        "colab_type": "code",
        "colab": {}
      },
      "source": [
        "#Getting the Optimum solution Information to Variables\n",
        "Best_Solution_id = finalFitness.index(max(finalFitness))\n",
        "Best_Solution_Size = finalSize[Best_Solution_id] \n",
        "Best_Solution_Duration = finalDuration[Best_Solution_id]\n",
        "Best_Solution = chromosome.iloc[Best_Solution_id]"
      ],
      "execution_count": 0,
      "outputs": []
    },
    {
      "cell_type": "code",
      "metadata": {
        "id": "vcD2gdPVozvl",
        "colab_type": "code",
        "outputId": "e81d6c68-dcdb-4e3d-e601-1c3febbdb1dc",
        "colab": {
          "base_uri": "https://localhost:8080/",
          "height": 289
        }
      },
      "source": [
        "#Printing the Optimum Solution Information\n",
        "print(\"Optimum Solution ID : \" + str(Best_Solution_id))\n",
        "print(\"Optimum Fitness : \" + str(max(finalFitness)))\n",
        "print(\"Optimum Solution File Size : \" + str(Best_Solution_Size) + \"MB\")\n",
        "print(\"Optimum Solution Duration : \" + str(Best_Solution_Duration) + \" Minutes\")\n",
        "print(\"Optimum Solution : \")\n",
        "print(str(Best_Solution[1:]))"
      ],
      "execution_count": 0,
      "outputs": [
        {
          "output_type": "stream",
          "text": [
            "Optimum Solution ID : 1\n",
            "Optimum Fitness : 604\n",
            "Optimum Solution File Size : 4400MB\n",
            "Optimum Solution Duration : 604 Minutes\n",
            "Optimum Solution : \n",
            "file 1     1\n",
            "file 2     1\n",
            "file 3     1\n",
            "file 4     1\n",
            "file 5     1\n",
            "file 6     1\n",
            "file 7     0\n",
            "file 8     0\n",
            "file 9     0\n",
            "file 10    0\n",
            "Name: 1, dtype: int64\n"
          ],
          "name": "stdout"
        }
      ]
    },
    {
      "cell_type": "code",
      "metadata": {
        "id": "oT0xPUUOL3hq",
        "colab_type": "code",
        "colab": {}
      },
      "source": [
        "def runs(run):\n",
        "  epoch = 0\n",
        "  #iteration and \n",
        "  iterations = 100\n",
        "\n",
        "  #n point for crossover\n",
        "  n_point = 3\n",
        "  #crossover rate\n",
        "  p_c = 0.8\n",
        "  #mutation rate\n",
        "  p_m = 0.01\n",
        "  \n",
        "  for i in range(1,run+1):\n",
        "    start = time.time()\n",
        "    trainModel(iterations,n_point,p_c,p_m)\n",
        "    end = time.time()\n",
        "    \n",
        "    per_run_time.append(end-start)\n",
        "    \n",
        "    #Final population Duration and Size storage\n",
        "    finalFitness = []\n",
        "    finalDuration = []\n",
        "    finalSize = []\n",
        "    \n",
        "    global chromosome\n",
        "    \n",
        "    for i in range(popSize):\n",
        "      fitness,duration,size = getFitness_for_runs(chromosome.iloc[i,1:].values)\n",
        "      finalDuration.append(duration)\n",
        "      finalFitness.append(fitness)\n",
        "      finalSize.append(size)\n",
        "    \n",
        "    higestFitness_index = finalFitness.index(max(finalFitness))\n",
        "    best_out_of_runs_fitness.append(finalFitness[higestFitness_index])\n",
        "    best_out_of_runs_duration.append(finalDuration[higestFitness_index])\n",
        "    best_out_of_runs_size.append(finalSize[higestFitness_index])\n",
        "    \n",
        "    chromosome = chromosome_backup\n",
        "    print(\"Completed Run : \" + str(epoch))\n",
        "    epoch += 1"
      ],
      "execution_count": 0,
      "outputs": []
    },
    {
      "cell_type": "code",
      "metadata": {
        "id": "U8ikjXT8MDrl",
        "colab_type": "code",
        "outputId": "f037ac56-157f-4080-9343-3d205a876f38",
        "colab": {
          "base_uri": "https://localhost:8080/",
          "height": 867
        }
      },
      "source": [
        "#population size\n",
        "popSize = 50 \n",
        "\n",
        "#creation of population of Chromosomes\n",
        "chromosome = createInitPop(popSize)\n",
        "chromosome_backup = chromosome\n",
        "\n",
        "run = 50\n",
        "best_out_of_runs_fitness = []\n",
        "best_out_of_runs_duration = []\n",
        "best_out_of_runs_size = []\n",
        "per_run_time = []\n",
        "runs(run)\n"
      ],
      "execution_count": 0,
      "outputs": [
        {
          "output_type": "stream",
          "text": [
            "Completed Run : 0\n",
            "Completed Run : 1\n",
            "Completed Run : 2\n",
            "Completed Run : 3\n",
            "Completed Run : 4\n",
            "Completed Run : 5\n",
            "Completed Run : 6\n",
            "Completed Run : 7\n",
            "Completed Run : 8\n",
            "Completed Run : 9\n",
            "Completed Run : 10\n",
            "Completed Run : 11\n",
            "Completed Run : 12\n",
            "Completed Run : 13\n",
            "Completed Run : 14\n",
            "Completed Run : 15\n",
            "Completed Run : 16\n",
            "Completed Run : 17\n",
            "Completed Run : 18\n",
            "Completed Run : 19\n",
            "Completed Run : 20\n",
            "Completed Run : 21\n",
            "Completed Run : 22\n",
            "Completed Run : 23\n",
            "Completed Run : 24\n",
            "Completed Run : 25\n",
            "Completed Run : 26\n",
            "Completed Run : 27\n",
            "Completed Run : 28\n",
            "Completed Run : 29\n",
            "Completed Run : 30\n",
            "Completed Run : 31\n",
            "Completed Run : 32\n",
            "Completed Run : 33\n",
            "Completed Run : 34\n",
            "Completed Run : 35\n",
            "Completed Run : 36\n",
            "Completed Run : 37\n",
            "Completed Run : 38\n",
            "Completed Run : 39\n",
            "Completed Run : 40\n",
            "Completed Run : 41\n",
            "Completed Run : 42\n",
            "Completed Run : 43\n",
            "Completed Run : 44\n",
            "Completed Run : 45\n",
            "Completed Run : 46\n",
            "Completed Run : 47\n",
            "Completed Run : 48\n",
            "Completed Run : 49\n"
          ],
          "name": "stdout"
        }
      ]
    },
    {
      "cell_type": "code",
      "metadata": {
        "id": "rwMVTezYX5il",
        "colab_type": "code",
        "colab": {}
      },
      "source": [
        " "
      ],
      "execution_count": 0,
      "outputs": []
    },
    {
      "cell_type": "code",
      "metadata": {
        "id": "WyI4ru--iVnx",
        "colab_type": "code",
        "outputId": "9a14a9c6-90c1-49fa-fc0d-131b249e8f35",
        "colab": {
          "base_uri": "https://localhost:8080/",
          "height": 85
        }
      },
      "source": [
        "#Getting the Optimum solution Information to Variables\n",
        "Best_Solution_id = best_out_of_runs_fitness.index(max(best_out_of_runs_fitness))\n",
        "Best_Solution_Size = best_out_of_runs_size[Best_Solution_id] \n",
        "Best_Solution_Duration = best_out_of_runs_duration[Best_Solution_id]\n",
        "\n",
        "print(\"Optimum Solution ID : \" + str(Best_Solution_id))\n",
        "print(\"Optimum Fitness : \" + str(max(finalFitness)))\n",
        "print(\"Optimum Solution File Size : \" + str(Best_Solution_Size) + \"MB\")\n",
        "print(\"Optimum Solution Duration : \" + str(Best_Solution_Duration) + \" Minutes\")\n",
        "\n",
        "#Best_Solution = chromosome.iloc[Best_Solution_id]"
      ],
      "execution_count": 0,
      "outputs": [
        {
          "output_type": "stream",
          "text": [
            "Optimum Solution ID : 41\n",
            "Optimum Fitness : 604\n",
            "Optimum Solution File Size : 4475MB\n",
            "Optimum Solution Duration : 611 Minutes\n"
          ],
          "name": "stdout"
        }
      ]
    },
    {
      "cell_type": "code",
      "metadata": {
        "id": "YCHyDhYnm6BI",
        "colab_type": "code",
        "outputId": "6e9a0869-ba78-46dc-b197-d615fdbffcee",
        "colab": {
          "base_uri": "https://localhost:8080/",
          "height": 34
        }
      },
      "source": [
        "sum = 0\n",
        "for i in range(len(per_run_time)):\n",
        "  sum += per_run_time[i]\n",
        "\n",
        "avg = sum/len(per_run_time)\n",
        "\n",
        "print(\"Average Time : \" + str(avg))"
      ],
      "execution_count": 0,
      "outputs": [
        {
          "output_type": "stream",
          "text": [
            "Average Time : 4.473152079582214\n"
          ],
          "name": "stdout"
        }
      ]
    },
    {
      "cell_type": "code",
      "metadata": {
        "id": "wYDiYFofY9aW",
        "colab_type": "code",
        "outputId": "724def57-beb8-4e59-eb3e-9f7bd80130fa",
        "colab": {
          "base_uri": "https://localhost:8080/",
          "height": 295
        }
      },
      "source": [
        "plt.plot([x for x in range(1,run+1)],[per_run_time[x] for x in range(len(per_run_time))])\n",
        "plt.title(\"Runs vs Time elapsed\")\n",
        "plt.xlabel(\"Runs (100 iterations per Run)\")\n",
        "plt.ylabel(\"Time elapsed per Run\")\n",
        "plt.savefig('time-50-runs-standard-elitism.pdf')"
      ],
      "execution_count": 0,
      "outputs": [
        {
          "output_type": "display_data",
          "data": {
            "image/png": "[encoded data removed]",
            "text/plain": [
              "<Figure size 432x288 with 1 Axes>"
            ]
          },
          "metadata": {
            "tags": []
          }
        }
      ]
    },
    {
      "cell_type": "code",
      "metadata": {
        "id": "ZUAL28uzPx6b",
        "colab_type": "code",
        "outputId": "f390a8f8-672d-4ed0-89f1-2a77ce201613",
        "colab": {
          "base_uri": "https://localhost:8080/",
          "height": 295
        }
      },
      "source": [
        "plt.plot([x for x in range(1,run+1)],[best_out_of_runs_fitness[x] for x in range(len(best_out_of_runs_fitness))])\n",
        "plt.title(\"Runs vs Fitness\")\n",
        "plt.xlabel(\"Runs (100 iterations per Run)\")\n",
        "plt.ylabel(\"Best Fitness per Run\")\n",
        "plt.savefig('best-fitess-runs-standard-elitism.pdf')"
      ],
      "execution_count": 0,
      "outputs": [
        {
          "output_type": "display_data",
          "data": {
            "image/png": "[encoded data removed]",
            "text/plain": [
              "<Figure size 432x288 with 1 Axes>"
            ]
          },
          "metadata": {
            "tags": []
          }
        }
      ]
    },
    {
      "cell_type": "code",
      "metadata": {
        "id": "NVvRI_CWQwlc",
        "colab_type": "code",
        "outputId": "85681bac-4ba5-4599-eede-8b2d724e24d8",
        "colab": {
          "base_uri": "https://localhost:8080/",
          "height": 295
        }
      },
      "source": [
        "plt.plot([x for x in range(1,run+1)],[best_out_of_runs_duration[x] for x in range(len(best_out_of_runs_duration))])\n",
        "plt.title(\"Runs vs Duration\")\n",
        "plt.xlabel(\"Runs (100 iterations per Run)\")\n",
        "plt.ylabel(\"Duration of the Best Fitness per Run in Minutes\")\n",
        "plt.savefig('best-duration-runs-standard-elitism.pdf')"
      ],
      "execution_count": 0,
      "outputs": [
        {
          "output_type": "display_data",
          "data": {
            "image/png": "[encoded data removed]",
            "text/plain": [
              "<Figure size 432x288 with 1 Axes>"
            ]
          },
          "metadata": {
            "tags": []
          }
        }
      ]
    },
    {
      "cell_type": "code",
      "metadata": {
        "id": "nFZdyWhJRBBJ",
        "colab_type": "code",
        "outputId": "bd405821-186c-4868-a39b-36982d9cbe91",
        "colab": {
          "base_uri": "https://localhost:8080/",
          "height": 295
        }
      },
      "source": [
        "plt.plot([x for x in range(1,run+1)],[best_out_of_runs_size[x] for x in range(len(best_out_of_runs_size))])\n",
        "plt.title(\"Runs vs File Size\")\n",
        "plt.xlabel(\"Runs (100 iterations per Run)\")\n",
        "plt.ylabel(\"File Size of the Best Fitness per Run in MB\")\n",
        "plt.savefig('best-size-runs-standard-elitism.pdf')"
      ],
      "execution_count": 0,
      "outputs": [
        {
          "output_type": "display_data",
          "data": {
            "image/png": "[encoded data removed]",
            "text/plain": [
              "<Figure size 432x288 with 1 Axes>"
            ]
          },
          "metadata": {
            "tags": []
          }
        }
      ]
    },
    {
      "cell_type": "code",
      "metadata": {
        "id": "GeuUuq1QQ837",
        "colab_type": "code",
        "colab": {}
      },
      "source": [
        "highest_fitness_index = best_out_of_runs_fitness.index(max(best_out_of_runs_fitness))\n",
        "opt_duration = best_out_of_runs_duration[highest_fitness_index]\n",
        "opt_size = best_out_of_runs_size[highest_fitness_index]"
      ],
      "execution_count": 0,
      "outputs": []
    },
    {
      "cell_type": "code",
      "metadata": {
        "id": "bVNrWts2Xsq-",
        "colab_type": "code",
        "outputId": "fb546de6-99ec-412a-f6bd-fe767cbb7cff",
        "colab": {
          "base_uri": "https://localhost:8080/",
          "height": 51
        }
      },
      "source": [
        "print(\"Optimum Duration : \" + str(opt_duration))\n",
        "print(\"Optimum Size : \" + str(opt_size))"
      ],
      "execution_count": 0,
      "outputs": [
        {
          "output_type": "stream",
          "text": [
            "Optimum Duration : 611\n",
            "Optimum Size : 4475\n"
          ],
          "name": "stdout"
        }
      ]
    },
    {
      "cell_type": "markdown",
      "metadata": {
        "id": "nGw3JHBKp1_J",
        "colab_type": "text"
      },
      "source": [
        "### **Plotting the Final Result**\n",
        "\n",
        "This plot shows 3 import facts about the final solution. \n",
        "\n",
        "\n",
        "1.   The Horizontal Line shows the 4,500MB benchmark line\n",
        "2.   The Zig Zag plot shows the Fitness of the Final Population\n",
        "3. The Red Cross (+) shows the position of the Optimum solution Generated\n",
        "\n",
        "\n",
        "\n"
      ]
    },
    {
      "cell_type": "code",
      "metadata": {
        "id": "4DYhr1UnHHC0",
        "colab_type": "code",
        "outputId": "bfa089a6-d300-444d-b1ba-527e3ea3c4cd",
        "colab": {
          "base_uri": "https://localhost:8080/",
          "height": 312
        }
      },
      "source": [
        "plt.plot([x for x in range(popSize)],[finalSize[x] for x in range(len(finalSize))])\n",
        "plt.legend(\"Evolved Generation\")\n",
        "plt.plot([Best_Solution_id],[Best_Solution_Size],'r+')\n",
        "plt.legend(\"Optimum Solution\")\n",
        "plt.plot([x for x in range(popSize)],[4500 for x in range(len(finalSize))])\n",
        "plt.legend(\"Benchmark\")\n",
        "plt.xlabel(\"Chromosome in the Evolved Population\")\n",
        "plt.ylabel(\"File Size in MB\")\n",
        "plt.title(\"Chromosome in the Evolved Population vs File Size\")\n"
      ],
      "execution_count": 0,
      "outputs": [
        {
          "output_type": "execute_result",
          "data": {
            "text/plain": [
              "Text(0.5, 1.0, 'Chromosome in the Evolved Population vs File Size')"
            ]
          },
          "metadata": {
            "tags": []
          },
          "execution_count": 113
        },
        {
          "output_type": "display_data",
          "data": {
            "image/png": "[encoded data removed]",
            "text/plain": [
              "<Figure size 432x288 with 1 Axes>"
            ]
          },
          "metadata": {
            "tags": []
          }
        }
      ]
    },
    {
      "cell_type": "markdown",
      "metadata": {
        "id": "BuTJqts4rHoz",
        "colab_type": "text"
      },
      "source": [
        "### **Variation with  Iteration Count**"
      ]
    },
    {
      "cell_type": "code",
      "metadata": {
        "id": "QUi2K139rXTi",
        "colab_type": "code",
        "colab": {}
      },
      "source": [
        ""
      ],
      "execution_count": 0,
      "outputs": []
    },
    {
      "cell_type": "code",
      "metadata": {
        "id": "WEb13q_VBegj",
        "colab_type": "code",
        "colab": {}
      },
      "source": [
        "def get_avg_best(n,pop_1):\n",
        "  for j in range(1,n+1):\n",
        "    finalFitness = []\n",
        "    finalDuration = []\n",
        "    finalSize = []\n",
        "    \n",
        "    #standard values\n",
        "    n_point = 1\n",
        "    p_c = 0.8\n",
        "    p_m = 0.01\n",
        "    \n",
        "    for i in range(1):\n",
        "      trainModel(j,n_point,p_c,p_m)\n",
        "\n",
        "      \n",
        "      for i in range(popSize):\n",
        "        fitness, duration,size = getFitness_for_runs(pop_1.iloc[i,1:].values)\n",
        "        finalFitness.append(fitness)\n",
        "        finalDuration.append(duration)\n",
        "        finalSize.append(size)\n",
        "    \n",
        "    highest_fit_id = finalFitness.index(max(finalFitness))\n",
        "    \n",
        "    best_vals_size.append(finalSize[highest_fit_id])\n",
        "    best_vals_duration.append(finalDuration[highest_fit_id])\n",
        "    best_vals_fitness.append(finalFitness[highest_fit_id])\n",
        "    \n",
        "    print(\"Completed : \" + str(j))\n",
        "    pop_1 = chromosome"
      ],
      "execution_count": 0,
      "outputs": []
    },
    {
      "cell_type": "code",
      "metadata": {
        "id": "GOimnDW0RMlN",
        "colab_type": "code",
        "colab": {}
      },
      "source": [
        "chromosome = createInitPop(popSize)"
      ],
      "execution_count": 0,
      "outputs": []
    },
    {
      "cell_type": "code",
      "metadata": {
        "id": "XJQMeoa5EFAs",
        "colab_type": "code",
        "outputId": "9ad149ef-ce9e-49d1-dc72-5a531d99e4a2",
        "colab": {
          "base_uri": "https://localhost:8080/",
          "height": 1717
        }
      },
      "source": [
        "\n",
        "pop_1 = chromosome\n",
        "#save the best chromosome fitness per iteration\n",
        "best_vals_size = [ ]\n",
        "best_vals_duration = [ ]\n",
        "best_vals_fitness = [ ]\n",
        "n=100\n",
        "get_avg_best(n,pop_1)\n"
      ],
      "execution_count": 43,
      "outputs": [
        {
          "output_type": "stream",
          "text": [
            "Completed : 1\n",
            "Completed : 2\n",
            "Completed : 3\n",
            "Completed : 4\n",
            "Completed : 5\n",
            "Completed : 6\n",
            "Completed : 7\n",
            "Completed : 8\n",
            "Completed : 9\n",
            "Completed : 10\n",
            "Completed : 11\n",
            "Completed : 12\n",
            "Completed : 13\n",
            "Completed : 14\n",
            "Completed : 15\n",
            "Completed : 16\n",
            "Completed : 17\n",
            "Completed : 18\n",
            "Completed : 19\n",
            "Completed : 20\n",
            "Completed : 21\n",
            "Completed : 22\n",
            "Completed : 23\n",
            "Completed : 24\n",
            "Completed : 25\n",
            "Completed : 26\n",
            "Completed : 27\n",
            "Completed : 28\n",
            "Completed : 29\n",
            "Completed : 30\n",
            "Completed : 31\n",
            "Completed : 32\n",
            "Completed : 33\n",
            "Completed : 34\n",
            "Completed : 35\n",
            "Completed : 36\n",
            "Completed : 37\n",
            "Completed : 38\n",
            "Completed : 39\n",
            "Completed : 40\n",
            "Completed : 41\n",
            "Completed : 42\n",
            "Completed : 43\n",
            "Completed : 44\n",
            "Completed : 45\n",
            "Completed : 46\n",
            "Completed : 47\n",
            "Completed : 48\n",
            "Completed : 49\n",
            "Completed : 50\n",
            "Completed : 51\n",
            "Completed : 52\n",
            "Completed : 53\n",
            "Completed : 54\n",
            "Completed : 55\n",
            "Completed : 56\n",
            "Completed : 57\n",
            "Completed : 58\n",
            "Completed : 59\n",
            "Completed : 60\n",
            "Completed : 61\n",
            "Completed : 62\n",
            "Completed : 63\n",
            "Completed : 64\n",
            "Completed : 65\n",
            "Completed : 66\n",
            "Completed : 67\n",
            "Completed : 68\n",
            "Completed : 69\n",
            "Completed : 70\n",
            "Completed : 71\n",
            "Completed : 72\n",
            "Completed : 73\n",
            "Completed : 74\n",
            "Completed : 75\n",
            "Completed : 76\n",
            "Completed : 77\n",
            "Completed : 78\n",
            "Completed : 79\n",
            "Completed : 80\n",
            "Completed : 81\n",
            "Completed : 82\n",
            "Completed : 83\n",
            "Completed : 84\n",
            "Completed : 85\n",
            "Completed : 86\n",
            "Completed : 87\n",
            "Completed : 88\n",
            "Completed : 89\n",
            "Completed : 90\n",
            "Completed : 91\n",
            "Completed : 92\n",
            "Completed : 93\n",
            "Completed : 94\n",
            "Completed : 95\n",
            "Completed : 96\n",
            "Completed : 97\n",
            "Completed : 98\n",
            "Completed : 99\n",
            "Completed : 100\n"
          ],
          "name": "stdout"
        }
      ]
    },
    {
      "cell_type": "code",
      "metadata": {
        "id": "10C3by4qRLKz",
        "colab_type": "code",
        "colab": {}
      },
      "source": [
        ""
      ],
      "execution_count": 0,
      "outputs": []
    },
    {
      "cell_type": "code",
      "metadata": {
        "id": "IfkU77cMCdMr",
        "colab_type": "code",
        "outputId": "50a60edf-6a68-4b22-8ec4-5c46a5d9f64c",
        "colab": {
          "base_uri": "https://localhost:8080/",
          "height": 295
        }
      },
      "source": [
        "plt.plot([x for x in range(1,n+1)],best_vals_size)\n",
        "plt.plot([x for x in range(1,n+1)],[4500 for x in range(1,n+1)])\n",
        "plt.title(\"Iterations vs File Size of Fittest of each Generation\")\n",
        "plt.xlabel(\"Iterations/Generations\")\n",
        "plt.ylabel(\"File Size of Fitest of each Generation in MB\")\n",
        "plt.legend(['Results obtained','4,500MB Benchmark'])\n",
        "plt.savefig('iterations-size.pdf')"
      ],
      "execution_count": 47,
      "outputs": [
        {
          "output_type": "display_data",
          "data": {
            "image/png": "[encoded data removed]",
            "text/plain": [
              "<Figure size 432x288 with 1 Axes>"
            ]
          },
          "metadata": {
            "tags": []
          }
        }
      ]
    },
    {
      "cell_type": "code",
      "metadata": {
        "id": "OLdS3UIZDVDq",
        "colab_type": "code",
        "outputId": "f15a7a9a-4b71-4fa0-d635-70c2fc3aa3b3",
        "colab": {
          "base_uri": "https://localhost:8080/",
          "height": 303
        }
      },
      "source": [
        "plt.plot([x for x in range(1,n+1)],best_vals_duration)\n",
        "plt.title(\"Iterations vs Duration of Fittest of each Generation\")\n",
        "plt.xlabel(\"Iterations/Generations\")\n",
        "plt.ylabel(\"Duration Size of Fitest of each Generation in Minutes\")\n",
        "plt.savefig('iterations-duration.pdf')\n"
      ],
      "execution_count": 48,
      "outputs": [
        {
          "output_type": "display_data",
          "data": {
            "image/png": "[encoded data removed]",
            "text/plain": [
              "<Figure size 432x288 with 1 Axes>"
            ]
          },
          "metadata": {
            "tags": []
          }
        }
      ]
    },
    {
      "cell_type": "code",
      "metadata": {
        "id": "01qEa1V4bedp",
        "colab_type": "code",
        "colab": {
          "base_uri": "https://localhost:8080/",
          "height": 295
        },
        "outputId": "f2aa8c02-cf66-4979-e5e8-7491dc145eb2"
      },
      "source": [
        "plt.plot([x for x in range(1,n+1)],best_vals_fitness)\n",
        "plt.title(\"Iterations vs Fitness of Fittest of each Generation\")\n",
        "plt.xlabel(\"Iterations/Generations\")\n",
        "plt.ylabel(\"Fitness of Fitest of each Generation in Minutes\")\n",
        "plt.savefig('iterations-fitness.pdf')\n"
      ],
      "execution_count": 50,
      "outputs": [
        {
          "output_type": "display_data",
          "data": {
            "image/png": "[encoded data removed]",
            "text/plain": [
              "<Figure size 432x288 with 1 Axes>"
            ]
          },
          "metadata": {
            "tags": []
          }
        }
      ]
    },
    {
      "cell_type": "code",
      "metadata": {
        "id": "dSGCCVIccx-1",
        "colab_type": "code",
        "colab": {}
      },
      "source": [
        "import statistics as st"
      ],
      "execution_count": 0,
      "outputs": []
    },
    {
      "cell_type": "code",
      "metadata": {
        "id": "_Kktg8DidKf3",
        "colab_type": "code",
        "colab": {
          "base_uri": "https://localhost:8080/",
          "height": 68
        },
        "outputId": "cdb46c87-e766-42c5-84a0-2fabfacb06fc"
      },
      "source": [
        "print('Average Size of Fittest :' + str(st.mean(best_vals_size)) + 'MB')\n",
        "print('Average Duration of Fittest :' + str(st.mean(best_vals_duration)) + ' minutes')\n",
        "print('Average Fitness of Fittest :' + str(st.mean(best_vals_fitness)))"
      ],
      "execution_count": 61,
      "outputs": [
        {
          "output_type": "stream",
          "text": [
            "Average Size of Fittest :4402MB\n",
            "Average Duration of Fittest :608 minutes\n",
            "Average Fitness of Fittest :608\n"
          ],
          "name": "stdout"
        }
      ]
    },
    {
      "cell_type": "markdown",
      "metadata": {
        "id": "O2X8B3_zO6ik",
        "colab_type": "text"
      },
      "source": [
        "### **Variation with Crossover Rate** "
      ]
    },
    {
      "cell_type": "code",
      "metadata": {
        "id": "-k7KkA7KKHyG",
        "colab_type": "code",
        "colab": {}
      },
      "source": [
        "def get_avg_best_pc_var(start,end,step,pop_1):\n",
        "  epoch = 1\n",
        "  \n",
        "  n_point = 1\n",
        "  p_m = 0.01\n",
        "  \n",
        "  for j in frange(start,end,step):\n",
        "    finalFitness = []\n",
        "    finalDuration = []\n",
        "    finalSize = []\n",
        "    for k in range(10):\n",
        "      \n",
        "      trainModel(iteration_pc+1,n_point,j,p_m)\n",
        "    \n",
        "      \n",
        "      for i in range(popSize):\n",
        "        fitness, duration,size = getFitness_for_runs(pop_1.iloc[i,1:].values)\n",
        "        finalFitness.append(fitness)\n",
        "        finalDuration.append(duration)\n",
        "        finalSize.append(size)\n",
        "        \n",
        "    id = finalFitness.index(max(finalFitness))\n",
        "    best_vals_size.append(finalSize[id])\n",
        "    best_vals_duration.append(finalDuration[id])\n",
        "    best_vals_fitness.append(finalFitness[id])\n",
        "    \n",
        "    print(\"Completed : \" + str(epoch) + \" Best Size :\" + str(finalSize[finalDuration.index(max(finalDuration))]) + \" Best Duration : \" + str(max(finalDuration)))\n",
        "    pop_1 = chromosome\n",
        "    epoch +=1"
      ],
      "execution_count": 0,
      "outputs": []
    },
    {
      "cell_type": "code",
      "metadata": {
        "id": "hBCYCTRbQTze",
        "colab_type": "code",
        "colab": {}
      },
      "source": [
        "def frange(start, stop, step):\n",
        "  i = start\n",
        "  while i < stop:\n",
        "    yield i\n",
        "    i += step"
      ],
      "execution_count": 0,
      "outputs": []
    },
    {
      "cell_type": "code",
      "metadata": {
        "id": "RnH89FK_QyoD",
        "colab_type": "code",
        "colab": {}
      },
      "source": [
        "chromosome = createInitPop(popSize)\n",
        "pop_1 = chromosome\n"
      ],
      "execution_count": 0,
      "outputs": []
    },
    {
      "cell_type": "code",
      "metadata": {
        "id": "qx5c3k-pQ4R5",
        "colab_type": "code",
        "outputId": "d50e5038-b8ec-462b-cb6e-cd8ec11fe931",
        "colab": {
          "base_uri": "https://localhost:8080/",
          "height": 1717
        }
      },
      "source": [
        "best_vals_size = [ ]\n",
        "best_vals_duration = [ ]\n",
        "best_vals_fitness = [ ]\n",
        "iteration_pc = 10\n",
        "start =0\n",
        "end = 1\n",
        "step = 0.01\n",
        "get_avg_best_pc_var(start,end,step,pop_1)"
      ],
      "execution_count": 113,
      "outputs": [
        {
          "output_type": "stream",
          "text": [
            "Completed : 1 Best Size :8025 Best Duration : 1017\n",
            "Completed : 2 Best Size :5675 Best Duration : 782\n",
            "Completed : 3 Best Size :5725 Best Duration : 787\n",
            "Completed : 4 Best Size :5825 Best Duration : 791\n",
            "Completed : 5 Best Size :5725 Best Duration : 787\n",
            "Completed : 6 Best Size :5675 Best Duration : 709\n",
            "Completed : 7 Best Size :6475 Best Duration : 819\n",
            "Completed : 8 Best Size :5500 Best Duration : 744\n",
            "Completed : 9 Best Size :5950 Best Duration : 729\n",
            "Completed : 10 Best Size :5775 Best Duration : 781\n",
            "Completed : 11 Best Size :6575 Best Duration : 819\n",
            "Completed : 12 Best Size :5675 Best Duration : 777\n",
            "Completed : 13 Best Size :4825 Best Duration : 651\n",
            "Completed : 14 Best Size :6075 Best Duration : 757\n",
            "Completed : 15 Best Size :7275 Best Duration : 901\n",
            "Completed : 16 Best Size :6225 Best Duration : 766\n",
            "Completed : 17 Best Size :5975 Best Duration : 824\n",
            "Completed : 18 Best Size :6575 Best Duration : 902\n",
            "Completed : 19 Best Size :5525 Best Duration : 767\n",
            "Completed : 20 Best Size :5975 Best Duration : 824\n",
            "Completed : 21 Best Size :5975 Best Duration : 733\n",
            "Completed : 22 Best Size :5975 Best Duration : 733\n",
            "Completed : 23 Best Size :5675 Best Duration : 777\n",
            "Completed : 24 Best Size :5975 Best Duration : 824\n",
            "Completed : 25 Best Size :5975 Best Duration : 733\n",
            "Completed : 26 Best Size :6575 Best Duration : 902\n",
            "Completed : 27 Best Size :6575 Best Duration : 902\n",
            "Completed : 28 Best Size :4475 Best Duration : 613\n",
            "Completed : 29 Best Size :5675 Best Duration : 777\n",
            "Completed : 30 Best Size :4950 Best Duration : 663\n",
            "Completed : 31 Best Size :5275 Best Duration : 734\n",
            "Completed : 32 Best Size :5975 Best Duration : 733\n",
            "Completed : 33 Best Size :4475 Best Duration : 613\n",
            "Completed : 34 Best Size :8075 Best Duration : 1022\n",
            "Completed : 35 Best Size :7275 Best Duration : 997\n",
            "Completed : 36 Best Size :5675 Best Duration : 777\n",
            "Completed : 37 Best Size :5225 Best Duration : 713\n",
            "Completed : 38 Best Size :5675 Best Duration : 777\n",
            "Completed : 39 Best Size :5200 Best Duration : 629\n",
            "Completed : 40 Best Size :6825 Best Duration : 859\n",
            "Completed : 41 Best Size :5975 Best Duration : 824\n",
            "Completed : 42 Best Size :6575 Best Duration : 902\n",
            "Completed : 43 Best Size :5675 Best Duration : 777\n",
            "Completed : 44 Best Size :5675 Best Duration : 777\n",
            "Completed : 45 Best Size :5275 Best Duration : 734\n",
            "Completed : 46 Best Size :7475 Best Duration : 944\n",
            "Completed : 47 Best Size :5200 Best Duration : 629\n",
            "Completed : 48 Best Size :4475 Best Duration : 613\n",
            "Completed : 49 Best Size :5675 Best Duration : 777\n",
            "Completed : 50 Best Size :5975 Best Duration : 733\n",
            "Completed : 51 Best Size :6575 Best Duration : 902\n",
            "Completed : 52 Best Size :5675 Best Duration : 777\n",
            "Completed : 53 Best Size :5275 Best Duration : 734\n",
            "Completed : 54 Best Size :4475 Best Duration : 613\n",
            "Completed : 55 Best Size :5675 Best Duration : 777\n",
            "Completed : 56 Best Size :5675 Best Duration : 777\n",
            "Completed : 57 Best Size :5975 Best Duration : 733\n",
            "Completed : 58 Best Size :5975 Best Duration : 824\n",
            "Completed : 59 Best Size :5825 Best Duration : 802\n",
            "Completed : 60 Best Size :7175 Best Duration : 897\n",
            "Completed : 61 Best Size :5625 Best Duration : 772\n",
            "Completed : 62 Best Size :5225 Best Duration : 713\n",
            "Completed : 63 Best Size :5675 Best Duration : 777\n",
            "Completed : 64 Best Size :5275 Best Duration : 734\n",
            "Completed : 65 Best Size :5275 Best Duration : 734\n",
            "Completed : 66 Best Size :5575 Best Duration : 683\n",
            "Completed : 67 Best Size :4575 Best Duration : 639\n",
            "Completed : 68 Best Size :6575 Best Duration : 902\n",
            "Completed : 69 Best Size :5175 Best Duration : 632\n",
            "Completed : 70 Best Size :4725 Best Duration : 647\n",
            "Completed : 71 Best Size :5225 Best Duration : 713\n",
            "Completed : 72 Best Size :6225 Best Duration : 767\n",
            "Completed : 73 Best Size :4725 Best Duration : 647\n",
            "Completed : 74 Best Size :5975 Best Duration : 733\n",
            "Completed : 75 Best Size :4475 Best Duration : 613\n",
            "Completed : 76 Best Size :5250 Best Duration : 634\n",
            "Completed : 77 Best Size :5175 Best Duration : 703\n",
            "Completed : 78 Best Size :4475 Best Duration : 613\n",
            "Completed : 79 Best Size :4475 Best Duration : 613\n",
            "Completed : 80 Best Size :5225 Best Duration : 713\n",
            "Completed : 81 Best Size :5350 Best Duration : 639\n",
            "Completed : 82 Best Size :4475 Best Duration : 613\n",
            "Completed : 83 Best Size :5975 Best Duration : 733\n",
            "Completed : 84 Best Size :5975 Best Duration : 733\n",
            "Completed : 85 Best Size :5125 Best Duration : 698\n",
            "Completed : 86 Best Size :5200 Best Duration : 629\n",
            "Completed : 87 Best Size :5675 Best Duration : 777\n",
            "Completed : 88 Best Size :5275 Best Duration : 734\n",
            "Completed : 89 Best Size :5975 Best Duration : 733\n",
            "Completed : 90 Best Size :4575 Best Duration : 639\n",
            "Completed : 91 Best Size :5075 Best Duration : 691\n",
            "Completed : 92 Best Size :5125 Best Duration : 698\n",
            "Completed : 93 Best Size :4475 Best Duration : 613\n",
            "Completed : 94 Best Size :4475 Best Duration : 613\n",
            "Completed : 95 Best Size :5275 Best Duration : 734\n",
            "Completed : 96 Best Size :5200 Best Duration : 629\n",
            "Completed : 97 Best Size :4475 Best Duration : 613\n",
            "Completed : 98 Best Size :4475 Best Duration : 613\n",
            "Completed : 99 Best Size :5275 Best Duration : 734\n",
            "Completed : 100 Best Size :4475 Best Duration : 613\n"
          ],
          "name": "stdout"
        }
      ]
    },
    {
      "cell_type": "code",
      "metadata": {
        "id": "-9exd6-YbdRE",
        "colab_type": "code",
        "colab": {}
      },
      "source": [
        "best_vals_duration"
      ],
      "execution_count": 0,
      "outputs": []
    },
    {
      "cell_type": "code",
      "metadata": {
        "id": "cUpXP7xJRrI9",
        "colab_type": "code",
        "outputId": "25664af1-35c8-496b-b2ab-adc5e6709270",
        "colab": {
          "base_uri": "https://localhost:8080/",
          "height": 295
        }
      },
      "source": [
        "plt.plot([x for x in frange(start,end,step)],best_vals_size)\n",
        "plt.plot([x for x in frange(start,end,step)],[4500 for x in frange(start,end,step)])\n",
        "plt.title(\"Crossover Rate vs File Size of the Fittest\")\n",
        "plt.xlabel(\"Crossover Rate\")\n",
        "plt.ylabel(\"File Size of the Fitness\")\n",
        "plt.legend(['Results obtained','4,500MB Benchmark'])\n",
        "plt.savefig('cr-size.pdf')"
      ],
      "execution_count": 114,
      "outputs": [
        {
          "output_type": "display_data",
          "data": {
            "image/png": "[encoded data removed]",
            "text/plain": [
              "<Figure size 432x288 with 1 Axes>"
            ]
          },
          "metadata": {
            "tags": []
          }
        }
      ]
    },
    {
      "cell_type": "code",
      "metadata": {
        "id": "RezM3IkDSP7q",
        "colab_type": "code",
        "outputId": "51abe6e5-3e7f-4943-acfa-e75cc2e37550",
        "colab": {
          "base_uri": "https://localhost:8080/",
          "height": 295
        }
      },
      "source": [
        "plt.plot([x for x in frange(start,end,step)],best_vals_duration)\n",
        "plt.title(\"Crossover Rate vs Duration of the Fittest\")\n",
        "plt.xlabel(\"Crossover Rate\")\n",
        "plt.ylabel(\"Duration of the Fitness\")\n",
        "#plt.legend(['Results obtained','4,500MB Benchmark'])\n",
        "plt.savefig('cr-duration.pdf')"
      ],
      "execution_count": 115,
      "outputs": [
        {
          "output_type": "display_data",
          "data": {
            "image/png": "[encoded data removed]",
            "text/plain": [
              "<Figure size 432x288 with 1 Axes>"
            ]
          },
          "metadata": {
            "tags": []
          }
        }
      ]
    },
    {
      "cell_type": "code",
      "metadata": {
        "id": "NbQEQHoiSSFO",
        "colab_type": "code",
        "colab": {
          "base_uri": "https://localhost:8080/",
          "height": 295
        },
        "outputId": "6b398304-008c-46a5-d642-bd907bdd751b"
      },
      "source": [
        "plt.plot([x for x in frange(start,end,step)],best_vals_fitness)\n",
        "plt.title(\"Crossover Rate vs Fitness of the Fittest\")\n",
        "plt.xlabel(\"Crossover Rate\")\n",
        "plt.ylabel(\"Fitness of the Fitness\")\n",
        "#plt.legend(['Results obtained','4,500MB Benchmark'])\n",
        "plt.savefig('cr-fitness.pdf')"
      ],
      "execution_count": 116,
      "outputs": [
        {
          "output_type": "display_data",
          "data": {
            "image/png": "[encoded data removed]",
            "text/plain": [
              "<Figure size 432x288 with 1 Axes>"
            ]
          },
          "metadata": {
            "tags": []
          }
        }
      ]
    },
    {
      "cell_type": "code",
      "metadata": {
        "id": "0n55j96yxYvA",
        "colab_type": "code",
        "colab": {
          "base_uri": "https://localhost:8080/",
          "height": 68
        },
        "outputId": "5caa7f90-c770-4f51-d179-17babe351dec"
      },
      "source": [
        "print('Average Size of Fittest :' + str(st.mean(best_vals_size)) + 'MB')\n",
        "print('Average Duration of Fittest :' + str(st.mean(best_vals_duration)) + ' minutes')\n",
        "print('Average Fitness of Fittest :' + str(st.mean(best_vals_fitness)))"
      ],
      "execution_count": 117,
      "outputs": [
        {
          "output_type": "stream",
          "text": [
            "Average Size of Fittest :4458MB\n",
            "Average Duration of Fittest :611 minutes\n",
            "Average Fitness of Fittest :611\n"
          ],
          "name": "stdout"
        }
      ]
    },
    {
      "cell_type": "markdown",
      "metadata": {
        "id": "giRsY-LtTOKG",
        "colab_type": "text"
      },
      "source": [
        "### **Variation with Mutation Rate**"
      ]
    },
    {
      "cell_type": "code",
      "metadata": {
        "id": "m2OfL-ZpTQbV",
        "colab_type": "code",
        "colab": {}
      },
      "source": [
        "def get_avg_best_pm_var(start,end,step,pop_1):\n",
        "  epoch = 1\n",
        "  n_point = 1\n",
        "  p_c = 0.8\n",
        "  for j in frange(start,end,step):\n",
        "    trainModel(iteration_pm+1,n_point,p_c,j)\n",
        "    \n",
        "    finalDuration = []\n",
        "    finalSize = []\n",
        "    finalFitness = []\n",
        "    for i in range(popSize):\n",
        "      fitness, duration,size = getFitness_for_runs(pop_1.iloc[i,1:].values)\n",
        "      finalDuration.append(duration)\n",
        "      finalSize.append(size)\n",
        "      finalFitness.append(fitness)\n",
        "      \n",
        "    best_fitness_id = finalFitness.index(max(finalFitness))  \n",
        "    best_vals_size.append(finalSize[best_fitness_id])\n",
        "    best_vals_duration.append(finalDuration[best_fitness_id])\n",
        "    best_vals_fitness.append(finalFitness[best_fitness_id])\n",
        "    print(\"Completed : \" + str(epoch) + \" Best Size :\" + str(finalSize[finalDuration.index(max(finalDuration))]) + \" Best Duration : \" + str(max(finalDuration)))\n",
        "    pop_1 = chromosome\n",
        "    epoch +=1"
      ],
      "execution_count": 0,
      "outputs": []
    },
    {
      "cell_type": "code",
      "metadata": {
        "id": "K3gGFHFyTXZQ",
        "colab_type": "code",
        "colab": {}
      },
      "source": [
        "chromosome = createInitPop(popSize)\n",
        "pop_1 = chromosome"
      ],
      "execution_count": 0,
      "outputs": []
    },
    {
      "cell_type": "code",
      "metadata": {
        "id": "-x6wG7iUTZ0V",
        "colab_type": "code",
        "outputId": "0da46429-4f7f-4363-c309-ee463af88d19",
        "colab": {
          "base_uri": "https://localhost:8080/",
          "height": 1717
        }
      },
      "source": [
        "best_vals_size = [ ]\n",
        "best_vals_duration = [ ]\n",
        "best_vals_fitness = [ ]\n",
        "iteration_pm = 10\n",
        "start =0\n",
        "end = 1\n",
        "step = 0.01\n",
        "get_avg_best_pm_var(start,end,step,pop_1)"
      ],
      "execution_count": 121,
      "outputs": [
        {
          "output_type": "stream",
          "text": [
            "Completed : 1 Best Size :7725 Best Duration : 982\n",
            "Completed : 2 Best Size :7725 Best Duration : 982\n",
            "Completed : 3 Best Size :7725 Best Duration : 982\n",
            "Completed : 4 Best Size :4350 Best Duration : 596\n",
            "Completed : 5 Best Size :5725 Best Duration : 691\n",
            "Completed : 6 Best Size :5550 Best Duration : 658\n",
            "Completed : 7 Best Size :4350 Best Duration : 596\n",
            "Completed : 8 Best Size :4325 Best Duration : 599\n",
            "Completed : 9 Best Size :6450 Best Duration : 794\n",
            "Completed : 10 Best Size :4675 Best Duration : 642\n",
            "Completed : 11 Best Size :5275 Best Duration : 649\n",
            "Completed : 12 Best Size :5125 Best Duration : 629\n",
            "Completed : 13 Best Size :5400 Best Duration : 648\n",
            "Completed : 14 Best Size :4400 Best Duration : 606\n",
            "Completed : 15 Best Size :6350 Best Duration : 781\n",
            "Completed : 16 Best Size :4400 Best Duration : 606\n",
            "Completed : 17 Best Size :4425 Best Duration : 614\n",
            "Completed : 18 Best Size :4425 Best Duration : 614\n",
            "Completed : 19 Best Size :5175 Best Duration : 634\n",
            "Completed : 20 Best Size :4425 Best Duration : 614\n",
            "Completed : 21 Best Size :4425 Best Duration : 614\n",
            "Completed : 22 Best Size :4875 Best Duration : 656\n",
            "Completed : 23 Best Size :6450 Best Duration : 783\n",
            "Completed : 24 Best Size :5375 Best Duration : 653\n",
            "Completed : 25 Best Size :5825 Best Duration : 724\n",
            "Completed : 26 Best Size :4425 Best Duration : 614\n",
            "Completed : 27 Best Size :5275 Best Duration : 636\n",
            "Completed : 28 Best Size :4425 Best Duration : 614\n",
            "Completed : 29 Best Size :4425 Best Duration : 614\n",
            "Completed : 30 Best Size :6350 Best Duration : 768\n",
            "Completed : 31 Best Size :4425 Best Duration : 614\n",
            "Completed : 32 Best Size :4525 Best Duration : 632\n",
            "Completed : 33 Best Size :4425 Best Duration : 614\n",
            "Completed : 34 Best Size :7075 Best Duration : 897\n",
            "Completed : 35 Best Size :4425 Best Duration : 614\n",
            "Completed : 36 Best Size :5150 Best Duration : 624\n",
            "Completed : 37 Best Size :5425 Best Duration : 674\n",
            "Completed : 38 Best Size :4425 Best Duration : 614\n",
            "Completed : 39 Best Size :4425 Best Duration : 614\n",
            "Completed : 40 Best Size :4425 Best Duration : 614\n",
            "Completed : 41 Best Size :4425 Best Duration : 614\n",
            "Completed : 42 Best Size :4425 Best Duration : 614\n",
            "Completed : 43 Best Size :6075 Best Duration : 757\n",
            "Completed : 44 Best Size :4425 Best Duration : 614\n",
            "Completed : 45 Best Size :4425 Best Duration : 614\n",
            "Completed : 46 Best Size :4425 Best Duration : 614\n",
            "Completed : 47 Best Size :4425 Best Duration : 614\n",
            "Completed : 48 Best Size :4425 Best Duration : 614\n",
            "Completed : 49 Best Size :5775 Best Duration : 714\n",
            "Completed : 50 Best Size :4425 Best Duration : 614\n",
            "Completed : 51 Best Size :5625 Best Duration : 688\n",
            "Completed : 52 Best Size :4425 Best Duration : 614\n",
            "Completed : 53 Best Size :4425 Best Duration : 614\n",
            "Completed : 54 Best Size :5575 Best Duration : 684\n",
            "Completed : 55 Best Size :8175 Best Duration : 1039\n",
            "Completed : 56 Best Size :4425 Best Duration : 614\n",
            "Completed : 57 Best Size :4425 Best Duration : 614\n",
            "Completed : 58 Best Size :4425 Best Duration : 614\n",
            "Completed : 59 Best Size :7075 Best Duration : 887\n",
            "Completed : 60 Best Size :4425 Best Duration : 614\n",
            "Completed : 61 Best Size :4425 Best Duration : 614\n",
            "Completed : 62 Best Size :4425 Best Duration : 614\n",
            "Completed : 63 Best Size :5025 Best Duration : 624\n",
            "Completed : 64 Best Size :4425 Best Duration : 614\n",
            "Completed : 65 Best Size :5775 Best Duration : 724\n",
            "Completed : 66 Best Size :4425 Best Duration : 614\n",
            "Completed : 67 Best Size :4425 Best Duration : 614\n",
            "Completed : 68 Best Size :5350 Best Duration : 651\n",
            "Completed : 69 Best Size :4425 Best Duration : 614\n",
            "Completed : 70 Best Size :6350 Best Duration : 781\n",
            "Completed : 71 Best Size :4425 Best Duration : 614\n",
            "Completed : 72 Best Size :5075 Best Duration : 699\n",
            "Completed : 73 Best Size :5650 Best Duration : 684\n",
            "Completed : 74 Best Size :5975 Best Duration : 824\n",
            "Completed : 75 Best Size :5325 Best Duration : 739\n",
            "Completed : 76 Best Size :4825 Best Duration : 664\n",
            "Completed : 77 Best Size :6350 Best Duration : 768\n",
            "Completed : 78 Best Size :5175 Best Duration : 717\n",
            "Completed : 79 Best Size :4425 Best Duration : 614\n",
            "Completed : 80 Best Size :5925 Best Duration : 734\n",
            "Completed : 81 Best Size :4425 Best Duration : 614\n",
            "Completed : 82 Best Size :4425 Best Duration : 614\n",
            "Completed : 83 Best Size :6575 Best Duration : 819\n",
            "Completed : 84 Best Size :5775 Best Duration : 794\n",
            "Completed : 85 Best Size :5025 Best Duration : 692\n",
            "Completed : 86 Best Size :5025 Best Duration : 692\n",
            "Completed : 87 Best Size :5725 Best Duration : 787\n",
            "Completed : 88 Best Size :5125 Best Duration : 709\n",
            "Completed : 89 Best Size :4425 Best Duration : 614\n",
            "Completed : 90 Best Size :4425 Best Duration : 614\n",
            "Completed : 91 Best Size :4425 Best Duration : 614\n",
            "Completed : 92 Best Size :4425 Best Duration : 614\n",
            "Completed : 93 Best Size :4425 Best Duration : 614\n",
            "Completed : 94 Best Size :5025 Best Duration : 692\n",
            "Completed : 95 Best Size :5325 Best Duration : 739\n",
            "Completed : 96 Best Size :4425 Best Duration : 614\n",
            "Completed : 97 Best Size :4425 Best Duration : 614\n",
            "Completed : 98 Best Size :5325 Best Duration : 739\n",
            "Completed : 99 Best Size :4425 Best Duration : 614\n",
            "Completed : 100 Best Size :4425 Best Duration : 614\n"
          ],
          "name": "stdout"
        }
      ]
    },
    {
      "cell_type": "code",
      "metadata": {
        "id": "hZlA2HChTb_r",
        "colab_type": "code",
        "outputId": "e7e5cfdb-1079-4a39-85b0-d3e1fdb9101e",
        "colab": {
          "base_uri": "https://localhost:8080/",
          "height": 295
        }
      },
      "source": [
        "plt.plot([x for x in frange(start,end,step)],best_vals_size)\n",
        "plt.plot([x for x in frange(start,end,step)],[4500 for x in frange(start,end,step)])\n",
        "plt.title(\"Mutation Rate vs Size of Fittest\")\n",
        "plt.xlabel(\"Mutation Rate\")\n",
        "plt.ylabel(\"File size of Fittest Solution\")\n",
        "plt.legend(['Results obtained','4,500MB Benchmark'])\n",
        "plt.savefig('mr-size.pdf')"
      ],
      "execution_count": 126,
      "outputs": [
        {
          "output_type": "display_data",
          "data": {
            "image/png": "[encoded data removed]",
            "text/plain": [
              "<Figure size 432x288 with 1 Axes>"
            ]
          },
          "metadata": {
            "tags": []
          }
        }
      ]
    },
    {
      "cell_type": "code",
      "metadata": {
        "id": "JOVvhifxTf2F",
        "colab_type": "code",
        "outputId": "b04cd7ad-7cd6-4477-b911-8004f6c41bdf",
        "colab": {
          "base_uri": "https://localhost:8080/",
          "height": 295
        }
      },
      "source": [
        "plt.plot([x for x in frange(start,end,step)],best_vals_duration)\n",
        "plt.title(\"Mutation Rate vs Duration of Fittest\")\n",
        "plt.xlabel(\"Mutation Rate\")\n",
        "plt.ylabel(\"Duration of Fittest Solution\")\n",
        "plt.savefig('mr-duration.pdf')"
      ],
      "execution_count": 127,
      "outputs": [
        {
          "output_type": "display_data",
          "data": {
            "image/png": "[encoded data removed]",
            "text/plain": [
              "<Figure size 432x288 with 1 Axes>"
            ]
          },
          "metadata": {
            "tags": []
          }
        }
      ]
    },
    {
      "cell_type": "code",
      "metadata": {
        "id": "7iENuia_oVHI",
        "colab_type": "code",
        "colab": {
          "base_uri": "https://localhost:8080/",
          "height": 295
        },
        "outputId": "f9280560-7d19-4463-83bb-fd57cc7dbcef"
      },
      "source": [
        "plt.plot([x for x in frange(start,end,step)],best_vals_fitness)\n",
        "plt.title(\"Mutation Rate vs Fitness of Fittest\")\n",
        "plt.xlabel(\"Mutation Rate\")\n",
        "plt.ylabel(\"Fitness of Fittest Solution\")\n",
        "plt.savefig('mr-fitness.pdf')"
      ],
      "execution_count": 128,
      "outputs": [
        {
          "output_type": "display_data",
          "data": {
            "image/png": "[encoded data removed]",
            "text/plain": [
              "<Figure size 432x288 with 1 Axes>"
            ]
          },
          "metadata": {
            "tags": []
          }
        }
      ]
    },
    {
      "cell_type": "code",
      "metadata": {
        "id": "QEEuAI86ovDP",
        "colab_type": "code",
        "colab": {
          "base_uri": "https://localhost:8080/",
          "height": 68
        },
        "outputId": "184d0f06-26cf-41aa-976f-7804cc61cff5"
      },
      "source": [
        "print('Average Size of Fittest :' + str(st.mean(best_vals_size)) + 'MB')\n",
        "print('Average Duration of Fittest :' + str(st.mean(best_vals_duration)) + ' minutes')\n",
        "print('Average Fitness of Fittest :' + str(st.mean(best_vals_fitness)))"
      ],
      "execution_count": 129,
      "outputs": [
        {
          "output_type": "stream",
          "text": [
            "Average Size of Fittest :4409MB\n",
            "Average Duration of Fittest :611 minutes\n",
            "Average Fitness of Fittest :611\n"
          ],
          "name": "stdout"
        }
      ]
    },
    {
      "cell_type": "code",
      "metadata": {
        "id": "pHTlkBOZou_U",
        "colab_type": "code",
        "colab": {}
      },
      "source": [
        ""
      ],
      "execution_count": 0,
      "outputs": []
    },
    {
      "cell_type": "code",
      "metadata": {
        "id": "rrNs6j6zou8B",
        "colab_type": "code",
        "colab": {}
      },
      "source": [
        ""
      ],
      "execution_count": 0,
      "outputs": []
    },
    {
      "cell_type": "markdown",
      "metadata": {
        "id": "nUxFNg0GHCh6",
        "colab_type": "text"
      },
      "source": [
        "### **Variation with Population size**"
      ]
    },
    {
      "cell_type": "code",
      "metadata": {
        "id": "ps0lewE_T3uT",
        "colab_type": "code",
        "colab": {}
      },
      "source": [
        "def pop_var(popSize):\n",
        "  epoch = 1\n",
        "  for j in range(1,popSize+1):\n",
        "    chromosome = createInitPop(j)\n",
        "    #n point for crossover\n",
        "    n_point = 1\n",
        "    #crossover rate\n",
        "    p_c = 0.8\n",
        "    #mutation rate\n",
        "    p_m = 0.01\n",
        "\n",
        "    finalDuration = []\n",
        "    finalSize = []\n",
        "    finalFitness = []\n",
        "    trainModel(100,n_point,p_c,p_m)\n",
        "    \n",
        "    #Get Fitness and Size information for the Last Population\n",
        "    for i in range(j):\n",
        "      fitness, duration,size = getFitness_for_runs(pop_1.iloc[i,1:].values)\n",
        "      finalDuration.append(duration)\n",
        "      finalSize.append(size)\n",
        "      finalFitness.append(fitness)\n",
        "      \n",
        "    best_fitness_id = finalFitness.index(max(finalFitness))  \n",
        "    best_vals_size.append(finalSize[best_fitness_id])\n",
        "    best_vals_duration.append(finalDuration[best_fitness_id])\n",
        "    best_vals_fitness.append(finalFitness[best_fitness_id])\n",
        "      \n",
        "    print(\"Completed : \" + str(epoch) + \" Pop Size : \" + str(j) + \" Best Size :\" + str(finalSize[finalDuration.index(max(finalDuration))]) + \" Best Duration : \" + str(max(finalDuration)))\n",
        "    epoch += 1\n",
        "    \n",
        "    "
      ],
      "execution_count": 0,
      "outputs": []
    },
    {
      "cell_type": "code",
      "metadata": {
        "id": "yQ0krwKDJDnN",
        "colab_type": "code",
        "outputId": "3aecc9b3-ad04-4b55-f39d-601a74c63668",
        "colab": {
          "base_uri": "https://localhost:8080/",
          "height": 867
        }
      },
      "source": [
        "#Final population Duration and Size storage\n",
        "best_vals_size = [ ]\n",
        "best_vals_duration = [ ]\n",
        "best_vals_fitness = [ ]\n",
        "\n",
        "popSize = 50\n",
        "pop_var(popSize)"
      ],
      "execution_count": 95,
      "outputs": [
        {
          "output_type": "stream",
          "text": [
            "Completed : 1 Pop Size : 1 Best Size :4350 Best Duration : 503\n",
            "Completed : 2 Pop Size : 2 Best Size :4425 Best Duration : 614\n",
            "Completed : 3 Pop Size : 3 Best Size :4425 Best Duration : 614\n",
            "Completed : 4 Pop Size : 4 Best Size :4425 Best Duration : 614\n",
            "Completed : 5 Pop Size : 5 Best Size :4425 Best Duration : 614\n",
            "Completed : 6 Pop Size : 6 Best Size :4425 Best Duration : 614\n",
            "Completed : 7 Pop Size : 7 Best Size :4425 Best Duration : 614\n",
            "Completed : 8 Pop Size : 8 Best Size :4425 Best Duration : 614\n",
            "Completed : 9 Pop Size : 9 Best Size :4425 Best Duration : 614\n",
            "Completed : 10 Pop Size : 10 Best Size :4425 Best Duration : 614\n",
            "Completed : 11 Pop Size : 11 Best Size :4425 Best Duration : 614\n",
            "Completed : 12 Pop Size : 12 Best Size :4425 Best Duration : 614\n",
            "Completed : 13 Pop Size : 13 Best Size :4425 Best Duration : 614\n",
            "Completed : 14 Pop Size : 14 Best Size :4425 Best Duration : 614\n",
            "Completed : 15 Pop Size : 15 Best Size :4425 Best Duration : 614\n",
            "Completed : 16 Pop Size : 16 Best Size :4425 Best Duration : 614\n",
            "Completed : 17 Pop Size : 17 Best Size :4425 Best Duration : 614\n",
            "Completed : 18 Pop Size : 18 Best Size :4425 Best Duration : 614\n",
            "Completed : 19 Pop Size : 19 Best Size :4425 Best Duration : 614\n",
            "Completed : 20 Pop Size : 20 Best Size :4425 Best Duration : 614\n",
            "Completed : 21 Pop Size : 21 Best Size :4425 Best Duration : 614\n",
            "Completed : 22 Pop Size : 22 Best Size :4425 Best Duration : 614\n",
            "Completed : 23 Pop Size : 23 Best Size :4425 Best Duration : 614\n",
            "Completed : 24 Pop Size : 24 Best Size :4425 Best Duration : 614\n",
            "Completed : 25 Pop Size : 25 Best Size :4425 Best Duration : 614\n",
            "Completed : 26 Pop Size : 26 Best Size :4425 Best Duration : 614\n",
            "Completed : 27 Pop Size : 27 Best Size :4425 Best Duration : 614\n",
            "Completed : 28 Pop Size : 28 Best Size :4425 Best Duration : 614\n",
            "Completed : 29 Pop Size : 29 Best Size :5300 Best Duration : 633\n",
            "Completed : 30 Pop Size : 30 Best Size :4425 Best Duration : 614\n",
            "Completed : 31 Pop Size : 31 Best Size :4425 Best Duration : 614\n",
            "Completed : 32 Pop Size : 32 Best Size :4425 Best Duration : 614\n",
            "Completed : 33 Pop Size : 33 Best Size :4425 Best Duration : 614\n",
            "Completed : 34 Pop Size : 34 Best Size :4425 Best Duration : 614\n",
            "Completed : 35 Pop Size : 35 Best Size :5225 Best Duration : 631\n",
            "Completed : 36 Pop Size : 36 Best Size :4425 Best Duration : 614\n",
            "Completed : 37 Pop Size : 37 Best Size :5075 Best Duration : 699\n",
            "Completed : 38 Pop Size : 38 Best Size :4425 Best Duration : 614\n",
            "Completed : 39 Pop Size : 39 Best Size :4425 Best Duration : 614\n",
            "Completed : 40 Pop Size : 40 Best Size :4425 Best Duration : 614\n",
            "Completed : 41 Pop Size : 41 Best Size :4425 Best Duration : 614\n",
            "Completed : 42 Pop Size : 42 Best Size :4425 Best Duration : 614\n",
            "Completed : 43 Pop Size : 43 Best Size :5400 Best Duration : 638\n",
            "Completed : 44 Pop Size : 44 Best Size :4425 Best Duration : 614\n",
            "Completed : 45 Pop Size : 45 Best Size :4425 Best Duration : 614\n",
            "Completed : 46 Pop Size : 46 Best Size :4425 Best Duration : 614\n",
            "Completed : 47 Pop Size : 47 Best Size :5725 Best Duration : 776\n",
            "Completed : 48 Pop Size : 48 Best Size :4425 Best Duration : 614\n",
            "Completed : 49 Pop Size : 49 Best Size :4425 Best Duration : 614\n",
            "Completed : 50 Pop Size : 50 Best Size :4425 Best Duration : 614\n"
          ],
          "name": "stdout"
        }
      ]
    },
    {
      "cell_type": "code",
      "metadata": {
        "id": "vIf0Bh-oJLkW",
        "colab_type": "code",
        "outputId": "08a7aeea-5f2a-452a-923c-0e745b0b72f4",
        "colab": {
          "base_uri": "https://localhost:8080/",
          "height": 295
        }
      },
      "source": [
        "plt.plot([x for x in range(1,popSize+1)],best_vals_size)\n",
        "plt.plot([x for x in range(1,popSize+1)],[4500 for i in range(1,popSize+1)])\n",
        "plt.title(\"Population Size vs Size of Fittest\")\n",
        "plt.xlabel(\"Population Size\")\n",
        "plt.ylabel(\"File size of Fittest Solution\")\n",
        "plt.legend(['Results obtained','4,500MB Benchmark'])\n",
        "plt.savefig('popsize-size.pdf')"
      ],
      "execution_count": 102,
      "outputs": [
        {
          "output_type": "display_data",
          "data": {
            "image/png": "[encoded data removed]",
            "text/plain": [
              "<Figure size 432x288 with 1 Axes>"
            ]
          },
          "metadata": {
            "tags": []
          }
        }
      ]
    },
    {
      "cell_type": "code",
      "metadata": {
        "id": "nIZMDXb-RSF0",
        "colab_type": "code",
        "outputId": "b2af9989-9f2d-4ef5-b83f-e4a49d887bee",
        "colab": {
          "base_uri": "https://localhost:8080/",
          "height": 34
        }
      },
      "source": [
        "best_vals_size[len(best_vals_size)-1]"
      ],
      "execution_count": 100,
      "outputs": [
        {
          "output_type": "execute_result",
          "data": {
            "text/plain": [
              "4425"
            ]
          },
          "metadata": {
            "tags": []
          },
          "execution_count": 100
        }
      ]
    },
    {
      "cell_type": "code",
      "metadata": {
        "id": "okUmTuZVK9Dz",
        "colab_type": "code",
        "outputId": "05b5254e-af45-4479-e1eb-3a9972143cf8",
        "colab": {
          "base_uri": "https://localhost:8080/",
          "height": 295
        }
      },
      "source": [
        "plt.plot([x for x in range(1,popSize+1)],best_vals_duration)\n",
        "plt.title(\"Population Size vs Duration of Fittest\")\n",
        "plt.xlabel(\"Population Size\")\n",
        "plt.ylabel(\"Duration of Fittest Solution\")\n",
        "#plt.legend(['Results obtained','4,500MB Benchmark'])\n",
        "plt.savefig('popsize-duration.pdf')"
      ],
      "execution_count": 103,
      "outputs": [
        {
          "output_type": "display_data",
          "data": {
            "image/png": "[encoded data removed]",
            "text/plain": [
              "<Figure size 432x288 with 1 Axes>"
            ]
          },
          "metadata": {
            "tags": []
          }
        }
      ]
    },
    {
      "cell_type": "code",
      "metadata": {
        "id": "YzyGDU6ttkHN",
        "colab_type": "code",
        "colab": {
          "base_uri": "https://localhost:8080/",
          "height": 295
        },
        "outputId": "96e138ac-d42f-42de-ab08-b027ab3b26b3"
      },
      "source": [
        "plt.plot([x for x in range(1,popSize+1)],best_vals_fitness)\n",
        "plt.title(\"Population Size vs Fitness of Fittest\")\n",
        "plt.xlabel(\"Population Size\")\n",
        "plt.ylabel(\"Fitness of Fittest Solution\")\n",
        "#plt.legend(['Results obtained','4,500MB Benchmark'])\n",
        "plt.savefig('popsize-fitness.pdf')"
      ],
      "execution_count": 107,
      "outputs": [
        {
          "output_type": "display_data",
          "data": {
            "image/png": "[encoded data removed]",
            "text/plain": [
              "<Figure size 432x288 with 1 Axes>"
            ]
          },
          "metadata": {
            "tags": []
          }
        }
      ]
    },
    {
      "cell_type": "code",
      "metadata": {
        "id": "v45wbk-_LI-i",
        "colab_type": "code",
        "colab": {
          "base_uri": "https://localhost:8080/",
          "height": 68
        },
        "outputId": "57621952-d580-419b-b390-b2870a45462b"
      },
      "source": [
        "print('Average Size of Fittest :' + str(st.mean(best_vals_size)) + 'MB')\n",
        "print('Average Duration of Fittest :' + str(st.mean(best_vals_duration)) + ' minutes')\n",
        "print('Average Fitness of Fittest :' + str(st.mean(best_vals_fitness)))"
      ],
      "execution_count": 109,
      "outputs": [
        {
          "output_type": "stream",
          "text": [
            "Average Size of Fittest :4423MB\n",
            "Average Duration of Fittest :611 minutes\n",
            "Average Fitness of Fittest :611\n"
          ],
          "name": "stdout"
        }
      ]
    },
    {
      "cell_type": "code",
      "metadata": {
        "id": "c3towenYQhxf",
        "colab_type": "code",
        "colab": {}
      },
      "source": [
        ""
      ],
      "execution_count": 0,
      "outputs": []
    },
    {
      "cell_type": "markdown",
      "metadata": {
        "id": "kpO0AXAPmYnI",
        "colab_type": "text"
      },
      "source": [
        "### **Brute Force**"
      ]
    },
    {
      "cell_type": "code",
      "metadata": {
        "id": "ZgBE9ta8uNd5",
        "colab_type": "code",
        "colab": {}
      },
      "source": [
        "def generate(variables,power):\n",
        "  val = int((2**variables)/(2**(power+1)))\n",
        "  file_10 = []\n",
        "  for i in range(val):\n",
        "    for j in range(2**power):\n",
        "      file_10.append(0)\n",
        "\n",
        "    for j in range(2**power):\n",
        "      file_10.append(1)\n",
        "      \n",
        "  return file_10\n",
        "  "
      ],
      "execution_count": 0,
      "outputs": []
    },
    {
      "cell_type": "code",
      "metadata": {
        "id": "8vJo_TQZ_aA6",
        "colab_type": "code",
        "colab": {}
      },
      "source": [
        "list_ret = []\n",
        "variables = 10\n",
        "for power in range(variables-1,-1,-1):\n",
        "  list_ret.append(generate(variables,power))"
      ],
      "execution_count": 0,
      "outputs": []
    },
    {
      "cell_type": "code",
      "metadata": {
        "id": "kxNFimd_x_9x",
        "colab_type": "code",
        "colab": {}
      },
      "source": [
        "values ={\n",
        "    \n",
        "    'file ' + str(x+1):list_ret[x] for x in range(variables-1,-1,-1)\n",
        "    \n",
        "    \n",
        "    \n",
        "  }\n",
        "  #convert the array of population to a dataframe\n",
        "values = pd.DataFrame(values)"
      ],
      "execution_count": 0,
      "outputs": []
    },
    {
      "cell_type": "code",
      "metadata": {
        "id": "3e39LhojyYoD",
        "colab_type": "code",
        "outputId": "5e6d70b4-4367-4b04-9162-10421df5e028",
        "colab": {
          "base_uri": "https://localhost:8080/",
          "height": 1969
        }
      },
      "source": [
        "values"
      ],
      "execution_count": 0,
      "outputs": [
        {
          "output_type": "execute_result",
          "data": {
            "text/html": [
              "<div>\n",
              "<style scoped>\n",
              "    .dataframe tbody tr th:only-of-type {\n",
              "        vertical-align: middle;\n",
              "    }\n",
              "\n",
              "    .dataframe tbody tr th {\n",
              "        vertical-align: top;\n",
              "    }\n",
              "\n",
              "    .dataframe thead th {\n",
              "        text-align: right;\n",
              "    }\n",
              "</style>\n",
              "<table border=\"1\" class=\"dataframe\">\n",
              "  <thead>\n",
              "    <tr style=\"text-align: right;\">\n",
              "      <th></th>\n",
              "      <th>file 10</th>\n",
              "      <th>file 9</th>\n",
              "      <th>file 8</th>\n",
              "      <th>file 7</th>\n",
              "      <th>file 6</th>\n",
              "      <th>file 5</th>\n",
              "      <th>file 4</th>\n",
              "      <th>file 3</th>\n",
              "      <th>file 2</th>\n",
              "      <th>file 1</th>\n",
              "    </tr>\n",
              "  </thead>\n",
              "  <tbody>\n",
              "    <tr>\n",
              "      <th>0</th>\n",
              "      <td>0</td>\n",
              "      <td>0</td>\n",
              "      <td>0</td>\n",
              "      <td>0</td>\n",
              "      <td>0</td>\n",
              "      <td>0</td>\n",
              "      <td>0</td>\n",
              "      <td>0</td>\n",
              "      <td>0</td>\n",
              "      <td>0</td>\n",
              "    </tr>\n",
              "    <tr>\n",
              "      <th>1</th>\n",
              "      <td>1</td>\n",
              "      <td>0</td>\n",
              "      <td>0</td>\n",
              "      <td>0</td>\n",
              "      <td>0</td>\n",
              "      <td>0</td>\n",
              "      <td>0</td>\n",
              "      <td>0</td>\n",
              "      <td>0</td>\n",
              "      <td>0</td>\n",
              "    </tr>\n",
              "    <tr>\n",
              "      <th>2</th>\n",
              "      <td>0</td>\n",
              "      <td>1</td>\n",
              "      <td>0</td>\n",
              "      <td>0</td>\n",
              "      <td>0</td>\n",
              "      <td>0</td>\n",
              "      <td>0</td>\n",
              "      <td>0</td>\n",
              "      <td>0</td>\n",
              "      <td>0</td>\n",
              "    </tr>\n",
              "    <tr>\n",
              "      <th>3</th>\n",
              "      <td>1</td>\n",
              "      <td>1</td>\n",
              "      <td>0</td>\n",
              "      <td>0</td>\n",
              "      <td>0</td>\n",
              "      <td>0</td>\n",
              "      <td>0</td>\n",
              "      <td>0</td>\n",
              "      <td>0</td>\n",
              "      <td>0</td>\n",
              "    </tr>\n",
              "    <tr>\n",
              "      <th>4</th>\n",
              "      <td>0</td>\n",
              "      <td>0</td>\n",
              "      <td>1</td>\n",
              "      <td>0</td>\n",
              "      <td>0</td>\n",
              "      <td>0</td>\n",
              "      <td>0</td>\n",
              "      <td>0</td>\n",
              "      <td>0</td>\n",
              "      <td>0</td>\n",
              "    </tr>\n",
              "    <tr>\n",
              "      <th>5</th>\n",
              "      <td>1</td>\n",
              "      <td>0</td>\n",
              "      <td>1</td>\n",
              "      <td>0</td>\n",
              "      <td>0</td>\n",
              "      <td>0</td>\n",
              "      <td>0</td>\n",
              "      <td>0</td>\n",
              "      <td>0</td>\n",
              "      <td>0</td>\n",
              "    </tr>\n",
              "    <tr>\n",
              "      <th>6</th>\n",
              "      <td>0</td>\n",
              "      <td>1</td>\n",
              "      <td>1</td>\n",
              "      <td>0</td>\n",
              "      <td>0</td>\n",
              "      <td>0</td>\n",
              "      <td>0</td>\n",
              "      <td>0</td>\n",
              "      <td>0</td>\n",
              "      <td>0</td>\n",
              "    </tr>\n",
              "    <tr>\n",
              "      <th>7</th>\n",
              "      <td>1</td>\n",
              "      <td>1</td>\n",
              "      <td>1</td>\n",
              "      <td>0</td>\n",
              "      <td>0</td>\n",
              "      <td>0</td>\n",
              "      <td>0</td>\n",
              "      <td>0</td>\n",
              "      <td>0</td>\n",
              "      <td>0</td>\n",
              "    </tr>\n",
              "    <tr>\n",
              "      <th>8</th>\n",
              "      <td>0</td>\n",
              "      <td>0</td>\n",
              "      <td>0</td>\n",
              "      <td>1</td>\n",
              "      <td>0</td>\n",
              "      <td>0</td>\n",
              "      <td>0</td>\n",
              "      <td>0</td>\n",
              "      <td>0</td>\n",
              "      <td>0</td>\n",
              "    </tr>\n",
              "    <tr>\n",
              "      <th>9</th>\n",
              "      <td>1</td>\n",
              "      <td>0</td>\n",
              "      <td>0</td>\n",
              "      <td>1</td>\n",
              "      <td>0</td>\n",
              "      <td>0</td>\n",
              "      <td>0</td>\n",
              "      <td>0</td>\n",
              "      <td>0</td>\n",
              "      <td>0</td>\n",
              "    </tr>\n",
              "    <tr>\n",
              "      <th>10</th>\n",
              "      <td>0</td>\n",
              "      <td>1</td>\n",
              "      <td>0</td>\n",
              "      <td>1</td>\n",
              "      <td>0</td>\n",
              "      <td>0</td>\n",
              "      <td>0</td>\n",
              "      <td>0</td>\n",
              "      <td>0</td>\n",
              "      <td>0</td>\n",
              "    </tr>\n",
              "    <tr>\n",
              "      <th>11</th>\n",
              "      <td>1</td>\n",
              "      <td>1</td>\n",
              "      <td>0</td>\n",
              "      <td>1</td>\n",
              "      <td>0</td>\n",
              "      <td>0</td>\n",
              "      <td>0</td>\n",
              "      <td>0</td>\n",
              "      <td>0</td>\n",
              "      <td>0</td>\n",
              "    </tr>\n",
              "    <tr>\n",
              "      <th>12</th>\n",
              "      <td>0</td>\n",
              "      <td>0</td>\n",
              "      <td>1</td>\n",
              "      <td>1</td>\n",
              "      <td>0</td>\n",
              "      <td>0</td>\n",
              "      <td>0</td>\n",
              "      <td>0</td>\n",
              "      <td>0</td>\n",
              "      <td>0</td>\n",
              "    </tr>\n",
              "    <tr>\n",
              "      <th>13</th>\n",
              "      <td>1</td>\n",
              "      <td>0</td>\n",
              "      <td>1</td>\n",
              "      <td>1</td>\n",
              "      <td>0</td>\n",
              "      <td>0</td>\n",
              "      <td>0</td>\n",
              "      <td>0</td>\n",
              "      <td>0</td>\n",
              "      <td>0</td>\n",
              "    </tr>\n",
              "    <tr>\n",
              "      <th>14</th>\n",
              "      <td>0</td>\n",
              "      <td>1</td>\n",
              "      <td>1</td>\n",
              "      <td>1</td>\n",
              "      <td>0</td>\n",
              "      <td>0</td>\n",
              "      <td>0</td>\n",
              "      <td>0</td>\n",
              "      <td>0</td>\n",
              "      <td>0</td>\n",
              "    </tr>\n",
              "    <tr>\n",
              "      <th>15</th>\n",
              "      <td>1</td>\n",
              "      <td>1</td>\n",
              "      <td>1</td>\n",
              "      <td>1</td>\n",
              "      <td>0</td>\n",
              "      <td>0</td>\n",
              "      <td>0</td>\n",
              "      <td>0</td>\n",
              "      <td>0</td>\n",
              "      <td>0</td>\n",
              "    </tr>\n",
              "    <tr>\n",
              "      <th>16</th>\n",
              "      <td>0</td>\n",
              "      <td>0</td>\n",
              "      <td>0</td>\n",
              "      <td>0</td>\n",
              "      <td>1</td>\n",
              "      <td>0</td>\n",
              "      <td>0</td>\n",
              "      <td>0</td>\n",
              "      <td>0</td>\n",
              "      <td>0</td>\n",
              "    </tr>\n",
              "    <tr>\n",
              "      <th>17</th>\n",
              "      <td>1</td>\n",
              "      <td>0</td>\n",
              "      <td>0</td>\n",
              "      <td>0</td>\n",
              "      <td>1</td>\n",
              "      <td>0</td>\n",
              "      <td>0</td>\n",
              "      <td>0</td>\n",
              "      <td>0</td>\n",
              "      <td>0</td>\n",
              "    </tr>\n",
              "    <tr>\n",
              "      <th>18</th>\n",
              "      <td>0</td>\n",
              "      <td>1</td>\n",
              "      <td>0</td>\n",
              "      <td>0</td>\n",
              "      <td>1</td>\n",
              "      <td>0</td>\n",
              "      <td>0</td>\n",
              "      <td>0</td>\n",
              "      <td>0</td>\n",
              "      <td>0</td>\n",
              "    </tr>\n",
              "    <tr>\n",
              "      <th>19</th>\n",
              "      <td>1</td>\n",
              "      <td>1</td>\n",
              "      <td>0</td>\n",
              "      <td>0</td>\n",
              "      <td>1</td>\n",
              "      <td>0</td>\n",
              "      <td>0</td>\n",
              "      <td>0</td>\n",
              "      <td>0</td>\n",
              "      <td>0</td>\n",
              "    </tr>\n",
              "    <tr>\n",
              "      <th>20</th>\n",
              "      <td>0</td>\n",
              "      <td>0</td>\n",
              "      <td>1</td>\n",
              "      <td>0</td>\n",
              "      <td>1</td>\n",
              "      <td>0</td>\n",
              "      <td>0</td>\n",
              "      <td>0</td>\n",
              "      <td>0</td>\n",
              "      <td>0</td>\n",
              "    </tr>\n",
              "    <tr>\n",
              "      <th>21</th>\n",
              "      <td>1</td>\n",
              "      <td>0</td>\n",
              "      <td>1</td>\n",
              "      <td>0</td>\n",
              "      <td>1</td>\n",
              "      <td>0</td>\n",
              "      <td>0</td>\n",
              "      <td>0</td>\n",
              "      <td>0</td>\n",
              "      <td>0</td>\n",
              "    </tr>\n",
              "    <tr>\n",
              "      <th>22</th>\n",
              "      <td>0</td>\n",
              "      <td>1</td>\n",
              "      <td>1</td>\n",
              "      <td>0</td>\n",
              "      <td>1</td>\n",
              "      <td>0</td>\n",
              "      <td>0</td>\n",
              "      <td>0</td>\n",
              "      <td>0</td>\n",
              "      <td>0</td>\n",
              "    </tr>\n",
              "    <tr>\n",
              "      <th>23</th>\n",
              "      <td>1</td>\n",
              "      <td>1</td>\n",
              "      <td>1</td>\n",
              "      <td>0</td>\n",
              "      <td>1</td>\n",
              "      <td>0</td>\n",
              "      <td>0</td>\n",
              "      <td>0</td>\n",
              "      <td>0</td>\n",
              "      <td>0</td>\n",
              "    </tr>\n",
              "    <tr>\n",
              "      <th>24</th>\n",
              "      <td>0</td>\n",
              "      <td>0</td>\n",
              "      <td>0</td>\n",
              "      <td>1</td>\n",
              "      <td>1</td>\n",
              "      <td>0</td>\n",
              "      <td>0</td>\n",
              "      <td>0</td>\n",
              "      <td>0</td>\n",
              "      <td>0</td>\n",
              "    </tr>\n",
              "    <tr>\n",
              "      <th>25</th>\n",
              "      <td>1</td>\n",
              "      <td>0</td>\n",
              "      <td>0</td>\n",
              "      <td>1</td>\n",
              "      <td>1</td>\n",
              "      <td>0</td>\n",
              "      <td>0</td>\n",
              "      <td>0</td>\n",
              "      <td>0</td>\n",
              "      <td>0</td>\n",
              "    </tr>\n",
              "    <tr>\n",
              "      <th>26</th>\n",
              "      <td>0</td>\n",
              "      <td>1</td>\n",
              "      <td>0</td>\n",
              "      <td>1</td>\n",
              "      <td>1</td>\n",
              "      <td>0</td>\n",
              "      <td>0</td>\n",
              "      <td>0</td>\n",
              "      <td>0</td>\n",
              "      <td>0</td>\n",
              "    </tr>\n",
              "    <tr>\n",
              "      <th>27</th>\n",
              "      <td>1</td>\n",
              "      <td>1</td>\n",
              "      <td>0</td>\n",
              "      <td>1</td>\n",
              "      <td>1</td>\n",
              "      <td>0</td>\n",
              "      <td>0</td>\n",
              "      <td>0</td>\n",
              "      <td>0</td>\n",
              "      <td>0</td>\n",
              "    </tr>\n",
              "    <tr>\n",
              "      <th>28</th>\n",
              "      <td>0</td>\n",
              "      <td>0</td>\n",
              "      <td>1</td>\n",
              "      <td>1</td>\n",
              "      <td>1</td>\n",
              "      <td>0</td>\n",
              "      <td>0</td>\n",
              "      <td>0</td>\n",
              "      <td>0</td>\n",
              "      <td>0</td>\n",
              "    </tr>\n",
              "    <tr>\n",
              "      <th>29</th>\n",
              "      <td>1</td>\n",
              "      <td>0</td>\n",
              "      <td>1</td>\n",
              "      <td>1</td>\n",
              "      <td>1</td>\n",
              "      <td>0</td>\n",
              "      <td>0</td>\n",
              "      <td>0</td>\n",
              "      <td>0</td>\n",
              "      <td>0</td>\n",
              "    </tr>\n",
              "    <tr>\n",
              "      <th>...</th>\n",
              "      <td>...</td>\n",
              "      <td>...</td>\n",
              "      <td>...</td>\n",
              "      <td>...</td>\n",
              "      <td>...</td>\n",
              "      <td>...</td>\n",
              "      <td>...</td>\n",
              "      <td>...</td>\n",
              "      <td>...</td>\n",
              "      <td>...</td>\n",
              "    </tr>\n",
              "    <tr>\n",
              "      <th>994</th>\n",
              "      <td>0</td>\n",
              "      <td>1</td>\n",
              "      <td>0</td>\n",
              "      <td>0</td>\n",
              "      <td>0</td>\n",
              "      <td>1</td>\n",
              "      <td>1</td>\n",
              "      <td>1</td>\n",
              "      <td>1</td>\n",
              "      <td>1</td>\n",
              "    </tr>\n",
              "    <tr>\n",
              "      <th>995</th>\n",
              "      <td>1</td>\n",
              "      <td>1</td>\n",
              "      <td>0</td>\n",
              "      <td>0</td>\n",
              "      <td>0</td>\n",
              "      <td>1</td>\n",
              "      <td>1</td>\n",
              "      <td>1</td>\n",
              "      <td>1</td>\n",
              "      <td>1</td>\n",
              "    </tr>\n",
              "    <tr>\n",
              "      <th>996</th>\n",
              "      <td>0</td>\n",
              "      <td>0</td>\n",
              "      <td>1</td>\n",
              "      <td>0</td>\n",
              "      <td>0</td>\n",
              "      <td>1</td>\n",
              "      <td>1</td>\n",
              "      <td>1</td>\n",
              "      <td>1</td>\n",
              "      <td>1</td>\n",
              "    </tr>\n",
              "    <tr>\n",
              "      <th>997</th>\n",
              "      <td>1</td>\n",
              "      <td>0</td>\n",
              "      <td>1</td>\n",
              "      <td>0</td>\n",
              "      <td>0</td>\n",
              "      <td>1</td>\n",
              "      <td>1</td>\n",
              "      <td>1</td>\n",
              "      <td>1</td>\n",
              "      <td>1</td>\n",
              "    </tr>\n",
              "    <tr>\n",
              "      <th>998</th>\n",
              "      <td>0</td>\n",
              "      <td>1</td>\n",
              "      <td>1</td>\n",
              "      <td>0</td>\n",
              "      <td>0</td>\n",
              "      <td>1</td>\n",
              "      <td>1</td>\n",
              "      <td>1</td>\n",
              "      <td>1</td>\n",
              "      <td>1</td>\n",
              "    </tr>\n",
              "    <tr>\n",
              "      <th>999</th>\n",
              "      <td>1</td>\n",
              "      <td>1</td>\n",
              "      <td>1</td>\n",
              "      <td>0</td>\n",
              "      <td>0</td>\n",
              "      <td>1</td>\n",
              "      <td>1</td>\n",
              "      <td>1</td>\n",
              "      <td>1</td>\n",
              "      <td>1</td>\n",
              "    </tr>\n",
              "    <tr>\n",
              "      <th>1000</th>\n",
              "      <td>0</td>\n",
              "      <td>0</td>\n",
              "      <td>0</td>\n",
              "      <td>1</td>\n",
              "      <td>0</td>\n",
              "      <td>1</td>\n",
              "      <td>1</td>\n",
              "      <td>1</td>\n",
              "      <td>1</td>\n",
              "      <td>1</td>\n",
              "    </tr>\n",
              "    <tr>\n",
              "      <th>1001</th>\n",
              "      <td>1</td>\n",
              "      <td>0</td>\n",
              "      <td>0</td>\n",
              "      <td>1</td>\n",
              "      <td>0</td>\n",
              "      <td>1</td>\n",
              "      <td>1</td>\n",
              "      <td>1</td>\n",
              "      <td>1</td>\n",
              "      <td>1</td>\n",
              "    </tr>\n",
              "    <tr>\n",
              "      <th>1002</th>\n",
              "      <td>0</td>\n",
              "      <td>1</td>\n",
              "      <td>0</td>\n",
              "      <td>1</td>\n",
              "      <td>0</td>\n",
              "      <td>1</td>\n",
              "      <td>1</td>\n",
              "      <td>1</td>\n",
              "      <td>1</td>\n",
              "      <td>1</td>\n",
              "    </tr>\n",
              "    <tr>\n",
              "      <th>1003</th>\n",
              "      <td>1</td>\n",
              "      <td>1</td>\n",
              "      <td>0</td>\n",
              "      <td>1</td>\n",
              "      <td>0</td>\n",
              "      <td>1</td>\n",
              "      <td>1</td>\n",
              "      <td>1</td>\n",
              "      <td>1</td>\n",
              "      <td>1</td>\n",
              "    </tr>\n",
              "    <tr>\n",
              "      <th>1004</th>\n",
              "      <td>0</td>\n",
              "      <td>0</td>\n",
              "      <td>1</td>\n",
              "      <td>1</td>\n",
              "      <td>0</td>\n",
              "      <td>1</td>\n",
              "      <td>1</td>\n",
              "      <td>1</td>\n",
              "      <td>1</td>\n",
              "      <td>1</td>\n",
              "    </tr>\n",
              "    <tr>\n",
              "      <th>1005</th>\n",
              "      <td>1</td>\n",
              "      <td>0</td>\n",
              "      <td>1</td>\n",
              "      <td>1</td>\n",
              "      <td>0</td>\n",
              "      <td>1</td>\n",
              "      <td>1</td>\n",
              "      <td>1</td>\n",
              "      <td>1</td>\n",
              "      <td>1</td>\n",
              "    </tr>\n",
              "    <tr>\n",
              "      <th>1006</th>\n",
              "      <td>0</td>\n",
              "      <td>1</td>\n",
              "      <td>1</td>\n",
              "      <td>1</td>\n",
              "      <td>0</td>\n",
              "      <td>1</td>\n",
              "      <td>1</td>\n",
              "      <td>1</td>\n",
              "      <td>1</td>\n",
              "      <td>1</td>\n",
              "    </tr>\n",
              "    <tr>\n",
              "      <th>1007</th>\n",
              "      <td>1</td>\n",
              "      <td>1</td>\n",
              "      <td>1</td>\n",
              "      <td>1</td>\n",
              "      <td>0</td>\n",
              "      <td>1</td>\n",
              "      <td>1</td>\n",
              "      <td>1</td>\n",
              "      <td>1</td>\n",
              "      <td>1</td>\n",
              "    </tr>\n",
              "    <tr>\n",
              "      <th>1008</th>\n",
              "      <td>0</td>\n",
              "      <td>0</td>\n",
              "      <td>0</td>\n",
              "      <td>0</td>\n",
              "      <td>1</td>\n",
              "      <td>1</td>\n",
              "      <td>1</td>\n",
              "      <td>1</td>\n",
              "      <td>1</td>\n",
              "      <td>1</td>\n",
              "    </tr>\n",
              "    <tr>\n",
              "      <th>1009</th>\n",
              "      <td>1</td>\n",
              "      <td>0</td>\n",
              "      <td>0</td>\n",
              "      <td>0</td>\n",
              "      <td>1</td>\n",
              "      <td>1</td>\n",
              "      <td>1</td>\n",
              "      <td>1</td>\n",
              "      <td>1</td>\n",
              "      <td>1</td>\n",
              "    </tr>\n",
              "    <tr>\n",
              "      <th>1010</th>\n",
              "      <td>0</td>\n",
              "      <td>1</td>\n",
              "      <td>0</td>\n",
              "      <td>0</td>\n",
              "      <td>1</td>\n",
              "      <td>1</td>\n",
              "      <td>1</td>\n",
              "      <td>1</td>\n",
              "      <td>1</td>\n",
              "      <td>1</td>\n",
              "    </tr>\n",
              "    <tr>\n",
              "      <th>1011</th>\n",
              "      <td>1</td>\n",
              "      <td>1</td>\n",
              "      <td>0</td>\n",
              "      <td>0</td>\n",
              "      <td>1</td>\n",
              "      <td>1</td>\n",
              "      <td>1</td>\n",
              "      <td>1</td>\n",
              "      <td>1</td>\n",
              "      <td>1</td>\n",
              "    </tr>\n",
              "    <tr>\n",
              "      <th>1012</th>\n",
              "      <td>0</td>\n",
              "      <td>0</td>\n",
              "      <td>1</td>\n",
              "      <td>0</td>\n",
              "      <td>1</td>\n",
              "      <td>1</td>\n",
              "      <td>1</td>\n",
              "      <td>1</td>\n",
              "      <td>1</td>\n",
              "      <td>1</td>\n",
              "    </tr>\n",
              "    <tr>\n",
              "      <th>1013</th>\n",
              "      <td>1</td>\n",
              "      <td>0</td>\n",
              "      <td>1</td>\n",
              "      <td>0</td>\n",
              "      <td>1</td>\n",
              "      <td>1</td>\n",
              "      <td>1</td>\n",
              "      <td>1</td>\n",
              "      <td>1</td>\n",
              "      <td>1</td>\n",
              "    </tr>\n",
              "    <tr>\n",
              "      <th>1014</th>\n",
              "      <td>0</td>\n",
              "      <td>1</td>\n",
              "      <td>1</td>\n",
              "      <td>0</td>\n",
              "      <td>1</td>\n",
              "      <td>1</td>\n",
              "      <td>1</td>\n",
              "      <td>1</td>\n",
              "      <td>1</td>\n",
              "      <td>1</td>\n",
              "    </tr>\n",
              "    <tr>\n",
              "      <th>1015</th>\n",
              "      <td>1</td>\n",
              "      <td>1</td>\n",
              "      <td>1</td>\n",
              "      <td>0</td>\n",
              "      <td>1</td>\n",
              "      <td>1</td>\n",
              "      <td>1</td>\n",
              "      <td>1</td>\n",
              "      <td>1</td>\n",
              "      <td>1</td>\n",
              "    </tr>\n",
              "    <tr>\n",
              "      <th>1016</th>\n",
              "      <td>0</td>\n",
              "      <td>0</td>\n",
              "      <td>0</td>\n",
              "      <td>1</td>\n",
              "      <td>1</td>\n",
              "      <td>1</td>\n",
              "      <td>1</td>\n",
              "      <td>1</td>\n",
              "      <td>1</td>\n",
              "      <td>1</td>\n",
              "    </tr>\n",
              "    <tr>\n",
              "      <th>1017</th>\n",
              "      <td>1</td>\n",
              "      <td>0</td>\n",
              "      <td>0</td>\n",
              "      <td>1</td>\n",
              "      <td>1</td>\n",
              "      <td>1</td>\n",
              "      <td>1</td>\n",
              "      <td>1</td>\n",
              "      <td>1</td>\n",
              "      <td>1</td>\n",
              "    </tr>\n",
              "    <tr>\n",
              "      <th>1018</th>\n",
              "      <td>0</td>\n",
              "      <td>1</td>\n",
              "      <td>0</td>\n",
              "      <td>1</td>\n",
              "      <td>1</td>\n",
              "      <td>1</td>\n",
              "      <td>1</td>\n",
              "      <td>1</td>\n",
              "      <td>1</td>\n",
              "      <td>1</td>\n",
              "    </tr>\n",
              "    <tr>\n",
              "      <th>1019</th>\n",
              "      <td>1</td>\n",
              "      <td>1</td>\n",
              "      <td>0</td>\n",
              "      <td>1</td>\n",
              "      <td>1</td>\n",
              "      <td>1</td>\n",
              "      <td>1</td>\n",
              "      <td>1</td>\n",
              "      <td>1</td>\n",
              "      <td>1</td>\n",
              "    </tr>\n",
              "    <tr>\n",
              "      <th>1020</th>\n",
              "      <td>0</td>\n",
              "      <td>0</td>\n",
              "      <td>1</td>\n",
              "      <td>1</td>\n",
              "      <td>1</td>\n",
              "      <td>1</td>\n",
              "      <td>1</td>\n",
              "      <td>1</td>\n",
              "      <td>1</td>\n",
              "      <td>1</td>\n",
              "    </tr>\n",
              "    <tr>\n",
              "      <th>1021</th>\n",
              "      <td>1</td>\n",
              "      <td>0</td>\n",
              "      <td>1</td>\n",
              "      <td>1</td>\n",
              "      <td>1</td>\n",
              "      <td>1</td>\n",
              "      <td>1</td>\n",
              "      <td>1</td>\n",
              "      <td>1</td>\n",
              "      <td>1</td>\n",
              "    </tr>\n",
              "    <tr>\n",
              "      <th>1022</th>\n",
              "      <td>0</td>\n",
              "      <td>1</td>\n",
              "      <td>1</td>\n",
              "      <td>1</td>\n",
              "      <td>1</td>\n",
              "      <td>1</td>\n",
              "      <td>1</td>\n",
              "      <td>1</td>\n",
              "      <td>1</td>\n",
              "      <td>1</td>\n",
              "    </tr>\n",
              "    <tr>\n",
              "      <th>1023</th>\n",
              "      <td>1</td>\n",
              "      <td>1</td>\n",
              "      <td>1</td>\n",
              "      <td>1</td>\n",
              "      <td>1</td>\n",
              "      <td>1</td>\n",
              "      <td>1</td>\n",
              "      <td>1</td>\n",
              "      <td>1</td>\n",
              "      <td>1</td>\n",
              "    </tr>\n",
              "  </tbody>\n",
              "</table>\n",
              "<p>1024 rows × 10 columns</p>\n",
              "</div>"
            ],
            "text/plain": [
              "      file 10  file 9  file 8  file 7  ...  file 4  file 3  file 2  file 1\n",
              "0           0       0       0       0  ...       0       0       0       0\n",
              "1           1       0       0       0  ...       0       0       0       0\n",
              "2           0       1       0       0  ...       0       0       0       0\n",
              "3           1       1       0       0  ...       0       0       0       0\n",
              "4           0       0       1       0  ...       0       0       0       0\n",
              "5           1       0       1       0  ...       0       0       0       0\n",
              "6           0       1       1       0  ...       0       0       0       0\n",
              "7           1       1       1       0  ...       0       0       0       0\n",
              "8           0       0       0       1  ...       0       0       0       0\n",
              "9           1       0       0       1  ...       0       0       0       0\n",
              "10          0       1       0       1  ...       0       0       0       0\n",
              "11          1       1       0       1  ...       0       0       0       0\n",
              "12          0       0       1       1  ...       0       0       0       0\n",
              "13          1       0       1       1  ...       0       0       0       0\n",
              "14          0       1       1       1  ...       0       0       0       0\n",
              "15          1       1       1       1  ...       0       0       0       0\n",
              "16          0       0       0       0  ...       0       0       0       0\n",
              "17          1       0       0       0  ...       0       0       0       0\n",
              "18          0       1       0       0  ...       0       0       0       0\n",
              "19          1       1       0       0  ...       0       0       0       0\n",
              "20          0       0       1       0  ...       0       0       0       0\n",
              "21          1       0       1       0  ...       0       0       0       0\n",
              "22          0       1       1       0  ...       0       0       0       0\n",
              "23          1       1       1       0  ...       0       0       0       0\n",
              "24          0       0       0       1  ...       0       0       0       0\n",
              "25          1       0       0       1  ...       0       0       0       0\n",
              "26          0       1       0       1  ...       0       0       0       0\n",
              "27          1       1       0       1  ...       0       0       0       0\n",
              "28          0       0       1       1  ...       0       0       0       0\n",
              "29          1       0       1       1  ...       0       0       0       0\n",
              "...       ...     ...     ...     ...  ...     ...     ...     ...     ...\n",
              "994         0       1       0       0  ...       1       1       1       1\n",
              "995         1       1       0       0  ...       1       1       1       1\n",
              "996         0       0       1       0  ...       1       1       1       1\n",
              "997         1       0       1       0  ...       1       1       1       1\n",
              "998         0       1       1       0  ...       1       1       1       1\n",
              "999         1       1       1       0  ...       1       1       1       1\n",
              "1000        0       0       0       1  ...       1       1       1       1\n",
              "1001        1       0       0       1  ...       1       1       1       1\n",
              "1002        0       1       0       1  ...       1       1       1       1\n",
              "1003        1       1       0       1  ...       1       1       1       1\n",
              "1004        0       0       1       1  ...       1       1       1       1\n",
              "1005        1       0       1       1  ...       1       1       1       1\n",
              "1006        0       1       1       1  ...       1       1       1       1\n",
              "1007        1       1       1       1  ...       1       1       1       1\n",
              "1008        0       0       0       0  ...       1       1       1       1\n",
              "1009        1       0       0       0  ...       1       1       1       1\n",
              "1010        0       1       0       0  ...       1       1       1       1\n",
              "1011        1       1       0       0  ...       1       1       1       1\n",
              "1012        0       0       1       0  ...       1       1       1       1\n",
              "1013        1       0       1       0  ...       1       1       1       1\n",
              "1014        0       1       1       0  ...       1       1       1       1\n",
              "1015        1       1       1       0  ...       1       1       1       1\n",
              "1016        0       0       0       1  ...       1       1       1       1\n",
              "1017        1       0       0       1  ...       1       1       1       1\n",
              "1018        0       1       0       1  ...       1       1       1       1\n",
              "1019        1       1       0       1  ...       1       1       1       1\n",
              "1020        0       0       1       1  ...       1       1       1       1\n",
              "1021        1       0       1       1  ...       1       1       1       1\n",
              "1022        0       1       1       1  ...       1       1       1       1\n",
              "1023        1       1       1       1  ...       1       1       1       1\n",
              "\n",
              "[1024 rows x 10 columns]"
            ]
          },
          "metadata": {
            "tags": []
          },
          "execution_count": 140
        }
      ]
    },
    {
      "cell_type": "code",
      "metadata": {
        "id": "OCa8iJUp3cSd",
        "colab_type": "code",
        "colab": {}
      },
      "source": [
        "def details(row):\n",
        "  duration = 0\n",
        "  size = 0\n",
        "  fitness = 0\n",
        "  for i in range(len(row)):\n",
        "    if(row[i] == 1):\n",
        "      size += df.loc[9-i,'size']\n",
        "      duration += df.loc[9-i,'duration']\n",
        "    \n",
        "    if(size<=4500):\n",
        "      fitness += duration\n",
        "    else:\n",
        "      fitness += duration*0.5\n",
        "  \n",
        "  return duration,size,fitness"
      ],
      "execution_count": 0,
      "outputs": []
    },
    {
      "cell_type": "code",
      "metadata": {
        "id": "eXlCOq800KIJ",
        "colab_type": "code",
        "colab": {}
      },
      "source": [
        "final_duration = []\n",
        "final_fitness = []\n",
        "final_size = []\n",
        "for i in range(1024):\n",
        "  \n",
        "  duration,size,fitness = details(values.iloc[i].values)\n",
        "  final_duration.append(duration)\n",
        "  final_size.append(size)\n",
        "  final_fitness.append(fitness) "
      ],
      "execution_count": 0,
      "outputs": []
    },
    {
      "cell_type": "code",
      "metadata": {
        "id": "h4I_jx7TybkG",
        "colab_type": "code",
        "colab": {}
      },
      "source": [
        "nearst = 0\n",
        "index = -1\n",
        "for i in range(1024):\n",
        "  if(final_size[i] > nearst and final_size[i] <=4500):\n",
        "    nearst = final_size[i]\n",
        "    index = i"
      ],
      "execution_count": 0,
      "outputs": []
    },
    {
      "cell_type": "code",
      "metadata": {
        "id": "WBB0iG-G1OPP",
        "colab_type": "code",
        "outputId": "fe8918cb-18a2-4bcc-c84b-672c6208bd9c",
        "colab": {
          "base_uri": "https://localhost:8080/",
          "height": 34
        }
      },
      "source": [
        "final_size[index]"
      ],
      "execution_count": 0,
      "outputs": [
        {
          "output_type": "execute_result",
          "data": {
            "text/plain": [
              "4500"
            ]
          },
          "metadata": {
            "tags": []
          },
          "execution_count": 144
        }
      ]
    },
    {
      "cell_type": "code",
      "metadata": {
        "id": "m_T63a5I2xB6",
        "colab_type": "code",
        "outputId": "911a5cc7-3ccb-4169-9fb7-cff74c0631f8",
        "colab": {
          "base_uri": "https://localhost:8080/",
          "height": 34
        }
      },
      "source": [
        "final_duration[index]"
      ],
      "execution_count": 0,
      "outputs": [
        {
          "output_type": "execute_result",
          "data": {
            "text/plain": [
              "523"
            ]
          },
          "metadata": {
            "tags": []
          },
          "execution_count": 145
        }
      ]
    },
    {
      "cell_type": "code",
      "metadata": {
        "id": "XGPprHor25Wm",
        "colab_type": "code",
        "outputId": "541022b3-4c13-42f3-943d-853a809b23e3",
        "colab": {
          "base_uri": "https://localhost:8080/",
          "height": 34
        }
      },
      "source": [
        "index"
      ],
      "execution_count": 0,
      "outputs": [
        {
          "output_type": "execute_result",
          "data": {
            "text/plain": [
              "361"
            ]
          },
          "metadata": {
            "tags": []
          },
          "execution_count": 146
        }
      ]
    },
    {
      "cell_type": "code",
      "metadata": {
        "id": "c9xYYN9h8mna",
        "colab_type": "code",
        "outputId": "baae3e7a-b991-4b8d-dfa5-ba5cd79bfcf2",
        "colab": {
          "base_uri": "https://localhost:8080/",
          "height": 34
        }
      },
      "source": [
        "final_fitness[index]"
      ],
      "execution_count": 0,
      "outputs": [
        {
          "output_type": "execute_result",
          "data": {
            "text/plain": [
              "3090"
            ]
          },
          "metadata": {
            "tags": []
          },
          "execution_count": 147
        }
      ]
    },
    {
      "cell_type": "code",
      "metadata": {
        "id": "ttaUL0WS6Kux",
        "colab_type": "code",
        "outputId": "8d032542-ea59-4256-d2dd-4f3d7ede45c7",
        "colab": {
          "base_uri": "https://localhost:8080/",
          "height": 204
        }
      },
      "source": [
        "values.iloc[index]"
      ],
      "execution_count": 0,
      "outputs": [
        {
          "output_type": "execute_result",
          "data": {
            "text/plain": [
              "file 10    1\n",
              "file 9     0\n",
              "file 8     0\n",
              "file 7     1\n",
              "file 6     0\n",
              "file 5     1\n",
              "file 4     1\n",
              "file 3     0\n",
              "file 2     1\n",
              "file 1     0\n",
              "Name: 361, dtype: int64"
            ]
          },
          "metadata": {
            "tags": []
          },
          "execution_count": 148
        }
      ]
    },
    {
      "cell_type": "code",
      "metadata": {
        "id": "1dzWWtwP6OSn",
        "colab_type": "code",
        "colab": {}
      },
      "source": [
        ""
      ],
      "execution_count": 0,
      "outputs": []
    },
    {
      "cell_type": "markdown",
      "metadata": {
        "id": "XbQ4-DPC_Eds",
        "colab_type": "text"
      },
      "source": [
        "### **Differential Evolution**"
      ]
    },
    {
      "cell_type": "code",
      "metadata": {
        "id": "4v5sDfKd_HWr",
        "colab_type": "code",
        "colab": {}
      },
      "source": [
        "def mutate():\n",
        "  #Get 4 distinct values\n",
        "  state = True\n",
        "  a = 0\n",
        "  b = 0\n",
        "  c = 0\n",
        "  target_id = 0\n",
        "  scaleFactor = 0.5\n",
        "  while(state):\n",
        "    a = np.random.randint(0,popSize)\n",
        "    b = np.random.randint(0,popSize)\n",
        "    c = np.random.randint(0,popSize)\n",
        "    target_id = np.random.randint(0,popSize)\n",
        "    state = checkDistinct(a,b,c,target_id)\n",
        "    #print(\"a:\" +str(a) +\" b :\"+str(b) +\" c:\" + str(c) +\" target id:\" +str(target_id) )\n",
        "  #Get the respective solution items as arrays\n",
        "  a_item = population.iloc[a,1:].values\n",
        "  b_item = population.iloc[b,1:].values\n",
        "  c_item = population.iloc[c,1:].values\n",
        "  target_item = population.iloc[target_id,1:].values\n",
        "  #Add the weighted difference\n",
        "  for i in range(2):\n",
        "    a_item[i] = a_item[i] + scaleFactor*(b_item[i]-c_item[i])\n",
        "    \n",
        "  return a_item, target_item,target_id"
      ],
      "execution_count": 0,
      "outputs": []
    },
    {
      "cell_type": "code",
      "metadata": {
        "id": "Ij0vnppYBGa-",
        "colab_type": "code",
        "colab": {}
      },
      "source": [
        "def crossover(donor,target):\n",
        "  #crossover rate\n",
        "  CR = 0.1\n",
        "  \n",
        "  #size of the arrays\n",
        "  size = len(donor)\n",
        "  \n",
        "  #trial vector\n",
        "  trial_vector = np.empty([size])\n",
        "  \n",
        "  #create an array with random values\n",
        "  random_array = [random.uniform(0,1) for x in range(size)]\n",
        "  for i in range(size):\n",
        "    if(random_array[i] <=CR or i == random.randint(1,size)):\n",
        "      #replace with donor\n",
        "      trial_vector[i] = donor[i]\n",
        "    else:\n",
        "      #replace with target\n",
        "      trial_vector[i] = target[i]\n",
        "  \n",
        "  return trial_vector"
      ],
      "execution_count": 0,
      "outputs": []
    },
    {
      "cell_type": "code",
      "metadata": {
        "id": "MTIc92SoBKUd",
        "colab_type": "code",
        "colab": {}
      },
      "source": [
        "def checkDistinct(a,b,c,d):\n",
        "  if(a != b != c !=d != a != c and b != d ):\n",
        "    return False\n",
        "  else:\n",
        "    return True"
      ],
      "execution_count": 0,
      "outputs": []
    },
    {
      "cell_type": "code",
      "metadata": {
        "id": "QTkeZjMBBNam",
        "colab_type": "code",
        "colab": {}
      },
      "source": [
        "def selection(trial_vector,target):\n",
        "  fitness_trial,size_trial = getFitness(trial_vector)\n",
        "  fitness_target,size_target = getFitness(trial_vector)\n",
        "  \n",
        "  \n",
        "  if(fitness_trial>fitness_target):\n",
        "    target = trial_vector\n",
        "  else : \n",
        "    target = target\n",
        "  \n",
        "  return target"
      ],
      "execution_count": 0,
      "outputs": []
    },
    {
      "cell_type": "code",
      "metadata": {
        "id": "H4et_MbNBQQm",
        "colab_type": "code",
        "colab": {}
      },
      "source": [
        "def replace_to_population(offspring,target_id):\n",
        "  population.iloc[target_id,1:] = offspring"
      ],
      "execution_count": 0,
      "outputs": []
    },
    {
      "cell_type": "code",
      "metadata": {
        "id": "d4JeqFSUBUfy",
        "colab_type": "code",
        "colab": {}
      },
      "source": [
        "def iterate(n):\n",
        "  #value = ackley_function(solution[0],solution[1])\n",
        "  for i in range(n):\n",
        "    donor, target,target_id = mutate()\n",
        "    trial_vector = crossover(donor,target)\n",
        "    offspring = selection(trial_vector,target)\n",
        "    replace_to_population(offspring,target_id)"
      ],
      "execution_count": 0,
      "outputs": []
    },
    {
      "cell_type": "code",
      "metadata": {
        "id": "yuYxCX6CK8Yw",
        "colab_type": "code",
        "colab": {}
      },
      "source": [
        "def details2(row):\n",
        "  duration = 0\n",
        "  size = 0\n",
        "  fitness = 0\n",
        "  for i in range(len(row)):\n",
        "    if(row[i] == 1):\n",
        "      size += df.loc[i,'size']\n",
        "      duration += df.loc[i,'duration']\n",
        "    \n",
        "    if(size<=4500):\n",
        "      fitness += duration\n",
        "    else:\n",
        "      fitness += duration*0.5\n",
        "  \n",
        "  return duration,size,fitness"
      ],
      "execution_count": 0,
      "outputs": []
    },
    {
      "cell_type": "code",
      "metadata": {
        "id": "AUxCaqBt_q9k",
        "colab_type": "code",
        "colab": {}
      },
      "source": [
        "popSize = 50\n",
        "population = createInitPop(popSize)"
      ],
      "execution_count": 0,
      "outputs": []
    },
    {
      "cell_type": "code",
      "metadata": {
        "id": "3vMEcpBIBawr",
        "colab_type": "code",
        "colab": {}
      },
      "source": [
        "iterations = 100\n",
        "iterate(100)"
      ],
      "execution_count": 0,
      "outputs": []
    },
    {
      "cell_type": "code",
      "metadata": {
        "id": "nRcRCeWvKawF",
        "colab_type": "code",
        "colab": {}
      },
      "source": [
        ""
      ],
      "execution_count": 0,
      "outputs": []
    },
    {
      "cell_type": "code",
      "metadata": {
        "id": "dvQTXM1HBcUc",
        "colab_type": "code",
        "colab": {}
      },
      "source": [
        "finalDuration = []\n",
        "finalFitness = []\n",
        "finalSize = []\n",
        "#Get Fitness and Size information for the Last Population\n",
        "for i in range(popSize):\n",
        "  duration,size,fitness = details2(population.iloc[i,1:].values)\n",
        "  finalDuration.append(duration)\n",
        "  finalFitness.append(fitness)\n",
        "  finalSize.append(size)"
      ],
      "execution_count": 0,
      "outputs": []
    },
    {
      "cell_type": "code",
      "metadata": {
        "id": "yBBu8t91DGnF",
        "colab_type": "code",
        "colab": {}
      },
      "source": [
        "# nearst = 0\n",
        "# index = -1\n",
        "# for i in range(popSize):\n",
        "#   if(finalFitness[i] > nearst and finalSize[i] <=4500):\n",
        "#     nearst = final_size[i]\n",
        "#     index = i"
      ],
      "execution_count": 0,
      "outputs": []
    },
    {
      "cell_type": "code",
      "metadata": {
        "id": "McmqkVFHJaOQ",
        "colab_type": "code",
        "colab": {
          "base_uri": "https://localhost:8080/",
          "height": 34
        },
        "outputId": "bf595eab-1683-40be-b80d-8f20e391047e"
      },
      "source": [
        "id = finalFitness.index(max(finalFitness))\n",
        "finalFitness[id]"
      ],
      "execution_count": 160,
      "outputs": [
        {
          "output_type": "execute_result",
          "data": {
            "text/plain": [
              "3678"
            ]
          },
          "metadata": {
            "tags": []
          },
          "execution_count": 160
        }
      ]
    },
    {
      "cell_type": "code",
      "metadata": {
        "id": "JHDsez3zJjc0",
        "colab_type": "code",
        "colab": {
          "base_uri": "https://localhost:8080/",
          "height": 34
        },
        "outputId": "a8a86489-58cf-4f2a-e526-067c8cc7c65f"
      },
      "source": [
        "finalSize[id]"
      ],
      "execution_count": 161,
      "outputs": [
        {
          "output_type": "execute_result",
          "data": {
            "text/plain": [
              "3950"
            ]
          },
          "metadata": {
            "tags": []
          },
          "execution_count": 161
        }
      ]
    },
    {
      "cell_type": "code",
      "metadata": {
        "id": "51BpFkk_KtV_",
        "colab_type": "code",
        "colab": {
          "base_uri": "https://localhost:8080/",
          "height": 34
        },
        "outputId": "d7e26737-1f85-4c5e-8b1f-86b0f7d0a158"
      },
      "source": [
        "finalDuration[id]"
      ],
      "execution_count": 162,
      "outputs": [
        {
          "output_type": "execute_result",
          "data": {
            "text/plain": [
              "549"
            ]
          },
          "metadata": {
            "tags": []
          },
          "execution_count": 162
        }
      ]
    },
    {
      "cell_type": "code",
      "metadata": {
        "id": "sjpx9UGUFGry",
        "colab_type": "code",
        "colab": {
          "base_uri": "https://localhost:8080/",
          "height": 286
        },
        "outputId": "cae26cac-166e-4f13-90b6-037809b2952d"
      },
      "source": [
        "plt.plot([x for x in range(popSize)],finalFitness)"
      ],
      "execution_count": 165,
      "outputs": [
        {
          "output_type": "execute_result",
          "data": {
            "text/plain": [
              "[<matplotlib.lines.Line2D at 0x7fd22e0590f0>]"
            ]
          },
          "metadata": {
            "tags": []
          },
          "execution_count": 165
        },
        {
          "output_type": "display_data",
          "data": {
            "image/png": "[encoded data removed]",
            "text/plain": [
              "<Figure size 432x288 with 1 Axes>"
            ]
          },
          "metadata": {
            "tags": []
          }
        }
      ]
    },
    {
      "cell_type": "code",
      "metadata": {
        "id": "8RDsWF350ez1",
        "colab_type": "code",
        "colab": {
          "base_uri": "https://localhost:8080/",
          "height": 286
        },
        "outputId": "74af4528-ff21-4716-9ba2-c4302248666b"
      },
      "source": [
        "plt.plot([x for x in range(popSize)],finalDuration)"
      ],
      "execution_count": 166,
      "outputs": [
        {
          "output_type": "execute_result",
          "data": {
            "text/plain": [
              "[<matplotlib.lines.Line2D at 0x7fd22dfb23c8>]"
            ]
          },
          "metadata": {
            "tags": []
          },
          "execution_count": 166
        },
        {
          "output_type": "display_data",
          "data": {
            "image/png": "[encoded data removed]",
            "text/plain": [
              "<Figure size 432x288 with 1 Axes>"
            ]
          },
          "metadata": {
            "tags": []
          }
        }
      ]
    },
    {
      "cell_type": "code",
      "metadata": {
        "id": "yGV16JYF0zpQ",
        "colab_type": "code",
        "colab": {
          "base_uri": "https://localhost:8080/",
          "height": 286
        },
        "outputId": "50db97da-e705-47e9-93fe-777d01462cd9"
      },
      "source": [
        "plt.plot([x for x in range(popSize)],finalSize)\n",
        "plt.plot([x for x in range(popSize)],[4500 for x in range(popSize)])\n",
        "\n"
      ],
      "execution_count": 167,
      "outputs": [
        {
          "output_type": "execute_result",
          "data": {
            "text/plain": [
              "[<matplotlib.lines.Line2D at 0x7fd22dfc95f8>]"
            ]
          },
          "metadata": {
            "tags": []
          },
          "execution_count": 167
        },
        {
          "output_type": "display_data",
          "data": {
            "image/png": "[encoded data removed]",
            "text/plain": [
              "<Figure size 432x288 with 1 Axes>"
            ]
          },
          "metadata": {
            "tags": []
          }
        }
      ]
    },
    {
      "cell_type": "code",
      "metadata": {
        "id": "rD-uOGRj04hh",
        "colab_type": "code",
        "colab": {}
      },
      "source": [
        ""
      ],
      "execution_count": 0,
      "outputs": []
    }
  ]
}