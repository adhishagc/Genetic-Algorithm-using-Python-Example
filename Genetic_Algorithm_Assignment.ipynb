{
  "nbformat": 4,
  "nbformat_minor": 0,
  "metadata": {
    "colab": {
      "name": "Genetic Algorithm Assignment.ipynb",
      "version": "0.3.2",
      "provenance": [],
      "collapsed_sections": []
    },
    "kernelspec": {
      "name": "python3",
      "display_name": "Python 3"
    }
  },
  "cells": [
    {
      "cell_type": "code",
      "metadata": {
        "id": "-eurb3QNqpfi",
        "colab_type": "code",
        "colab": {}
      },
      "source": [
        "#importing libraries\n",
        "import pandas as pd\n",
        "import numpy as np\n",
        "import random as random"
      ],
      "execution_count": 0,
      "outputs": []
    },
    {
      "cell_type": "code",
      "metadata": {
        "id": "XbdYNXe5rWwX",
        "colab_type": "code",
        "colab": {
          "base_uri": "https://localhost:8080/",
          "height": 122
        },
        "outputId": "b9d4fd5d-d8b4-4ed1-bc50-c102b78e9cf1"
      },
      "source": [
        "#access to google drive\n",
        "from google.colab import drive\n",
        "drive.mount('/content/gdrive')"
      ],
      "execution_count": 11,
      "outputs": [
        {
          "output_type": "stream",
          "text": [
            "Go to this URL in a browser: https://accounts.google.com/o/oauth2/auth?client_id=947318989803-6bn6qk8qdgf4n4g3pfee6491hc0brc4i.apps.googleusercontent.com&redirect_uri=urn%3Aietf%3Awg%3Aoauth%3A2.0%3Aoob&scope=email%20https%3A%2F%2Fwww.googleapis.com%2Fauth%2Fdocs.test%20https%3A%2F%2Fwww.googleapis.com%2Fauth%2Fdrive%20https%3A%2F%2Fwww.googleapis.com%2Fauth%2Fdrive.photos.readonly%20https%3A%2F%2Fwww.googleapis.com%2Fauth%2Fpeopleapi.readonly&response_type=code\n",
            "\n",
            "Enter your authorization code:\n",
            "··········\n",
            "Mounted at /content/gdrive\n"
          ],
          "name": "stdout"
        }
      ]
    },
    {
      "cell_type": "code",
      "metadata": {
        "id": "2x9m61XNt9iD",
        "colab_type": "code",
        "colab": {}
      },
      "source": [
        "#load dataset to a dataframe\n",
        "df = pd.read_csv('/content/gdrive/My Drive/Genetic Algorithms/Assignment 01/dataset.csv')"
      ],
      "execution_count": 0,
      "outputs": []
    },
    {
      "cell_type": "code",
      "metadata": {
        "id": "JKhFpNlW6UCH",
        "colab_type": "code",
        "colab": {}
      },
      "source": [
        "#population = pd.DataFrame()\n",
        "# function for init population\n",
        "def createInitPop(popSize):\n",
        "  chrom = [i for i in range(1,popSize+1)]\n",
        "  #emp = [0 for i in range(0,popSize)]\n",
        "  values ={\n",
        "    'chromosome':chrom,\n",
        "    'file 1':[random.randint(0, 1) for _ in range(popSize)],\n",
        "    'file 2':[random.randint(0, 1) for _ in range(popSize)],\n",
        "    'file 3':[random.randint(0, 1) for _ in range(popSize)],\n",
        "    'file 4':[random.randint(0, 1) for _ in range(popSize)],\n",
        "    'file 5':[random.randint(0, 1) for _ in range(popSize)],\n",
        "    'file 6':[random.randint(0, 1) for _ in range(popSize)],\n",
        "    'file 7':[random.randint(0, 1) for _ in range(popSize)],\n",
        "    'file 8':[random.randint(0, 1) for _ in range(popSize)],\n",
        "    'file 9':[random.randint(0, 1) for _ in range(popSize)],\n",
        "    'file 10':[random.randint(0, 1) for _ in range(popSize)],\n",
        "  }\n",
        "  return values  "
      ],
      "execution_count": 0,
      "outputs": []
    },
    {
      "cell_type": "code",
      "metadata": {
        "id": "aLZeRrRsX5UC",
        "colab_type": "code",
        "colab": {}
      },
      "source": [
        "#Evaluate Fitness Function\n",
        "def EvaluateFitness(chromosome,df,popSize):\n",
        "  #fitness array\n",
        "  fitness = {\n",
        "      'chromosome':[x for x in range(1,popSize+1)],\n",
        "      'fitness':[x for x in range(0,popSize)]\n",
        "  }\n",
        "\n",
        "  #convert to dataframe\n",
        "  fitness = pd.DataFrame(fitness)\n",
        "\n",
        "  #total file size\n",
        "  totFileSize =[]\n",
        "\n",
        "  #total file size and duration\n",
        "  size=0\n",
        "  duration=0\n",
        "\n",
        "  #shape of the chromosome / population dataframe\n",
        "  rows,col = chromosome.shape\n",
        "  \n",
        "  for i in range(rows):\n",
        "    for j in range(1,11):\n",
        "      if(chromosome.iloc[i,j] ==1):\n",
        "        size += df.iloc[j-1,1]\n",
        "        duration +=df.iloc[j-1,2]\n",
        "    \n",
        "    if(size<=4500):\n",
        "      #fine\n",
        "      fitness.loc[i,'fitness'] = duration\n",
        "      totFileSize.append(size)\n",
        "    else:\n",
        "      fitness.loc[i,'fitness'] = duration*0.5\n",
        "      totFileSize.append(size)\n",
        "\n",
        "  return fitness, totFileSize      "
      ],
      "execution_count": 0,
      "outputs": []
    },
    {
      "cell_type": "code",
      "metadata": {
        "id": "rHnFx9w2g8wL",
        "colab_type": "code",
        "colab": {}
      },
      "source": [
        "#Rank Selection Function\n",
        "def rankSelection(chromosome,fitness,popSize):\n",
        "  \n",
        "  rankTotal = sum(x for x in range(0,popSize))\n",
        "  totRandom = rankTotal*random.uniform(0,1) #CREEPY Something is here\n",
        "  tot=0\n",
        "  fitness_sorted = fitness.sort_values(by=['fitness'])\n",
        "  for i in fitness_sorted.index:\n",
        "    tot += fitness_sorted.loc[i,'fitness']\n",
        "    if(tot>=totRandom):\n",
        "      global fifo_index\n",
        "      fifo_index = i\n",
        "      return chromosome.loc[i,:]\n",
        " "
      ],
      "execution_count": 0,
      "outputs": []
    },
    {
      "cell_type": "code",
      "metadata": {
        "id": "xDth-oznmi0J",
        "colab_type": "code",
        "colab": {}
      },
      "source": [
        "#crossover function\n",
        "def doCrossoverMutate(chromosome,fitness,popSize):\n",
        "  parent1 = rankSelection(chromosome,fitness,popSize)\n",
        "  parent2 = rankSelection(chromosome,fitness,popSize)\n",
        "  \n",
        "  #random crossover point\n",
        "  crossPoint = random.randint(1,10)\n",
        "  \n",
        "  c1p1 = parent1[1:crossPoint]\n",
        "  c1p2 = parent1[crossPoint:11]\n",
        "  \n",
        "  child =c1p1.append(c1p2)\n",
        "  \n",
        "  child = bitflip(child)\n",
        "  return child"
      ],
      "execution_count": 0,
      "outputs": []
    },
    {
      "cell_type": "code",
      "metadata": {
        "id": "nnNbniZ-LbQi",
        "colab_type": "code",
        "colab": {}
      },
      "source": [
        "def bitflip(child):\n",
        "  #generate random bit array\n",
        "  bits = [random.uniform(0,1) for _ in range(10)]\n",
        "  \n",
        "  for i in range(10):\n",
        "    if(bits[i]<0.1):\n",
        "      if(child[i] == 0):\n",
        "        child[i] = 1\n",
        "      else:\n",
        "        child[i] = 0\n",
        "  \n",
        "  return child\n",
        "      "
      ],
      "execution_count": 0,
      "outputs": []
    },
    {
      "cell_type": "code",
      "metadata": {
        "id": "A7RbOz8pQZhZ",
        "colab_type": "code",
        "colab": {}
      },
      "source": [
        "def replace_with_offspring(fifo_index,offSpring):\n",
        "  chromosome.iloc[fifo_index,1:] = offSpring.values\n",
        "  "
      ],
      "execution_count": 0,
      "outputs": []
    },
    {
      "cell_type": "code",
      "metadata": {
        "id": "slw5Q3PfSaUe",
        "colab_type": "code",
        "colab": {}
      },
      "source": [
        "def trainModel(n):\n",
        "  for i in range(n):  \n",
        "    #creation of population of Chromosomes\n",
        "    chromosome = pd.DataFrame(createInitPop(popSize))\n",
        "    fitness, totFileSize = EvaluateFitness(chromosome,df,popSize)\n",
        "    offSpring = doCrossoverMutate(chromosome,fitness,popSize)\n",
        "    replace_with_offspring(fifo_index,offSpring)\n",
        "    return chromosome.iloc[fifo_index,1:]"
      ],
      "execution_count": 0,
      "outputs": []
    },
    {
      "cell_type": "code",
      "metadata": {
        "id": "C3sAEJ26EO3X",
        "colab_type": "code",
        "colab": {}
      },
      "source": [
        "#initialize\n",
        "popSize = 50 #population size\n",
        "fifo_index = -1\n",
        "\n",
        "#iterate model\n",
        "values = trainModel(500)\n"
      ],
      "execution_count": 0,
      "outputs": []
    },
    {
      "cell_type": "code",
      "metadata": {
        "id": "rjvigpvBRNo7",
        "colab_type": "code",
        "colab": {
          "base_uri": "https://localhost:8080/",
          "height": 204
        },
        "outputId": "f09e0c6c-2e64-4ef7-d153-03240ac39d6c"
      },
      "source": [
        "values"
      ],
      "execution_count": 204,
      "outputs": [
        {
          "output_type": "execute_result",
          "data": {
            "text/plain": [
              "file 1     1\n",
              "file 2     1\n",
              "file 3     1\n",
              "file 4     0\n",
              "file 5     0\n",
              "file 6     0\n",
              "file 7     1\n",
              "file 8     1\n",
              "file 9     0\n",
              "file 10    1\n",
              "Name: 0, dtype: int64"
            ]
          },
          "metadata": {
            "tags": []
          },
          "execution_count": 204
        }
      ]
    },
    {
      "cell_type": "code",
      "metadata": {
        "id": "bHzcURgnR51g",
        "colab_type": "code",
        "colab": {}
      },
      "source": [
        ""
      ],
      "execution_count": 0,
      "outputs": []
    }
  ]
}