{
  "nbformat": 4,
  "nbformat_minor": 0,
  "metadata": {
    "colab": {
      "name": "Genetic Algorithm Assignment.ipynb",
      "version": "0.3.2",
      "provenance": [],
      "collapsed_sections": [
        "BEFLTAgH9Jxo",
        "7JEmrYDp_IZo",
        "o45jFGcl_Rq_",
        "KDNuThva_Wj-",
        "NrydFJLYZ8TN",
        "rYDi-eCZ_hVG",
        "ZtPy1zlX_dY_",
        "ZZbApi5tApCR"
      ],
      "include_colab_link": true
    },
    "kernelspec": {
      "name": "python3",
      "display_name": "Python 3"
    }
  },
  "cells": [
    {
      "cell_type": "markdown",
      "metadata": {
        "id": "view-in-github",
        "colab_type": "text"
      },
      "source": [
        "<a href=\"https://colab.research.google.com/github/adhishagc/Genetic-Algorithm-using-Python-Example/blob/master/Genetic_Algorithm_Assignment.ipynb\" target=\"_parent\"><img src=\"https://colab.research.google.com/assets/colab-badge.svg\" alt=\"Open In Colab\"/></a>"
      ]
    },
    {
      "cell_type": "markdown",
      "metadata": {
        "id": "Tzl3sKqNjh0H",
        "colab_type": "text"
      },
      "source": [
        "## **Table of Contents**\n",
        "\n",
        "---\n",
        "\n",
        "\n",
        "1.   **Importing Libraries**\n",
        "2.   **Access to Google Drive**\n",
        "3.**Function Definitions**\n",
        "4. **Running the Model**\n",
        "\n",
        "\n",
        "\n"
      ]
    },
    {
      "cell_type": "markdown",
      "metadata": {
        "id": "BEFLTAgH9Jxo",
        "colab_type": "text"
      },
      "source": [
        "### **Initialization**\n",
        "\n",
        "\n",
        "1.   Import of Libraries\n",
        "2.   Access to Google Drive\n",
        "3. Load the Dataset\n",
        "4. View the Dataset as a Dataframe\n",
        "\n"
      ]
    },
    {
      "cell_type": "code",
      "metadata": {
        "id": "-eurb3QNqpfi",
        "colab_type": "code",
        "colab": {}
      },
      "source": [
        "#importing libraries\n",
        "import pandas as pd\n",
        "import numpy as np\n",
        "import random as random\n",
        "from matplotlib import pyplot as plt\n",
        "import time"
      ],
      "execution_count": 0,
      "outputs": []
    },
    {
      "cell_type": "code",
      "metadata": {
        "id": "XbdYNXe5rWwX",
        "colab_type": "code",
        "outputId": "415ebb18-b4be-4db0-da88-c254b4b2fcef",
        "colab": {
          "base_uri": "https://localhost:8080/",
          "height": 34
        }
      },
      "source": [
        "#Access to google drive. The Video Store dataset was uploaded to google drive.\n",
        "from google.colab import drive\n",
        "drive.mount('/content/gdrive')"
      ],
      "execution_count": 9,
      "outputs": [
        {
          "output_type": "stream",
          "text": [
            "Drive already mounted at /content/gdrive; to attempt to forcibly remount, call drive.mount(\"/content/gdrive\", force_remount=True).\n"
          ],
          "name": "stdout"
        }
      ]
    },
    {
      "cell_type": "code",
      "metadata": {
        "id": "2x9m61XNt9iD",
        "colab_type": "code",
        "colab": {}
      },
      "source": [
        "#The dataset is load dataset to a dataframe\n",
        "df = pd.read_csv('/content/gdrive/My Drive/Genetic Algorithms/Assignment 01/dataset.csv')"
      ],
      "execution_count": 0,
      "outputs": []
    },
    {
      "cell_type": "code",
      "metadata": {
        "id": "QfQMTCpC-rop",
        "colab_type": "code",
        "outputId": "b7ca0925-208b-4b6e-abc4-b3227537db86",
        "colab": {
          "base_uri": "https://localhost:8080/",
          "height": 359
        }
      },
      "source": [
        "#view dataset\n",
        "df"
      ],
      "execution_count": 11,
      "outputs": [
        {
          "output_type": "execute_result",
          "data": {
            "text/html": [
              "<div>\n",
              "<style scoped>\n",
              "    .dataframe tbody tr th:only-of-type {\n",
              "        vertical-align: middle;\n",
              "    }\n",
              "\n",
              "    .dataframe tbody tr th {\n",
              "        vertical-align: top;\n",
              "    }\n",
              "\n",
              "    .dataframe thead th {\n",
              "        text-align: right;\n",
              "    }\n",
              "</style>\n",
              "<table border=\"1\" class=\"dataframe\">\n",
              "  <thead>\n",
              "    <tr style=\"text-align: right;\">\n",
              "      <th></th>\n",
              "      <th>file</th>\n",
              "      <th>size</th>\n",
              "      <th>duration</th>\n",
              "    </tr>\n",
              "  </thead>\n",
              "  <tbody>\n",
              "    <tr>\n",
              "      <th>0</th>\n",
              "      <td>1</td>\n",
              "      <td>800</td>\n",
              "      <td>121</td>\n",
              "    </tr>\n",
              "    <tr>\n",
              "      <th>1</th>\n",
              "      <td>2</td>\n",
              "      <td>700</td>\n",
              "      <td>95</td>\n",
              "    </tr>\n",
              "    <tr>\n",
              "      <th>2</th>\n",
              "      <td>3</td>\n",
              "      <td>650</td>\n",
              "      <td>85</td>\n",
              "    </tr>\n",
              "    <tr>\n",
              "      <th>3</th>\n",
              "      <td>4</td>\n",
              "      <td>750</td>\n",
              "      <td>100</td>\n",
              "    </tr>\n",
              "    <tr>\n",
              "      <th>4</th>\n",
              "      <td>5</td>\n",
              "      <td>600</td>\n",
              "      <td>78</td>\n",
              "    </tr>\n",
              "    <tr>\n",
              "      <th>5</th>\n",
              "      <td>6</td>\n",
              "      <td>900</td>\n",
              "      <td>125</td>\n",
              "    </tr>\n",
              "    <tr>\n",
              "      <th>6</th>\n",
              "      <td>7</td>\n",
              "      <td>950</td>\n",
              "      <td>130</td>\n",
              "    </tr>\n",
              "    <tr>\n",
              "      <th>7</th>\n",
              "      <td>8</td>\n",
              "      <td>875</td>\n",
              "      <td>128</td>\n",
              "    </tr>\n",
              "    <tr>\n",
              "      <th>8</th>\n",
              "      <td>9</td>\n",
              "      <td>1050</td>\n",
              "      <td>135</td>\n",
              "    </tr>\n",
              "    <tr>\n",
              "      <th>9</th>\n",
              "      <td>10</td>\n",
              "      <td>1500</td>\n",
              "      <td>120</td>\n",
              "    </tr>\n",
              "  </tbody>\n",
              "</table>\n",
              "</div>"
            ],
            "text/plain": [
              "   file  size  duration\n",
              "0     1   800       121\n",
              "1     2   700        95\n",
              "2     3   650        85\n",
              "3     4   750       100\n",
              "4     5   600        78\n",
              "5     6   900       125\n",
              "6     7   950       130\n",
              "7     8   875       128\n",
              "8     9  1050       135\n",
              "9    10  1500       120"
            ]
          },
          "metadata": {
            "tags": []
          },
          "execution_count": 11
        }
      ]
    },
    {
      "cell_type": "markdown",
      "metadata": {
        "id": "7JEmrYDp_IZo",
        "colab_type": "text"
      },
      "source": [
        "### **Population Creation Function**\n",
        "A dataframe which consists of the entire population is returned when this function is called. The structure would be of 1 column to label the chromosome number and the remaining 10 columns will represent the file number of the dataset. The returned dataframe (population) will consist of random 0 or 1 values in the  chromosome."
      ]
    },
    {
      "cell_type": "code",
      "metadata": {
        "id": "JKhFpNlW6UCH",
        "colab_type": "code",
        "colab": {}
      },
      "source": [
        "# function for init population\n",
        "def createInitPop(popSize):\n",
        "  #array of data to represent the chromosomes and random file labellings\n",
        "  values ={\n",
        "    'chromosome':[i for i in range(1,popSize+1)],\n",
        "    'file 1':[random.randint(0, 1) for _ in range(popSize)],\n",
        "    'file 2':[random.randint(0, 1) for _ in range(popSize)],\n",
        "    'file 3':[random.randint(0, 1) for _ in range(popSize)],\n",
        "    'file 4':[random.randint(0, 1) for _ in range(popSize)],\n",
        "    'file 5':[random.randint(0, 1) for _ in range(popSize)],\n",
        "    'file 6':[random.randint(0, 1) for _ in range(popSize)],\n",
        "    'file 7':[random.randint(0, 1) for _ in range(popSize)],\n",
        "    'file 8':[random.randint(0, 1) for _ in range(popSize)],\n",
        "    'file 9':[random.randint(0, 1) for _ in range(popSize)],\n",
        "    'file 10':[random.randint(0, 1) for _ in range(popSize)],\n",
        "  }\n",
        "  #convert the array of population to a dataframe\n",
        "  values = pd.DataFrame(values)\n",
        "  \n",
        "  #return the dataframe\n",
        "  return values"
      ],
      "execution_count": 0,
      "outputs": []
    },
    {
      "cell_type": "markdown",
      "metadata": {
        "id": "o45jFGcl_Rq_",
        "colab_type": "text"
      },
      "source": [
        "### **Evaluate Fitness Function**\n",
        "\n",
        "\\begin{equation}\n",
        "f(x_i) = \\textrm{Playing time of video file of } x_i\n",
        "\\end{equation}\n",
        "\n",
        "\\begin{equation}\n",
        "g(x_i) = \\textrm{File size of video file of } x_i\n",
        "\\end{equation}\n",
        "\n",
        "**Objective Function**\n",
        "\\begin{equation}\n",
        "\\textrm{Maximize }\\sum f(x_i) \\textrm{ such that } \\sum g(x_i)<=4500\n",
        "\\end{equation}"
      ]
    },
    {
      "cell_type": "code",
      "metadata": {
        "id": "aLZeRrRsX5UC",
        "colab_type": "code",
        "colab": {}
      },
      "source": [
        "#Evaluate Fitness Function\n",
        "def EvaluateFitness(chromosome,df,popSize):\n",
        "  #fitness array\n",
        "  fitness = {\n",
        "      'chromosome':[x for x in range(1,popSize+1)],\n",
        "      'fitness':[0 for x in range(0,popSize)]\n",
        "  }\n",
        "  \n",
        "  #size array\n",
        "  filesize = {\n",
        "      'chromosome':[x for x in range(1,popSize+1)],\n",
        "      'size':[0 for x in range(0,popSize)]\n",
        "  }\n",
        "\n",
        "  #convert to dataframe\n",
        "  fitness = pd.DataFrame(fitness)\n",
        "  filesize = pd.DataFrame(filesize)\n",
        "\n",
        "  #total file size and duration PER Solution\n",
        "  size=0\n",
        "  duration=0\n",
        "  \n",
        "  #implementation of the Fitness Function\n",
        "  # i navigates the rows while the j navigates the file1, file2 ... columns in the chromosome.\n",
        "  for i in range(popSize):\n",
        "    for j in range(1,11):\n",
        "      #navigate through each chromosome in the population and check for the cells which contains a file, that is 1 value in the cell.\n",
        "      \n",
        "      if(chromosome.iloc[i,j] ==1):\n",
        "        #if it contains any file in the cell(that is a 1 value) the size and the duration of the solution is calculated by comparing the dataset.\n",
        "        size += df.iloc[j-1,1]\n",
        "        duration +=df.iloc[j-1,2]\n",
        "    \n",
        "    #calculation of the fitness and the total file size of the entire population\n",
        "    if(size<=4500):\n",
        "      #these values are potential solutions since the size is less than 4500.\n",
        "      #respective fitness and filesizes are added to the dataframe\n",
        "      fitness.loc[i,'fitness'] = duration\n",
        "      filesize.loc[i,'size'] = size\n",
        "      \n",
        "    else:\n",
        "      #These will be non solutions. Therefore the fitness is reduced by multiplying by 0.5\n",
        "      #The file size is stored\n",
        "      fitness.loc[i,'fitness'] = duration*0.5\n",
        "      filesize.loc[i,'size'] = size\n",
        "      \n",
        "    #The PER solution size and duration values are reset\n",
        "    size = 0\n",
        "    duration = 0\n",
        "  \n",
        "  #The entire fitness and filesize of the population is returned as a DataFrame\n",
        "  return fitness, filesize      "
      ],
      "execution_count": 0,
      "outputs": []
    },
    {
      "cell_type": "markdown",
      "metadata": {
        "id": "KDNuThva_Wj-",
        "colab_type": "text"
      },
      "source": [
        "### **Rank Selection Function**"
      ]
    },
    {
      "cell_type": "code",
      "metadata": {
        "id": "rHnFx9w2g8wL",
        "colab_type": "code",
        "colab": {}
      },
      "source": [
        "#Rank Selection Function\n",
        "def rankSelection(chromosome,fitness,popSize):\n",
        "  #Total integer value from 0 to population size \n",
        "  rankTotal = sum(x for x in range(0,popSize))\n",
        "  \n",
        "  #A random value inbetween 0 and above value\n",
        "  totRandom = random.uniform(0,1)*rankTotal\n",
        "  \n",
        "  #variable to store the accumilation of fitness values\n",
        "  tot=0\n",
        "  #sorting the fitness dataframe having the lowest on the top and the highest in the bottom\n",
        "  fitness_sorted = fitness.sort_values(by=['fitness'])\n",
        "  \n",
        "  for i in fitness_sorted.index:\n",
        "    #accumilation of the fitness values till the accumilation is equal to the random total generated\n",
        "    tot += fitness_sorted.loc[i,'fitness']\n",
        "    if(tot>=totRandom):\n",
        "      global fifo_index\n",
        "      fifo_index = i\n",
        "      \n",
        "      #returning the chromosome(as a parent selected) and the respective value i where the accumilation stopped. \n",
        "      selected_parent = chromosome.loc[i,:]\n",
        "      selected_parent_id = i\n",
        "      \n",
        "      return selected_parent,selected_parent_id"
      ],
      "execution_count": 0,
      "outputs": []
    },
    {
      "cell_type": "markdown",
      "metadata": {
        "id": "NrydFJLYZ8TN",
        "colab_type": "text"
      },
      "source": [
        "### **Binary Represented N Point Crossover Function Generalized**\n",
        "The function has generalized the Single Point Crossover and the N-Point Crossover operators.\n",
        "When :\n",
        "\\begin{equation}\n",
        "n = 1...n \\textrm{ which is the n-point}\n",
        "\\end{equation}\n",
        "is passed as a parameter it the function it acts as a single point crossover and for the rest as an n point crossover. Also the :\n",
        "\\begin{equation}\n",
        "p_c = 0.8 \\textrm{ or etc, crossover rate}\n",
        "\\end{equation}\n",
        "would be the crossover rate for the function.\n"
      ]
    },
    {
      "cell_type": "code",
      "metadata": {
        "id": "LVeLCuF3Z6jR",
        "colab_type": "code",
        "colab": {}
      },
      "source": [
        "def binary_rep_n_point_crossover(n,parent1,parent2,pc):\n",
        "  \n",
        "  parent1_parts = [] #this list contains parent 1 partwise split sections based on the random values generated\n",
        "  parent2_parts = [] #this list contains parent 2 partwise split sections based on the random values generated\n",
        "  random_vals = [] #list to store the generated random values\n",
        "  start_pos = 0 #start position of the spiliting parents\n",
        "  random_position = start_pos+1 #initial random position\n",
        "  L_1 = 10-1 # the random value range should be in between 1 to 10-1 which is L-1\n",
        "\n",
        "  parent1_array = parent1.values\n",
        "  parent2_array = parent2.values\n",
        "\n",
        "  if(random.uniform(0,1)>=pc):\n",
        "    #crossover takes place\n",
        "    count = 1\n",
        "\n",
        "    for n_times in range(n+1):\n",
        "      #random position is generated here. This random position will be the place\n",
        "      #where the chromosome will be split\n",
        "      random_position = random.randint(random_position,L_1)\n",
        "\n",
        "      #The generated random values are stored in this list\n",
        "      random_vals.append(random_position)\n",
        "\n",
        "\n",
        "      if(n_times == n):\n",
        "        parent1_parts.append(parent1_array[start_pos:L_1+1])\n",
        "        parent2_parts.append(parent2_array[start_pos:L_1+1])\n",
        "\n",
        "      else:\n",
        "\n",
        "        parent1_parts.append(parent1_array[start_pos:random_position])\n",
        "        parent2_parts.append(parent2_array[start_pos:random_position])\n",
        "\n",
        "      start_pos = random_position\n",
        "      #random_position +=1\n",
        "\n",
        "\n",
        "    for i in range(len(parent1_parts)):\n",
        "      if(count%2==0):\n",
        "        temp = parent1_parts[i]\n",
        "        parent1_parts[i] = parent2_parts[i]\n",
        "        parent2_parts[i] = temp\n",
        "        count +=1\n",
        "      else:\n",
        "        #nothing\n",
        "        count += 1\n",
        "\n",
        "\n",
        "    offspring1_array = np.concatenate(([parent1_parts[i] for i in range(len(parent1_parts))]))\n",
        "    offspring2_array = np.concatenate(([parent2_parts[i] for i in range(len(parent1_parts))]))\n",
        "    return offspring1_array,offspring2_array\n",
        "  \n",
        "  else:\n",
        "    return parent1_array,parent2_array \n",
        "  \n"
      ],
      "execution_count": 0,
      "outputs": []
    },
    {
      "cell_type": "markdown",
      "metadata": {
        "id": "rYDi-eCZ_hVG",
        "colab_type": "text"
      },
      "source": [
        "### **BitFlip of the Mutation**\n",
        "Bit flip is done based on a randomly generated array of numbers compared with the mutation rate variable. If the compared value is higher than the mutation rate bit value is flipped.\n",
        "\\begin{equation}\n",
        "p_m = 0 .... 1  \\textrm{ Mutation rate Variable}\n",
        "\\end{equation}"
      ]
    },
    {
      "cell_type": "code",
      "metadata": {
        "id": "nnNbniZ-LbQi",
        "colab_type": "code",
        "colab": {}
      },
      "source": [
        "def bitflip(chromosome,pm):\n",
        "  #generate random bit array\n",
        "  bits = [random.uniform(0,1) for _ in range(10)] #range size is the number of files\n",
        "  \n",
        "  for i in range(10):\n",
        "    if(bits[i]>=pm):\n",
        "      if(chromosome[i] == 0):\n",
        "        chromosome[i] = 1\n",
        "      else:\n",
        "        chromosome[i] = 0\n",
        "  \n",
        "  return chromosome\n",
        "      "
      ],
      "execution_count": 0,
      "outputs": []
    },
    {
      "cell_type": "markdown",
      "metadata": {
        "id": "ZtPy1zlX_dY_",
        "colab_type": "text"
      },
      "source": [
        "### **Supportive Functions**\n",
        "These functions are used for retrieving individual chromosome information. Much used for debugging purposes.\n",
        "\n",
        "1.   **getFitness** function retruns the fitness and the total size of the Chromosome\n",
        "2.   **getDetails** function returns the total file size and the total duration of the Chromosome\n",
        "\n"
      ]
    },
    {
      "cell_type": "code",
      "metadata": {
        "id": "_TXQpT10lC5N",
        "colab_type": "code",
        "colab": {}
      },
      "source": [
        "def getFitness(chromosome):\n",
        "  total_size = 0\n",
        "  total_duration = 0\n",
        "  \n",
        "  for i in range(len(chromosome)):\n",
        "    if(chromosome[i]==1):\n",
        "      total_size += df.loc[i,'size']\n",
        "      total_duration += df.loc[i,'duration']\n",
        "  \n",
        "  if(total_size>4500):\n",
        "    fitness = total_duration*0.5\n",
        "    return fitness,total_size\n",
        "  else:\n",
        "    fitness = total_duration\n",
        "    \n",
        "    return fitness,total_size"
      ],
      "execution_count": 0,
      "outputs": []
    },
    {
      "cell_type": "code",
      "metadata": {
        "id": "npW9BN7ppNiz",
        "colab_type": "code",
        "colab": {}
      },
      "source": [
        "def getDetails(chromosome):\n",
        "  total_size = 0\n",
        "  total_duration = 0\n",
        "  \n",
        "  for i in range(len(chromosome)):\n",
        "    if(chromosome[i]==1):\n",
        "      total_size += df.loc[i,'size']\n",
        "      total_duration += df.loc[i,'duration']\n",
        "      \n",
        "  return total_duration, total_size"
      ],
      "execution_count": 0,
      "outputs": []
    },
    {
      "cell_type": "markdown",
      "metadata": {
        "id": "ZZbApi5tApCR",
        "colab_type": "text"
      },
      "source": [
        "### **Replace the Offspring with the Population**\n",
        "Offspring is replaced based on age. That is the selected parents are replaced.\n",
        "\n"
      ]
    },
    {
      "cell_type": "code",
      "metadata": {
        "id": "A7RbOz8pQZhZ",
        "colab_type": "code",
        "colab": {}
      },
      "source": [
        "def replace_with_offspring(parent1_id,parent2_id,offspring1,offspring2):\n",
        "  #Offspring is replaced based on age. That is the selected parents are replaced.\n",
        "  chromosome.iloc[parent1_id,1:] = offspring1\n",
        "  chromosome.iloc[parent2_id,1:] = offspring2"
      ],
      "execution_count": 0,
      "outputs": []
    },
    {
      "cell_type": "markdown",
      "metadata": {
        "id": "ElR3n9xN_lNP",
        "colab_type": "text"
      },
      "source": [
        "### **Iterate the Model**\n",
        "\n"
      ]
    },
    {
      "cell_type": "code",
      "metadata": {
        "id": "slw5Q3PfSaUe",
        "colab_type": "code",
        "colab": {}
      },
      "source": [
        "def trainModel(n,n_point,p_c,p_m):\n",
        "  #variable to count and display the current epoch\n",
        "  epoch = 0\n",
        "  fit = pd.DataFrame()\n",
        "  filesize = pd.DataFrame()\n",
        "  parent1 = pd.DataFrame()\n",
        "  parent2 = pd.DataFrame()\n",
        "  \n",
        "  \n",
        "  for i in range(n):\n",
        "    #Fitness Evaluation\n",
        "    fitness, totFileSize = EvaluateFitness(chromosome,df,popSize)\n",
        "    \n",
        "    #parent selection\n",
        "    parent1, parent1_id = rankSelection(chromosome,fitness,popSize)\n",
        "    parent2, parent2_id = rankSelection(chromosome,fitness,popSize)\n",
        "    \n",
        "    #offspring generation through crossover\n",
        "    offspring1,offspring2 = binary_rep_n_point_crossover(n_point,parent1[1:],parent2[1:],p_c)\n",
        "    \n",
        "    #passing the generated offspring for mutation\n",
        "    offspring1 = bitflip(offspring1,p_m)\n",
        "    offspring2 = bitflip(offspring2,p_m)\n",
        "    \n",
        "    #replace parents\n",
        "    replace_with_offspring(parent1_id,parent2_id,offspring1,offspring2)\n",
        "    \n",
        "    #display epoch\n",
        "    print(epoch)\n",
        "    epoch +=1\n",
        "    \n",
        "    #debugging purposes returning values\n",
        "    fit = fitness\n",
        "    filesize = totFileSize\n",
        "    \n",
        "    #return parent1,parent2,offspring1,offspring2\n",
        "  return fit,filesize,parent1,parent2    \n"
      ],
      "execution_count": 0,
      "outputs": []
    },
    {
      "cell_type": "markdown",
      "metadata": {
        "id": "aGAXyV85_p6m",
        "colab_type": "text"
      },
      "source": [
        "### **Run the Program**"
      ]
    },
    {
      "cell_type": "code",
      "metadata": {
        "id": "C3sAEJ26EO3X",
        "colab_type": "code",
        "outputId": "8251cfa8-2090-48a7-f765-1cbc918accbe",
        "colab": {
          "base_uri": "https://localhost:8080/",
          "height": 1768
        }
      },
      "source": [
        "#SCENE 01\n",
        "#population size\n",
        "popSize = 60 \n",
        "\n",
        "#creation of population of Chromosomes\n",
        "chromosome = createInitPop(popSize)\n",
        "\n",
        "#fifo index relates to the index to be removed. -1 is the initial value\n",
        "fifo_index = -1\n",
        "\n",
        "#iteration and \n",
        "iterations = 100\n",
        "\n",
        "#n point for crossover\n",
        "n_point = 1\n",
        "#crossover rate\n",
        "p_c = 0.8\n",
        "#mutation rate\n",
        "p_m = 0.01\n",
        "\n",
        "#Final population Duration and Size storage\n",
        "finalDuration = []\n",
        "finalSize = []\n",
        "\n",
        "\n",
        "#train model\n",
        "start = time.time()\n",
        "fit,filesize,parent1,parent2 = trainModel(iterations,n_point,p_c,p_m)\n",
        "end = time.time()\n",
        "print(\"Population Size :\" + str(popSize))\n",
        "print(\"Iterations :\" + str(iterations))\n",
        "print(\"Elapsed time :\" + str(end - start) + \" seconds\")\n",
        "\n",
        "#Get Fitness and Size information for the Last Population\n",
        "for i in range(popSize):\n",
        "  duration,size = getFitness(chromosome.iloc[i,1:].values)\n",
        "  finalDuration.append(duration)\n",
        "  finalSize.append(size)\n",
        "  "
      ],
      "execution_count": 21,
      "outputs": [
        {
          "output_type": "stream",
          "text": [
            "0\n",
            "1\n",
            "2\n",
            "3\n",
            "4\n",
            "5\n",
            "6\n",
            "7\n",
            "8\n",
            "9\n",
            "10\n",
            "11\n",
            "12\n",
            "13\n",
            "14\n",
            "15\n",
            "16\n",
            "17\n",
            "18\n",
            "19\n",
            "20\n",
            "21\n",
            "22\n",
            "23\n",
            "24\n",
            "25\n",
            "26\n",
            "27\n",
            "28\n",
            "29\n",
            "30\n",
            "31\n",
            "32\n",
            "33\n",
            "34\n",
            "35\n",
            "36\n",
            "37\n",
            "38\n",
            "39\n",
            "40\n",
            "41\n",
            "42\n",
            "43\n",
            "44\n",
            "45\n",
            "46\n",
            "47\n",
            "48\n",
            "49\n",
            "50\n",
            "51\n",
            "52\n",
            "53\n",
            "54\n",
            "55\n",
            "56\n",
            "57\n",
            "58\n",
            "59\n",
            "60\n",
            "61\n",
            "62\n",
            "63\n",
            "64\n",
            "65\n",
            "66\n",
            "67\n",
            "68\n",
            "69\n",
            "70\n",
            "71\n",
            "72\n",
            "73\n",
            "74\n",
            "75\n",
            "76\n",
            "77\n",
            "78\n",
            "79\n",
            "80\n",
            "81\n",
            "82\n",
            "83\n",
            "84\n",
            "85\n",
            "86\n",
            "87\n",
            "88\n",
            "89\n",
            "90\n",
            "91\n",
            "92\n",
            "93\n",
            "94\n",
            "95\n",
            "96\n",
            "97\n",
            "98\n",
            "99\n",
            "Population Size :60\n",
            "Iterations :100\n",
            "Elapsed time :6.878600120544434 seconds\n"
          ],
          "name": "stdout"
        }
      ]
    },
    {
      "cell_type": "code",
      "metadata": {
        "id": "HUU2lBGpww7U",
        "colab_type": "code",
        "colab": {}
      },
      "source": [
        "#Getting the Optimum solution Information to Variables\n",
        "Best_Solution_id = finalDuration.index(max(finalDuration))\n",
        "Best_Solution_Size = finalSize[Best_Solution_id] \n",
        "Best_Solution_Duration = finalDuration[Best_Solution_id]\n",
        "Best_Solution = chromosome.iloc[Best_Solution_id]"
      ],
      "execution_count": 0,
      "outputs": []
    },
    {
      "cell_type": "code",
      "metadata": {
        "id": "vcD2gdPVozvl",
        "colab_type": "code",
        "colab": {
          "base_uri": "https://localhost:8080/",
          "height": 272
        },
        "outputId": "67b26129-7d8a-4bd4-8647-d40f36e1180c"
      },
      "source": [
        "#Printing the Optimum Solution Information\n",
        "print(\"Optimum Solution ID : \" + str(Best_Solution_id))\n",
        "print(\"Optimum Solution File Size : \" + str(Best_Solution_Size) + \"MB\")\n",
        "print(\"Optimum Solution Duration : \" + str(Best_Solution_Duration) + \" Minutes\")\n",
        "print(\"Optimum Solution : \")\n",
        "print(str(Best_Solution[1:]))"
      ],
      "execution_count": 25,
      "outputs": [
        {
          "output_type": "stream",
          "text": [
            "Optimum Solution ID : 40\n",
            "Optimum Solution File Size : 4450MB\n",
            "Optimum Solution Duration : 609 Minutes\n",
            "Optimum Solution : \n",
            "file 1     1\n",
            "file 2     1\n",
            "file 3     1\n",
            "file 4     1\n",
            "file 5     1\n",
            "file 6     0\n",
            "file 7     1\n",
            "file 8     0\n",
            "file 9     0\n",
            "file 10    0\n",
            "Name: 40, dtype: int64\n"
          ],
          "name": "stdout"
        }
      ]
    },
    {
      "cell_type": "markdown",
      "metadata": {
        "id": "nGw3JHBKp1_J",
        "colab_type": "text"
      },
      "source": [
        "### **Plotting the Final Result**\n",
        "\n",
        "This plot shows 3 import facts about the final solution. \n",
        "\n",
        "\n",
        "1.   The Horizontal Line shows the 4,500MB benchmark line\n",
        "2.   The Zig Zag plot shows the Fitness of the Final Population\n",
        "3. The Red Cross (+) shows the position of the Optimum solution Generated\n",
        "\n",
        "\n",
        "\n"
      ]
    },
    {
      "cell_type": "code",
      "metadata": {
        "id": "4DYhr1UnHHC0",
        "colab_type": "code",
        "outputId": "b3400f2b-698a-4aaf-c6d0-eb071d29ac82",
        "colab": {
          "base_uri": "https://localhost:8080/",
          "height": 312
        }
      },
      "source": [
        "plt.plot([x for x in range(popSize)],[finalSize[x] for x in range(len(finalSize))])\n",
        "plt.legend(\"Evolved Generation\")\n",
        "plt.plot([Best_Solution_id],[Best_Solution_Size],'r+')\n",
        "plt.legend(\"Optimum Solution\")\n",
        "plt.plot([x for x in range(popSize)],[4500 for x in range(len(finalSize))])\n",
        "plt.legend(\"Benchmark\")\n",
        "plt.xlabel(\"Chromosome in the Evolved Population\")\n",
        "plt.ylabel(\"File Size in MB\")\n",
        "plt.title(\"Chromosome in the Evolved Population vs File Size\")\n"
      ],
      "execution_count": 35,
      "outputs": [
        {
          "output_type": "execute_result",
          "data": {
            "text/plain": [
              "Text(0.5, 1.0, 'Chromosome in the Evolved Population vs File Size')"
            ]
          },
          "metadata": {
            "tags": []
          },
          "execution_count": 35
        },
        {
          "output_type": "display_data",
          "data": {
            "image/png": "[encoded data removed]",
            "text/plain": [
              "<Figure size 432x288 with 1 Axes>"
            ]
          },
          "metadata": {
            "tags": []
          }
        }
      ]
    },
    {
      "cell_type": "markdown",
      "metadata": {
        "id": "BuTJqts4rHoz",
        "colab_type": "text"
      },
      "source": [
        "### **Generating the Average Optimum Value**"
      ]
    },
    {
      "cell_type": "code",
      "metadata": {
        "id": "QUi2K139rXTi",
        "colab_type": "code",
        "colab": {}
      },
      "source": [
        ""
      ],
      "execution_count": 0,
      "outputs": []
    }
  ]
}