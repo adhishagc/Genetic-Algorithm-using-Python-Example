{
  "nbformat": 4,
  "nbformat_minor": 0,
  "metadata": {
    "colab": {
      "name": "Genetic Algorithm Assignment.ipynb",
      "version": "0.3.2",
      "provenance": [],
      "collapsed_sections": [
        "7JEmrYDp_IZo",
        "o45jFGcl_Rq_",
        "KDNuThva_Wj-",
        "rYDi-eCZ_hVG",
        "ZZbApi5tApCR"
      ],
      "include_colab_link": true
    },
    "kernelspec": {
      "name": "python3",
      "display_name": "Python 3"
    }
  },
  "cells": [
    {
      "cell_type": "markdown",
      "metadata": {
        "id": "view-in-github",
        "colab_type": "text"
      },
      "source": [
        "<a href=\"https://colab.research.google.com/github/adhishagc/Genetic-Algorithm-using-Python-Example/blob/master/Genetic_Algorithm_Assignment.ipynb\" target=\"_parent\"><img src=\"https://colab.research.google.com/assets/colab-badge.svg\" alt=\"Open In Colab\"/></a>"
      ]
    },
    {
      "cell_type": "markdown",
      "metadata": {
        "id": "Tzl3sKqNjh0H",
        "colab_type": "text"
      },
      "source": [
        "### **Debug Process**"
      ]
    },
    {
      "cell_type": "markdown",
      "metadata": {
        "id": "q4o89dgjjjXb",
        "colab_type": "text"
      },
      "source": [
        "\n",
        "1. Check algorithm structure is available. Each phase\n",
        "\t1. Create Population\n",
        "\t2. Evaluate Fitness of Each Chromosome in the Population\n",
        "\t3. Create New Population by :\n",
        "\t\t1. Select 2 Parents\n",
        "\t\t2. Crossover\n",
        "\t\t3. Mutate\n",
        "\t\t4. Replace to the Population\n",
        "\t4. Test if End condition is satisified\n",
        "\t5. If Yes,end otherwise iterate with the new Population\n",
        "\t\n",
        "2. Functionality of each section\n"
      ]
    },
    {
      "cell_type": "code",
      "metadata": {
        "id": "-eurb3QNqpfi",
        "colab_type": "code",
        "colab": {}
      },
      "source": [
        "#importing libraries\n",
        "import pandas as pd\n",
        "import numpy as np\n",
        "import random as random\n",
        "from matplotlib import pyplot as plt"
      ],
      "execution_count": 0,
      "outputs": []
    },
    {
      "cell_type": "code",
      "metadata": {
        "id": "XbdYNXe5rWwX",
        "colab_type": "code",
        "outputId": "6c79d9be-eba4-43b0-8a32-4e885de9983c",
        "colab": {
          "base_uri": "https://localhost:8080/",
          "height": 34
        }
      },
      "source": [
        "#access to google drive\n",
        "from google.colab import drive\n",
        "drive.mount('/content/gdrive')"
      ],
      "execution_count": 6,
      "outputs": [
        {
          "output_type": "stream",
          "text": [
            "Drive already mounted at /content/gdrive; to attempt to forcibly remount, call drive.mount(\"/content/gdrive\", force_remount=True).\n"
          ],
          "name": "stdout"
        }
      ]
    },
    {
      "cell_type": "code",
      "metadata": {
        "id": "2x9m61XNt9iD",
        "colab_type": "code",
        "colab": {}
      },
      "source": [
        "#load dataset to a dataframe\n",
        "df = pd.read_csv('/content/gdrive/My Drive/Genetic Algorithms/Assignment 01/dataset.csv')"
      ],
      "execution_count": 0,
      "outputs": []
    },
    {
      "cell_type": "code",
      "metadata": {
        "id": "QfQMTCpC-rop",
        "colab_type": "code",
        "outputId": "bba7c6c3-b6c1-41c9-c9af-032d392480fe",
        "colab": {
          "base_uri": "https://localhost:8080/",
          "height": 359
        }
      },
      "source": [
        "#view dataset\n",
        "df"
      ],
      "execution_count": 8,
      "outputs": [
        {
          "output_type": "execute_result",
          "data": {
            "text/html": [
              "<div>\n",
              "<style scoped>\n",
              "    .dataframe tbody tr th:only-of-type {\n",
              "        vertical-align: middle;\n",
              "    }\n",
              "\n",
              "    .dataframe tbody tr th {\n",
              "        vertical-align: top;\n",
              "    }\n",
              "\n",
              "    .dataframe thead th {\n",
              "        text-align: right;\n",
              "    }\n",
              "</style>\n",
              "<table border=\"1\" class=\"dataframe\">\n",
              "  <thead>\n",
              "    <tr style=\"text-align: right;\">\n",
              "      <th></th>\n",
              "      <th>file</th>\n",
              "      <th>size</th>\n",
              "      <th>duration</th>\n",
              "    </tr>\n",
              "  </thead>\n",
              "  <tbody>\n",
              "    <tr>\n",
              "      <th>0</th>\n",
              "      <td>1</td>\n",
              "      <td>800</td>\n",
              "      <td>121</td>\n",
              "    </tr>\n",
              "    <tr>\n",
              "      <th>1</th>\n",
              "      <td>2</td>\n",
              "      <td>700</td>\n",
              "      <td>95</td>\n",
              "    </tr>\n",
              "    <tr>\n",
              "      <th>2</th>\n",
              "      <td>3</td>\n",
              "      <td>650</td>\n",
              "      <td>85</td>\n",
              "    </tr>\n",
              "    <tr>\n",
              "      <th>3</th>\n",
              "      <td>4</td>\n",
              "      <td>750</td>\n",
              "      <td>100</td>\n",
              "    </tr>\n",
              "    <tr>\n",
              "      <th>4</th>\n",
              "      <td>5</td>\n",
              "      <td>600</td>\n",
              "      <td>78</td>\n",
              "    </tr>\n",
              "    <tr>\n",
              "      <th>5</th>\n",
              "      <td>6</td>\n",
              "      <td>900</td>\n",
              "      <td>125</td>\n",
              "    </tr>\n",
              "    <tr>\n",
              "      <th>6</th>\n",
              "      <td>7</td>\n",
              "      <td>950</td>\n",
              "      <td>130</td>\n",
              "    </tr>\n",
              "    <tr>\n",
              "      <th>7</th>\n",
              "      <td>8</td>\n",
              "      <td>875</td>\n",
              "      <td>128</td>\n",
              "    </tr>\n",
              "    <tr>\n",
              "      <th>8</th>\n",
              "      <td>9</td>\n",
              "      <td>1050</td>\n",
              "      <td>135</td>\n",
              "    </tr>\n",
              "    <tr>\n",
              "      <th>9</th>\n",
              "      <td>10</td>\n",
              "      <td>1500</td>\n",
              "      <td>120</td>\n",
              "    </tr>\n",
              "  </tbody>\n",
              "</table>\n",
              "</div>"
            ],
            "text/plain": [
              "   file  size  duration\n",
              "0     1   800       121\n",
              "1     2   700        95\n",
              "2     3   650        85\n",
              "3     4   750       100\n",
              "4     5   600        78\n",
              "5     6   900       125\n",
              "6     7   950       130\n",
              "7     8   875       128\n",
              "8     9  1050       135\n",
              "9    10  1500       120"
            ]
          },
          "metadata": {
            "tags": []
          },
          "execution_count": 8
        }
      ]
    },
    {
      "cell_type": "markdown",
      "metadata": {
        "id": "eYS5fVZM-9E6",
        "colab_type": "text"
      },
      "source": [
        "The below section contains the Function definitions used in the Program."
      ]
    },
    {
      "cell_type": "markdown",
      "metadata": {
        "id": "7JEmrYDp_IZo",
        "colab_type": "text"
      },
      "source": [
        "### **Population Creation Function**"
      ]
    },
    {
      "cell_type": "code",
      "metadata": {
        "id": "JKhFpNlW6UCH",
        "colab_type": "code",
        "colab": {}
      },
      "source": [
        "# function for init population\n",
        "def createInitPop(popSize):\n",
        "  chrom = [i for i in range(1,popSize+1)]\n",
        "  #emp = [0 for i in range(0,popSize)]\n",
        "  values ={\n",
        "    'chromosome':chrom,\n",
        "    'file 1':[random.randint(0, 1) for _ in range(popSize)],\n",
        "    'file 2':[random.randint(0, 1) for _ in range(popSize)],\n",
        "    'file 3':[random.randint(0, 1) for _ in range(popSize)],\n",
        "    'file 4':[random.randint(0, 1) for _ in range(popSize)],\n",
        "    'file 5':[random.randint(0, 1) for _ in range(popSize)],\n",
        "    'file 6':[random.randint(0, 1) for _ in range(popSize)],\n",
        "    'file 7':[random.randint(0, 1) for _ in range(popSize)],\n",
        "    'file 8':[random.randint(0, 1) for _ in range(popSize)],\n",
        "    'file 9':[random.randint(0, 1) for _ in range(popSize)],\n",
        "    'file 10':[random.randint(0, 1) for _ in range(popSize)],\n",
        "  }\n",
        "  return pd.DataFrame(values)  "
      ],
      "execution_count": 0,
      "outputs": []
    },
    {
      "cell_type": "markdown",
      "metadata": {
        "id": "o45jFGcl_Rq_",
        "colab_type": "text"
      },
      "source": [
        "### **Evaluate Fitness Function**"
      ]
    },
    {
      "cell_type": "code",
      "metadata": {
        "id": "aLZeRrRsX5UC",
        "colab_type": "code",
        "colab": {}
      },
      "source": [
        "#Evaluate Fitness Function\n",
        "def EvaluateFitness(chromosome,df,popSize):\n",
        "  #fitness array\n",
        "  fitness = {\n",
        "      'chromosome':[x for x in range(1,popSize+1)],\n",
        "      'fitness':[0 for x in range(0,popSize)]\n",
        "  }\n",
        "  \n",
        "  #size array\n",
        "  filesize = {\n",
        "      'chromosome':[x for x in range(1,popSize+1)],\n",
        "      'size':[0 for x in range(0,popSize)]\n",
        "  }\n",
        "\n",
        "  #convert to dataframe\n",
        "  fitness = pd.DataFrame(fitness)\n",
        "  filesize = pd.DataFrame(filesize)\n",
        "  \n",
        "  #total file size\n",
        "  #totFileSize =[]\n",
        "\n",
        "  #total file size and duration\n",
        "  size=0\n",
        "  duration=0\n",
        "\n",
        "  #shape of the chromosome / population dataframe\n",
        "  rows,col = chromosome.shape\n",
        "  \n",
        "  for i in range(rows):\n",
        "    for j in range(1,11):\n",
        "      if(chromosome.iloc[i,j] ==1):\n",
        "        size += df.iloc[j-1,1]\n",
        "        duration +=df.iloc[j-1,2]\n",
        "    \n",
        "    if(size<=4500):\n",
        "      #fine\n",
        "      fitness.loc[i,'fitness'] = duration\n",
        "      filesize.loc[i,'size'] = size\n",
        "      \n",
        "    else:\n",
        "      fitness.loc[i,'fitness'] = duration*0.5\n",
        "      filesize.loc[i,'size'] = size\n",
        "    size = 0\n",
        "    duration = 0\n",
        "\n",
        "  return fitness, filesize      "
      ],
      "execution_count": 0,
      "outputs": []
    },
    {
      "cell_type": "markdown",
      "metadata": {
        "id": "KDNuThva_Wj-",
        "colab_type": "text"
      },
      "source": [
        "### **Rank Selection Function**"
      ]
    },
    {
      "cell_type": "code",
      "metadata": {
        "id": "rHnFx9w2g8wL",
        "colab_type": "code",
        "colab": {}
      },
      "source": [
        "#Rank Selection Function\n",
        "def rankSelection(chromosome,fitness,popSize):\n",
        "  \n",
        "  rankTotal = sum(x for x in range(0,popSize))\n",
        "  #totRandom = random.uniform(0,rankTotal) #CREEPY Something is here\n",
        "  totRandom = random.uniform(0,1)*rankTotal\n",
        "  tot=0\n",
        "  fitness_sorted = fitness.sort_values(by=['fitness'])\n",
        "  for i in fitness_sorted.index:\n",
        "    tot += fitness_sorted.loc[i,'fitness']\n",
        "    if(tot>=totRandom):\n",
        "      global fifo_index\n",
        "      fifo_index = i\n",
        "      return chromosome.loc[i,:],i\n",
        " "
      ],
      "execution_count": 0,
      "outputs": []
    },
    {
      "cell_type": "code",
      "metadata": {
        "id": "wzHJF4CIoRMQ",
        "colab_type": "code",
        "colab": {}
      },
      "source": [
        ""
      ],
      "execution_count": 0,
      "outputs": []
    },
    {
      "cell_type": "markdown",
      "metadata": {
        "id": "NrydFJLYZ8TN",
        "colab_type": "text"
      },
      "source": [
        "### **Binary Represented N Point Crossover Function Generalized**"
      ]
    },
    {
      "cell_type": "code",
      "metadata": {
        "id": "LVeLCuF3Z6jR",
        "colab_type": "code",
        "colab": {}
      },
      "source": [
        "def binary_rep_n_point_crossover(n,parent1,parent2):\n",
        "  \n",
        "  parent1_parts = [] #this list contains parent 1 partwise split sections based on the random values generated\n",
        "  parent2_parts = [] #this list contains parent 2 partwise split sections based on the random values generated\n",
        "  random_vals = [] #list to store the generated random values\n",
        "  start_pos = 0 #start position of the spiliting parents\n",
        "  random_position = start_pos+1 #initial random position\n",
        "  L_1 = 10-1 # the random value range should be in between 1 to 10-1 which is L-1\n",
        " \n",
        "  #counting variable for the swap\n",
        "  count = 1\n",
        "\n",
        "  parent1_array = parent1.values\n",
        "  parent2_array = parent2.values\n",
        "\n",
        "\n",
        "  for n_times in range(n+1):\n",
        "    #random position is generated here. This random position will be the place\n",
        "    #where the chromosome will be split\n",
        "    random_position = random.randint(random_position,L_1)\n",
        "\n",
        "    #The generated random values are stored in this list\n",
        "    random_vals.append(random_position)\n",
        "\n",
        "\n",
        "    if(n_times == n):\n",
        "      parent1_parts.append(parent1_array[start_pos:L_1+1])\n",
        "      parent2_parts.append(parent2_array[start_pos:L_1+1])\n",
        "\n",
        "    else:\n",
        "\n",
        "      parent1_parts.append(parent1_array[start_pos:random_position])\n",
        "      parent2_parts.append(parent2_array[start_pos:random_position])\n",
        "\n",
        "    start_pos = random_position\n",
        "    #random_position +=1\n",
        "\n",
        "\n",
        "  for i in range(len(parent1_parts)):\n",
        "    if(count%2==0):\n",
        "      temp = parent1_parts[i]\n",
        "      parent1_parts[i] = parent2_parts[i]\n",
        "      parent2_parts[i] = temp\n",
        "      count +=1\n",
        "    else:\n",
        "      #nothing\n",
        "      count += 1\n",
        "\n",
        "\n",
        "  offspring1_array = np.concatenate(([parent1_parts[i] for i in range(len(parent1_parts))]))\n",
        "  offspring2_array = np.concatenate(([parent2_parts[i] for i in range(len(parent1_parts))]))\n",
        "  \n",
        "  return offspring1_array,offspring2_array\n"
      ],
      "execution_count": 0,
      "outputs": []
    },
    {
      "cell_type": "markdown",
      "metadata": {
        "id": "ZtPy1zlX_dY_",
        "colab_type": "text"
      },
      "source": [
        "### **Crossover and Mutation Function**"
      ]
    },
    {
      "cell_type": "code",
      "metadata": {
        "id": "xDth-oznmi0J",
        "colab_type": "code",
        "colab": {}
      },
      "source": [
        "#crossover function\n",
        "def doCrossoverMutate(chromosome,fitness,popSize):\n",
        "  parent1,i = rankSelection(chromosome,fitness,popSize)\n",
        "  parent2,i = rankSelection(chromosome,fitness,popSize)\n",
        "  \n",
        "  #random crossover point\n",
        "  crossPoint = random.randint(1,10)\n",
        "  \n",
        "  c1p1 = parent1[1:crossPoint]\n",
        "  c1p2 = parent1[crossPoint:11]\n",
        "  \n",
        "  child =c1p1.append(c1p2)\n",
        "  \n",
        "  child = bitflip(child)\n",
        "  return child"
      ],
      "execution_count": 0,
      "outputs": []
    },
    {
      "cell_type": "code",
      "metadata": {
        "id": "_TXQpT10lC5N",
        "colab_type": "code",
        "colab": {}
      },
      "source": [
        "def getFitness(chromosome):\n",
        "  total_size = 0\n",
        "  total_duration = 0\n",
        "  \n",
        "  for i in range(len(chromosome)):\n",
        "    if(chromosome[i]==1):\n",
        "      total_size += df.loc[i,'size']\n",
        "      total_duration += df.loc[i,'duration']\n",
        "  \n",
        "  if(total_size>=4500):\n",
        "    fitness = total_duration*0.5\n",
        "    return fitness,total_size\n",
        "  else:\n",
        "    fitness = total_duration\n",
        "    return fitness,total_size"
      ],
      "execution_count": 0,
      "outputs": []
    },
    {
      "cell_type": "code",
      "metadata": {
        "id": "npW9BN7ppNiz",
        "colab_type": "code",
        "colab": {}
      },
      "source": [
        "def getDetails(chromosome):\n",
        "  total_size = 0\n",
        "  total_duration = 0\n",
        "  \n",
        "  for i in range(len(chromosome)):\n",
        "    if(chromosome[i]==1):\n",
        "      total_size += df.loc[i,'size']\n",
        "      total_duration += df.loc[i,'duration']\n",
        "      \n",
        "  return total_duration, total_size"
      ],
      "execution_count": 0,
      "outputs": []
    },
    {
      "cell_type": "markdown",
      "metadata": {
        "id": "rYDi-eCZ_hVG",
        "colab_type": "text"
      },
      "source": [
        "### **BitFlip of the Mutation**"
      ]
    },
    {
      "cell_type": "code",
      "metadata": {
        "id": "nnNbniZ-LbQi",
        "colab_type": "code",
        "colab": {}
      },
      "source": [
        "def bitflip(chromosome):\n",
        "  #generate random bit array\n",
        "  bits = [random.uniform(0,1) for _ in range(10)] #range size is the number of files\n",
        "  \n",
        "  for i in range(10):\n",
        "    if(bits[i]<0.3):\n",
        "      if(chromosome[i] == 0):\n",
        "        chromosome[i] = 1\n",
        "      else:\n",
        "        chromosome[i] = 0\n",
        "  \n",
        "  return chromosome\n",
        "      "
      ],
      "execution_count": 0,
      "outputs": []
    },
    {
      "cell_type": "markdown",
      "metadata": {
        "id": "ZZbApi5tApCR",
        "colab_type": "text"
      },
      "source": [
        "### **Replace the Offspring with the Population**\n",
        "\n"
      ]
    },
    {
      "cell_type": "code",
      "metadata": {
        "id": "A7RbOz8pQZhZ",
        "colab_type": "code",
        "colab": {}
      },
      "source": [
        "def replace_with_offspring(fifo_index,offSpring1,offSpring2):\n",
        "#   chromosome.iloc[fifo_index,1:] = offSpring.values\n",
        "#   chromosome.iloc[fifo_index+1,1:] = offSpring.values\n",
        "    chromosome.iloc[fifo_index,1:] = offSpring1\n",
        "    chromosome.iloc[fifo_index+1,1:] = offSpring2\n",
        "  "
      ],
      "execution_count": 0,
      "outputs": []
    },
    {
      "cell_type": "markdown",
      "metadata": {
        "id": "ElR3n9xN_lNP",
        "colab_type": "text"
      },
      "source": [
        "### **Iterate the Model**\n",
        "\n"
      ]
    },
    {
      "cell_type": "code",
      "metadata": {
        "id": "slw5Q3PfSaUe",
        "colab_type": "code",
        "colab": {}
      },
      "source": [
        "def trainModel(n,n_point):\n",
        "  epoch = 0\n",
        "  fit = pd.DataFrame()\n",
        "  filesize = pd.DataFrame()\n",
        "  parent1 = pd.DataFrame()\n",
        "  parent2 = pd.DataFrame()\n",
        "  for i in range(n):  \n",
        "    fitness, totFileSize = EvaluateFitness(chromosome,df,popSize)\n",
        "    #offSpring = doCrossoverMutate(chromosome,fitness,popSize)\n",
        "    #offspring1,offspring2 = binary_rep_n_point_crossover(n)\n",
        "    \n",
        "    \n",
        " \n",
        "    parent1, parent1_id = rankSelection(chromosome,fitness,popSize)\n",
        "    parent2, parent2_id = rankSelection(chromosome,fitness,popSize)\n",
        "    offspring1,offspring2 = binary_rep_n_point_crossover(n_point,parent1[1:],parent2[1:])\n",
        "    \n",
        "    offspring1 = bitflip(offspring1)\n",
        "    offspring2 = bitflip(offspring2)\n",
        "    \n",
        "    #replace parents\n",
        "    chromosome.iloc[parent1_id,1:] = offspring1\n",
        "    chromosome.iloc[parent2_id,1:] = offspring2\n",
        "    \n",
        "    fit = fitness\n",
        "    filesize = totFileSize\n",
        "    print(epoch)\n",
        "    epoch +=1\n",
        "    #return parent1,parent2,offspring1,offspring2\n",
        "  return fit,filesize,parent1,parent2    \n",
        "    #replace_with_offspring(fifo_index,offspring1,offspring2)\n",
        "    #return chromosome.iloc[fifo_index,1:]"
      ],
      "execution_count": 0,
      "outputs": []
    },
    {
      "cell_type": "markdown",
      "metadata": {
        "id": "aGAXyV85_p6m",
        "colab_type": "text"
      },
      "source": [
        "### **Run the Program**"
      ]
    },
    {
      "cell_type": "code",
      "metadata": {
        "id": "C3sAEJ26EO3X",
        "colab_type": "code",
        "outputId": "155fb4cf-9fd6-4849-f3e4-d014fa0e2872",
        "colab": {
          "base_uri": "https://localhost:8080/",
          "height": 1717
        }
      },
      "source": [
        "#initialize\n",
        "popSize = 100 #population size\n",
        "#creation of population of Chromosomes\n",
        "chromosome = createInitPop(popSize)\n",
        "\n",
        "#fifo index relates to the index to be removed. -1 is the initial value\n",
        "fifo_index = -1\n",
        "\n",
        "#iterate model and return the solution\n",
        "#parent1, parent2, offspring1, offspring2 = trainModel(100)\n",
        "\n",
        "# number_of_elements = 1000\n",
        "# for i in range(number_of_elements):\n",
        "#     if i % 100 == 0:\n",
        "#         print(i)\n",
        "#     trainModel(100) #Here should be the code that does the computation.\n",
        "# print('Done')\n",
        "#for i in tqdm_notebook(range(100)):\n",
        "\n",
        "iterations = 100\n",
        "n_point = 1\n",
        "fit,sizeK,parent1,parent2 = trainModel(iterations,n_point)\n",
        "\n",
        "\n",
        "# epoch = 0\n",
        "# finalDuration = []\n",
        "# finalSize = []\n",
        "\n",
        "# state = True\n",
        " \n",
        "# while(state):\n",
        "#     trainModel(iterations,epoch)\n",
        "#     epoch +=1\n",
        "#     for i in range(popSize):\n",
        "#       duration,size = getDetails(chromosome.iloc[i,1:].values)\n",
        "#       finalDuration.append(duration)\n",
        "#       finalSize.append(size)\n",
        "    \n",
        "#     if(finalSize[finalDuration.index(max(finalDuration))] <4500):\n",
        "#       #stop\n",
        "#       state = False\n",
        "#     else:\n",
        "#       #continue\n",
        "#       finalDuration.clear()\n",
        "#       finalSize.clear()\n",
        "    \n",
        "\n",
        "finalDuration = []\n",
        "finalSize = []\n",
        "\n",
        "for i in range(popSize):\n",
        "  duration,size = getFitness(chromosome.iloc[i,1:].values)\n",
        "  finalDuration.append(duration)\n",
        "  finalSize.append(size)\n",
        "  \n",
        "  \n",
        "\n",
        "# parent1_fitness = getFitness(parent1)\n",
        "# parent2_fitness = getFitness(parent2)\n",
        "# offspring1_fitness = getFitness(offspring1)\n",
        "# offspring2_fitness = getFitness(offspring2)"
      ],
      "execution_count": 170,
      "outputs": [
        {
          "output_type": "stream",
          "text": [
            "0\n",
            "1\n",
            "2\n",
            "3\n",
            "4\n",
            "5\n",
            "6\n",
            "7\n",
            "8\n",
            "9\n",
            "10\n",
            "11\n",
            "12\n",
            "13\n",
            "14\n",
            "15\n",
            "16\n",
            "17\n",
            "18\n",
            "19\n",
            "20\n",
            "21\n",
            "22\n",
            "23\n",
            "24\n",
            "25\n",
            "26\n",
            "27\n",
            "28\n",
            "29\n",
            "30\n",
            "31\n",
            "32\n",
            "33\n",
            "34\n",
            "35\n",
            "36\n",
            "37\n",
            "38\n",
            "39\n",
            "40\n",
            "41\n",
            "42\n",
            "43\n",
            "44\n",
            "45\n",
            "46\n",
            "47\n",
            "48\n",
            "49\n",
            "50\n",
            "51\n",
            "52\n",
            "53\n",
            "54\n",
            "55\n",
            "56\n",
            "57\n",
            "58\n",
            "59\n",
            "60\n",
            "61\n",
            "62\n",
            "63\n",
            "64\n",
            "65\n",
            "66\n",
            "67\n",
            "68\n",
            "69\n",
            "70\n",
            "71\n",
            "72\n",
            "73\n",
            "74\n",
            "75\n",
            "76\n",
            "77\n",
            "78\n",
            "79\n",
            "80\n",
            "81\n",
            "82\n",
            "83\n",
            "84\n",
            "85\n",
            "86\n",
            "87\n",
            "88\n",
            "89\n",
            "90\n",
            "91\n",
            "92\n",
            "93\n",
            "94\n",
            "95\n",
            "96\n",
            "97\n",
            "98\n",
            "99\n"
          ],
          "name": "stdout"
        }
      ]
    },
    {
      "cell_type": "code",
      "metadata": {
        "id": "H071XJmGwKqk",
        "colab_type": "code",
        "colab": {}
      },
      "source": [
        "#fit"
      ],
      "execution_count": 0,
      "outputs": []
    },
    {
      "cell_type": "code",
      "metadata": {
        "id": "-0ecDQ62FEsW",
        "colab_type": "code",
        "colab": {
          "base_uri": "https://localhost:8080/",
          "height": 221
        },
        "outputId": "35747267-2642-4e54-dd3f-970486f97d7c"
      },
      "source": [
        "parent1"
      ],
      "execution_count": 172,
      "outputs": [
        {
          "output_type": "execute_result",
          "data": {
            "text/plain": [
              "chromosome    51\n",
              "file 1         1\n",
              "file 2         0\n",
              "file 3         1\n",
              "file 4         1\n",
              "file 5         1\n",
              "file 6         0\n",
              "file 7         1\n",
              "file 8         0\n",
              "file 9         0\n",
              "file 10        1\n",
              "Name: 50, dtype: int64"
            ]
          },
          "metadata": {
            "tags": []
          },
          "execution_count": 172
        }
      ]
    },
    {
      "cell_type": "code",
      "metadata": {
        "id": "3K9_yWAfnJ1m",
        "colab_type": "code",
        "outputId": "edb95f04-494c-45be-81e2-38a99b11973b",
        "colab": {
          "base_uri": "https://localhost:8080/",
          "height": 221
        }
      },
      "source": [
        "parent2"
      ],
      "execution_count": 173,
      "outputs": [
        {
          "output_type": "execute_result",
          "data": {
            "text/plain": [
              "chromosome    40\n",
              "file 1         0\n",
              "file 2         1\n",
              "file 3         0\n",
              "file 4         0\n",
              "file 5         0\n",
              "file 6         1\n",
              "file 7         1\n",
              "file 8         0\n",
              "file 9         1\n",
              "file 10        1\n",
              "Name: 39, dtype: int64"
            ]
          },
          "metadata": {
            "tags": []
          },
          "execution_count": 173
        }
      ]
    },
    {
      "cell_type": "code",
      "metadata": {
        "id": "HUU2lBGpww7U",
        "colab_type": "code",
        "colab": {
          "base_uri": "https://localhost:8080/",
          "height": 34
        },
        "outputId": "b9f4cd00-67d5-472a-ecf3-847198e8c2ef"
      },
      "source": [
        "finalDuration.index(max(finalDuration))"
      ],
      "execution_count": 174,
      "outputs": [
        {
          "output_type": "execute_result",
          "data": {
            "text/plain": [
              "6"
            ]
          },
          "metadata": {
            "tags": []
          },
          "execution_count": 174
        }
      ]
    },
    {
      "cell_type": "code",
      "metadata": {
        "id": "w7UrofBwlFmF",
        "colab_type": "code",
        "outputId": "42343321-9e67-48c2-c114-1811b77783fb",
        "colab": {
          "base_uri": "https://localhost:8080/",
          "height": 34
        }
      },
      "source": [
        "finalSize[finalDuration.index(max(finalDuration))]"
      ],
      "execution_count": 175,
      "outputs": [
        {
          "output_type": "execute_result",
          "data": {
            "text/plain": [
              "4475"
            ]
          },
          "metadata": {
            "tags": []
          },
          "execution_count": 175
        }
      ]
    },
    {
      "cell_type": "code",
      "metadata": {
        "id": "8FU8BsSBK3Xf",
        "colab_type": "code",
        "colab": {
          "base_uri": "https://localhost:8080/",
          "height": 34
        },
        "outputId": "73b1a7b8-ea97-4068-c850-7fffaa7fa789"
      },
      "source": [
        "finalDuration[finalDuration.index(max(finalDuration))]"
      ],
      "execution_count": 176,
      "outputs": [
        {
          "output_type": "execute_result",
          "data": {
            "text/plain": [
              "613"
            ]
          },
          "metadata": {
            "tags": []
          },
          "execution_count": 176
        }
      ]
    },
    {
      "cell_type": "code",
      "metadata": {
        "id": "4DYhr1UnHHC0",
        "colab_type": "code",
        "colab": {
          "base_uri": "https://localhost:8080/",
          "height": 286
        },
        "outputId": "c86296bf-d41c-43c7-b20b-dc07365ae14c"
      },
      "source": [
        "plt.plot([x for x in range(popSize)],[finalSize[x] for x in range(len(finalSize))])\n",
        "plt.plot([finalDuration.index(max(finalDuration))],[finalSize[finalDuration.index(max(finalDuration))]],'r+')\n",
        "plt.plot([x for x in range(popSize)],[4500 for x in range(len(finalSize))])"
      ],
      "execution_count": 169,
      "outputs": [
        {
          "output_type": "execute_result",
          "data": {
            "text/plain": [
              "[<matplotlib.lines.Line2D at 0x7f681fd3cbe0>]"
            ]
          },
          "metadata": {
            "tags": []
          },
          "execution_count": 169
        },
        {
          "output_type": "display_data",
          "data": {
            "image/png": "[encoded data removed]",
            "text/plain": [
              "<Figure size 432x288 with 1 Axes>"
            ]
          },
          "metadata": {
            "tags": []
          }
        }
      ]
    },
    {
      "cell_type": "code",
      "metadata": {
        "id": "_IgQGnbdlSUA",
        "colab_type": "code",
        "outputId": "694c0919-7eaa-4e00-ff0b-2c65db4ad150",
        "colab": {
          "base_uri": "https://localhost:8080/",
          "height": 34
        }
      },
      "source": [
        "max(finalDuration)"
      ],
      "execution_count": 60,
      "outputs": [
        {
          "output_type": "execute_result",
          "data": {
            "text/plain": [
              "944"
            ]
          },
          "metadata": {
            "tags": []
          },
          "execution_count": 60
        }
      ]
    },
    {
      "cell_type": "code",
      "metadata": {
        "id": "_bvqmo-NayNQ",
        "colab_type": "code",
        "outputId": "36ae3676-f639-47df-956e-ca9f4ab80631",
        "colab": {
          "base_uri": "https://localhost:8080/",
          "height": 164
        }
      },
      "source": [
        "chromosome.iloc[finalFitness.index(max(finalFitness)),1:].values"
      ],
      "execution_count": 25,
      "outputs": [
        {
          "output_type": "error",
          "ename": "NameError",
          "evalue": "ignored",
          "traceback": [
            "\u001b[0;31m---------------------------------------------------------------------------\u001b[0m",
            "\u001b[0;31mNameError\u001b[0m                                 Traceback (most recent call last)",
            "\u001b[0;32m<ipython-input-25-c8764bb9db75>\u001b[0m in \u001b[0;36m<module>\u001b[0;34m()\u001b[0m\n\u001b[0;32m----> 1\u001b[0;31m \u001b[0mchromosome\u001b[0m\u001b[0;34m.\u001b[0m\u001b[0miloc\u001b[0m\u001b[0;34m[\u001b[0m\u001b[0mfinalFitness\u001b[0m\u001b[0;34m.\u001b[0m\u001b[0mindex\u001b[0m\u001b[0;34m(\u001b[0m\u001b[0mmax\u001b[0m\u001b[0;34m(\u001b[0m\u001b[0mfinalFitness\u001b[0m\u001b[0;34m)\u001b[0m\u001b[0;34m)\u001b[0m\u001b[0;34m,\u001b[0m\u001b[0;36m1\u001b[0m\u001b[0;34m:\u001b[0m\u001b[0;34m]\u001b[0m\u001b[0;34m.\u001b[0m\u001b[0mvalues\u001b[0m\u001b[0;34m\u001b[0m\u001b[0;34m\u001b[0m\u001b[0m\n\u001b[0m",
            "\u001b[0;31mNameError\u001b[0m: name 'finalFitness' is not defined"
          ]
        }
      ]
    },
    {
      "cell_type": "code",
      "metadata": {
        "id": "y2EHrJtJngoG",
        "colab_type": "code",
        "colab": {}
      },
      "source": [
        "parent1_fitness"
      ],
      "execution_count": 0,
      "outputs": []
    },
    {
      "cell_type": "code",
      "metadata": {
        "id": "0UVRsScmng2c",
        "colab_type": "code",
        "colab": {}
      },
      "source": [
        "parent2_fitness"
      ],
      "execution_count": 0,
      "outputs": []
    },
    {
      "cell_type": "code",
      "metadata": {
        "id": "rjvigpvBRNo7",
        "colab_type": "code",
        "colab": {}
      },
      "source": [
        "offspring1_fitness"
      ],
      "execution_count": 0,
      "outputs": []
    },
    {
      "cell_type": "code",
      "metadata": {
        "id": "bHzcURgnR51g",
        "colab_type": "code",
        "colab": {}
      },
      "source": [
        "offspring2_fitness"
      ],
      "execution_count": 0,
      "outputs": []
    },
    {
      "cell_type": "code",
      "metadata": {
        "id": "I8XsVHlab5TW",
        "colab_type": "code",
        "colab": {}
      },
      "source": [
        "#nn = np.array([8,8,8,8,8,8,8,8,8,8])"
      ],
      "execution_count": 0,
      "outputs": []
    },
    {
      "cell_type": "code",
      "metadata": {
        "id": "2FT41kYybzXr",
        "colab_type": "code",
        "colab": {}
      },
      "source": [
        "#chromosome.iloc[0,1:] = nn"
      ],
      "execution_count": 0,
      "outputs": []
    },
    {
      "cell_type": "code",
      "metadata": {
        "id": "Nl51BafCb_lJ",
        "colab_type": "code",
        "colab": {}
      },
      "source": [
        "#chromosome"
      ],
      "execution_count": 0,
      "outputs": []
    },
    {
      "cell_type": "markdown",
      "metadata": {
        "id": "cVNEzLFPu7fu",
        "colab_type": "text"
      },
      "source": [
        "## **Testing Area**"
      ]
    },
    {
      "cell_type": "code",
      "metadata": {
        "id": "M6-s3-bXa0_I",
        "colab_type": "code",
        "colab": {}
      },
      "source": [
        "from tqdm import tqdm_notebook\n",
        "from time import sleep\n",
        "\n",
        "for i in tqdm_notebook(range(100)):\n",
        "    sleep(.05)"
      ],
      "execution_count": 0,
      "outputs": []
    },
    {
      "cell_type": "code",
      "metadata": {
        "id": "N4EMrQdAa8Qf",
        "colab_type": "code",
        "colab": {}
      },
      "source": [
        "population"
      ],
      "execution_count": 0,
      "outputs": []
    },
    {
      "cell_type": "code",
      "metadata": {
        "id": "QZgOqDWta9ad",
        "colab_type": "code",
        "colab": {}
      },
      "source": [
        "parent1 = population.iloc[10,1:]"
      ],
      "execution_count": 0,
      "outputs": []
    },
    {
      "cell_type": "code",
      "metadata": {
        "id": "lj7RoY6qbTpY",
        "colab_type": "code",
        "colab": {}
      },
      "source": [
        "parent2 = population.iloc[11,1:]"
      ],
      "execution_count": 0,
      "outputs": []
    },
    {
      "cell_type": "code",
      "metadata": {
        "id": "921KeT5DbUaI",
        "colab_type": "code",
        "colab": {}
      },
      "source": [
        "child1, child2 = binary_rep_n_point_crossover(1,parent1,parent2)"
      ],
      "execution_count": 0,
      "outputs": []
    },
    {
      "cell_type": "code",
      "metadata": {
        "id": "bZgrebzmbdIX",
        "colab_type": "code",
        "colab": {}
      },
      "source": [
        "child1"
      ],
      "execution_count": 0,
      "outputs": []
    },
    {
      "cell_type": "code",
      "metadata": {
        "id": "JcvGXjJJbeFA",
        "colab_type": "code",
        "colab": {}
      },
      "source": [
        "child2"
      ],
      "execution_count": 0,
      "outputs": []
    },
    {
      "cell_type": "code",
      "metadata": {
        "id": "0g9Ab0C9bfHK",
        "colab_type": "code",
        "colab": {}
      },
      "source": [
        "child1 = bitflip(child1)"
      ],
      "execution_count": 0,
      "outputs": []
    },
    {
      "cell_type": "code",
      "metadata": {
        "id": "UPDagolIc3GY",
        "colab_type": "code",
        "colab": {}
      },
      "source": [
        "child2 = bitflip(child2)"
      ],
      "execution_count": 0,
      "outputs": []
    },
    {
      "cell_type": "code",
      "metadata": {
        "id": "6DcmROvEc392",
        "colab_type": "code",
        "colab": {}
      },
      "source": [
        "fitness"
      ],
      "execution_count": 0,
      "outputs": []
    },
    {
      "cell_type": "code",
      "metadata": {
        "id": "p8DtiIQQfA4k",
        "colab_type": "code",
        "colab": {}
      },
      "source": [
        "child1.values"
      ],
      "execution_count": 0,
      "outputs": []
    },
    {
      "cell_type": "code",
      "metadata": {
        "id": "EfEqGS3Lhg9J",
        "colab_type": "code",
        "colab": {}
      },
      "source": [
        ""
      ],
      "execution_count": 0,
      "outputs": []
    }
  ]
}