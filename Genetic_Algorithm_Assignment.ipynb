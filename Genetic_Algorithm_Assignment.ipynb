{
  "nbformat": 4,
  "nbformat_minor": 0,
  "metadata": {
    "colab": {
      "name": "Genetic Algorithm Assignment.ipynb",
      "version": "0.3.2",
      "provenance": [],
      "collapsed_sections": [
        "nUxFNg0GHCh6",
        "kpO0AXAPmYnI",
        "XbQ4-DPC_Eds"
      ],
      "toc_visible": true,
      "include_colab_link": true
    },
    "kernelspec": {
      "name": "python3",
      "display_name": "Python 3"
    },
    "accelerator": "GPU"
  },
  "cells": [
    {
      "cell_type": "markdown",
      "metadata": {
        "id": "view-in-github",
        "colab_type": "text"
      },
      "source": [
        "<a href=\"https://colab.research.google.com/github/adhishagc/Genetic-Algorithm-using-Python-Example/blob/master/Genetic_Algorithm_Assignment.ipynb\" target=\"_parent\"><img src=\"https://colab.research.google.com/assets/colab-badge.svg\" alt=\"Open In Colab\"/></a>"
      ]
    },
    {
      "cell_type": "markdown",
      "metadata": {
        "id": "Tzl3sKqNjh0H",
        "colab_type": "text"
      },
      "source": [
        "## **Table of Contents**\n",
        "\n",
        "---\n",
        "\n",
        "\n",
        "1.   **Importing Libraries**\n",
        "2.   **Access to Google Drive**\n",
        "3.**Function Definitions**\n",
        "4. **Running the Model**\n",
        "\n",
        "\n",
        "\n"
      ]
    },
    {
      "cell_type": "markdown",
      "metadata": {
        "id": "BEFLTAgH9Jxo",
        "colab_type": "text"
      },
      "source": [
        "### **Initialization**\n",
        "\n",
        "\n",
        "1.   Import of Libraries\n",
        "2.   Access to Google Drive\n",
        "3. Load the Dataset\n",
        "4. View the Dataset as a Dataframe\n",
        "\n"
      ]
    },
    {
      "cell_type": "code",
      "metadata": {
        "id": "-eurb3QNqpfi",
        "colab_type": "code",
        "colab": {}
      },
      "source": [
        "#importing libraries\n",
        "import pandas as pd\n",
        "import numpy as np\n",
        "import random as random\n",
        "from matplotlib import pyplot as plt\n",
        "import time"
      ],
      "execution_count": 0,
      "outputs": []
    },
    {
      "cell_type": "code",
      "metadata": {
        "id": "XbdYNXe5rWwX",
        "colab_type": "code",
        "colab": {
          "base_uri": "https://localhost:8080/",
          "height": 54
        },
        "outputId": "ba38db79-be6a-48ad-82b2-7ec490d445a1"
      },
      "source": [
        "#Access to google drive. The Video Store dataset was uploaded to google drive.\n",
        "from google.colab import drive\n",
        "drive.mount('/content/gdrive')"
      ],
      "execution_count": 6,
      "outputs": [
        {
          "output_type": "stream",
          "text": [
            "Drive already mounted at /content/gdrive; to attempt to forcibly remount, call drive.mount(\"/content/gdrive\", force_remount=True).\n"
          ],
          "name": "stdout"
        }
      ]
    },
    {
      "cell_type": "code",
      "metadata": {
        "id": "2x9m61XNt9iD",
        "colab_type": "code",
        "colab": {}
      },
      "source": [
        "#The dataset is load dataset to a dataframe\n",
        "df = pd.read_csv('/content/gdrive/My Drive/Genetic Algorithms/Assignment 01/dataset.csv')"
      ],
      "execution_count": 0,
      "outputs": []
    },
    {
      "cell_type": "code",
      "metadata": {
        "id": "QfQMTCpC-rop",
        "colab_type": "code",
        "colab": {
          "base_uri": "https://localhost:8080/",
          "height": 359
        },
        "outputId": "90e3f947-e190-4045-9ca2-0bccd7998226"
      },
      "source": [
        "#view dataset\n",
        "df"
      ],
      "execution_count": 8,
      "outputs": [
        {
          "output_type": "execute_result",
          "data": {
            "text/html": [
              "<div>\n",
              "<style scoped>\n",
              "    .dataframe tbody tr th:only-of-type {\n",
              "        vertical-align: middle;\n",
              "    }\n",
              "\n",
              "    .dataframe tbody tr th {\n",
              "        vertical-align: top;\n",
              "    }\n",
              "\n",
              "    .dataframe thead th {\n",
              "        text-align: right;\n",
              "    }\n",
              "</style>\n",
              "<table border=\"1\" class=\"dataframe\">\n",
              "  <thead>\n",
              "    <tr style=\"text-align: right;\">\n",
              "      <th></th>\n",
              "      <th>file</th>\n",
              "      <th>size</th>\n",
              "      <th>duration</th>\n",
              "    </tr>\n",
              "  </thead>\n",
              "  <tbody>\n",
              "    <tr>\n",
              "      <th>0</th>\n",
              "      <td>1</td>\n",
              "      <td>800</td>\n",
              "      <td>121</td>\n",
              "    </tr>\n",
              "    <tr>\n",
              "      <th>1</th>\n",
              "      <td>2</td>\n",
              "      <td>700</td>\n",
              "      <td>95</td>\n",
              "    </tr>\n",
              "    <tr>\n",
              "      <th>2</th>\n",
              "      <td>3</td>\n",
              "      <td>650</td>\n",
              "      <td>85</td>\n",
              "    </tr>\n",
              "    <tr>\n",
              "      <th>3</th>\n",
              "      <td>4</td>\n",
              "      <td>750</td>\n",
              "      <td>100</td>\n",
              "    </tr>\n",
              "    <tr>\n",
              "      <th>4</th>\n",
              "      <td>5</td>\n",
              "      <td>600</td>\n",
              "      <td>78</td>\n",
              "    </tr>\n",
              "    <tr>\n",
              "      <th>5</th>\n",
              "      <td>6</td>\n",
              "      <td>900</td>\n",
              "      <td>125</td>\n",
              "    </tr>\n",
              "    <tr>\n",
              "      <th>6</th>\n",
              "      <td>7</td>\n",
              "      <td>950</td>\n",
              "      <td>130</td>\n",
              "    </tr>\n",
              "    <tr>\n",
              "      <th>7</th>\n",
              "      <td>8</td>\n",
              "      <td>875</td>\n",
              "      <td>128</td>\n",
              "    </tr>\n",
              "    <tr>\n",
              "      <th>8</th>\n",
              "      <td>9</td>\n",
              "      <td>1050</td>\n",
              "      <td>135</td>\n",
              "    </tr>\n",
              "    <tr>\n",
              "      <th>9</th>\n",
              "      <td>10</td>\n",
              "      <td>1500</td>\n",
              "      <td>120</td>\n",
              "    </tr>\n",
              "  </tbody>\n",
              "</table>\n",
              "</div>"
            ],
            "text/plain": [
              "   file  size  duration\n",
              "0     1   800       121\n",
              "1     2   700        95\n",
              "2     3   650        85\n",
              "3     4   750       100\n",
              "4     5   600        78\n",
              "5     6   900       125\n",
              "6     7   950       130\n",
              "7     8   875       128\n",
              "8     9  1050       135\n",
              "9    10  1500       120"
            ]
          },
          "metadata": {
            "tags": []
          },
          "execution_count": 8
        }
      ]
    },
    {
      "cell_type": "markdown",
      "metadata": {
        "id": "7JEmrYDp_IZo",
        "colab_type": "text"
      },
      "source": [
        "### **Population Creation Function**\n",
        "A dataframe which consists of the entire population is returned when this function is called. The structure would be of 1 column to label the chromosome number and the remaining 10 columns will represent the file number of the dataset. The returned dataframe (population) will consist of random 0 or 1 values in the  chromosome."
      ]
    },
    {
      "cell_type": "code",
      "metadata": {
        "id": "JKhFpNlW6UCH",
        "colab_type": "code",
        "colab": {}
      },
      "source": [
        "# function for init population\n",
        "def createInitPop(popSize):\n",
        "  #array of data to represent the chromosomes and random file labellings\n",
        "  values ={\n",
        "    'chromosome':[i for i in range(1,popSize+1)],\n",
        "    'file 1':[random.randint(0, 1) for _ in range(popSize)],\n",
        "    'file 2':[random.randint(0, 1) for _ in range(popSize)],\n",
        "    'file 3':[random.randint(0, 1) for _ in range(popSize)],\n",
        "    'file 4':[random.randint(0, 1) for _ in range(popSize)],\n",
        "    'file 5':[random.randint(0, 1) for _ in range(popSize)],\n",
        "    'file 6':[random.randint(0, 1) for _ in range(popSize)],\n",
        "    'file 7':[random.randint(0, 1) for _ in range(popSize)],\n",
        "    'file 8':[random.randint(0, 1) for _ in range(popSize)],\n",
        "    'file 9':[random.randint(0, 1) for _ in range(popSize)],\n",
        "    'file 10':[random.randint(0, 1) for _ in range(popSize)],\n",
        "  }\n",
        "  #convert the array of population to a dataframe\n",
        "  values = pd.DataFrame(values)\n",
        "  \n",
        "  #return the dataframe\n",
        "  return values"
      ],
      "execution_count": 0,
      "outputs": []
    },
    {
      "cell_type": "markdown",
      "metadata": {
        "id": "o45jFGcl_Rq_",
        "colab_type": "text"
      },
      "source": [
        "### **Evaluate Fitness Function**\n",
        "\n",
        "\\begin{equation}\n",
        "f(x_i) = \\textrm{Playing time of video file of } x_i\n",
        "\\end{equation}\n",
        "\n",
        "\\begin{equation}\n",
        "g(x_i) = \\textrm{File size of video file of } x_i\n",
        "\\end{equation}\n",
        "\n",
        "**Objective Function**\n",
        "\\begin{equation}\n",
        "\\textrm{Maximize }\\sum f(x_i) \\textrm{ such that } \\sum g(x_i)<=4500\n",
        "\\end{equation}"
      ]
    },
    {
      "cell_type": "code",
      "metadata": {
        "id": "aLZeRrRsX5UC",
        "colab_type": "code",
        "colab": {}
      },
      "source": [
        "#Evaluate Fitness Function\n",
        "def EvaluateFitness(chromosome,df,popSize):\n",
        "  #fitness array\n",
        "  fitness = {\n",
        "      'chromosome':[x for x in range(1,popSize+1)],\n",
        "      'fitness':[0 for x in range(0,popSize)]\n",
        "  }\n",
        "  \n",
        "  #size array\n",
        "  filesize = {\n",
        "      'chromosome':[x for x in range(1,popSize+1)],\n",
        "      'size':[0 for x in range(0,popSize)]\n",
        "  }\n",
        "\n",
        "  #convert to dataframe\n",
        "  fitness = pd.DataFrame(fitness)\n",
        "  filesize = pd.DataFrame(filesize)\n",
        "\n",
        "  #total file size and duration PER Solution\n",
        "  size=0\n",
        "  duration=0\n",
        "  \n",
        "  #implementation of the Fitness Function\n",
        "  # i navigates the rows while the j navigates the file1, file2 ... columns in the chromosome.\n",
        "  for i in range(popSize):\n",
        "    for j in range(1,11):\n",
        "      #navigate through each chromosome in the population and check for the cells which contains a file, that is 1 value in the cell.\n",
        "      \n",
        "      if(chromosome.iloc[i,j] ==1):\n",
        "        #if it contains any file in the cell(that is a 1 value) the size and the duration of the solution is calculated by comparing the dataset.\n",
        "        size += df.iloc[j-1,1]\n",
        "        duration +=df.iloc[j-1,2]\n",
        "    \n",
        "    #calculation of the fitness and the total file size of the entire population\n",
        "    if(size<=4500):\n",
        "      #these values are potential solutions since the size is less than 4500.\n",
        "      #respective fitness and filesizes are added to the dataframe\n",
        "      fitness.loc[i,'fitness'] = duration\n",
        "      filesize.loc[i,'size'] = size\n",
        "      \n",
        "    else:\n",
        "      #These will be non solutions. Therefore the fitness is reduced by multiplying by 0.5\n",
        "      #The file size is stored\n",
        "      fitness.loc[i,'fitness'] = duration*0.5\n",
        "      filesize.loc[i,'size'] = size\n",
        "      \n",
        "    #The PER solution size and duration values are reset\n",
        "    size = 0\n",
        "    duration = 0\n",
        "  \n",
        "  #The entire fitness and filesize of the population is returned as a DataFrame\n",
        "  return fitness, filesize      "
      ],
      "execution_count": 0,
      "outputs": []
    },
    {
      "cell_type": "markdown",
      "metadata": {
        "id": "KDNuThva_Wj-",
        "colab_type": "text"
      },
      "source": [
        "### **Rank Selection Function**"
      ]
    },
    {
      "cell_type": "code",
      "metadata": {
        "id": "rHnFx9w2g8wL",
        "colab_type": "code",
        "colab": {}
      },
      "source": [
        "#Rank Selection Function\n",
        "def rankSelection(chromosome,fitness,popSize):\n",
        "  #Total integer value from 0 to population size \n",
        "  #rankTotal = sum(x for x in range(popSize))\n",
        "  rankTotal = 0\n",
        "  for x in range(popSize):\n",
        "    rankTotal += x\n",
        "    \n",
        "  #A random value inbetween 0 and above value\n",
        "  totRandom = random.uniform(0,1)*rankTotal\n",
        "  \n",
        "  #variable to store the accumilation of fitness values\n",
        "  tot=0\n",
        "  #sorting the fitness dataframe having the lowest on the top and the highest in the bottom\n",
        "  fitness_sorted = fitness.sort_values(by=['fitness'])\n",
        "  \n",
        "  for i in fitness_sorted.index:\n",
        "    #accumilation of the fitness values till the accumilation is equal to the random total generated\n",
        "    tot += fitness_sorted.loc[i,'fitness']\n",
        "    if(tot>=totRandom):\n",
        "      global fifo_index\n",
        "      fifo_index = i\n",
        "      \n",
        "      #returning the chromosome(as a parent selected) and the respective value i where the accumilation stopped. \n",
        "      selected_parent = chromosome.loc[i,:]\n",
        "      selected_parent_id = i\n",
        "      \n",
        "      return selected_parent,selected_parent_id"
      ],
      "execution_count": 0,
      "outputs": []
    },
    {
      "cell_type": "markdown",
      "metadata": {
        "id": "NrydFJLYZ8TN",
        "colab_type": "text"
      },
      "source": [
        "### **Binary Represented N Point Crossover Function Generalized**\n",
        "The function has generalized the Single Point Crossover and the N-Point Crossover operators.\n",
        "When :\n",
        "\\begin{equation}\n",
        "n = 1...n \\textrm{ which is the n-point}\n",
        "\\end{equation}\n",
        "is passed as a parameter it the function it acts as a single point crossover and for the rest as an n point crossover. Also the :\n",
        "\\begin{equation}\n",
        "p_c = 0.8 \\textrm{ or etc, crossover rate}\n",
        "\\end{equation}\n",
        "would be the crossover rate for the function.\n"
      ]
    },
    {
      "cell_type": "code",
      "metadata": {
        "id": "LVeLCuF3Z6jR",
        "colab_type": "code",
        "colab": {}
      },
      "source": [
        "def binary_rep_n_point_crossover(n,parent1,parent2,pc):\n",
        "  \n",
        "  parent1_parts = [] #this list contains parent 1 partwise split sections based on the random values generated\n",
        "  parent2_parts = [] #this list contains parent 2 partwise split sections based on the random values generated\n",
        "  random_vals = [] #list to store the generated random values\n",
        "  start_pos = 0 #start position of the spiliting parents\n",
        "  random_position = start_pos+1 #initial random position\n",
        "  L_1 = 10-1 # the random value range should be in between 1 to 10-1 which is L-1\n",
        "\n",
        "  parent1_array = parent1.values\n",
        "  parent2_array = parent2.values\n",
        "\n",
        "  if(random.uniform(0,1)>=pc):\n",
        "    #crossover takes place\n",
        "    count = 1\n",
        "\n",
        "    for n_times in range(n+1):\n",
        "      #random position is generated here. This random position will be the place\n",
        "      #where the chromosome will be split\n",
        "      random_position = random.randint(random_position,L_1)\n",
        "\n",
        "      #The generated random values are stored in this list\n",
        "      random_vals.append(random_position)\n",
        "\n",
        "\n",
        "      if(n_times == n):\n",
        "        parent1_parts.append(parent1_array[start_pos:L_1+1])\n",
        "        parent2_parts.append(parent2_array[start_pos:L_1+1])\n",
        "\n",
        "      else:\n",
        "\n",
        "        parent1_parts.append(parent1_array[start_pos:random_position])\n",
        "        parent2_parts.append(parent2_array[start_pos:random_position])\n",
        "\n",
        "      start_pos = random_position\n",
        "      #random_position +=1\n",
        "\n",
        "\n",
        "    for i in range(len(parent1_parts)):\n",
        "      if(count%2==0):\n",
        "        temp = parent1_parts[i]\n",
        "        parent1_parts[i] = parent2_parts[i]\n",
        "        parent2_parts[i] = temp\n",
        "        count +=1\n",
        "      else:\n",
        "        #nothing\n",
        "        count += 1\n",
        "\n",
        "\n",
        "    offspring1_array = np.concatenate(([parent1_parts[i] for i in range(len(parent1_parts))]))\n",
        "    offspring2_array = np.concatenate(([parent2_parts[i] for i in range(len(parent1_parts))]))\n",
        "    return offspring1_array,offspring2_array\n",
        "  \n",
        "  else:\n",
        "    return parent1_array,parent2_array \n",
        "  \n"
      ],
      "execution_count": 0,
      "outputs": []
    },
    {
      "cell_type": "markdown",
      "metadata": {
        "id": "rYDi-eCZ_hVG",
        "colab_type": "text"
      },
      "source": [
        "### **BitFlip of the Mutation**\n",
        "Bit flip is done based on a randomly generated array of numbers compared with the mutation rate variable. If the compared value is higher than the mutation rate bit value is flipped.\n",
        "\\begin{equation}\n",
        "p_m = 0 .... 1  \\textrm{ Mutation rate Variable}\n",
        "\\end{equation}"
      ]
    },
    {
      "cell_type": "code",
      "metadata": {
        "id": "nnNbniZ-LbQi",
        "colab_type": "code",
        "colab": {}
      },
      "source": [
        "def bitflip(chromosome,pm):\n",
        "  #generate random bit array\n",
        "  bits = [random.uniform(0,1) for _ in range(10)] #range size is the number of files\n",
        "  \n",
        "  for i in range(10):\n",
        "    if(bits[i]>=pm):\n",
        "      if(chromosome[i] == 0):\n",
        "        chromosome[i] = 1\n",
        "      else:\n",
        "        chromosome[i] = 0\n",
        "  \n",
        "  return chromosome\n",
        "      "
      ],
      "execution_count": 0,
      "outputs": []
    },
    {
      "cell_type": "markdown",
      "metadata": {
        "id": "ZtPy1zlX_dY_",
        "colab_type": "text"
      },
      "source": [
        "### **Supportive Functions**\n",
        "These functions are used for retrieving individual chromosome information. Much used for debugging purposes.\n",
        "\n",
        "1.   **getFitness** function retruns the fitness and the total size of the Chromosome\n",
        "2.   **getDetails** function returns the total file size and the total duration of the Chromosome\n",
        "\n"
      ]
    },
    {
      "cell_type": "code",
      "metadata": {
        "id": "_TXQpT10lC5N",
        "colab_type": "code",
        "colab": {}
      },
      "source": [
        "def getFitness(chromosome):\n",
        "  total_size = 0\n",
        "  total_duration = 0\n",
        "  \n",
        "  for i in range(len(chromosome)):\n",
        "    if(chromosome[i]==1):\n",
        "      total_size += df.loc[i,'size']\n",
        "      total_duration += df.loc[i,'duration']\n",
        "  \n",
        "  if(total_size>4500):\n",
        "    fitness = total_duration*0.5\n",
        "    return fitness,total_size\n",
        "  else:\n",
        "    fitness = total_duration\n",
        "    \n",
        "    return fitness,total_size"
      ],
      "execution_count": 0,
      "outputs": []
    },
    {
      "cell_type": "code",
      "metadata": {
        "id": "3Mni32HhOggn",
        "colab_type": "code",
        "colab": {}
      },
      "source": [
        "def getFitness_for_runs(chromosome):\n",
        "  total_size = 0\n",
        "  total_duration = 0\n",
        "  \n",
        "  for i in range(len(chromosome)):\n",
        "    if(chromosome[i]==1):\n",
        "      total_size += df.loc[i,'size']\n",
        "      total_duration += df.loc[i,'duration']\n",
        "  \n",
        "  if(total_size>4500):\n",
        "    fitness = total_duration*0.5\n",
        "    return fitness,total_duration,total_size\n",
        "  else:\n",
        "    fitness = total_duration\n",
        "    \n",
        "    return fitness,total_duration,total_size"
      ],
      "execution_count": 0,
      "outputs": []
    },
    {
      "cell_type": "code",
      "metadata": {
        "id": "npW9BN7ppNiz",
        "colab_type": "code",
        "colab": {}
      },
      "source": [
        "def getDetails(chromosome):\n",
        "  total_size = 0\n",
        "  total_duration = 0\n",
        "  \n",
        "  for i in range(len(chromosome)):\n",
        "    if(chromosome[i]==1):\n",
        "      total_size += df.loc[i,'size']\n",
        "      total_duration += df.loc[i,'duration']\n",
        "      \n",
        "  return total_duration, total_size"
      ],
      "execution_count": 0,
      "outputs": []
    },
    {
      "cell_type": "markdown",
      "metadata": {
        "id": "ZZbApi5tApCR",
        "colab_type": "text"
      },
      "source": [
        "### **Replace the Offspring with the Population**\n",
        "Offspring is replaced based on age. That is the selected parents are replaced.\n",
        "\n"
      ]
    },
    {
      "cell_type": "code",
      "metadata": {
        "id": "A7RbOz8pQZhZ",
        "colab_type": "code",
        "colab": {}
      },
      "source": [
        "def replace_with_offspring(parent1_id,parent2_id,offspring1,offspring2):\n",
        "  #Offspring is replaced based on age. That is the selected parents are replaced.\n",
        "  chromosome.iloc[parent1_id,1:] = offspring1\n",
        "  chromosome.iloc[parent2_id,1:] = offspring2"
      ],
      "execution_count": 0,
      "outputs": []
    },
    {
      "cell_type": "markdown",
      "metadata": {
        "id": "ElR3n9xN_lNP",
        "colab_type": "text"
      },
      "source": [
        "### **Iterate the Model**\n",
        "\n"
      ]
    },
    {
      "cell_type": "code",
      "metadata": {
        "id": "slw5Q3PfSaUe",
        "colab_type": "code",
        "colab": {}
      },
      "source": [
        "def trainModel(n,n_point,p_c,p_m):\n",
        "  #variable to count and display the current epoch\n",
        "  epoch = 0\n",
        "  fit = pd.DataFrame()\n",
        "  filesize = pd.DataFrame()\n",
        "  parent1 = pd.DataFrame()\n",
        "  parent2 = pd.DataFrame()\n",
        "  \n",
        "  \n",
        "  for i in range(n):\n",
        "    #Fitness Evaluation\n",
        "    fitness, totFileSize = EvaluateFitness(chromosome,df,popSize)\n",
        "    \n",
        "    #parent selection\n",
        "    parent1, parent1_id = rankSelection(chromosome,fitness,popSize)\n",
        "    parent2, parent2_id = rankSelection(chromosome,fitness,popSize)\n",
        "    \n",
        "    #offspring generation through crossover\n",
        "    offspring1,offspring2 = binary_rep_n_point_crossover(n_point,parent1[1:],parent2[1:],p_c)\n",
        "    \n",
        "    #passing the generated offspring for mutation\n",
        "    offspring1 = bitflip(offspring1,p_m)\n",
        "    offspring2 = bitflip(offspring2,p_m)\n",
        "    \n",
        "    #replace parents\n",
        "    replace_with_offspring(parent1_id,parent2_id,offspring1,offspring2)\n",
        "    \n",
        "    #display epoch\n",
        "    #print(epoch)\n",
        "    #epoch +=1\n",
        "    \n",
        "    #debugging purposes returning values\n",
        "    fit = fitness\n",
        "    filesize = totFileSize\n",
        "    \n",
        "    #return parent1,parent2,offspring1,offspring2\n",
        "  #return fit,filesize,parent1,parent2     # general purpose\n",
        "  #return \n"
      ],
      "execution_count": 0,
      "outputs": []
    },
    {
      "cell_type": "code",
      "metadata": {
        "id": "ItdC-TfCjdlC",
        "colab_type": "code",
        "colab": {
          "base_uri": "https://localhost:8080/",
          "height": 34
        },
        "outputId": "3af40a9c-dcef-40e9-bfc5-35302bf8e268"
      },
      "source": [
        "print(10/2)"
      ],
      "execution_count": 19,
      "outputs": [
        {
          "output_type": "stream",
          "text": [
            "5.0\n"
          ],
          "name": "stdout"
        }
      ]
    },
    {
      "cell_type": "markdown",
      "metadata": {
        "id": "aGAXyV85_p6m",
        "colab_type": "text"
      },
      "source": [
        "### **Run the Program**"
      ]
    },
    {
      "cell_type": "code",
      "metadata": {
        "id": "C3sAEJ26EO3X",
        "colab_type": "code",
        "colab": {
          "base_uri": "https://localhost:8080/",
          "height": 68
        },
        "outputId": "3ff753ec-696c-44ec-8598-31cf69c74035"
      },
      "source": [
        "#SCENE 01\n",
        "#population size\n",
        "popSize = 60 \n",
        "\n",
        "#creation of population of Chromosomes\n",
        "chromosome = createInitPop(popSize)\n",
        "\n",
        "#fifo index relates to the index to be removed. -1 is the initial value\n",
        "fifo_index = -1\n",
        "\n",
        "#iteration and \n",
        "iterations = 100\n",
        "\n",
        "#n point for crossover\n",
        "n_point = 1\n",
        "#crossover rate\n",
        "p_c = 0.8\n",
        "#mutation rate\n",
        "p_m = 0.01\n",
        "\n",
        "#Final population Duration and Size storage\n",
        "finalFitness = []\n",
        "finalDuration = []\n",
        "finalSize = []\n",
        "\n",
        "\n",
        "#train model\n",
        "start = time.time()\n",
        "#fit,filesize,parent1,parent2 = trainModel(iterations,n_point,p_c,p_m)\n",
        "trainModel(iterations,n_point,p_c,p_m)\n",
        "end = time.time()\n",
        "print(\"Population Size :\" + str(popSize))\n",
        "print(\"Iterations :\" + str(iterations))\n",
        "print(\"Elapsed time :\" + str(end - start) + \" seconds\")\n",
        "\n",
        "#Get Fitness and Size information for the Last Population\n",
        "for i in range(popSize):\n",
        "  fitness,duration,size = getFitness_for_runs(chromosome.iloc[i,1:].values)\n",
        "  finalDuration.append(duration)\n",
        "  finalFitness.append(fitness)\n",
        "  finalSize.append(size)\n",
        "  "
      ],
      "execution_count": 20,
      "outputs": [
        {
          "output_type": "stream",
          "text": [
            "Population Size :60\n",
            "Iterations :100\n",
            "Elapsed time :5.22709584236145 seconds\n"
          ],
          "name": "stdout"
        }
      ]
    },
    {
      "cell_type": "code",
      "metadata": {
        "id": "HUU2lBGpww7U",
        "colab_type": "code",
        "colab": {}
      },
      "source": [
        "#Getting the Optimum solution Information to Variables\n",
        "Best_Solution_id = finalFitness.index(max(finalFitness))\n",
        "Best_Solution_Size = finalSize[Best_Solution_id] \n",
        "Best_Solution_Duration = finalDuration[Best_Solution_id]\n",
        "Best_Solution = chromosome.iloc[Best_Solution_id]"
      ],
      "execution_count": 0,
      "outputs": []
    },
    {
      "cell_type": "code",
      "metadata": {
        "id": "vcD2gdPVozvl",
        "colab_type": "code",
        "colab": {
          "base_uri": "https://localhost:8080/",
          "height": 289
        },
        "outputId": "85641c28-0dc9-4f0a-e8e9-4917797d6cda"
      },
      "source": [
        "#Printing the Optimum Solution Information\n",
        "print(\"Optimum Solution ID : \" + str(Best_Solution_id))\n",
        "print(\"Optimum Fitness : \" + str(max(finalFitness)))\n",
        "print(\"Optimum Solution File Size : \" + str(Best_Solution_Size) + \"MB\")\n",
        "print(\"Optimum Solution Duration : \" + str(Best_Solution_Duration) + \" Minutes\")\n",
        "print(\"Optimum Solution : \")\n",
        "print(str(Best_Solution[1:]))"
      ],
      "execution_count": 22,
      "outputs": [
        {
          "output_type": "stream",
          "text": [
            "Optimum Solution ID : 5\n",
            "Optimum Fitness : 596\n",
            "Optimum Solution File Size : 4350MB\n",
            "Optimum Solution Duration : 596 Minutes\n",
            "Optimum Solution : \n",
            "file 1     1\n",
            "file 2     0\n",
            "file 3     1\n",
            "file 4     0\n",
            "file 5     0\n",
            "file 6     1\n",
            "file 7     1\n",
            "file 8     0\n",
            "file 9     1\n",
            "file 10    0\n",
            "Name: 5, dtype: int64\n"
          ],
          "name": "stdout"
        }
      ]
    },
    {
      "cell_type": "code",
      "metadata": {
        "id": "oT0xPUUOL3hq",
        "colab_type": "code",
        "colab": {}
      },
      "source": [
        "def runs(run):\n",
        "  epoch = 0\n",
        "  #iteration and \n",
        "  iterations = 100\n",
        "\n",
        "  #n point for crossover\n",
        "  n_point = 1\n",
        "  #crossover rate\n",
        "  p_c = 0.8\n",
        "  #mutation rate\n",
        "  p_m = 0.01\n",
        "  \n",
        "  for i in range(1,run+1):\n",
        "    start = time.time()\n",
        "    trainModel(iterations,n_point,p_c,p_m)\n",
        "    end = time.time()\n",
        "    \n",
        "    per_run_time.append(end-start)\n",
        "    \n",
        "    #Final population Duration and Size storage\n",
        "    finalFitness = []\n",
        "    finalDuration = []\n",
        "    finalSize = []\n",
        "    \n",
        "    global chromosome\n",
        "    \n",
        "    for i in range(popSize):\n",
        "      fitness,duration,size = getFitness_for_runs(chromosome.iloc[i,1:].values)\n",
        "      finalDuration.append(duration)\n",
        "      finalFitness.append(fitness)\n",
        "      finalSize.append(size)\n",
        "    \n",
        "    higestFitness_index = finalFitness.index(max(finalFitness))\n",
        "    best_out_of_runs_fitness.append(finalFitness[higestFitness_index])\n",
        "    best_out_of_runs_duration.append(finalDuration[higestFitness_index])\n",
        "    best_out_of_runs_size.append(finalSize[higestFitness_index])\n",
        "    \n",
        "    chromosome = chromosome_backup\n",
        "    print(\"Completed Run : \" + str(epoch))\n",
        "    epoch += 1"
      ],
      "execution_count": 0,
      "outputs": []
    },
    {
      "cell_type": "code",
      "metadata": {
        "id": "U8ikjXT8MDrl",
        "colab_type": "code",
        "colab": {
          "base_uri": "https://localhost:8080/",
          "height": 867
        },
        "outputId": "9b355d58-dc07-41c5-ee82-fef83039fe3d"
      },
      "source": [
        "#population size\n",
        "popSize = 50 \n",
        "\n",
        "#creation of population of Chromosomes\n",
        "chromosome = createInitPop(popSize)\n",
        "chromosome_backup = chromosome\n",
        "\n",
        "run = 50\n",
        "best_out_of_runs_fitness = []\n",
        "best_out_of_runs_duration = []\n",
        "best_out_of_runs_size = []\n",
        "per_run_time = []\n",
        "runs(run)\n"
      ],
      "execution_count": 24,
      "outputs": [
        {
          "output_type": "stream",
          "text": [
            "Completed Run : 0\n",
            "Completed Run : 1\n",
            "Completed Run : 2\n",
            "Completed Run : 3\n",
            "Completed Run : 4\n",
            "Completed Run : 5\n",
            "Completed Run : 6\n",
            "Completed Run : 7\n",
            "Completed Run : 8\n",
            "Completed Run : 9\n",
            "Completed Run : 10\n",
            "Completed Run : 11\n",
            "Completed Run : 12\n",
            "Completed Run : 13\n",
            "Completed Run : 14\n",
            "Completed Run : 15\n",
            "Completed Run : 16\n",
            "Completed Run : 17\n",
            "Completed Run : 18\n",
            "Completed Run : 19\n",
            "Completed Run : 20\n",
            "Completed Run : 21\n",
            "Completed Run : 22\n",
            "Completed Run : 23\n",
            "Completed Run : 24\n",
            "Completed Run : 25\n",
            "Completed Run : 26\n",
            "Completed Run : 27\n",
            "Completed Run : 28\n",
            "Completed Run : 29\n",
            "Completed Run : 30\n",
            "Completed Run : 31\n",
            "Completed Run : 32\n",
            "Completed Run : 33\n",
            "Completed Run : 34\n",
            "Completed Run : 35\n",
            "Completed Run : 36\n",
            "Completed Run : 37\n",
            "Completed Run : 38\n",
            "Completed Run : 39\n",
            "Completed Run : 40\n",
            "Completed Run : 41\n",
            "Completed Run : 42\n",
            "Completed Run : 43\n",
            "Completed Run : 44\n",
            "Completed Run : 45\n",
            "Completed Run : 46\n",
            "Completed Run : 47\n",
            "Completed Run : 48\n",
            "Completed Run : 49\n"
          ],
          "name": "stdout"
        }
      ]
    },
    {
      "cell_type": "code",
      "metadata": {
        "id": "WyI4ru--iVnx",
        "colab_type": "code",
        "colab": {
          "base_uri": "https://localhost:8080/",
          "height": 85
        },
        "outputId": "b9a7b3ed-5f55-4742-b606-7bece3f6776e"
      },
      "source": [
        "#Getting the Optimum solution Information to Variables\n",
        "Best_Solution_id = best_out_of_runs_fitness.index(max(best_out_of_runs_fitness))\n",
        "Best_Solution_Size = best_out_of_runs_size[Best_Solution_id] \n",
        "Best_Solution_Duration = best_out_of_runs_duration[Best_Solution_id]\n",
        "\n",
        "print(\"Optimum Solution ID : \" + str(Best_Solution_id))\n",
        "print(\"Optimum Fitness : \" + str(max(finalFitness)))\n",
        "print(\"Optimum Solution File Size : \" + str(Best_Solution_Size) + \"MB\")\n",
        "print(\"Optimum Solution Duration : \" + str(Best_Solution_Duration) + \" Minutes\")\n",
        "\n",
        "#Best_Solution = chromosome.iloc[Best_Solution_id]"
      ],
      "execution_count": 25,
      "outputs": [
        {
          "output_type": "stream",
          "text": [
            "Optimum Solution ID : 17\n",
            "Optimum Fitness : 596\n",
            "Optimum Solution File Size : 4425MB\n",
            "Optimum Solution Duration : 614 Minutes\n"
          ],
          "name": "stdout"
        }
      ]
    },
    {
      "cell_type": "code",
      "metadata": {
        "id": "YCHyDhYnm6BI",
        "colab_type": "code",
        "colab": {
          "base_uri": "https://localhost:8080/",
          "height": 34
        },
        "outputId": "d0552b4b-b803-4eb4-87c6-88d88ebc0b90"
      },
      "source": [
        "sum = 0\n",
        "for i in range(len(per_run_time)):\n",
        "  sum += per_run_time[i]\n",
        "\n",
        "avg = sum/len(per_run_time)\n",
        "\n",
        "print(\"Average Time : \" + str(avg))"
      ],
      "execution_count": 26,
      "outputs": [
        {
          "output_type": "stream",
          "text": [
            "Average Time : 4.163646821975708\n"
          ],
          "name": "stdout"
        }
      ]
    },
    {
      "cell_type": "code",
      "metadata": {
        "id": "wYDiYFofY9aW",
        "colab_type": "code",
        "colab": {
          "base_uri": "https://localhost:8080/",
          "height": 295
        },
        "outputId": "ccc93460-8da4-4685-e1b9-43d1ca1ac2e8"
      },
      "source": [
        "plt.plot([x for x in range(1,run+1)],[per_run_time[x] for x in range(len(per_run_time))])\n",
        "plt.title(\"Runs vs Time elapsed\")\n",
        "plt.xlabel(\"Runs (100 iterations per Run)\")\n",
        "plt.ylabel(\"Time elapsed per Run\")\n",
        "plt.savefig('time-50-runs.pdf')"
      ],
      "execution_count": 27,
      "outputs": [
        {
          "output_type": "display_data",
          "data": {
            "image/png": "[encoded data removed]",
            "text/plain": [
              "<Figure size 432x288 with 1 Axes>"
            ]
          },
          "metadata": {
            "tags": []
          }
        }
      ]
    },
    {
      "cell_type": "code",
      "metadata": {
        "id": "ZUAL28uzPx6b",
        "colab_type": "code",
        "colab": {
          "base_uri": "https://localhost:8080/",
          "height": 295
        },
        "outputId": "535f612f-00b5-4f7b-d7fd-446b5b4d2414"
      },
      "source": [
        "plt.plot([x for x in range(1,run+1)],[best_out_of_runs_fitness[x] for x in range(len(best_out_of_runs_fitness))])\n",
        "plt.title(\"Runs vs Fitness\")\n",
        "plt.xlabel(\"Runs (100 iterations per Run)\")\n",
        "plt.ylabel(\"Best Fitness per Run\")\n",
        "plt.savefig('best-fitess-runs.pdf')"
      ],
      "execution_count": 28,
      "outputs": [
        {
          "output_type": "display_data",
          "data": {
            "image/png": "[encoded data removed]",
            "text/plain": [
              "<Figure size 432x288 with 1 Axes>"
            ]
          },
          "metadata": {
            "tags": []
          }
        }
      ]
    },
    {
      "cell_type": "code",
      "metadata": {
        "id": "NVvRI_CWQwlc",
        "colab_type": "code",
        "colab": {
          "base_uri": "https://localhost:8080/",
          "height": 295
        },
        "outputId": "7c9642c4-2180-462f-c89b-8b7a1019cf2e"
      },
      "source": [
        "plt.plot([x for x in range(1,run+1)],[best_out_of_runs_duration[x] for x in range(len(best_out_of_runs_duration))])\n",
        "plt.title(\"Runs vs Duration\")\n",
        "plt.xlabel(\"Runs (100 iterations per Run)\")\n",
        "plt.ylabel(\"Duration of the Best Fitness per Run in Minutes\")\n",
        "plt.savefig('best-duration-runs.pdf')"
      ],
      "execution_count": 29,
      "outputs": [
        {
          "output_type": "display_data",
          "data": {
            "image/png": "[encoded data removed]",
            "text/plain": [
              "<Figure size 432x288 with 1 Axes>"
            ]
          },
          "metadata": {
            "tags": []
          }
        }
      ]
    },
    {
      "cell_type": "code",
      "metadata": {
        "id": "nFZdyWhJRBBJ",
        "colab_type": "code",
        "colab": {
          "base_uri": "https://localhost:8080/",
          "height": 295
        },
        "outputId": "f94aa28f-ee34-4c42-adcd-c37601f3009d"
      },
      "source": [
        "plt.plot([x for x in range(1,run+1)],[best_out_of_runs_size[x] for x in range(len(best_out_of_runs_size))])\n",
        "plt.title(\"Runs vs File Size\")\n",
        "plt.xlabel(\"Runs (100 iterations per Run)\")\n",
        "plt.ylabel(\"File Size of the Best Fitness per Run in MB\")\n",
        "plt.savefig('best-size-runs.pdf')"
      ],
      "execution_count": 30,
      "outputs": [
        {
          "output_type": "display_data",
          "data": {
            "image/png": "[encoded data removed]",
            "text/plain": [
              "<Figure size 432x288 with 1 Axes>"
            ]
          },
          "metadata": {
            "tags": []
          }
        }
      ]
    },
    {
      "cell_type": "code",
      "metadata": {
        "id": "GeuUuq1QQ837",
        "colab_type": "code",
        "colab": {}
      },
      "source": [
        "highest_fitness_index = best_out_of_runs_fitness.index(max(best_out_of_runs_fitness))\n",
        "opt_duration = best_out_of_runs_duration[highest_fitness_index]\n",
        "opt_size = best_out_of_runs_size[highest_fitness_index]"
      ],
      "execution_count": 0,
      "outputs": []
    },
    {
      "cell_type": "code",
      "metadata": {
        "id": "bVNrWts2Xsq-",
        "colab_type": "code",
        "colab": {
          "base_uri": "https://localhost:8080/",
          "height": 51
        },
        "outputId": "508e4e05-3947-4e04-e747-7e1a1d7643e2"
      },
      "source": [
        "print(\"Optimum Duration : \" + str(opt_duration))\n",
        "print(\"Optimum Size : \" + str(opt_size))"
      ],
      "execution_count": 32,
      "outputs": [
        {
          "output_type": "stream",
          "text": [
            "Optimum Duration : 614\n",
            "Optimum Size : 4425\n"
          ],
          "name": "stdout"
        }
      ]
    },
    {
      "cell_type": "markdown",
      "metadata": {
        "id": "nGw3JHBKp1_J",
        "colab_type": "text"
      },
      "source": [
        "### **Plotting the Final Result**\n",
        "\n",
        "This plot shows 3 import facts about the final solution. \n",
        "\n",
        "\n",
        "1.   The Horizontal Line shows the 4,500MB benchmark line\n",
        "2.   The Zig Zag plot shows the Fitness of the Final Population\n",
        "3. The Red Cross (+) shows the position of the Optimum solution Generated\n",
        "\n",
        "\n",
        "\n"
      ]
    },
    {
      "cell_type": "code",
      "metadata": {
        "id": "4DYhr1UnHHC0",
        "colab_type": "code",
        "colab": {
          "base_uri": "https://localhost:8080/",
          "height": 627
        },
        "outputId": "882d27db-5450-4311-f746-ff0b0214aa24"
      },
      "source": [
        "plt.plot([x for x in range(popSize)],[finalSize[x] for x in range(len(finalSize))])\n",
        "plt.legend(\"Evolved Generation\")\n",
        "plt.plot([Best_Solution_id],[Best_Solution_Size],'r+')\n",
        "plt.legend(\"Optimum Solution\")\n",
        "plt.plot([x for x in range(popSize)],[4500 for x in range(len(finalSize))])\n",
        "plt.legend(\"Benchmark\")\n",
        "plt.xlabel(\"Chromosome in the Evolved Population\")\n",
        "plt.ylabel(\"File Size in MB\")\n",
        "plt.title(\"Chromosome in the Evolved Population vs File Size\")\n"
      ],
      "execution_count": 33,
      "outputs": [
        {
          "output_type": "error",
          "ename": "ValueError",
          "evalue": "ignored",
          "traceback": [
            "\u001b[0;31m---------------------------------------------------------------------------\u001b[0m",
            "\u001b[0;31mValueError\u001b[0m                                Traceback (most recent call last)",
            "\u001b[0;32m<ipython-input-33-454033bbb8cf>\u001b[0m in \u001b[0;36m<module>\u001b[0;34m()\u001b[0m\n\u001b[0;32m----> 1\u001b[0;31m \u001b[0mplt\u001b[0m\u001b[0;34m.\u001b[0m\u001b[0mplot\u001b[0m\u001b[0;34m(\u001b[0m\u001b[0;34m[\u001b[0m\u001b[0mx\u001b[0m \u001b[0;32mfor\u001b[0m \u001b[0mx\u001b[0m \u001b[0;32min\u001b[0m \u001b[0mrange\u001b[0m\u001b[0;34m(\u001b[0m\u001b[0mpopSize\u001b[0m\u001b[0;34m)\u001b[0m\u001b[0;34m]\u001b[0m\u001b[0;34m,\u001b[0m\u001b[0;34m[\u001b[0m\u001b[0mfinalSize\u001b[0m\u001b[0;34m[\u001b[0m\u001b[0mx\u001b[0m\u001b[0;34m]\u001b[0m \u001b[0;32mfor\u001b[0m \u001b[0mx\u001b[0m \u001b[0;32min\u001b[0m \u001b[0mrange\u001b[0m\u001b[0;34m(\u001b[0m\u001b[0mlen\u001b[0m\u001b[0;34m(\u001b[0m\u001b[0mfinalSize\u001b[0m\u001b[0;34m)\u001b[0m\u001b[0;34m)\u001b[0m\u001b[0;34m]\u001b[0m\u001b[0;34m)\u001b[0m\u001b[0;34m\u001b[0m\u001b[0;34m\u001b[0m\u001b[0m\n\u001b[0m\u001b[1;32m      2\u001b[0m \u001b[0mplt\u001b[0m\u001b[0;34m.\u001b[0m\u001b[0mlegend\u001b[0m\u001b[0;34m(\u001b[0m\u001b[0;34m\"Evolved Generation\"\u001b[0m\u001b[0;34m)\u001b[0m\u001b[0;34m\u001b[0m\u001b[0;34m\u001b[0m\u001b[0m\n\u001b[1;32m      3\u001b[0m \u001b[0mplt\u001b[0m\u001b[0;34m.\u001b[0m\u001b[0mplot\u001b[0m\u001b[0;34m(\u001b[0m\u001b[0;34m[\u001b[0m\u001b[0mBest_Solution_id\u001b[0m\u001b[0;34m]\u001b[0m\u001b[0;34m,\u001b[0m\u001b[0;34m[\u001b[0m\u001b[0mBest_Solution_Size\u001b[0m\u001b[0;34m]\u001b[0m\u001b[0;34m,\u001b[0m\u001b[0;34m'r+'\u001b[0m\u001b[0;34m)\u001b[0m\u001b[0;34m\u001b[0m\u001b[0;34m\u001b[0m\u001b[0m\n\u001b[1;32m      4\u001b[0m \u001b[0mplt\u001b[0m\u001b[0;34m.\u001b[0m\u001b[0mlegend\u001b[0m\u001b[0;34m(\u001b[0m\u001b[0;34m\"Optimum Solution\"\u001b[0m\u001b[0;34m)\u001b[0m\u001b[0;34m\u001b[0m\u001b[0;34m\u001b[0m\u001b[0m\n\u001b[1;32m      5\u001b[0m \u001b[0mplt\u001b[0m\u001b[0;34m.\u001b[0m\u001b[0mplot\u001b[0m\u001b[0;34m(\u001b[0m\u001b[0;34m[\u001b[0m\u001b[0mx\u001b[0m \u001b[0;32mfor\u001b[0m \u001b[0mx\u001b[0m \u001b[0;32min\u001b[0m \u001b[0mrange\u001b[0m\u001b[0;34m(\u001b[0m\u001b[0mpopSize\u001b[0m\u001b[0;34m)\u001b[0m\u001b[0;34m]\u001b[0m\u001b[0;34m,\u001b[0m\u001b[0;34m[\u001b[0m\u001b[0;36m4500\u001b[0m \u001b[0;32mfor\u001b[0m \u001b[0mx\u001b[0m \u001b[0;32min\u001b[0m \u001b[0mrange\u001b[0m\u001b[0;34m(\u001b[0m\u001b[0mlen\u001b[0m\u001b[0;34m(\u001b[0m\u001b[0mfinalSize\u001b[0m\u001b[0;34m)\u001b[0m\u001b[0;34m)\u001b[0m\u001b[0;34m]\u001b[0m\u001b[0;34m)\u001b[0m\u001b[0;34m\u001b[0m\u001b[0;34m\u001b[0m\u001b[0m\n",
            "\u001b[0;32m/usr/local/lib/python3.6/dist-packages/matplotlib/pyplot.py\u001b[0m in \u001b[0;36mplot\u001b[0;34m(scalex, scaley, data, *args, **kwargs)\u001b[0m\n\u001b[1;32m   2809\u001b[0m     return gca().plot(\n\u001b[1;32m   2810\u001b[0m         *args, scalex=scalex, scaley=scaley, **({\"data\": data} if data\n\u001b[0;32m-> 2811\u001b[0;31m         is not None else {}), **kwargs)\n\u001b[0m\u001b[1;32m   2812\u001b[0m \u001b[0;34m\u001b[0m\u001b[0m\n\u001b[1;32m   2813\u001b[0m \u001b[0;34m\u001b[0m\u001b[0m\n",
            "\u001b[0;32m/usr/local/lib/python3.6/dist-packages/matplotlib/__init__.py\u001b[0m in \u001b[0;36minner\u001b[0;34m(ax, data, *args, **kwargs)\u001b[0m\n\u001b[1;32m   1808\u001b[0m                         \u001b[0;34m\"the Matplotlib list!)\"\u001b[0m \u001b[0;34m%\u001b[0m \u001b[0;34m(\u001b[0m\u001b[0mlabel_namer\u001b[0m\u001b[0;34m,\u001b[0m \u001b[0mfunc\u001b[0m\u001b[0;34m.\u001b[0m\u001b[0m__name__\u001b[0m\u001b[0;34m)\u001b[0m\u001b[0;34m,\u001b[0m\u001b[0;34m\u001b[0m\u001b[0;34m\u001b[0m\u001b[0m\n\u001b[1;32m   1809\u001b[0m                         RuntimeWarning, stacklevel=2)\n\u001b[0;32m-> 1810\u001b[0;31m             \u001b[0;32mreturn\u001b[0m \u001b[0mfunc\u001b[0m\u001b[0;34m(\u001b[0m\u001b[0max\u001b[0m\u001b[0;34m,\u001b[0m \u001b[0;34m*\u001b[0m\u001b[0margs\u001b[0m\u001b[0;34m,\u001b[0m \u001b[0;34m**\u001b[0m\u001b[0mkwargs\u001b[0m\u001b[0;34m)\u001b[0m\u001b[0;34m\u001b[0m\u001b[0;34m\u001b[0m\u001b[0m\n\u001b[0m\u001b[1;32m   1811\u001b[0m \u001b[0;34m\u001b[0m\u001b[0m\n\u001b[1;32m   1812\u001b[0m         inner.__doc__ = _add_data_doc(inner.__doc__,\n",
            "\u001b[0;32m/usr/local/lib/python3.6/dist-packages/matplotlib/axes/_axes.py\u001b[0m in \u001b[0;36mplot\u001b[0;34m(self, scalex, scaley, *args, **kwargs)\u001b[0m\n\u001b[1;32m   1609\u001b[0m         \u001b[0mkwargs\u001b[0m \u001b[0;34m=\u001b[0m \u001b[0mcbook\u001b[0m\u001b[0;34m.\u001b[0m\u001b[0mnormalize_kwargs\u001b[0m\u001b[0;34m(\u001b[0m\u001b[0mkwargs\u001b[0m\u001b[0;34m,\u001b[0m \u001b[0mmlines\u001b[0m\u001b[0;34m.\u001b[0m\u001b[0mLine2D\u001b[0m\u001b[0;34m.\u001b[0m\u001b[0m_alias_map\u001b[0m\u001b[0;34m)\u001b[0m\u001b[0;34m\u001b[0m\u001b[0;34m\u001b[0m\u001b[0m\n\u001b[1;32m   1610\u001b[0m \u001b[0;34m\u001b[0m\u001b[0m\n\u001b[0;32m-> 1611\u001b[0;31m         \u001b[0;32mfor\u001b[0m \u001b[0mline\u001b[0m \u001b[0;32min\u001b[0m \u001b[0mself\u001b[0m\u001b[0;34m.\u001b[0m\u001b[0m_get_lines\u001b[0m\u001b[0;34m(\u001b[0m\u001b[0;34m*\u001b[0m\u001b[0margs\u001b[0m\u001b[0;34m,\u001b[0m \u001b[0;34m**\u001b[0m\u001b[0mkwargs\u001b[0m\u001b[0;34m)\u001b[0m\u001b[0;34m:\u001b[0m\u001b[0;34m\u001b[0m\u001b[0;34m\u001b[0m\u001b[0m\n\u001b[0m\u001b[1;32m   1612\u001b[0m             \u001b[0mself\u001b[0m\u001b[0;34m.\u001b[0m\u001b[0madd_line\u001b[0m\u001b[0;34m(\u001b[0m\u001b[0mline\u001b[0m\u001b[0;34m)\u001b[0m\u001b[0;34m\u001b[0m\u001b[0;34m\u001b[0m\u001b[0m\n\u001b[1;32m   1613\u001b[0m             \u001b[0mlines\u001b[0m\u001b[0;34m.\u001b[0m\u001b[0mappend\u001b[0m\u001b[0;34m(\u001b[0m\u001b[0mline\u001b[0m\u001b[0;34m)\u001b[0m\u001b[0;34m\u001b[0m\u001b[0;34m\u001b[0m\u001b[0m\n",
            "\u001b[0;32m/usr/local/lib/python3.6/dist-packages/matplotlib/axes/_base.py\u001b[0m in \u001b[0;36m_grab_next_args\u001b[0;34m(self, *args, **kwargs)\u001b[0m\n\u001b[1;32m    391\u001b[0m                 \u001b[0mthis\u001b[0m \u001b[0;34m+=\u001b[0m \u001b[0margs\u001b[0m\u001b[0;34m[\u001b[0m\u001b[0;36m0\u001b[0m\u001b[0;34m]\u001b[0m\u001b[0;34m,\u001b[0m\u001b[0;34m\u001b[0m\u001b[0;34m\u001b[0m\u001b[0m\n\u001b[1;32m    392\u001b[0m                 \u001b[0margs\u001b[0m \u001b[0;34m=\u001b[0m \u001b[0margs\u001b[0m\u001b[0;34m[\u001b[0m\u001b[0;36m1\u001b[0m\u001b[0;34m:\u001b[0m\u001b[0;34m]\u001b[0m\u001b[0;34m\u001b[0m\u001b[0;34m\u001b[0m\u001b[0m\n\u001b[0;32m--> 393\u001b[0;31m             \u001b[0;32myield\u001b[0m \u001b[0;32mfrom\u001b[0m \u001b[0mself\u001b[0m\u001b[0;34m.\u001b[0m\u001b[0m_plot_args\u001b[0m\u001b[0;34m(\u001b[0m\u001b[0mthis\u001b[0m\u001b[0;34m,\u001b[0m \u001b[0mkwargs\u001b[0m\u001b[0;34m)\u001b[0m\u001b[0;34m\u001b[0m\u001b[0;34m\u001b[0m\u001b[0m\n\u001b[0m\u001b[1;32m    394\u001b[0m \u001b[0;34m\u001b[0m\u001b[0m\n\u001b[1;32m    395\u001b[0m \u001b[0;34m\u001b[0m\u001b[0m\n",
            "\u001b[0;32m/usr/local/lib/python3.6/dist-packages/matplotlib/axes/_base.py\u001b[0m in \u001b[0;36m_plot_args\u001b[0;34m(self, tup, kwargs)\u001b[0m\n\u001b[1;32m    368\u001b[0m             \u001b[0mx\u001b[0m\u001b[0;34m,\u001b[0m \u001b[0my\u001b[0m \u001b[0;34m=\u001b[0m \u001b[0mindex_of\u001b[0m\u001b[0;34m(\u001b[0m\u001b[0mtup\u001b[0m\u001b[0;34m[\u001b[0m\u001b[0;34m-\u001b[0m\u001b[0;36m1\u001b[0m\u001b[0;34m]\u001b[0m\u001b[0;34m)\u001b[0m\u001b[0;34m\u001b[0m\u001b[0;34m\u001b[0m\u001b[0m\n\u001b[1;32m    369\u001b[0m \u001b[0;34m\u001b[0m\u001b[0m\n\u001b[0;32m--> 370\u001b[0;31m         \u001b[0mx\u001b[0m\u001b[0;34m,\u001b[0m \u001b[0my\u001b[0m \u001b[0;34m=\u001b[0m \u001b[0mself\u001b[0m\u001b[0;34m.\u001b[0m\u001b[0m_xy_from_xy\u001b[0m\u001b[0;34m(\u001b[0m\u001b[0mx\u001b[0m\u001b[0;34m,\u001b[0m \u001b[0my\u001b[0m\u001b[0;34m)\u001b[0m\u001b[0;34m\u001b[0m\u001b[0;34m\u001b[0m\u001b[0m\n\u001b[0m\u001b[1;32m    371\u001b[0m \u001b[0;34m\u001b[0m\u001b[0m\n\u001b[1;32m    372\u001b[0m         \u001b[0;32mif\u001b[0m \u001b[0mself\u001b[0m\u001b[0;34m.\u001b[0m\u001b[0mcommand\u001b[0m \u001b[0;34m==\u001b[0m \u001b[0;34m'plot'\u001b[0m\u001b[0;34m:\u001b[0m\u001b[0;34m\u001b[0m\u001b[0;34m\u001b[0m\u001b[0m\n",
            "\u001b[0;32m/usr/local/lib/python3.6/dist-packages/matplotlib/axes/_base.py\u001b[0m in \u001b[0;36m_xy_from_xy\u001b[0;34m(self, x, y)\u001b[0m\n\u001b[1;32m    229\u001b[0m         \u001b[0;32mif\u001b[0m \u001b[0mx\u001b[0m\u001b[0;34m.\u001b[0m\u001b[0mshape\u001b[0m\u001b[0;34m[\u001b[0m\u001b[0;36m0\u001b[0m\u001b[0;34m]\u001b[0m \u001b[0;34m!=\u001b[0m \u001b[0my\u001b[0m\u001b[0;34m.\u001b[0m\u001b[0mshape\u001b[0m\u001b[0;34m[\u001b[0m\u001b[0;36m0\u001b[0m\u001b[0;34m]\u001b[0m\u001b[0;34m:\u001b[0m\u001b[0;34m\u001b[0m\u001b[0;34m\u001b[0m\u001b[0m\n\u001b[1;32m    230\u001b[0m             raise ValueError(\"x and y must have same first dimension, but \"\n\u001b[0;32m--> 231\u001b[0;31m                              \"have shapes {} and {}\".format(x.shape, y.shape))\n\u001b[0m\u001b[1;32m    232\u001b[0m         \u001b[0;32mif\u001b[0m \u001b[0mx\u001b[0m\u001b[0;34m.\u001b[0m\u001b[0mndim\u001b[0m \u001b[0;34m>\u001b[0m \u001b[0;36m2\u001b[0m \u001b[0;32mor\u001b[0m \u001b[0my\u001b[0m\u001b[0;34m.\u001b[0m\u001b[0mndim\u001b[0m \u001b[0;34m>\u001b[0m \u001b[0;36m2\u001b[0m\u001b[0;34m:\u001b[0m\u001b[0;34m\u001b[0m\u001b[0;34m\u001b[0m\u001b[0m\n\u001b[1;32m    233\u001b[0m             raise ValueError(\"x and y can be no greater than 2-D, but have \"\n",
            "\u001b[0;31mValueError\u001b[0m: x and y must have same first dimension, but have shapes (50,) and (60,)"
          ]
        },
        {
          "output_type": "display_data",
          "data": {
            "image/png": "[encoded data removed]",
            "text/plain": [
              "<Figure size 432x288 with 1 Axes>"
            ]
          },
          "metadata": {
            "tags": []
          }
        }
      ]
    },
    {
      "cell_type": "markdown",
      "metadata": {
        "id": "BuTJqts4rHoz",
        "colab_type": "text"
      },
      "source": [
        "### **Variation with  Iteration Count**"
      ]
    },
    {
      "cell_type": "code",
      "metadata": {
        "id": "QUi2K139rXTi",
        "colab_type": "code",
        "colab": {}
      },
      "source": [
        ""
      ],
      "execution_count": 0,
      "outputs": []
    },
    {
      "cell_type": "code",
      "metadata": {
        "id": "WEb13q_VBegj",
        "colab_type": "code",
        "colab": {}
      },
      "source": [
        "def get_avg_best(n,pop_1):\n",
        "  for j in range(1,n+1):\n",
        "    finalFitness = []\n",
        "    finalDuration = []\n",
        "    finalSize = []\n",
        "    for i in range(1):\n",
        "      trainModel(j,n_point,p_c,p_m)\n",
        "\n",
        "      \n",
        "      for i in range(popSize):\n",
        "        fitness, duration,size = getFitness_for_runs(pop_1.iloc[i,1:].values)\n",
        "        finalFitness.append(fitness)\n",
        "        finalDuration.append(duration)\n",
        "        finalSize.append(size)\n",
        "    \n",
        "    highest_fit_id = finalFitness.index(max(finalFitness))\n",
        "    \n",
        "    best_vals_size.append(finalSize[highest_fit_id])\n",
        "    best_vals_duration.append(finalDuration[highest_fit_id])\n",
        "    best_vals_fitness.append(finalFitness[highest_fit_id])\n",
        "    \n",
        "    print(\"Completed : \" + str(j))\n",
        "    pop_1 = chromosome"
      ],
      "execution_count": 0,
      "outputs": []
    },
    {
      "cell_type": "code",
      "metadata": {
        "id": "GOimnDW0RMlN",
        "colab_type": "code",
        "colab": {}
      },
      "source": [
        "chromosome = createInitPop(popSize)"
      ],
      "execution_count": 0,
      "outputs": []
    },
    {
      "cell_type": "code",
      "metadata": {
        "id": "XJQMeoa5EFAs",
        "colab_type": "code",
        "colab": {}
      },
      "source": [
        "\n",
        "pop_1 = chromosome\n",
        "#save the best chromosome fitness per iteration\n",
        "best_vals_size = [ ]\n",
        "best_vals_duration = [ ]\n",
        "best_vals_fitness = [ ]\n",
        "n=100\n",
        "get_avg_best(n,pop_1)\n"
      ],
      "execution_count": 0,
      "outputs": []
    },
    {
      "cell_type": "code",
      "metadata": {
        "id": "10C3by4qRLKz",
        "colab_type": "code",
        "colab": {}
      },
      "source": [
        ""
      ],
      "execution_count": 0,
      "outputs": []
    },
    {
      "cell_type": "code",
      "metadata": {
        "id": "IfkU77cMCdMr",
        "colab_type": "code",
        "colab": {
          "base_uri": "https://localhost:8080/",
          "height": 295
        },
        "outputId": "e2b81356-88d1-4528-919d-6e17f1678db4"
      },
      "source": [
        "plt.plot([x for x in range(1,n+1)],best_vals_size)\n",
        "plt.title(\"Iterations vs File Size of Fitest of each Generation\")\n",
        "plt.xlabel(\"Iterations/Generations\")\n",
        "plt.ylabel(\"File Size of Fitest of each Generation in MB\")\n",
        "plt.savefig('iterations-size')"
      ],
      "execution_count": 48,
      "outputs": [
        {
          "output_type": "display_data",
          "data": {
            "image/png": "[encoded data removed]",
            "text/plain": [
              "<Figure size 432x288 with 1 Axes>"
            ]
          },
          "metadata": {
            "tags": []
          }
        }
      ]
    },
    {
      "cell_type": "code",
      "metadata": {
        "id": "OLdS3UIZDVDq",
        "colab_type": "code",
        "colab": {
          "base_uri": "https://localhost:8080/",
          "height": 303
        },
        "outputId": "eee5eab2-784d-49a2-8bff-f13f73cdb0c8"
      },
      "source": [
        "plt.plot([x for x in range(1,n+1)],best_vals_duration)\n",
        "plt.title(\"Iterations vs Duration of Fitest of each Generation\")\n",
        "plt.xlabel(\"Iterations/Generations\")\n",
        "plt.ylabel(\"Duration Size of Fitest of each Generation in Minutes\")\n",
        "plt.savefig('iterations-duration')\n"
      ],
      "execution_count": 49,
      "outputs": [
        {
          "output_type": "display_data",
          "data": {
            "image/png": "[encoded data removed]",
            "text/plain": [
              "<Figure size 432x288 with 1 Axes>"
            ]
          },
          "metadata": {
            "tags": []
          }
        }
      ]
    },
    {
      "cell_type": "markdown",
      "metadata": {
        "id": "O2X8B3_zO6ik",
        "colab_type": "text"
      },
      "source": [
        "### **Variation with Crossover Rate**"
      ]
    },
    {
      "cell_type": "code",
      "metadata": {
        "id": "-k7KkA7KKHyG",
        "colab_type": "code",
        "colab": {}
      },
      "source": [
        "def get_avg_best_pc_var(start,end,step,pop_1):\n",
        "  epoch = 1\n",
        "  for j in frange(start,end,step):\n",
        "    finalFitness = []\n",
        "    finalDuration = []\n",
        "    finalSize = []\n",
        "    for k in range(10):\n",
        "      \n",
        "      trainModel(iteration_pc+1,n_point,j,p_m)\n",
        "    \n",
        "      \n",
        "      for i in range(popSize):\n",
        "        fitness, duration,size = getFitness_for_runs(pop_1.iloc[i,1:].values)\n",
        "        finalFitness.append(fitness)\n",
        "        finalDuration.append(duration)\n",
        "        finalSize.append(size)\n",
        "        \n",
        "    id = finalFitness.index(max(finalFitness))\n",
        "    best_vals_size.append(finalSize[id])\n",
        "    best_vals_duration.append(finalDuration[id])\n",
        "    \n",
        "    print(\"Completed : \" + str(epoch) + \" Best Size :\" + str(finalSize[finalDuration.index(max(finalDuration))]) + \" Best Duration : \" + str(max(finalDuration)))\n",
        "    pop_1 = chromosome\n",
        "    epoch +=1"
      ],
      "execution_count": 0,
      "outputs": []
    },
    {
      "cell_type": "code",
      "metadata": {
        "id": "hBCYCTRbQTze",
        "colab_type": "code",
        "colab": {}
      },
      "source": [
        "def frange(start, stop, step):\n",
        "  i = start\n",
        "  while i < stop:\n",
        "    yield i\n",
        "    i += step"
      ],
      "execution_count": 0,
      "outputs": []
    },
    {
      "cell_type": "code",
      "metadata": {
        "id": "RnH89FK_QyoD",
        "colab_type": "code",
        "colab": {}
      },
      "source": [
        "chromosome = createInitPop(popSize)\n",
        "pop_1 = chromosome\n"
      ],
      "execution_count": 0,
      "outputs": []
    },
    {
      "cell_type": "code",
      "metadata": {
        "id": "qx5c3k-pQ4R5",
        "colab_type": "code",
        "colab": {}
      },
      "source": [
        "best_vals_size = [ ]\n",
        "best_vals_duration = [ ]\n",
        "iteration_pc = 10\n",
        "start =0\n",
        "end = 1\n",
        "step = 0.01\n",
        "get_avg_best_pc_var(start,end,step,pop_1)"
      ],
      "execution_count": 0,
      "outputs": []
    },
    {
      "cell_type": "code",
      "metadata": {
        "id": "-9exd6-YbdRE",
        "colab_type": "code",
        "colab": {}
      },
      "source": [
        "best_vals_duration"
      ],
      "execution_count": 0,
      "outputs": []
    },
    {
      "cell_type": "code",
      "metadata": {
        "id": "cUpXP7xJRrI9",
        "colab_type": "code",
        "colab": {
          "base_uri": "https://localhost:8080/",
          "height": 286
        },
        "outputId": "98164727-023c-4e7d-e37a-a7ad33aeedb9"
      },
      "source": [
        "plt.plot([x for x in frange(start,end,step)],best_vals_size)"
      ],
      "execution_count": 78,
      "outputs": [
        {
          "output_type": "execute_result",
          "data": {
            "text/plain": [
              "[<matplotlib.lines.Line2D at 0x7f6bf0849048>]"
            ]
          },
          "metadata": {
            "tags": []
          },
          "execution_count": 78
        },
        {
          "output_type": "display_data",
          "data": {
            "image/png": "[encoded data removed]",
            "text/plain": [
              "<Figure size 432x288 with 1 Axes>"
            ]
          },
          "metadata": {
            "tags": []
          }
        }
      ]
    },
    {
      "cell_type": "code",
      "metadata": {
        "id": "RezM3IkDSP7q",
        "colab_type": "code",
        "colab": {
          "base_uri": "https://localhost:8080/",
          "height": 286
        },
        "outputId": "199364ee-5df6-4556-8eed-f860160d34bb"
      },
      "source": [
        "plt.plot([x for x in frange(start,end,step)],best_vals_duration)"
      ],
      "execution_count": 79,
      "outputs": [
        {
          "output_type": "execute_result",
          "data": {
            "text/plain": [
              "[<matplotlib.lines.Line2D at 0x7f6bed75ff60>]"
            ]
          },
          "metadata": {
            "tags": []
          },
          "execution_count": 79
        },
        {
          "output_type": "display_data",
          "data": {
            "image/png": "[encoded data removed]",
            "text/plain": [
              "<Figure size 432x288 with 1 Axes>"
            ]
          },
          "metadata": {
            "tags": []
          }
        }
      ]
    },
    {
      "cell_type": "code",
      "metadata": {
        "id": "NbQEQHoiSSFO",
        "colab_type": "code",
        "colab": {}
      },
      "source": [
        ""
      ],
      "execution_count": 0,
      "outputs": []
    },
    {
      "cell_type": "markdown",
      "metadata": {
        "id": "giRsY-LtTOKG",
        "colab_type": "text"
      },
      "source": [
        "### **Variation with Mutation Rate**"
      ]
    },
    {
      "cell_type": "code",
      "metadata": {
        "id": "m2OfL-ZpTQbV",
        "colab_type": "code",
        "colab": {}
      },
      "source": [
        "def get_avg_best_pm_var(start,end,step,pop_1):\n",
        "  epoch = 1\n",
        "  for j in frange(start,end,step):\n",
        "    trainModel(iteration_pm+1,n_point,p_c,j)\n",
        "    \n",
        "    finalDuration = []\n",
        "    finalSize = []\n",
        "    for i in range(popSize):\n",
        "      duration,size = getFitness(pop_1.iloc[i,1:].values)\n",
        "      finalDuration.append(duration)\n",
        "      finalSize.append(size)\n",
        "      \n",
        "    best_vals_size.append(finalSize[finalDuration.index(max(finalDuration))])\n",
        "    best_vals_duration.append(max(finalDuration))\n",
        "    print(\"Completed : \" + str(epoch) + \" Best Size :\" + str(finalSize[finalDuration.index(max(finalDuration))]) + \" Best Duration : \" + str(max(finalDuration)))\n",
        "    pop_1 = chromosome\n",
        "    epoch +=1"
      ],
      "execution_count": 0,
      "outputs": []
    },
    {
      "cell_type": "code",
      "metadata": {
        "id": "K3gGFHFyTXZQ",
        "colab_type": "code",
        "colab": {}
      },
      "source": [
        "chromosome = createInitPop(popSize)\n",
        "pop_1 = chromosome"
      ],
      "execution_count": 0,
      "outputs": []
    },
    {
      "cell_type": "code",
      "metadata": {
        "id": "-x6wG7iUTZ0V",
        "colab_type": "code",
        "colab": {}
      },
      "source": [
        "best_vals_size = [ ]\n",
        "best_vals_duration = [ ]\n",
        "iteration_pm = 10\n",
        "start =0\n",
        "end = 2\n",
        "step = 0.01\n",
        "get_avg_best_pm_var(start,end,step,pop_1)"
      ],
      "execution_count": 0,
      "outputs": []
    },
    {
      "cell_type": "code",
      "metadata": {
        "id": "hZlA2HChTb_r",
        "colab_type": "code",
        "colab": {
          "base_uri": "https://localhost:8080/",
          "height": 295
        },
        "outputId": "a081cf80-f845-4569-f2c8-5f43f08e1263"
      },
      "source": [
        "plt.plot([x for x in frange(start,end,step)],best_vals_size)\n",
        "plt.title(\"Mutation Rate vs Size of Fittest\")\n",
        "plt.xlabel(\"Mutation Rate\")\n",
        "plt.ylabel(\"File size of Fittest Solution after 10 iterations\")\n",
        "plt.savefig('size-mutation-rate.pdf')"
      ],
      "execution_count": 92,
      "outputs": [
        {
          "output_type": "display_data",
          "data": {
            "image/png": "[encoded data removed]",
            "text/plain": [
              "<Figure size 432x288 with 1 Axes>"
            ]
          },
          "metadata": {
            "tags": []
          }
        }
      ]
    },
    {
      "cell_type": "code",
      "metadata": {
        "id": "JOVvhifxTf2F",
        "colab_type": "code",
        "colab": {
          "base_uri": "https://localhost:8080/",
          "height": 295
        },
        "outputId": "f18f6978-95a3-47b0-bf96-940c8cf001b0"
      },
      "source": [
        "plt.plot([x for x in frange(start,end,step)],best_vals_duration)\n",
        "plt.title(\"Mutation Rate vs Duration of Fittest\")\n",
        "plt.xlabel(\"Mutation Rate\")\n",
        "plt.ylabel(\"Duration of Fittest Solution after 10 iterations\")\n",
        "plt.savefig('duration-mutation-rate.pdf')"
      ],
      "execution_count": 93,
      "outputs": [
        {
          "output_type": "display_data",
          "data": {
            "image/png": "[encoded data removed]",
            "text/plain": [
              "<Figure size 432x288 with 1 Axes>"
            ]
          },
          "metadata": {
            "tags": []
          }
        }
      ]
    },
    {
      "cell_type": "markdown",
      "metadata": {
        "id": "nUxFNg0GHCh6",
        "colab_type": "text"
      },
      "source": [
        "### **Variation with Population size**"
      ]
    },
    {
      "cell_type": "code",
      "metadata": {
        "id": "ps0lewE_T3uT",
        "colab_type": "code",
        "colab": {}
      },
      "source": [
        "def pop_var(popSize):\n",
        "  epoch = 1\n",
        "  for j in range(1,popSize+1):\n",
        "    chromosome = createInitPop(j)\n",
        "    #n point for crossover\n",
        "    n_point = 1\n",
        "    #crossover rate\n",
        "    p_c = 0.8\n",
        "    #mutation rate\n",
        "    p_m = 0.01\n",
        "\n",
        "    finalDuration = []\n",
        "    finalSize = []\n",
        "\n",
        "    trainModel(10,n_point,p_c,p_m)\n",
        "    \n",
        "    #Get Fitness and Size information for the Last Population\n",
        "    for i in range(j):\n",
        "      duration,size = getDetails(chromosome.iloc[i,1:].values)\n",
        "      finalDuration.append(duration)\n",
        "      finalSize.append(size)\n",
        "      \n",
        "    best_vals_size.append(finalSize[finalDuration.index(max(finalDuration))])\n",
        "    best_vals_duration.append(max(finalDuration))  \n",
        "    \n",
        "    print(\"Completed : \" + str(epoch) + \" Pop Size : \" + str(j) + \" Best Size :\" + str(finalSize[finalDuration.index(max(finalDuration))]) + \" Best Duration : \" + str(max(finalDuration)))\n",
        "    epoch += 1\n",
        "    \n",
        "    "
      ],
      "execution_count": 0,
      "outputs": []
    },
    {
      "cell_type": "code",
      "metadata": {
        "id": "yQ0krwKDJDnN",
        "colab_type": "code",
        "colab": {
          "base_uri": "https://localhost:8080/",
          "height": 867
        },
        "outputId": "7a66bc24-6a5f-4082-ade3-948e3620c202"
      },
      "source": [
        "#Final population Duration and Size storage\n",
        "best_vals_size = [ ]\n",
        "best_vals_duration = [ ]\n",
        "\n",
        "popSize = 50\n",
        "pop_var(popSize)"
      ],
      "execution_count": 103,
      "outputs": [
        {
          "output_type": "stream",
          "text": [
            "Completed : 1 Pop Size : 1 Best Size :6325 Best Duration : 771\n",
            "Completed : 2 Pop Size : 2 Best Size :3950 Best Duration : 453\n",
            "Completed : 3 Pop Size : 3 Best Size :4825 Best Duration : 651\n",
            "Completed : 4 Pop Size : 4 Best Size :6175 Best Duration : 774\n",
            "Completed : 5 Pop Size : 5 Best Size :6425 Best Duration : 788\n",
            "Completed : 6 Pop Size : 6 Best Size :5675 Best Duration : 782\n",
            "Completed : 7 Pop Size : 7 Best Size :6325 Best Duration : 867\n",
            "Completed : 8 Pop Size : 8 Best Size :6350 Best Duration : 779\n",
            "Completed : 9 Pop Size : 9 Best Size :6850 Best Duration : 854\n",
            "Completed : 10 Pop Size : 10 Best Size :5350 Best Duration : 734\n",
            "Completed : 11 Pop Size : 11 Best Size :5775 Best Duration : 724\n",
            "Completed : 12 Pop Size : 12 Best Size :7725 Best Duration : 982\n",
            "Completed : 13 Pop Size : 13 Best Size :8775 Best Duration : 1117\n",
            "Completed : 14 Pop Size : 14 Best Size :7025 Best Duration : 866\n",
            "Completed : 15 Pop Size : 15 Best Size :7250 Best Duration : 904\n",
            "Completed : 16 Pop Size : 16 Best Size :7875 Best Duration : 992\n",
            "Completed : 17 Pop Size : 17 Best Size :7125 Best Duration : 892\n",
            "Completed : 18 Pop Size : 18 Best Size :6675 Best Duration : 837\n",
            "Completed : 19 Pop Size : 19 Best Size :7200 Best Duration : 894\n",
            "Completed : 20 Pop Size : 20 Best Size :7525 Best Duration : 954\n",
            "Completed : 21 Pop Size : 21 Best Size :8175 Best Duration : 1039\n",
            "Completed : 22 Pop Size : 22 Best Size :5875 Best Duration : 812\n",
            "Completed : 23 Pop Size : 23 Best Size :6475 Best Duration : 809\n",
            "Completed : 24 Pop Size : 24 Best Size :4825 Best Duration : 664\n",
            "Completed : 25 Pop Size : 25 Best Size :8125 Best Duration : 1032\n",
            "Completed : 26 Pop Size : 26 Best Size :7025 Best Duration : 887\n",
            "Completed : 27 Pop Size : 27 Best Size :6675 Best Duration : 919\n",
            "Completed : 28 Pop Size : 28 Best Size :6825 Best Duration : 859\n",
            "Completed : 29 Pop Size : 29 Best Size :7225 Best Duration : 907\n",
            "Completed : 30 Pop Size : 30 Best Size :7900 Best Duration : 989\n",
            "Completed : 31 Pop Size : 31 Best Size :8125 Best Duration : 1032\n",
            "Completed : 32 Pop Size : 32 Best Size :6675 Best Duration : 823\n",
            "Completed : 33 Pop Size : 33 Best Size :7725 Best Duration : 982\n",
            "Completed : 34 Pop Size : 34 Best Size :7900 Best Duration : 989\n",
            "Completed : 35 Pop Size : 35 Best Size :7375 Best Duration : 918\n",
            "Completed : 36 Pop Size : 36 Best Size :7375 Best Duration : 932\n",
            "Completed : 37 Pop Size : 37 Best Size :7975 Best Duration : 996\n",
            "Completed : 38 Pop Size : 38 Best Size :7125 Best Duration : 892\n",
            "Completed : 39 Pop Size : 39 Best Size :7225 Best Duration : 909\n",
            "Completed : 40 Pop Size : 40 Best Size :7275 Best Duration : 901\n",
            "Completed : 41 Pop Size : 41 Best Size :8175 Best Duration : 1039\n",
            "Completed : 42 Pop Size : 42 Best Size :7825 Best Duration : 987\n",
            "Completed : 43 Pop Size : 43 Best Size :8175 Best Duration : 1039\n",
            "Completed : 44 Pop Size : 44 Best Size :7125 Best Duration : 892\n",
            "Completed : 45 Pop Size : 45 Best Size :6525 Best Duration : 814\n",
            "Completed : 46 Pop Size : 46 Best Size :7525 Best Duration : 954\n",
            "Completed : 47 Pop Size : 47 Best Size :7325 Best Duration : 911\n",
            "Completed : 48 Pop Size : 48 Best Size :8125 Best Duration : 1032\n",
            "Completed : 49 Pop Size : 49 Best Size :7075 Best Duration : 887\n",
            "Completed : 50 Pop Size : 50 Best Size :8775 Best Duration : 1117\n"
          ],
          "name": "stdout"
        }
      ]
    },
    {
      "cell_type": "code",
      "metadata": {
        "id": "vIf0Bh-oJLkW",
        "colab_type": "code",
        "colab": {
          "base_uri": "https://localhost:8080/",
          "height": 286
        },
        "outputId": "f0543cca-b68e-4c21-a5e9-04086dd031b6"
      },
      "source": [
        "plt.plot([x for x in range(1,popSize+1)],best_vals_size)\n",
        "plt.plot([x for x in range(1,popSize+1)],[4500 for i in range(1,popSize+1)])"
      ],
      "execution_count": 104,
      "outputs": [
        {
          "output_type": "execute_result",
          "data": {
            "text/plain": [
              "[<matplotlib.lines.Line2D at 0x7f6bed51b5c0>]"
            ]
          },
          "metadata": {
            "tags": []
          },
          "execution_count": 104
        },
        {
          "output_type": "display_data",
          "data": {
            "image/png": "[encoded data removed]",
            "text/plain": [
              "<Figure size 432x288 with 1 Axes>"
            ]
          },
          "metadata": {
            "tags": []
          }
        }
      ]
    },
    {
      "cell_type": "code",
      "metadata": {
        "id": "nIZMDXb-RSF0",
        "colab_type": "code",
        "colab": {}
      },
      "source": [
        "best_vals_size[len(best_vals_size)-1]"
      ],
      "execution_count": 0,
      "outputs": []
    },
    {
      "cell_type": "code",
      "metadata": {
        "id": "okUmTuZVK9Dz",
        "colab_type": "code",
        "colab": {}
      },
      "source": [
        "plt.plot([x for x in range(1,popSize+1)],best_vals_duration)"
      ],
      "execution_count": 0,
      "outputs": []
    },
    {
      "cell_type": "code",
      "metadata": {
        "id": "v45wbk-_LI-i",
        "colab_type": "code",
        "colab": {}
      },
      "source": [
        ""
      ],
      "execution_count": 0,
      "outputs": []
    },
    {
      "cell_type": "code",
      "metadata": {
        "id": "c3towenYQhxf",
        "colab_type": "code",
        "colab": {}
      },
      "source": [
        ""
      ],
      "execution_count": 0,
      "outputs": []
    },
    {
      "cell_type": "markdown",
      "metadata": {
        "id": "kpO0AXAPmYnI",
        "colab_type": "text"
      },
      "source": [
        "### **Brute Force**"
      ]
    },
    {
      "cell_type": "code",
      "metadata": {
        "id": "ZgBE9ta8uNd5",
        "colab_type": "code",
        "colab": {}
      },
      "source": [
        "def generate(variables,power):\n",
        "  val = int((2**variables)/(2**(power+1)))\n",
        "  file_10 = []\n",
        "  for i in range(val):\n",
        "    for j in range(2**power):\n",
        "      file_10.append(0)\n",
        "\n",
        "    for j in range(2**power):\n",
        "      file_10.append(1)\n",
        "      \n",
        "  return file_10\n",
        "  "
      ],
      "execution_count": 0,
      "outputs": []
    },
    {
      "cell_type": "code",
      "metadata": {
        "id": "8vJo_TQZ_aA6",
        "colab_type": "code",
        "colab": {}
      },
      "source": [
        "list_ret = []\n",
        "variables = 10\n",
        "for power in range(variables-1,-1,-1):\n",
        "  list_ret.append(generate(variables,power))"
      ],
      "execution_count": 0,
      "outputs": []
    },
    {
      "cell_type": "code",
      "metadata": {
        "id": "kxNFimd_x_9x",
        "colab_type": "code",
        "colab": {}
      },
      "source": [
        "values ={\n",
        "    \n",
        "    'file ' + str(x+1):list_ret[x] for x in range(variables-1,-1,-1)\n",
        "    \n",
        "    \n",
        "    \n",
        "  }\n",
        "  #convert the array of population to a dataframe\n",
        "values = pd.DataFrame(values)"
      ],
      "execution_count": 0,
      "outputs": []
    },
    {
      "cell_type": "code",
      "metadata": {
        "id": "3e39LhojyYoD",
        "colab_type": "code",
        "colab": {}
      },
      "source": [
        "values"
      ],
      "execution_count": 0,
      "outputs": []
    },
    {
      "cell_type": "code",
      "metadata": {
        "id": "OCa8iJUp3cSd",
        "colab_type": "code",
        "colab": {}
      },
      "source": [
        "def details(row):\n",
        "  duration = 0\n",
        "  size = 0\n",
        "  fitness = 0\n",
        "  for i in range(len(row)):\n",
        "    if(row[i] == 1):\n",
        "      size += df.loc[9-i,'size']\n",
        "      duration += df.loc[9-i,'duration']\n",
        "    \n",
        "    if(size<=4500):\n",
        "      fitness += duration\n",
        "    else:\n",
        "      fitness += duration*0.5\n",
        "  \n",
        "  return duration,size,fitness"
      ],
      "execution_count": 0,
      "outputs": []
    },
    {
      "cell_type": "code",
      "metadata": {
        "id": "eXlCOq800KIJ",
        "colab_type": "code",
        "colab": {}
      },
      "source": [
        "final_duration = []\n",
        "final_fitness = []\n",
        "final_size = []\n",
        "for i in range(1024):\n",
        "  \n",
        "  duration,size,fitness = details(values.iloc[i].values)\n",
        "  final_duration.append(duration)\n",
        "  final_size.append(size)\n",
        "  final_fitness.append(fitness) "
      ],
      "execution_count": 0,
      "outputs": []
    },
    {
      "cell_type": "code",
      "metadata": {
        "id": "h4I_jx7TybkG",
        "colab_type": "code",
        "colab": {}
      },
      "source": [
        "nearst = 0\n",
        "index = -1\n",
        "for i in range(1024):\n",
        "  if(final_size[i] > nearst and final_size[i] <=4500):\n",
        "    nearst = final_size[i]\n",
        "    index = i"
      ],
      "execution_count": 0,
      "outputs": []
    },
    {
      "cell_type": "code",
      "metadata": {
        "id": "WBB0iG-G1OPP",
        "colab_type": "code",
        "colab": {}
      },
      "source": [
        "final_size[index]"
      ],
      "execution_count": 0,
      "outputs": []
    },
    {
      "cell_type": "code",
      "metadata": {
        "id": "m_T63a5I2xB6",
        "colab_type": "code",
        "colab": {}
      },
      "source": [
        "final_duration[index]"
      ],
      "execution_count": 0,
      "outputs": []
    },
    {
      "cell_type": "code",
      "metadata": {
        "id": "XGPprHor25Wm",
        "colab_type": "code",
        "colab": {}
      },
      "source": [
        "index"
      ],
      "execution_count": 0,
      "outputs": []
    },
    {
      "cell_type": "code",
      "metadata": {
        "id": "c9xYYN9h8mna",
        "colab_type": "code",
        "colab": {}
      },
      "source": [
        "final_fitness[index]"
      ],
      "execution_count": 0,
      "outputs": []
    },
    {
      "cell_type": "code",
      "metadata": {
        "id": "ttaUL0WS6Kux",
        "colab_type": "code",
        "colab": {}
      },
      "source": [
        "values.iloc[index]"
      ],
      "execution_count": 0,
      "outputs": []
    },
    {
      "cell_type": "code",
      "metadata": {
        "id": "1dzWWtwP6OSn",
        "colab_type": "code",
        "colab": {}
      },
      "source": [
        ""
      ],
      "execution_count": 0,
      "outputs": []
    },
    {
      "cell_type": "markdown",
      "metadata": {
        "id": "XbQ4-DPC_Eds",
        "colab_type": "text"
      },
      "source": [
        "### **Differential Evolution**"
      ]
    },
    {
      "cell_type": "code",
      "metadata": {
        "id": "4v5sDfKd_HWr",
        "colab_type": "code",
        "colab": {}
      },
      "source": [
        "def mutate():\n",
        "  #Get 4 distinct values\n",
        "  state = True\n",
        "  a = 0\n",
        "  b = 0\n",
        "  c = 0\n",
        "  target_id = 0\n",
        "  scaleFactor = 0.5\n",
        "  while(state):\n",
        "    a = np.random.randint(0,popSize)\n",
        "    b = np.random.randint(0,popSize)\n",
        "    c = np.random.randint(0,popSize)\n",
        "    target_id = np.random.randint(0,popSize)\n",
        "    state = checkDistinct(a,b,c,target_id)\n",
        "    #print(\"a:\" +str(a) +\" b :\"+str(b) +\" c:\" + str(c) +\" target id:\" +str(target_id) )\n",
        "  #Get the respective solution items as arrays\n",
        "  a_item = population.iloc[a,1:].values\n",
        "  b_item = population.iloc[b,1:].values\n",
        "  c_item = population.iloc[c,1:].values\n",
        "  target_item = population.iloc[target_id,1:].values\n",
        "  #Add the weighted difference\n",
        "  for i in range(2):\n",
        "    a_item[i] = a_item[i] + scaleFactor*(b_item[i]-c_item[i])\n",
        "    \n",
        "  return a_item, target_item,target_id"
      ],
      "execution_count": 0,
      "outputs": []
    },
    {
      "cell_type": "code",
      "metadata": {
        "id": "Ij0vnppYBGa-",
        "colab_type": "code",
        "colab": {}
      },
      "source": [
        "def crossover(donor,target):\n",
        "  #crossover rate\n",
        "  CR = 0.1\n",
        "  \n",
        "  #size of the arrays\n",
        "  size = len(donor)\n",
        "  \n",
        "  #trial vector\n",
        "  trial_vector = np.empty([size])\n",
        "  \n",
        "  #create an array with random values\n",
        "  random_array = [random.uniform(0,1) for x in range(size)]\n",
        "  for i in range(size):\n",
        "    if(random_array[i] <=CR or i == random.randint(1,size)):\n",
        "      #replace with donor\n",
        "      trial_vector[i] = donor[i]\n",
        "    else:\n",
        "      #replace with target\n",
        "      trial_vector[i] = target[i]\n",
        "  \n",
        "  return trial_vector"
      ],
      "execution_count": 0,
      "outputs": []
    },
    {
      "cell_type": "code",
      "metadata": {
        "id": "MTIc92SoBKUd",
        "colab_type": "code",
        "colab": {}
      },
      "source": [
        "def checkDistinct(a,b,c,d):\n",
        "  if(a != b != c !=d != a != c and b != d ):\n",
        "    return False\n",
        "  else:\n",
        "    return True"
      ],
      "execution_count": 0,
      "outputs": []
    },
    {
      "cell_type": "code",
      "metadata": {
        "id": "QTkeZjMBBNam",
        "colab_type": "code",
        "colab": {}
      },
      "source": [
        "def selection(trial_vector,target):\n",
        "  fitness_trial,size_trial = getFitness(trial_vector)\n",
        "  fitness_target,size_target = getFitness(trial_vector)\n",
        "  \n",
        "  \n",
        "  if(fitness_trial>fitness_target):\n",
        "    target = trial_vector\n",
        "  else : \n",
        "    target = target\n",
        "  \n",
        "  return target"
      ],
      "execution_count": 0,
      "outputs": []
    },
    {
      "cell_type": "code",
      "metadata": {
        "id": "H4et_MbNBQQm",
        "colab_type": "code",
        "colab": {}
      },
      "source": [
        "def replace_to_population(offspring,target_id):\n",
        "  population.iloc[target_id,1:] = offspring"
      ],
      "execution_count": 0,
      "outputs": []
    },
    {
      "cell_type": "code",
      "metadata": {
        "id": "d4JeqFSUBUfy",
        "colab_type": "code",
        "colab": {}
      },
      "source": [
        "def iterate(n):\n",
        "  #value = ackley_function(solution[0],solution[1])\n",
        "  for i in range(n):\n",
        "    donor, target,target_id = mutate()\n",
        "    trial_vector = crossover(donor,target)\n",
        "    offspring = selection(trial_vector,target)\n",
        "    replace_to_population(offspring,target_id)"
      ],
      "execution_count": 0,
      "outputs": []
    },
    {
      "cell_type": "code",
      "metadata": {
        "id": "yuYxCX6CK8Yw",
        "colab_type": "code",
        "colab": {}
      },
      "source": [
        "def details2(row):\n",
        "  duration = 0\n",
        "  size = 0\n",
        "  fitness = 0\n",
        "  for i in range(len(row)):\n",
        "    if(row[i] == 1):\n",
        "      size += df.loc[i,'size']\n",
        "      duration += df.loc[i,'duration']\n",
        "    \n",
        "    if(size<=4500):\n",
        "      fitness += duration\n",
        "    else:\n",
        "      fitness += duration*0.5\n",
        "  \n",
        "  return duration,size,fitness"
      ],
      "execution_count": 0,
      "outputs": []
    },
    {
      "cell_type": "code",
      "metadata": {
        "id": "AUxCaqBt_q9k",
        "colab_type": "code",
        "colab": {}
      },
      "source": [
        "popSize = 10\n",
        "population = createInitPop(popSize)"
      ],
      "execution_count": 0,
      "outputs": []
    },
    {
      "cell_type": "code",
      "metadata": {
        "id": "3vMEcpBIBawr",
        "colab_type": "code",
        "colab": {}
      },
      "source": [
        "iterate(1000)"
      ],
      "execution_count": 0,
      "outputs": []
    },
    {
      "cell_type": "code",
      "metadata": {
        "id": "nRcRCeWvKawF",
        "colab_type": "code",
        "colab": {}
      },
      "source": [
        ""
      ],
      "execution_count": 0,
      "outputs": []
    },
    {
      "cell_type": "code",
      "metadata": {
        "id": "dvQTXM1HBcUc",
        "colab_type": "code",
        "colab": {}
      },
      "source": [
        "finalDuration = []\n",
        "finalFitness = []\n",
        "finalSize = []\n",
        "#Get Fitness and Size information for the Last Population\n",
        "for i in range(popSize):\n",
        "  duration,size,fitness = details2(population.iloc[i,1:].values)\n",
        "  finalDuration.append(duration)\n",
        "  finalFitness.append(fitness)\n",
        "  finalSize.append(size)"
      ],
      "execution_count": 0,
      "outputs": []
    },
    {
      "cell_type": "code",
      "metadata": {
        "id": "yBBu8t91DGnF",
        "colab_type": "code",
        "colab": {}
      },
      "source": [
        "nearst = 0\n",
        "index = -1\n",
        "for i in range(popSize):\n",
        "  if(finalFitness[i] > nearst and finalSize[i] <=4500):\n",
        "    nearst = final_size[i]\n",
        "    index = i"
      ],
      "execution_count": 0,
      "outputs": []
    },
    {
      "cell_type": "code",
      "metadata": {
        "id": "McmqkVFHJaOQ",
        "colab_type": "code",
        "colab": {}
      },
      "source": [
        "finalFitness[index]"
      ],
      "execution_count": 0,
      "outputs": []
    },
    {
      "cell_type": "code",
      "metadata": {
        "id": "JHDsez3zJjc0",
        "colab_type": "code",
        "colab": {}
      },
      "source": [
        "finalSize[index]"
      ],
      "execution_count": 0,
      "outputs": []
    },
    {
      "cell_type": "code",
      "metadata": {
        "id": "51BpFkk_KtV_",
        "colab_type": "code",
        "colab": {}
      },
      "source": [
        "finalDuration[index]"
      ],
      "execution_count": 0,
      "outputs": []
    },
    {
      "cell_type": "code",
      "metadata": {
        "id": "sjpx9UGUFGry",
        "colab_type": "code",
        "colab": {}
      },
      "source": [
        ""
      ],
      "execution_count": 0,
      "outputs": []
    }
  ]
}