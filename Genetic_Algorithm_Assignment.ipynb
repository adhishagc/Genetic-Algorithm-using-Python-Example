{
  "nbformat": 4,
  "nbformat_minor": 0,
  "metadata": {
    "colab": {
      "name": "Genetic Algorithm Assignment.ipynb",
      "version": "0.3.2",
      "provenance": [],
      "collapsed_sections": [],
      "include_colab_link": true
    },
    "kernelspec": {
      "name": "python3",
      "display_name": "Python 3"
    }
  },
  "cells": [
    {
      "cell_type": "markdown",
      "metadata": {
        "id": "view-in-github",
        "colab_type": "text"
      },
      "source": [
        "<a href=\"https://colab.research.google.com/github/adhishagc/Genetic-Algorithm-using-Python-Example/blob/master/Genetic_Algorithm_Assignment.ipynb\" target=\"_parent\"><img src=\"https://colab.research.google.com/assets/colab-badge.svg\" alt=\"Open In Colab\"/></a>"
      ]
    },
    {
      "cell_type": "markdown",
      "metadata": {
        "id": "Tzl3sKqNjh0H",
        "colab_type": "text"
      },
      "source": [
        "## **Table of Contents**\n",
        "\n",
        "---\n",
        "\n",
        "\n",
        "1.   **Importing Libraries**\n",
        "2.   **Access to Google Drive**\n",
        "3.**Function Definitions**\n",
        "4. **Running the Model**\n",
        "\n",
        "\n",
        "\n"
      ]
    },
    {
      "cell_type": "markdown",
      "metadata": {
        "id": "BEFLTAgH9Jxo",
        "colab_type": "text"
      },
      "source": [
        "### **Initialization**\n",
        "\n",
        "\n",
        "1.   Import of Libraries\n",
        "2.   Access to Google Drive\n",
        "3. Load the Dataset\n",
        "4. View the Dataset as a Dataframe\n",
        "\n"
      ]
    },
    {
      "cell_type": "code",
      "metadata": {
        "id": "-eurb3QNqpfi",
        "colab_type": "code",
        "colab": {}
      },
      "source": [
        "#importing libraries\n",
        "import pandas as pd\n",
        "import numpy as np\n",
        "import random as random\n",
        "from matplotlib import pyplot as plt\n",
        "import time"
      ],
      "execution_count": 0,
      "outputs": []
    },
    {
      "cell_type": "code",
      "metadata": {
        "id": "XbdYNXe5rWwX",
        "colab_type": "code",
        "colab": {
          "base_uri": "https://localhost:8080/",
          "height": 122
        },
        "outputId": "62181fc5-bd17-4da5-8a84-b0a9d69f1d3b"
      },
      "source": [
        "#Access to google drive. The Video Store dataset was uploaded to google drive.\n",
        "from google.colab import drive\n",
        "drive.mount('/content/gdrive')"
      ],
      "execution_count": 2,
      "outputs": [
        {
          "output_type": "stream",
          "text": [
            "Go to this URL in a browser: https://accounts.google.com/o/oauth2/auth?client_id=947318989803-6bn6qk8qdgf4n4g3pfee6491hc0brc4i.apps.googleusercontent.com&redirect_uri=urn%3Aietf%3Awg%3Aoauth%3A2.0%3Aoob&scope=email%20https%3A%2F%2Fwww.googleapis.com%2Fauth%2Fdocs.test%20https%3A%2F%2Fwww.googleapis.com%2Fauth%2Fdrive%20https%3A%2F%2Fwww.googleapis.com%2Fauth%2Fdrive.photos.readonly%20https%3A%2F%2Fwww.googleapis.com%2Fauth%2Fpeopleapi.readonly&response_type=code\n",
            "\n",
            "Enter your authorization code:\n",
            "··········\n",
            "Mounted at /content/gdrive\n"
          ],
          "name": "stdout"
        }
      ]
    },
    {
      "cell_type": "code",
      "metadata": {
        "id": "2x9m61XNt9iD",
        "colab_type": "code",
        "colab": {}
      },
      "source": [
        "#The dataset is load dataset to a dataframe\n",
        "df = pd.read_csv('/content/gdrive/My Drive/Genetic Algorithms/Assignment 01/dataset.csv')"
      ],
      "execution_count": 0,
      "outputs": []
    },
    {
      "cell_type": "code",
      "metadata": {
        "id": "QfQMTCpC-rop",
        "colab_type": "code",
        "colab": {
          "base_uri": "https://localhost:8080/",
          "height": 359
        },
        "outputId": "447e3afc-6194-49ec-b108-08092cedb92f"
      },
      "source": [
        "#view dataset\n",
        "df"
      ],
      "execution_count": 4,
      "outputs": [
        {
          "output_type": "execute_result",
          "data": {
            "text/html": [
              "<div>\n",
              "<style scoped>\n",
              "    .dataframe tbody tr th:only-of-type {\n",
              "        vertical-align: middle;\n",
              "    }\n",
              "\n",
              "    .dataframe tbody tr th {\n",
              "        vertical-align: top;\n",
              "    }\n",
              "\n",
              "    .dataframe thead th {\n",
              "        text-align: right;\n",
              "    }\n",
              "</style>\n",
              "<table border=\"1\" class=\"dataframe\">\n",
              "  <thead>\n",
              "    <tr style=\"text-align: right;\">\n",
              "      <th></th>\n",
              "      <th>file</th>\n",
              "      <th>size</th>\n",
              "      <th>duration</th>\n",
              "    </tr>\n",
              "  </thead>\n",
              "  <tbody>\n",
              "    <tr>\n",
              "      <th>0</th>\n",
              "      <td>1</td>\n",
              "      <td>800</td>\n",
              "      <td>121</td>\n",
              "    </tr>\n",
              "    <tr>\n",
              "      <th>1</th>\n",
              "      <td>2</td>\n",
              "      <td>700</td>\n",
              "      <td>95</td>\n",
              "    </tr>\n",
              "    <tr>\n",
              "      <th>2</th>\n",
              "      <td>3</td>\n",
              "      <td>650</td>\n",
              "      <td>85</td>\n",
              "    </tr>\n",
              "    <tr>\n",
              "      <th>3</th>\n",
              "      <td>4</td>\n",
              "      <td>750</td>\n",
              "      <td>100</td>\n",
              "    </tr>\n",
              "    <tr>\n",
              "      <th>4</th>\n",
              "      <td>5</td>\n",
              "      <td>600</td>\n",
              "      <td>78</td>\n",
              "    </tr>\n",
              "    <tr>\n",
              "      <th>5</th>\n",
              "      <td>6</td>\n",
              "      <td>900</td>\n",
              "      <td>125</td>\n",
              "    </tr>\n",
              "    <tr>\n",
              "      <th>6</th>\n",
              "      <td>7</td>\n",
              "      <td>950</td>\n",
              "      <td>130</td>\n",
              "    </tr>\n",
              "    <tr>\n",
              "      <th>7</th>\n",
              "      <td>8</td>\n",
              "      <td>875</td>\n",
              "      <td>128</td>\n",
              "    </tr>\n",
              "    <tr>\n",
              "      <th>8</th>\n",
              "      <td>9</td>\n",
              "      <td>1050</td>\n",
              "      <td>135</td>\n",
              "    </tr>\n",
              "    <tr>\n",
              "      <th>9</th>\n",
              "      <td>10</td>\n",
              "      <td>1500</td>\n",
              "      <td>120</td>\n",
              "    </tr>\n",
              "  </tbody>\n",
              "</table>\n",
              "</div>"
            ],
            "text/plain": [
              "   file  size  duration\n",
              "0     1   800       121\n",
              "1     2   700        95\n",
              "2     3   650        85\n",
              "3     4   750       100\n",
              "4     5   600        78\n",
              "5     6   900       125\n",
              "6     7   950       130\n",
              "7     8   875       128\n",
              "8     9  1050       135\n",
              "9    10  1500       120"
            ]
          },
          "metadata": {
            "tags": []
          },
          "execution_count": 4
        }
      ]
    },
    {
      "cell_type": "markdown",
      "metadata": {
        "id": "7JEmrYDp_IZo",
        "colab_type": "text"
      },
      "source": [
        "### **Population Creation Function**\n",
        "A dataframe which consists of the entire population is returned when this function is called. The structure would be of 1 column to label the chromosome number and the remaining 10 columns will represent the file number of the dataset. The returned dataframe (population) will consist of random 0 or 1 values in the  chromosome."
      ]
    },
    {
      "cell_type": "code",
      "metadata": {
        "id": "JKhFpNlW6UCH",
        "colab_type": "code",
        "colab": {}
      },
      "source": [
        "# function for init population\n",
        "def createInitPop(popSize):\n",
        "  #array of data to represent the chromosomes and random file labellings\n",
        "  values ={\n",
        "    'chromosome':[i for i in range(1,popSize+1)],\n",
        "    'file 1':[random.randint(0, 1) for _ in range(popSize)],\n",
        "    'file 2':[random.randint(0, 1) for _ in range(popSize)],\n",
        "    'file 3':[random.randint(0, 1) for _ in range(popSize)],\n",
        "    'file 4':[random.randint(0, 1) for _ in range(popSize)],\n",
        "    'file 5':[random.randint(0, 1) for _ in range(popSize)],\n",
        "    'file 6':[random.randint(0, 1) for _ in range(popSize)],\n",
        "    'file 7':[random.randint(0, 1) for _ in range(popSize)],\n",
        "    'file 8':[random.randint(0, 1) for _ in range(popSize)],\n",
        "    'file 9':[random.randint(0, 1) for _ in range(popSize)],\n",
        "    'file 10':[random.randint(0, 1) for _ in range(popSize)],\n",
        "  }\n",
        "  #convert the array of population to a dataframe\n",
        "  values = pd.DataFrame(values)\n",
        "  \n",
        "  #return the dataframe\n",
        "  return values"
      ],
      "execution_count": 0,
      "outputs": []
    },
    {
      "cell_type": "markdown",
      "metadata": {
        "id": "o45jFGcl_Rq_",
        "colab_type": "text"
      },
      "source": [
        "### **Evaluate Fitness Function**\n",
        "\n",
        "\\begin{equation}\n",
        "f(x_i) = \\textrm{Playing time of video file of } x_i\n",
        "\\end{equation}\n",
        "\n",
        "\\begin{equation}\n",
        "g(x_i) = \\textrm{File size of video file of } x_i\n",
        "\\end{equation}\n",
        "\n",
        "**Objective Function**\n",
        "\\begin{equation}\n",
        "\\textrm{Maximize }\\sum f(x_i) \\textrm{ such that } \\sum g(x_i)<=4500\n",
        "\\end{equation}"
      ]
    },
    {
      "cell_type": "code",
      "metadata": {
        "id": "aLZeRrRsX5UC",
        "colab_type": "code",
        "colab": {}
      },
      "source": [
        "#Evaluate Fitness Function\n",
        "def EvaluateFitness(chromosome,df,popSize):\n",
        "  #fitness array\n",
        "  fitness = {\n",
        "      'chromosome':[x for x in range(1,popSize+1)],\n",
        "      'fitness':[0 for x in range(0,popSize)]\n",
        "  }\n",
        "  \n",
        "  #size array\n",
        "  filesize = {\n",
        "      'chromosome':[x for x in range(1,popSize+1)],\n",
        "      'size':[0 for x in range(0,popSize)]\n",
        "  }\n",
        "\n",
        "  #convert to dataframe\n",
        "  fitness = pd.DataFrame(fitness)\n",
        "  filesize = pd.DataFrame(filesize)\n",
        "\n",
        "  #total file size and duration PER Solution\n",
        "  size=0\n",
        "  duration=0\n",
        "  \n",
        "  #implementation of the Fitness Function\n",
        "  # i navigates the rows while the j navigates the file1, file2 ... columns in the chromosome.\n",
        "  for i in range(popSize):\n",
        "    for j in range(1,11):\n",
        "      #navigate through each chromosome in the population and check for the cells which contains a file, that is 1 value in the cell.\n",
        "      \n",
        "      if(chromosome.iloc[i,j] ==1):\n",
        "        #if it contains any file in the cell(that is a 1 value) the size and the duration of the solution is calculated by comparing the dataset.\n",
        "        size += df.iloc[j-1,1]\n",
        "        duration +=df.iloc[j-1,2]\n",
        "    \n",
        "    #calculation of the fitness and the total file size of the entire population\n",
        "    if(size<=4500):\n",
        "      #these values are potential solutions since the size is less than 4500.\n",
        "      #respective fitness and filesizes are added to the dataframe\n",
        "      fitness.loc[i,'fitness'] = duration\n",
        "      filesize.loc[i,'size'] = size\n",
        "      \n",
        "    else:\n",
        "      #These will be non solutions. Therefore the fitness is reduced by multiplying by 0.5\n",
        "      #The file size is stored\n",
        "      fitness.loc[i,'fitness'] = duration*0.5\n",
        "      filesize.loc[i,'size'] = size\n",
        "      \n",
        "    #The PER solution size and duration values are reset\n",
        "    size = 0\n",
        "    duration = 0\n",
        "  \n",
        "  #The entire fitness and filesize of the population is returned as a DataFrame\n",
        "  return fitness, filesize      "
      ],
      "execution_count": 0,
      "outputs": []
    },
    {
      "cell_type": "markdown",
      "metadata": {
        "id": "KDNuThva_Wj-",
        "colab_type": "text"
      },
      "source": [
        "### **Rank Selection Function**"
      ]
    },
    {
      "cell_type": "code",
      "metadata": {
        "id": "rHnFx9w2g8wL",
        "colab_type": "code",
        "colab": {}
      },
      "source": [
        "#Rank Selection Function\n",
        "def rankSelection(chromosome,fitness,popSize):\n",
        "  #Total integer value from 0 to population size \n",
        "  rankTotal = sum(x for x in range(0,popSize))\n",
        "  \n",
        "  #A random value inbetween 0 and above value\n",
        "  totRandom = random.uniform(0,1)*rankTotal\n",
        "  \n",
        "  #variable to store the accumilation of fitness values\n",
        "  tot=0\n",
        "  #sorting the fitness dataframe having the lowest on the top and the highest in the bottom\n",
        "  fitness_sorted = fitness.sort_values(by=['fitness'])\n",
        "  \n",
        "  for i in fitness_sorted.index:\n",
        "    #accumilation of the fitness values till the accumilation is equal to the random total generated\n",
        "    tot += fitness_sorted.loc[i,'fitness']\n",
        "    if(tot>=totRandom):\n",
        "      global fifo_index\n",
        "      fifo_index = i\n",
        "      \n",
        "      #returning the chromosome(as a parent selected) and the respective value i where the accumilation stopped. \n",
        "      selected_parent = chromosome.loc[i,:]\n",
        "      selected_parent_id = i\n",
        "      \n",
        "      return selected_parent,selected_parent_id"
      ],
      "execution_count": 0,
      "outputs": []
    },
    {
      "cell_type": "markdown",
      "metadata": {
        "id": "NrydFJLYZ8TN",
        "colab_type": "text"
      },
      "source": [
        "### **Binary Represented N Point Crossover Function Generalized**\n",
        "The function has generalized the Single Point Crossover and the N-Point Crossover operators.\n",
        "When :\n",
        "\\begin{equation}\n",
        "n = 1...n \\textrm{ which is the n-point}\n",
        "\\end{equation}\n",
        "is passed as a parameter it the function it acts as a single point crossover and for the rest as an n point crossover. Also the :\n",
        "\\begin{equation}\n",
        "p_c = 0.8 \\textrm{ or etc, crossover rate}\n",
        "\\end{equation}\n",
        "would be the crossover rate for the function.\n"
      ]
    },
    {
      "cell_type": "code",
      "metadata": {
        "id": "LVeLCuF3Z6jR",
        "colab_type": "code",
        "colab": {}
      },
      "source": [
        "def binary_rep_n_point_crossover(n,parent1,parent2,pc):\n",
        "  \n",
        "  parent1_parts = [] #this list contains parent 1 partwise split sections based on the random values generated\n",
        "  parent2_parts = [] #this list contains parent 2 partwise split sections based on the random values generated\n",
        "  random_vals = [] #list to store the generated random values\n",
        "  start_pos = 0 #start position of the spiliting parents\n",
        "  random_position = start_pos+1 #initial random position\n",
        "  L_1 = 10-1 # the random value range should be in between 1 to 10-1 which is L-1\n",
        "\n",
        "  parent1_array = parent1.values\n",
        "  parent2_array = parent2.values\n",
        "\n",
        "  if(random.uniform(0,1)>=pc):\n",
        "    #crossover takes place\n",
        "    count = 1\n",
        "\n",
        "    for n_times in range(n+1):\n",
        "      #random position is generated here. This random position will be the place\n",
        "      #where the chromosome will be split\n",
        "      random_position = random.randint(random_position,L_1)\n",
        "\n",
        "      #The generated random values are stored in this list\n",
        "      random_vals.append(random_position)\n",
        "\n",
        "\n",
        "      if(n_times == n):\n",
        "        parent1_parts.append(parent1_array[start_pos:L_1+1])\n",
        "        parent2_parts.append(parent2_array[start_pos:L_1+1])\n",
        "\n",
        "      else:\n",
        "\n",
        "        parent1_parts.append(parent1_array[start_pos:random_position])\n",
        "        parent2_parts.append(parent2_array[start_pos:random_position])\n",
        "\n",
        "      start_pos = random_position\n",
        "      #random_position +=1\n",
        "\n",
        "\n",
        "    for i in range(len(parent1_parts)):\n",
        "      if(count%2==0):\n",
        "        temp = parent1_parts[i]\n",
        "        parent1_parts[i] = parent2_parts[i]\n",
        "        parent2_parts[i] = temp\n",
        "        count +=1\n",
        "      else:\n",
        "        #nothing\n",
        "        count += 1\n",
        "\n",
        "\n",
        "    offspring1_array = np.concatenate(([parent1_parts[i] for i in range(len(parent1_parts))]))\n",
        "    offspring2_array = np.concatenate(([parent2_parts[i] for i in range(len(parent1_parts))]))\n",
        "    return offspring1_array,offspring2_array\n",
        "  \n",
        "  else:\n",
        "    return parent1_array,parent2_array \n",
        "  \n"
      ],
      "execution_count": 0,
      "outputs": []
    },
    {
      "cell_type": "markdown",
      "metadata": {
        "id": "rYDi-eCZ_hVG",
        "colab_type": "text"
      },
      "source": [
        "### **BitFlip of the Mutation**\n",
        "Bit flip is done based on a randomly generated array of numbers compared with the mutation rate variable. If the compared value is higher than the mutation rate bit value is flipped.\n",
        "\\begin{equation}\n",
        "p_m = 0 .... 1  \\textrm{ Mutation rate Variable}\n",
        "\\end{equation}"
      ]
    },
    {
      "cell_type": "code",
      "metadata": {
        "id": "nnNbniZ-LbQi",
        "colab_type": "code",
        "colab": {}
      },
      "source": [
        "def bitflip(chromosome,pm):\n",
        "  #generate random bit array\n",
        "  bits = [random.uniform(0,1) for _ in range(10)] #range size is the number of files\n",
        "  \n",
        "  for i in range(10):\n",
        "    if(bits[i]>=pm):\n",
        "      if(chromosome[i] == 0):\n",
        "        chromosome[i] = 1\n",
        "      else:\n",
        "        chromosome[i] = 0\n",
        "  \n",
        "  return chromosome\n",
        "      "
      ],
      "execution_count": 0,
      "outputs": []
    },
    {
      "cell_type": "markdown",
      "metadata": {
        "id": "ZtPy1zlX_dY_",
        "colab_type": "text"
      },
      "source": [
        "### **Supportive Functions**\n",
        "These functions are used for retrieving individual chromosome information. Much used for debugging purposes.\n",
        "\n",
        "1.   **getFitness** function retruns the fitness and the total size of the Chromosome\n",
        "2.   **getDetails** function returns the total file size and the total duration of the Chromosome\n",
        "\n"
      ]
    },
    {
      "cell_type": "code",
      "metadata": {
        "id": "_TXQpT10lC5N",
        "colab_type": "code",
        "colab": {}
      },
      "source": [
        "def getFitness(chromosome):\n",
        "  total_size = 0\n",
        "  total_duration = 0\n",
        "  \n",
        "  for i in range(len(chromosome)):\n",
        "    if(chromosome[i]==1):\n",
        "      total_size += df.loc[i,'size']\n",
        "      total_duration += df.loc[i,'duration']\n",
        "  \n",
        "  if(total_size>4500):\n",
        "    fitness = total_duration*0.5\n",
        "    return fitness,total_size\n",
        "  else:\n",
        "    fitness = total_duration\n",
        "    \n",
        "    return fitness,total_size"
      ],
      "execution_count": 0,
      "outputs": []
    },
    {
      "cell_type": "code",
      "metadata": {
        "id": "3Mni32HhOggn",
        "colab_type": "code",
        "colab": {}
      },
      "source": [
        "def getFitness_for_runs(chromosome):\n",
        "  total_size = 0\n",
        "  total_duration = 0\n",
        "  \n",
        "  for i in range(len(chromosome)):\n",
        "    if(chromosome[i]==1):\n",
        "      total_size += df.loc[i,'size']\n",
        "      total_duration += df.loc[i,'duration']\n",
        "  \n",
        "  if(total_size>4500):\n",
        "    fitness = total_duration*0.5\n",
        "    return fitness,total_duration,total_size\n",
        "  else:\n",
        "    fitness = total_duration\n",
        "    \n",
        "    return fitness,total_duration,total_size"
      ],
      "execution_count": 0,
      "outputs": []
    },
    {
      "cell_type": "code",
      "metadata": {
        "id": "npW9BN7ppNiz",
        "colab_type": "code",
        "colab": {}
      },
      "source": [
        "def getDetails(chromosome):\n",
        "  total_size = 0\n",
        "  total_duration = 0\n",
        "  \n",
        "  for i in range(len(chromosome)):\n",
        "    if(chromosome[i]==1):\n",
        "      total_size += df.loc[i,'size']\n",
        "      total_duration += df.loc[i,'duration']\n",
        "      \n",
        "  return total_duration, total_size"
      ],
      "execution_count": 0,
      "outputs": []
    },
    {
      "cell_type": "markdown",
      "metadata": {
        "id": "ZZbApi5tApCR",
        "colab_type": "text"
      },
      "source": [
        "### **Replace the Offspring with the Population**\n",
        "Offspring is replaced based on age. That is the selected parents are replaced.\n",
        "\n"
      ]
    },
    {
      "cell_type": "code",
      "metadata": {
        "id": "A7RbOz8pQZhZ",
        "colab_type": "code",
        "colab": {}
      },
      "source": [
        "def replace_with_offspring(parent1_id,parent2_id,offspring1,offspring2):\n",
        "  #Offspring is replaced based on age. That is the selected parents are replaced.\n",
        "  chromosome.iloc[parent1_id,1:] = offspring1\n",
        "  chromosome.iloc[parent2_id,1:] = offspring2"
      ],
      "execution_count": 0,
      "outputs": []
    },
    {
      "cell_type": "markdown",
      "metadata": {
        "id": "ElR3n9xN_lNP",
        "colab_type": "text"
      },
      "source": [
        "### **Iterate the Model**\n",
        "\n"
      ]
    },
    {
      "cell_type": "code",
      "metadata": {
        "id": "slw5Q3PfSaUe",
        "colab_type": "code",
        "colab": {}
      },
      "source": [
        "def trainModel(n,n_point,p_c,p_m):\n",
        "  #variable to count and display the current epoch\n",
        "  epoch = 0\n",
        "  fit = pd.DataFrame()\n",
        "  filesize = pd.DataFrame()\n",
        "  parent1 = pd.DataFrame()\n",
        "  parent2 = pd.DataFrame()\n",
        "  \n",
        "  \n",
        "  for i in range(n):\n",
        "    #Fitness Evaluation\n",
        "    fitness, totFileSize = EvaluateFitness(chromosome,df,popSize)\n",
        "    \n",
        "    #parent selection\n",
        "    parent1, parent1_id = rankSelection(chromosome,fitness,popSize)\n",
        "    parent2, parent2_id = rankSelection(chromosome,fitness,popSize)\n",
        "    \n",
        "    #offspring generation through crossover\n",
        "    offspring1,offspring2 = binary_rep_n_point_crossover(n_point,parent1[1:],parent2[1:],p_c)\n",
        "    \n",
        "    #passing the generated offspring for mutation\n",
        "    offspring1 = bitflip(offspring1,p_m)\n",
        "    offspring2 = bitflip(offspring2,p_m)\n",
        "    \n",
        "    #replace parents\n",
        "    replace_with_offspring(parent1_id,parent2_id,offspring1,offspring2)\n",
        "    \n",
        "    #display epoch\n",
        "    #print(epoch)\n",
        "    #epoch +=1\n",
        "    \n",
        "    #debugging purposes returning values\n",
        "    fit = fitness\n",
        "    filesize = totFileSize\n",
        "    \n",
        "    #return parent1,parent2,offspring1,offspring2\n",
        "  #return fit,filesize,parent1,parent2     # general purpose\n",
        "  #return \n"
      ],
      "execution_count": 0,
      "outputs": []
    },
    {
      "cell_type": "code",
      "metadata": {
        "id": "ItdC-TfCjdlC",
        "colab_type": "code",
        "colab": {
          "base_uri": "https://localhost:8080/",
          "height": 34
        },
        "outputId": "09908ca1-5931-4035-fc0a-f2e59b3cac76"
      },
      "source": [
        "print(10/2)"
      ],
      "execution_count": 14,
      "outputs": [
        {
          "output_type": "stream",
          "text": [
            "5.0\n"
          ],
          "name": "stdout"
        }
      ]
    },
    {
      "cell_type": "markdown",
      "metadata": {
        "id": "aGAXyV85_p6m",
        "colab_type": "text"
      },
      "source": [
        "### **Run the Program**"
      ]
    },
    {
      "cell_type": "code",
      "metadata": {
        "id": "C3sAEJ26EO3X",
        "colab_type": "code",
        "colab": {
          "base_uri": "https://localhost:8080/",
          "height": 68
        },
        "outputId": "668b33e0-273c-492b-e893-04dccffea9f4"
      },
      "source": [
        "#SCENE 01\n",
        "#population size\n",
        "popSize = 60 \n",
        "\n",
        "#creation of population of Chromosomes\n",
        "chromosome = createInitPop(popSize)\n",
        "\n",
        "#fifo index relates to the index to be removed. -1 is the initial value\n",
        "fifo_index = -1\n",
        "\n",
        "#iteration and \n",
        "iterations = 100\n",
        "\n",
        "#n point for crossover\n",
        "n_point = 1\n",
        "#crossover rate\n",
        "p_c = 0.8\n",
        "#mutation rate\n",
        "p_m = 0.01\n",
        "\n",
        "#Final population Duration and Size storage\n",
        "finalFitness = []\n",
        "finalSize = []\n",
        "\n",
        "\n",
        "#train model\n",
        "start = time.time()\n",
        "#fit,filesize,parent1,parent2 = trainModel(iterations,n_point,p_c,p_m)\n",
        "trainModel(iterations,n_point,p_c,p_m)\n",
        "end = time.time()\n",
        "print(\"Population Size :\" + str(popSize))\n",
        "print(\"Iterations :\" + str(iterations))\n",
        "print(\"Elapsed time :\" + str(end - start) + \" seconds\")\n",
        "\n",
        "#Get Fitness and Size information for the Last Population\n",
        "for i in range(popSize):\n",
        "  fitness,size = getFitness(chromosome.iloc[i,1:].values)\n",
        "  finalFitness.append(fitness)\n",
        "  finalSize.append(size)\n",
        "  "
      ],
      "execution_count": 15,
      "outputs": [
        {
          "output_type": "stream",
          "text": [
            "Population Size :60\n",
            "Iterations :100\n",
            "Elapsed time :6.643524646759033 seconds\n"
          ],
          "name": "stdout"
        }
      ]
    },
    {
      "cell_type": "code",
      "metadata": {
        "id": "HUU2lBGpww7U",
        "colab_type": "code",
        "colab": {}
      },
      "source": [
        "#Getting the Optimum solution Information to Variables\n",
        "Best_Solution_id = finalFitness.index(max(finalFitness))\n",
        "Best_Solution_Size = finalSize[Best_Solution_id] \n",
        "Best_Solution_Duration = finalFitness[Best_Solution_id]\n",
        "Best_Solution = chromosome.iloc[Best_Solution_id]"
      ],
      "execution_count": 0,
      "outputs": []
    },
    {
      "cell_type": "code",
      "metadata": {
        "id": "vcD2gdPVozvl",
        "colab_type": "code",
        "colab": {
          "base_uri": "https://localhost:8080/",
          "height": 289
        },
        "outputId": "12288e17-9fdc-4da3-ce58-424cf1fde888"
      },
      "source": [
        "#Printing the Optimum Solution Information\n",
        "print(\"Optimum Solution ID : \" + str(Best_Solution_id))\n",
        "print(\"Optimum Fitness : \" + str(max(finalFitness)))\n",
        "print(\"Optimum Solution File Size : \" + str(Best_Solution_Size) + \"MB\")\n",
        "print(\"Optimum Solution Duration : \" + str(Best_Solution_Duration) + \" Minutes\")\n",
        "print(\"Optimum Solution : \")\n",
        "print(str(Best_Solution[1:]))"
      ],
      "execution_count": 17,
      "outputs": [
        {
          "output_type": "stream",
          "text": [
            "Optimum Solution ID : 17\n",
            "Optimum Fitness : 609\n",
            "Optimum Solution File Size : 4375MB\n",
            "Optimum Solution Duration : 609 Minutes\n",
            "Optimum Solution : \n",
            "file 1     1\n",
            "file 2     1\n",
            "file 3     0\n",
            "file 4     0\n",
            "file 5     0\n",
            "file 6     0\n",
            "file 7     1\n",
            "file 8     1\n",
            "file 9     1\n",
            "file 10    0\n",
            "Name: 17, dtype: int64\n"
          ],
          "name": "stdout"
        }
      ]
    },
    {
      "cell_type": "code",
      "metadata": {
        "id": "oT0xPUUOL3hq",
        "colab_type": "code",
        "colab": {}
      },
      "source": [
        "def runs(run):\n",
        "  epoch = 0\n",
        "  #iteration and \n",
        "  iterations = 100\n",
        "\n",
        "  #n point for crossover\n",
        "  n_point = 1\n",
        "  #crossover rate\n",
        "  p_c = 0.8\n",
        "  #mutation rate\n",
        "  p_m = 0.01\n",
        "  \n",
        "  for i in range(1,run+1):\n",
        "    trainModel(iterations,n_point,p_c,p_m)\n",
        "    \n",
        "    #Final population Duration and Size storage\n",
        "    finalFitness = []\n",
        "    finalDuration = []\n",
        "    finalSize = []\n",
        "    \n",
        "    global chromosome\n",
        "    \n",
        "    for i in range(popSize):\n",
        "      fitness,duration,size = getFitness_for_runs(chromosome.iloc[i,1:].values)\n",
        "      finalDuration.append(duration)\n",
        "      finalFitness.append(fitness)\n",
        "      finalSize.append(size)\n",
        "    \n",
        "    higestFitness_index = finalFitness.index(max(finalFitness))\n",
        "    best_out_of_runs_fitness.append(finalFitness[higestFitness_index])\n",
        "    best_out_of_runs_duration.append(finalDuration[higestFitness_index])\n",
        "    best_out_of_runs_size.append(finalSize[higestFitness_index])\n",
        "    \n",
        "    chromosome = chromosome_backup\n",
        "    print(\"Completed Run : \" + str(epoch))\n",
        "    epoch += 1"
      ],
      "execution_count": 0,
      "outputs": []
    },
    {
      "cell_type": "code",
      "metadata": {
        "id": "U8ikjXT8MDrl",
        "colab_type": "code",
        "colab": {
          "base_uri": "https://localhost:8080/",
          "height": 867
        },
        "outputId": "90332e43-785b-4951-ec30-05d10527b16f"
      },
      "source": [
        "#population size\n",
        "popSize = 60 \n",
        "\n",
        "#creation of population of Chromosomes\n",
        "chromosome = createInitPop(popSize)\n",
        "chromosome_backup = chromosome\n",
        "\n",
        "run = 50\n",
        "best_out_of_runs_fitness = []\n",
        "best_out_of_runs_duration = []\n",
        "best_out_of_runs_size = []\n",
        "\n",
        "runs(run)\n"
      ],
      "execution_count": 101,
      "outputs": [
        {
          "output_type": "stream",
          "text": [
            "Completed Run : 0\n",
            "Completed Run : 1\n",
            "Completed Run : 2\n",
            "Completed Run : 3\n",
            "Completed Run : 4\n",
            "Completed Run : 5\n",
            "Completed Run : 6\n",
            "Completed Run : 7\n",
            "Completed Run : 8\n",
            "Completed Run : 9\n",
            "Completed Run : 10\n",
            "Completed Run : 11\n",
            "Completed Run : 12\n",
            "Completed Run : 13\n",
            "Completed Run : 14\n",
            "Completed Run : 15\n",
            "Completed Run : 16\n",
            "Completed Run : 17\n",
            "Completed Run : 18\n",
            "Completed Run : 19\n",
            "Completed Run : 20\n",
            "Completed Run : 21\n",
            "Completed Run : 22\n",
            "Completed Run : 23\n",
            "Completed Run : 24\n",
            "Completed Run : 25\n",
            "Completed Run : 26\n",
            "Completed Run : 27\n",
            "Completed Run : 28\n",
            "Completed Run : 29\n",
            "Completed Run : 30\n",
            "Completed Run : 31\n",
            "Completed Run : 32\n",
            "Completed Run : 33\n",
            "Completed Run : 34\n",
            "Completed Run : 35\n",
            "Completed Run : 36\n",
            "Completed Run : 37\n",
            "Completed Run : 38\n",
            "Completed Run : 39\n",
            "Completed Run : 40\n",
            "Completed Run : 41\n",
            "Completed Run : 42\n",
            "Completed Run : 43\n",
            "Completed Run : 44\n",
            "Completed Run : 45\n",
            "Completed Run : 46\n",
            "Completed Run : 47\n",
            "Completed Run : 48\n",
            "Completed Run : 49\n"
          ],
          "name": "stdout"
        }
      ]
    },
    {
      "cell_type": "code",
      "metadata": {
        "id": "ZUAL28uzPx6b",
        "colab_type": "code",
        "colab": {
          "base_uri": "https://localhost:8080/",
          "height": 286
        },
        "outputId": "0eaaf1e2-38a4-4bb8-85be-216dbae483f8"
      },
      "source": [
        "plt.plot([x for x in range(1,run+1)],[best_out_of_runs_fitness[x] for x in range(len(best_out_of_runs_fitness))])"
      ],
      "execution_count": 102,
      "outputs": [
        {
          "output_type": "execute_result",
          "data": {
            "text/plain": [
              "[<matplotlib.lines.Line2D at 0x7f40a3dcfe48>]"
            ]
          },
          "metadata": {
            "tags": []
          },
          "execution_count": 102
        },
        {
          "output_type": "display_data",
          "data": {
            "image/png": "[encoded data removed]",
            "text/plain": [
              "<Figure size 432x288 with 1 Axes>"
            ]
          },
          "metadata": {
            "tags": []
          }
        }
      ]
    },
    {
      "cell_type": "code",
      "metadata": {
        "id": "NVvRI_CWQwlc",
        "colab_type": "code",
        "colab": {
          "base_uri": "https://localhost:8080/",
          "height": 286
        },
        "outputId": "75625299-9a55-4b01-9c63-2b8b61869f48"
      },
      "source": [
        "plt.plot([x for x in range(1,run+1)],[best_out_of_runs_duration[x] for x in range(len(best_out_of_runs_duration))])"
      ],
      "execution_count": 103,
      "outputs": [
        {
          "output_type": "execute_result",
          "data": {
            "text/plain": [
              "[<matplotlib.lines.Line2D at 0x7f40a3da06d8>]"
            ]
          },
          "metadata": {
            "tags": []
          },
          "execution_count": 103
        },
        {
          "output_type": "display_data",
          "data": {
            "image/png": "[encoded data removed]",
            "text/plain": [
              "<Figure size 432x288 with 1 Axes>"
            ]
          },
          "metadata": {
            "tags": []
          }
        }
      ]
    },
    {
      "cell_type": "code",
      "metadata": {
        "id": "nFZdyWhJRBBJ",
        "colab_type": "code",
        "colab": {
          "base_uri": "https://localhost:8080/",
          "height": 286
        },
        "outputId": "c4960966-61b8-48a6-91b7-65571c9bfe31"
      },
      "source": [
        "plt.plot([x for x in range(1,run+1)],[best_out_of_runs_size[x] for x in range(len(best_out_of_runs_size))])"
      ],
      "execution_count": 104,
      "outputs": [
        {
          "output_type": "execute_result",
          "data": {
            "text/plain": [
              "[<matplotlib.lines.Line2D at 0x7f40a3d72eb8>]"
            ]
          },
          "metadata": {
            "tags": []
          },
          "execution_count": 104
        },
        {
          "output_type": "display_data",
          "data": {
            "image/png": "[encoded data removed]",
            "text/plain": [
              "<Figure size 432x288 with 1 Axes>"
            ]
          },
          "metadata": {
            "tags": []
          }
        }
      ]
    },
    {
      "cell_type": "code",
      "metadata": {
        "id": "GeuUuq1QQ837",
        "colab_type": "code",
        "colab": {}
      },
      "source": [
        "highest_fitness_index = best_out_of_runs_fitness.index(max(best_out_of_runs_fitness))\n",
        "opt_duration = best_out_of_runs_duration[highest_fitness_index]\n",
        "opt_size = best_out_of_runs_size[highest_fitness_index]"
      ],
      "execution_count": 0,
      "outputs": []
    },
    {
      "cell_type": "code",
      "metadata": {
        "id": "bVNrWts2Xsq-",
        "colab_type": "code",
        "colab": {
          "base_uri": "https://localhost:8080/",
          "height": 51
        },
        "outputId": "1b15daa4-5145-4a6a-9ee9-ca661d5a5a1d"
      },
      "source": [
        "print(\"Optimum Duration : \" + str(opt_duration))\n",
        "print(\"Optimum Size : \" + str(opt_size))"
      ],
      "execution_count": 110,
      "outputs": [
        {
          "output_type": "stream",
          "text": [
            "Optimum Duration : 614\n",
            "Optimum Size : 4425\n"
          ],
          "name": "stdout"
        }
      ]
    },
    {
      "cell_type": "markdown",
      "metadata": {
        "id": "nGw3JHBKp1_J",
        "colab_type": "text"
      },
      "source": [
        "### **Plotting the Final Result**\n",
        "\n",
        "This plot shows 3 import facts about the final solution. \n",
        "\n",
        "\n",
        "1.   The Horizontal Line shows the 4,500MB benchmark line\n",
        "2.   The Zig Zag plot shows the Fitness of the Final Population\n",
        "3. The Red Cross (+) shows the position of the Optimum solution Generated\n",
        "\n",
        "\n",
        "\n"
      ]
    },
    {
      "cell_type": "code",
      "metadata": {
        "id": "4DYhr1UnHHC0",
        "colab_type": "code",
        "colab": {
          "base_uri": "https://localhost:8080/",
          "height": 312
        },
        "outputId": "ce06ee92-3036-4601-eba3-586fbbc45f65"
      },
      "source": [
        "plt.plot([x for x in range(popSize)],[finalSize[x] for x in range(len(finalSize))])\n",
        "plt.legend(\"Evolved Generation\")\n",
        "plt.plot([Best_Solution_id],[Best_Solution_Size],'r+')\n",
        "plt.legend(\"Optimum Solution\")\n",
        "plt.plot([x for x in range(popSize)],[4500 for x in range(len(finalSize))])\n",
        "plt.legend(\"Benchmark\")\n",
        "plt.xlabel(\"Chromosome in the Evolved Population\")\n",
        "plt.ylabel(\"File Size in MB\")\n",
        "plt.title(\"Chromosome in the Evolved Population vs File Size\")\n"
      ],
      "execution_count": 18,
      "outputs": [
        {
          "output_type": "execute_result",
          "data": {
            "text/plain": [
              "Text(0.5, 1.0, 'Chromosome in the Evolved Population vs File Size')"
            ]
          },
          "metadata": {
            "tags": []
          },
          "execution_count": 18
        },
        {
          "output_type": "display_data",
          "data": {
            "image/png": "[encoded data removed]",
            "text/plain": [
              "<Figure size 432x288 with 1 Axes>"
            ]
          },
          "metadata": {
            "tags": []
          }
        }
      ]
    },
    {
      "cell_type": "markdown",
      "metadata": {
        "id": "BuTJqts4rHoz",
        "colab_type": "text"
      },
      "source": [
        "### **Variation with  Iteration Count**"
      ]
    },
    {
      "cell_type": "code",
      "metadata": {
        "id": "QUi2K139rXTi",
        "colab_type": "code",
        "colab": {}
      },
      "source": [
        ""
      ],
      "execution_count": 0,
      "outputs": []
    },
    {
      "cell_type": "code",
      "metadata": {
        "id": "WEb13q_VBegj",
        "colab_type": "code",
        "colab": {}
      },
      "source": [
        "def get_avg_best(n,pop_1):\n",
        "  for j in range(0,n+1):\n",
        "    trainModel(j,n_point,p_c,p_m)\n",
        "    \n",
        "    finalDuration = []\n",
        "    finalSize = []\n",
        "    for i in range(popSize):\n",
        "      duration,size = getFitness(pop_1.iloc[i,1:].values)\n",
        "      finalDuration.append(duration)\n",
        "      finalSize.append(size)\n",
        "      \n",
        "    best_vals_size.append(finalSize[finalDuration.index(max(finalDuration))])\n",
        "    best_vals_duration.append(max(finalDuration))\n",
        "    print(\"Completed : \" + str(j) + \" Best Size :\" + str(finalSize[finalDuration.index(max(finalDuration))]) + \" Best Duration : \" + str(max(finalDuration)))\n",
        "    pop_1 = chromosome"
      ],
      "execution_count": 0,
      "outputs": []
    },
    {
      "cell_type": "code",
      "metadata": {
        "id": "GOimnDW0RMlN",
        "colab_type": "code",
        "colab": {}
      },
      "source": [
        "chromosome = createInitPop(popSize)"
      ],
      "execution_count": 0,
      "outputs": []
    },
    {
      "cell_type": "code",
      "metadata": {
        "id": "XJQMeoa5EFAs",
        "colab_type": "code",
        "colab": {
          "base_uri": "https://localhost:8080/",
          "height": 1734
        },
        "outputId": "750a23d7-9320-4bfd-f6e1-7dff95819aec"
      },
      "source": [
        "\n",
        "pop_1 = chromosome\n",
        "#save the best chromosome fitness per iteration\n",
        "best_vals_size = [ ]\n",
        "best_vals_duration = [ ]\n",
        "n=100\n",
        "get_avg_best(n,pop_1)\n"
      ],
      "execution_count": 21,
      "outputs": [
        {
          "output_type": "stream",
          "text": [
            "Completed : 0 Best Size :4175 Best Duration : 579\n",
            "Completed : 1 Best Size :4175 Best Duration : 579\n",
            "Completed : 2 Best Size :4175 Best Duration : 589\n",
            "Completed : 3 Best Size :4175 Best Duration : 589\n",
            "Completed : 4 Best Size :4175 Best Duration : 589\n",
            "Completed : 5 Best Size :4175 Best Duration : 589\n",
            "Completed : 6 Best Size :4175 Best Duration : 589\n",
            "Completed : 7 Best Size :4175 Best Duration : 589\n",
            "Completed : 8 Best Size :4175 Best Duration : 589\n",
            "Completed : 9 Best Size :4175 Best Duration : 589\n",
            "Completed : 10 Best Size :4175 Best Duration : 589\n",
            "Completed : 11 Best Size :4350 Best Duration : 596\n",
            "Completed : 12 Best Size :4350 Best Duration : 596\n",
            "Completed : 13 Best Size :4225 Best Duration : 599\n",
            "Completed : 14 Best Size :4225 Best Duration : 599\n",
            "Completed : 15 Best Size :4225 Best Duration : 599\n",
            "Completed : 16 Best Size :4225 Best Duration : 599\n",
            "Completed : 17 Best Size :4225 Best Duration : 599\n",
            "Completed : 18 Best Size :4225 Best Duration : 599\n",
            "Completed : 19 Best Size :4225 Best Duration : 599\n",
            "Completed : 20 Best Size :4225 Best Duration : 599\n",
            "Completed : 21 Best Size :4225 Best Duration : 599\n",
            "Completed : 22 Best Size :4225 Best Duration : 599\n",
            "Completed : 23 Best Size :4225 Best Duration : 599\n",
            "Completed : 24 Best Size :4225 Best Duration : 599\n",
            "Completed : 25 Best Size :4225 Best Duration : 599\n",
            "Completed : 26 Best Size :4225 Best Duration : 599\n",
            "Completed : 27 Best Size :4375 Best Duration : 609\n",
            "Completed : 28 Best Size :4375 Best Duration : 609\n",
            "Completed : 29 Best Size :4375 Best Duration : 609\n",
            "Completed : 30 Best Size :4375 Best Duration : 609\n",
            "Completed : 31 Best Size :4475 Best Duration : 613\n",
            "Completed : 32 Best Size :4475 Best Duration : 613\n",
            "Completed : 33 Best Size :4475 Best Duration : 613\n",
            "Completed : 34 Best Size :4475 Best Duration : 613\n",
            "Completed : 35 Best Size :4475 Best Duration : 613\n",
            "Completed : 36 Best Size :4475 Best Duration : 613\n",
            "Completed : 37 Best Size :4475 Best Duration : 613\n",
            "Completed : 38 Best Size :4475 Best Duration : 613\n",
            "Completed : 39 Best Size :4475 Best Duration : 613\n",
            "Completed : 40 Best Size :4475 Best Duration : 613\n",
            "Completed : 41 Best Size :4475 Best Duration : 613\n",
            "Completed : 42 Best Size :4475 Best Duration : 613\n",
            "Completed : 43 Best Size :4475 Best Duration : 613\n",
            "Completed : 44 Best Size :4475 Best Duration : 613\n",
            "Completed : 45 Best Size :4475 Best Duration : 613\n",
            "Completed : 46 Best Size :4475 Best Duration : 613\n",
            "Completed : 47 Best Size :4475 Best Duration : 613\n",
            "Completed : 48 Best Size :4475 Best Duration : 613\n",
            "Completed : 49 Best Size :4475 Best Duration : 613\n",
            "Completed : 50 Best Size :4475 Best Duration : 613\n",
            "Completed : 51 Best Size :4475 Best Duration : 613\n",
            "Completed : 52 Best Size :4475 Best Duration : 613\n",
            "Completed : 53 Best Size :4475 Best Duration : 613\n",
            "Completed : 54 Best Size :4475 Best Duration : 613\n",
            "Completed : 55 Best Size :4475 Best Duration : 613\n",
            "Completed : 56 Best Size :4425 Best Duration : 614\n",
            "Completed : 57 Best Size :4425 Best Duration : 614\n",
            "Completed : 58 Best Size :4425 Best Duration : 614\n",
            "Completed : 59 Best Size :4425 Best Duration : 614\n",
            "Completed : 60 Best Size :4425 Best Duration : 614\n",
            "Completed : 61 Best Size :4425 Best Duration : 614\n",
            "Completed : 62 Best Size :4425 Best Duration : 614\n",
            "Completed : 63 Best Size :4425 Best Duration : 614\n",
            "Completed : 64 Best Size :4425 Best Duration : 614\n",
            "Completed : 65 Best Size :4425 Best Duration : 614\n",
            "Completed : 66 Best Size :4425 Best Duration : 614\n",
            "Completed : 67 Best Size :4425 Best Duration : 614\n",
            "Completed : 68 Best Size :4425 Best Duration : 614\n",
            "Completed : 69 Best Size :4425 Best Duration : 614\n",
            "Completed : 70 Best Size :4425 Best Duration : 614\n",
            "Completed : 71 Best Size :4425 Best Duration : 614\n",
            "Completed : 72 Best Size :4425 Best Duration : 614\n",
            "Completed : 73 Best Size :4425 Best Duration : 614\n",
            "Completed : 74 Best Size :4425 Best Duration : 614\n",
            "Completed : 75 Best Size :4425 Best Duration : 614\n",
            "Completed : 76 Best Size :4425 Best Duration : 614\n",
            "Completed : 77 Best Size :4425 Best Duration : 614\n",
            "Completed : 78 Best Size :4425 Best Duration : 614\n",
            "Completed : 79 Best Size :4425 Best Duration : 614\n",
            "Completed : 80 Best Size :4425 Best Duration : 614\n",
            "Completed : 81 Best Size :4425 Best Duration : 614\n",
            "Completed : 82 Best Size :4425 Best Duration : 614\n",
            "Completed : 83 Best Size :4425 Best Duration : 614\n",
            "Completed : 84 Best Size :4425 Best Duration : 614\n",
            "Completed : 85 Best Size :4425 Best Duration : 614\n",
            "Completed : 86 Best Size :4425 Best Duration : 614\n",
            "Completed : 87 Best Size :4425 Best Duration : 614\n",
            "Completed : 88 Best Size :4425 Best Duration : 614\n",
            "Completed : 89 Best Size :4425 Best Duration : 614\n",
            "Completed : 90 Best Size :4425 Best Duration : 614\n",
            "Completed : 91 Best Size :4425 Best Duration : 614\n",
            "Completed : 92 Best Size :4425 Best Duration : 614\n",
            "Completed : 93 Best Size :4425 Best Duration : 614\n",
            "Completed : 94 Best Size :4425 Best Duration : 614\n",
            "Completed : 95 Best Size :4425 Best Duration : 614\n",
            "Completed : 96 Best Size :4425 Best Duration : 614\n",
            "Completed : 97 Best Size :4425 Best Duration : 614\n",
            "Completed : 98 Best Size :4425 Best Duration : 614\n",
            "Completed : 99 Best Size :4425 Best Duration : 614\n",
            "Completed : 100 Best Size :4425 Best Duration : 614\n"
          ],
          "name": "stdout"
        }
      ]
    },
    {
      "cell_type": "code",
      "metadata": {
        "id": "10C3by4qRLKz",
        "colab_type": "code",
        "colab": {}
      },
      "source": [
        ""
      ],
      "execution_count": 0,
      "outputs": []
    },
    {
      "cell_type": "code",
      "metadata": {
        "id": "IfkU77cMCdMr",
        "colab_type": "code",
        "colab": {
          "base_uri": "https://localhost:8080/",
          "height": 286
        },
        "outputId": "c5647f8c-5ae2-4814-8fcc-ab3a6de8bca3"
      },
      "source": [
        "plt.plot([x for x in range(0,n+1)],best_vals_size)"
      ],
      "execution_count": 22,
      "outputs": [
        {
          "output_type": "execute_result",
          "data": {
            "text/plain": [
              "[<matplotlib.lines.Line2D at 0x7f40a45da240>]"
            ]
          },
          "metadata": {
            "tags": []
          },
          "execution_count": 22
        },
        {
          "output_type": "display_data",
          "data": {
            "image/png": "[encoded data removed]",
            "text/plain": [
              "<Figure size 432x288 with 1 Axes>"
            ]
          },
          "metadata": {
            "tags": []
          }
        }
      ]
    },
    {
      "cell_type": "code",
      "metadata": {
        "id": "OLdS3UIZDVDq",
        "colab_type": "code",
        "colab": {
          "base_uri": "https://localhost:8080/",
          "height": 286
        },
        "outputId": "ba08e2c4-e3fb-4e2d-eae6-be034a32e8e6"
      },
      "source": [
        "plt.plot([x for x in range(0,n+1)],best_vals_duration)\n"
      ],
      "execution_count": 23,
      "outputs": [
        {
          "output_type": "execute_result",
          "data": {
            "text/plain": [
              "[<matplotlib.lines.Line2D at 0x7f40a45a84e0>]"
            ]
          },
          "metadata": {
            "tags": []
          },
          "execution_count": 23
        },
        {
          "output_type": "display_data",
          "data": {
            "image/png": "[encoded data removed]",
            "text/plain": [
              "<Figure size 432x288 with 1 Axes>"
            ]
          },
          "metadata": {
            "tags": []
          }
        }
      ]
    },
    {
      "cell_type": "markdown",
      "metadata": {
        "id": "O2X8B3_zO6ik",
        "colab_type": "text"
      },
      "source": [
        "### **Variation with Crossover Rate**"
      ]
    },
    {
      "cell_type": "code",
      "metadata": {
        "id": "-k7KkA7KKHyG",
        "colab_type": "code",
        "colab": {}
      },
      "source": [
        "def get_avg_best_pc_var(start,end,step,pop_1):\n",
        "  epoch = 1\n",
        "  for j in frange(start,end,step):\n",
        "    trainModel(iteration_pc+1,n_point,j,p_m)\n",
        "    \n",
        "    finalDuration = []\n",
        "    finalSize = []\n",
        "    for i in range(popSize):\n",
        "      duration,size = getFitness(pop_1.iloc[i,1:].values)\n",
        "      finalDuration.append(duration)\n",
        "      finalSize.append(size)\n",
        "      \n",
        "    best_vals_size.append(finalSize[finalDuration.index(max(finalDuration))])\n",
        "    best_vals_duration.append(max(finalDuration))\n",
        "    print(\"Completed : \" + str(epoch) + \" Best Size :\" + str(finalSize[finalDuration.index(max(finalDuration))]) + \" Best Duration : \" + str(max(finalDuration)))\n",
        "    pop_1 = chromosome\n",
        "    epoch +=1"
      ],
      "execution_count": 0,
      "outputs": []
    },
    {
      "cell_type": "code",
      "metadata": {
        "id": "hBCYCTRbQTze",
        "colab_type": "code",
        "colab": {}
      },
      "source": [
        "def frange(start, stop, step):\n",
        "  i = start\n",
        "  while i < stop:\n",
        "    yield i\n",
        "    i += step"
      ],
      "execution_count": 0,
      "outputs": []
    },
    {
      "cell_type": "code",
      "metadata": {
        "id": "RnH89FK_QyoD",
        "colab_type": "code",
        "colab": {}
      },
      "source": [
        "pop_1 = chromosome"
      ],
      "execution_count": 0,
      "outputs": []
    },
    {
      "cell_type": "code",
      "metadata": {
        "id": "qx5c3k-pQ4R5",
        "colab_type": "code",
        "colab": {
          "base_uri": "https://localhost:8080/",
          "height": 357
        },
        "outputId": "d8078196-da2f-4e97-8a9d-efe668dce1d1"
      },
      "source": [
        "best_vals_size = [ ]\n",
        "best_vals_duration = [ ]\n",
        "iteration_pc = 10\n",
        "start =0.8\n",
        "end = 1\n",
        "step = 0.01\n",
        "get_avg_best_pc_var(start,end,step,pop_1)"
      ],
      "execution_count": 27,
      "outputs": [
        {
          "output_type": "stream",
          "text": [
            "Completed : 1 Best Size :4425 Best Duration : 614\n",
            "Completed : 2 Best Size :4425 Best Duration : 614\n",
            "Completed : 3 Best Size :4425 Best Duration : 614\n",
            "Completed : 4 Best Size :4425 Best Duration : 614\n",
            "Completed : 5 Best Size :4425 Best Duration : 614\n",
            "Completed : 6 Best Size :4425 Best Duration : 614\n",
            "Completed : 7 Best Size :4425 Best Duration : 614\n",
            "Completed : 8 Best Size :4425 Best Duration : 614\n",
            "Completed : 9 Best Size :4425 Best Duration : 614\n",
            "Completed : 10 Best Size :4425 Best Duration : 614\n",
            "Completed : 11 Best Size :4425 Best Duration : 614\n",
            "Completed : 12 Best Size :4425 Best Duration : 614\n",
            "Completed : 13 Best Size :4425 Best Duration : 614\n",
            "Completed : 14 Best Size :4425 Best Duration : 614\n",
            "Completed : 15 Best Size :4425 Best Duration : 614\n",
            "Completed : 16 Best Size :4425 Best Duration : 614\n",
            "Completed : 17 Best Size :4425 Best Duration : 614\n",
            "Completed : 18 Best Size :4425 Best Duration : 614\n",
            "Completed : 19 Best Size :4425 Best Duration : 614\n",
            "Completed : 20 Best Size :4425 Best Duration : 614\n"
          ],
          "name": "stdout"
        }
      ]
    },
    {
      "cell_type": "code",
      "metadata": {
        "id": "cUpXP7xJRrI9",
        "colab_type": "code",
        "colab": {
          "base_uri": "https://localhost:8080/",
          "height": 286
        },
        "outputId": "f165d7b2-56ed-4976-b13e-436247d8906e"
      },
      "source": [
        "plt.plot([x for x in frange(start,end,step)],best_vals_size)"
      ],
      "execution_count": 28,
      "outputs": [
        {
          "output_type": "execute_result",
          "data": {
            "text/plain": [
              "[<matplotlib.lines.Line2D at 0x7f40a450fef0>]"
            ]
          },
          "metadata": {
            "tags": []
          },
          "execution_count": 28
        },
        {
          "output_type": "display_data",
          "data": {
            "image/png": "[encoded data removed]",
            "text/plain": [
              "<Figure size 432x288 with 1 Axes>"
            ]
          },
          "metadata": {
            "tags": []
          }
        }
      ]
    },
    {
      "cell_type": "code",
      "metadata": {
        "id": "RezM3IkDSP7q",
        "colab_type": "code",
        "colab": {
          "base_uri": "https://localhost:8080/",
          "height": 286
        },
        "outputId": "647f5da6-0d21-4a18-ed12-427375ab0c2c"
      },
      "source": [
        "plt.plot([x for x in frange(start,end,step)],best_vals_duration)"
      ],
      "execution_count": 29,
      "outputs": [
        {
          "output_type": "execute_result",
          "data": {
            "text/plain": [
              "[<matplotlib.lines.Line2D at 0x7f40a44ea518>]"
            ]
          },
          "metadata": {
            "tags": []
          },
          "execution_count": 29
        },
        {
          "output_type": "display_data",
          "data": {
            "image/png": "[encoded data removed]",
            "text/plain": [
              "<Figure size 432x288 with 1 Axes>"
            ]
          },
          "metadata": {
            "tags": []
          }
        }
      ]
    },
    {
      "cell_type": "code",
      "metadata": {
        "id": "NbQEQHoiSSFO",
        "colab_type": "code",
        "colab": {}
      },
      "source": [
        ""
      ],
      "execution_count": 0,
      "outputs": []
    },
    {
      "cell_type": "markdown",
      "metadata": {
        "id": "giRsY-LtTOKG",
        "colab_type": "text"
      },
      "source": [
        "### **Variation with Mutation Rate**"
      ]
    },
    {
      "cell_type": "code",
      "metadata": {
        "id": "m2OfL-ZpTQbV",
        "colab_type": "code",
        "colab": {}
      },
      "source": [
        "def get_avg_best_pm_var(start,end,step,pop_1):\n",
        "  epoch = 1\n",
        "  for j in frange(start,end,step):\n",
        "    trainModel(iteration_pm+1,n_point,p_c,j)\n",
        "    \n",
        "    finalDuration = []\n",
        "    finalSize = []\n",
        "    for i in range(popSize):\n",
        "      duration,size = getFitness(pop_1.iloc[i,1:].values)\n",
        "      finalDuration.append(duration)\n",
        "      finalSize.append(size)\n",
        "      \n",
        "    best_vals_size.append(finalSize[finalDuration.index(max(finalDuration))])\n",
        "    best_vals_duration.append(max(finalDuration))\n",
        "    print(\"Completed : \" + str(epoch) + \" Best Size :\" + str(finalSize[finalDuration.index(max(finalDuration))]) + \" Best Duration : \" + str(max(finalDuration)))\n",
        "    pop_1 = chromosome\n",
        "    epoch +=1"
      ],
      "execution_count": 0,
      "outputs": []
    },
    {
      "cell_type": "code",
      "metadata": {
        "id": "K3gGFHFyTXZQ",
        "colab_type": "code",
        "colab": {}
      },
      "source": [
        "chromosome = createInitPop(popSize)\n",
        "pop_1 = chromosome"
      ],
      "execution_count": 0,
      "outputs": []
    },
    {
      "cell_type": "code",
      "metadata": {
        "id": "-x6wG7iUTZ0V",
        "colab_type": "code",
        "colab": {
          "base_uri": "https://localhost:8080/",
          "height": 1717
        },
        "outputId": "ecf7fd56-6d1e-464f-d2d7-f209b285fa3b"
      },
      "source": [
        "best_vals_size = [ ]\n",
        "best_vals_duration = [ ]\n",
        "iteration_pm = 10\n",
        "start =0\n",
        "end = 1\n",
        "step = 0.01\n",
        "get_avg_best_pm_var(start,end,step,pop_1)"
      ],
      "execution_count": 32,
      "outputs": [
        {
          "output_type": "stream",
          "text": [
            "Completed : 1 Best Size :4425 Best Duration : 614\n",
            "Completed : 2 Best Size :4425 Best Duration : 614\n",
            "Completed : 3 Best Size :4425 Best Duration : 614\n",
            "Completed : 4 Best Size :4425 Best Duration : 614\n",
            "Completed : 5 Best Size :4425 Best Duration : 614\n",
            "Completed : 6 Best Size :4425 Best Duration : 614\n",
            "Completed : 7 Best Size :4425 Best Duration : 614\n",
            "Completed : 8 Best Size :4425 Best Duration : 614\n",
            "Completed : 9 Best Size :4425 Best Duration : 614\n",
            "Completed : 10 Best Size :4425 Best Duration : 614\n",
            "Completed : 11 Best Size :4425 Best Duration : 614\n",
            "Completed : 12 Best Size :4425 Best Duration : 614\n",
            "Completed : 13 Best Size :4425 Best Duration : 614\n",
            "Completed : 14 Best Size :4425 Best Duration : 614\n",
            "Completed : 15 Best Size :4425 Best Duration : 614\n",
            "Completed : 16 Best Size :4425 Best Duration : 614\n",
            "Completed : 17 Best Size :4425 Best Duration : 614\n",
            "Completed : 18 Best Size :4425 Best Duration : 614\n",
            "Completed : 19 Best Size :4425 Best Duration : 614\n",
            "Completed : 20 Best Size :4425 Best Duration : 614\n",
            "Completed : 21 Best Size :4425 Best Duration : 614\n",
            "Completed : 22 Best Size :4425 Best Duration : 614\n",
            "Completed : 23 Best Size :4425 Best Duration : 614\n",
            "Completed : 24 Best Size :4425 Best Duration : 614\n",
            "Completed : 25 Best Size :4425 Best Duration : 614\n",
            "Completed : 26 Best Size :4425 Best Duration : 614\n",
            "Completed : 27 Best Size :4425 Best Duration : 614\n",
            "Completed : 28 Best Size :4425 Best Duration : 614\n",
            "Completed : 29 Best Size :4425 Best Duration : 614\n",
            "Completed : 30 Best Size :4425 Best Duration : 614\n",
            "Completed : 31 Best Size :4425 Best Duration : 614\n",
            "Completed : 32 Best Size :4425 Best Duration : 614\n",
            "Completed : 33 Best Size :4425 Best Duration : 614\n",
            "Completed : 34 Best Size :4425 Best Duration : 614\n",
            "Completed : 35 Best Size :4425 Best Duration : 614\n",
            "Completed : 36 Best Size :4425 Best Duration : 614\n",
            "Completed : 37 Best Size :4425 Best Duration : 614\n",
            "Completed : 38 Best Size :4425 Best Duration : 614\n",
            "Completed : 39 Best Size :4425 Best Duration : 614\n",
            "Completed : 40 Best Size :4425 Best Duration : 614\n",
            "Completed : 41 Best Size :4425 Best Duration : 614\n",
            "Completed : 42 Best Size :4425 Best Duration : 614\n",
            "Completed : 43 Best Size :4425 Best Duration : 614\n",
            "Completed : 44 Best Size :4425 Best Duration : 614\n",
            "Completed : 45 Best Size :4425 Best Duration : 614\n",
            "Completed : 46 Best Size :4425 Best Duration : 614\n",
            "Completed : 47 Best Size :4425 Best Duration : 614\n",
            "Completed : 48 Best Size :4425 Best Duration : 614\n",
            "Completed : 49 Best Size :4425 Best Duration : 614\n",
            "Completed : 50 Best Size :4425 Best Duration : 614\n",
            "Completed : 51 Best Size :4425 Best Duration : 614\n",
            "Completed : 52 Best Size :4425 Best Duration : 614\n",
            "Completed : 53 Best Size :4425 Best Duration : 614\n",
            "Completed : 54 Best Size :4425 Best Duration : 614\n",
            "Completed : 55 Best Size :4425 Best Duration : 614\n",
            "Completed : 56 Best Size :4425 Best Duration : 614\n",
            "Completed : 57 Best Size :4425 Best Duration : 614\n",
            "Completed : 58 Best Size :4425 Best Duration : 614\n",
            "Completed : 59 Best Size :4425 Best Duration : 614\n",
            "Completed : 60 Best Size :4425 Best Duration : 614\n",
            "Completed : 61 Best Size :4425 Best Duration : 614\n",
            "Completed : 62 Best Size :4425 Best Duration : 614\n",
            "Completed : 63 Best Size :4425 Best Duration : 614\n",
            "Completed : 64 Best Size :4425 Best Duration : 614\n",
            "Completed : 65 Best Size :4425 Best Duration : 614\n",
            "Completed : 66 Best Size :4425 Best Duration : 614\n",
            "Completed : 67 Best Size :4425 Best Duration : 614\n",
            "Completed : 68 Best Size :4425 Best Duration : 614\n",
            "Completed : 69 Best Size :4425 Best Duration : 614\n",
            "Completed : 70 Best Size :4425 Best Duration : 614\n",
            "Completed : 71 Best Size :4425 Best Duration : 614\n",
            "Completed : 72 Best Size :4425 Best Duration : 614\n",
            "Completed : 73 Best Size :4425 Best Duration : 614\n",
            "Completed : 74 Best Size :4425 Best Duration : 614\n",
            "Completed : 75 Best Size :4425 Best Duration : 614\n",
            "Completed : 76 Best Size :4425 Best Duration : 614\n",
            "Completed : 77 Best Size :4425 Best Duration : 614\n",
            "Completed : 78 Best Size :4425 Best Duration : 614\n",
            "Completed : 79 Best Size :4425 Best Duration : 614\n",
            "Completed : 80 Best Size :4425 Best Duration : 614\n",
            "Completed : 81 Best Size :4425 Best Duration : 614\n",
            "Completed : 82 Best Size :4425 Best Duration : 614\n",
            "Completed : 83 Best Size :4425 Best Duration : 614\n",
            "Completed : 84 Best Size :4425 Best Duration : 614\n",
            "Completed : 85 Best Size :4425 Best Duration : 614\n",
            "Completed : 86 Best Size :4425 Best Duration : 614\n",
            "Completed : 87 Best Size :4425 Best Duration : 614\n",
            "Completed : 88 Best Size :4425 Best Duration : 614\n",
            "Completed : 89 Best Size :4425 Best Duration : 614\n",
            "Completed : 90 Best Size :4425 Best Duration : 614\n",
            "Completed : 91 Best Size :4425 Best Duration : 614\n",
            "Completed : 92 Best Size :4425 Best Duration : 614\n",
            "Completed : 93 Best Size :4425 Best Duration : 614\n",
            "Completed : 94 Best Size :4425 Best Duration : 614\n",
            "Completed : 95 Best Size :4425 Best Duration : 614\n",
            "Completed : 96 Best Size :4425 Best Duration : 614\n",
            "Completed : 97 Best Size :4425 Best Duration : 614\n",
            "Completed : 98 Best Size :4425 Best Duration : 614\n",
            "Completed : 99 Best Size :4425 Best Duration : 614\n",
            "Completed : 100 Best Size :4425 Best Duration : 614\n"
          ],
          "name": "stdout"
        }
      ]
    },
    {
      "cell_type": "code",
      "metadata": {
        "id": "hZlA2HChTb_r",
        "colab_type": "code",
        "colab": {
          "base_uri": "https://localhost:8080/",
          "height": 286
        },
        "outputId": "d4cfb320-4dc7-4c01-d157-d12d027340c8"
      },
      "source": [
        "plt.plot([x for x in frange(start,end,step)],best_vals_size)"
      ],
      "execution_count": 33,
      "outputs": [
        {
          "output_type": "execute_result",
          "data": {
            "text/plain": [
              "[<matplotlib.lines.Line2D at 0x7f40a4617630>]"
            ]
          },
          "metadata": {
            "tags": []
          },
          "execution_count": 33
        },
        {
          "output_type": "display_data",
          "data": {
            "image/png": "[encoded data removed]",
            "text/plain": [
              "<Figure size 432x288 with 1 Axes>"
            ]
          },
          "metadata": {
            "tags": []
          }
        }
      ]
    },
    {
      "cell_type": "code",
      "metadata": {
        "id": "JOVvhifxTf2F",
        "colab_type": "code",
        "colab": {
          "base_uri": "https://localhost:8080/",
          "height": 286
        },
        "outputId": "fd5b9f5a-51cf-4c0f-d35b-12304438c8e6"
      },
      "source": [
        "plt.plot([x for x in frange(start,end,step)],best_vals_duration)"
      ],
      "execution_count": 34,
      "outputs": [
        {
          "output_type": "execute_result",
          "data": {
            "text/plain": [
              "[<matplotlib.lines.Line2D at 0x7f40a44723c8>]"
            ]
          },
          "metadata": {
            "tags": []
          },
          "execution_count": 34
        },
        {
          "output_type": "display_data",
          "data": {
            "image/png": "[encoded data removed]",
            "text/plain": [
              "<Figure size 432x288 with 1 Axes>"
            ]
          },
          "metadata": {
            "tags": []
          }
        }
      ]
    },
    {
      "cell_type": "markdown",
      "metadata": {
        "id": "nUxFNg0GHCh6",
        "colab_type": "text"
      },
      "source": [
        "### **Variation with Population size**"
      ]
    },
    {
      "cell_type": "code",
      "metadata": {
        "id": "ps0lewE_T3uT",
        "colab_type": "code",
        "colab": {}
      },
      "source": [
        "def pop_var(popSize):\n",
        "  epoch = 1\n",
        "  for j in range(1,popSize+1):\n",
        "    chromosome = createInitPop(j)\n",
        "    #n point for crossover\n",
        "    n_point = 1\n",
        "    #crossover rate\n",
        "    p_c = 0.8\n",
        "    #mutation rate\n",
        "    p_m = 0.01\n",
        "\n",
        "    finalDuration = []\n",
        "    finalSize = []\n",
        "\n",
        "    trainModel(10,n_point,p_c,p_m)\n",
        "    \n",
        "    #Get Fitness and Size information for the Last Population\n",
        "    for i in range(j):\n",
        "      duration,size = getDetails(chromosome.iloc[i,1:].values)\n",
        "      finalDuration.append(duration)\n",
        "      finalSize.append(size)\n",
        "      \n",
        "    best_vals_size.append(finalSize[finalDuration.index(max(finalDuration))])\n",
        "    best_vals_duration.append(max(finalDuration))  \n",
        "    \n",
        "    print(\"Completed : \" + str(epoch) + \" Pop Size : \" + str(j) + \" Best Size :\" + str(finalSize[finalDuration.index(max(finalDuration))]) + \" Best Duration : \" + str(max(finalDuration)))\n",
        "    epoch += 1\n",
        "    \n",
        "    "
      ],
      "execution_count": 0,
      "outputs": []
    },
    {
      "cell_type": "code",
      "metadata": {
        "id": "yQ0krwKDJDnN",
        "colab_type": "code",
        "colab": {
          "base_uri": "https://localhost:8080/",
          "height": 867
        },
        "outputId": "4ebc6ac3-524a-4221-c584-4bea8ce9f075"
      },
      "source": [
        "#Final population Duration and Size storage\n",
        "best_vals_size = [ ]\n",
        "best_vals_duration = [ ]\n",
        "\n",
        "popSize = 50\n",
        "pop_var(popSize)"
      ],
      "execution_count": 36,
      "outputs": [
        {
          "output_type": "stream",
          "text": [
            "Completed : 1 Pop Size : 1 Best Size :5275 Best Duration : 636\n",
            "Completed : 2 Pop Size : 2 Best Size :7225 Best Duration : 896\n",
            "Completed : 3 Pop Size : 3 Best Size :4475 Best Duration : 613\n",
            "Completed : 4 Pop Size : 4 Best Size :6550 Best Duration : 811\n",
            "Completed : 5 Pop Size : 5 Best Size :5325 Best Duration : 737\n",
            "Completed : 6 Pop Size : 6 Best Size :4925 Best Duration : 666\n",
            "Completed : 7 Pop Size : 7 Best Size :5975 Best Duration : 733\n",
            "Completed : 8 Pop Size : 8 Best Size :7375 Best Duration : 918\n",
            "Completed : 9 Pop Size : 9 Best Size :5050 Best Duration : 689\n",
            "Completed : 10 Pop Size : 10 Best Size :8075 Best Duration : 1022\n",
            "Completed : 11 Pop Size : 11 Best Size :7200 Best Duration : 894\n",
            "Completed : 12 Pop Size : 12 Best Size :6175 Best Duration : 774\n",
            "Completed : 13 Pop Size : 13 Best Size :6825 Best Duration : 859\n",
            "Completed : 14 Pop Size : 14 Best Size :7300 Best Duration : 911\n",
            "Completed : 15 Pop Size : 15 Best Size :7725 Best Duration : 982\n",
            "Completed : 16 Pop Size : 16 Best Size :6625 Best Duration : 912\n",
            "Completed : 17 Pop Size : 17 Best Size :6600 Best Duration : 816\n",
            "Completed : 18 Pop Size : 18 Best Size :6625 Best Duration : 829\n",
            "Completed : 19 Pop Size : 19 Best Size :7375 Best Duration : 932\n",
            "Completed : 20 Pop Size : 20 Best Size :5575 Best Duration : 777\n",
            "Completed : 21 Pop Size : 21 Best Size :7000 Best Duration : 864\n",
            "Completed : 22 Pop Size : 22 Best Size :6625 Best Duration : 818\n",
            "Completed : 23 Pop Size : 23 Best Size :6575 Best Duration : 902\n",
            "Completed : 24 Pop Size : 24 Best Size :6050 Best Duration : 734\n",
            "Completed : 25 Pop Size : 25 Best Size :8175 Best Duration : 1039\n",
            "Completed : 26 Pop Size : 26 Best Size :6475 Best Duration : 819\n",
            "Completed : 27 Pop Size : 27 Best Size :7125 Best Duration : 904\n",
            "Completed : 28 Pop Size : 28 Best Size :7075 Best Duration : 887\n",
            "Completed : 29 Pop Size : 29 Best Size :8175 Best Duration : 1039\n",
            "Completed : 30 Pop Size : 30 Best Size :7375 Best Duration : 918\n",
            "Completed : 31 Pop Size : 31 Best Size :7025 Best Duration : 866\n",
            "Completed : 32 Pop Size : 32 Best Size :7875 Best Duration : 992\n",
            "Completed : 33 Pop Size : 33 Best Size :5750 Best Duration : 784\n",
            "Completed : 34 Pop Size : 34 Best Size :5925 Best Duration : 819\n",
            "Completed : 35 Pop Size : 35 Best Size :6625 Best Duration : 912\n",
            "Completed : 36 Pop Size : 36 Best Size :7425 Best Duration : 939\n",
            "Completed : 37 Pop Size : 37 Best Size :7275 Best Duration : 997\n",
            "Completed : 38 Pop Size : 38 Best Size :7175 Best Duration : 902\n",
            "Completed : 39 Pop Size : 39 Best Size :8075 Best Duration : 1022\n",
            "Completed : 40 Pop Size : 40 Best Size :7875 Best Duration : 992\n",
            "Completed : 41 Pop Size : 41 Best Size :7725 Best Duration : 982\n",
            "Completed : 42 Pop Size : 42 Best Size :6675 Best Duration : 919\n",
            "Completed : 43 Pop Size : 43 Best Size :7900 Best Duration : 989\n",
            "Completed : 44 Pop Size : 44 Best Size :7375 Best Duration : 918\n",
            "Completed : 45 Pop Size : 45 Best Size :7425 Best Duration : 937\n",
            "Completed : 46 Pop Size : 46 Best Size :6675 Best Duration : 919\n",
            "Completed : 47 Pop Size : 47 Best Size :7200 Best Duration : 894\n",
            "Completed : 48 Pop Size : 48 Best Size :7975 Best Duration : 996\n",
            "Completed : 49 Pop Size : 49 Best Size :7275 Best Duration : 997\n",
            "Completed : 50 Pop Size : 50 Best Size :8775 Best Duration : 1117\n"
          ],
          "name": "stdout"
        }
      ]
    },
    {
      "cell_type": "code",
      "metadata": {
        "id": "vIf0Bh-oJLkW",
        "colab_type": "code",
        "colab": {
          "base_uri": "https://localhost:8080/",
          "height": 287
        },
        "outputId": "f855d9c5-1ee6-4791-969c-7b708baca704"
      },
      "source": [
        "plt.plot([x for x in range(1,popSize+1)],best_vals_size)\n",
        "plt.plot([x for x in range(1,popSize+1)],[4500 for i in range(1,popSize+1)])"
      ],
      "execution_count": 37,
      "outputs": [
        {
          "output_type": "execute_result",
          "data": {
            "text/plain": [
              "[<matplotlib.lines.Line2D at 0x7f40a4472828>]"
            ]
          },
          "metadata": {
            "tags": []
          },
          "execution_count": 37
        },
        {
          "output_type": "display_data",
          "data": {
            "image/png": "[encoded data removed]",
            "text/plain": [
              "<Figure size 432x288 with 1 Axes>"
            ]
          },
          "metadata": {
            "tags": []
          }
        }
      ]
    },
    {
      "cell_type": "code",
      "metadata": {
        "id": "nIZMDXb-RSF0",
        "colab_type": "code",
        "colab": {
          "base_uri": "https://localhost:8080/",
          "height": 34
        },
        "outputId": "5a9f9017-00bf-4b1b-ee33-ea2cc54b8fea"
      },
      "source": [
        "best_vals_size[len(best_vals_size)-1]"
      ],
      "execution_count": 38,
      "outputs": [
        {
          "output_type": "execute_result",
          "data": {
            "text/plain": [
              "8775"
            ]
          },
          "metadata": {
            "tags": []
          },
          "execution_count": 38
        }
      ]
    },
    {
      "cell_type": "code",
      "metadata": {
        "id": "okUmTuZVK9Dz",
        "colab_type": "code",
        "colab": {
          "base_uri": "https://localhost:8080/",
          "height": 286
        },
        "outputId": "8394903a-1406-4838-b27b-f8d7d4444d33"
      },
      "source": [
        "plt.plot([x for x in range(1,popSize+1)],best_vals_duration)"
      ],
      "execution_count": 39,
      "outputs": [
        {
          "output_type": "execute_result",
          "data": {
            "text/plain": [
              "[<matplotlib.lines.Line2D at 0x7f40a43a3828>]"
            ]
          },
          "metadata": {
            "tags": []
          },
          "execution_count": 39
        },
        {
          "output_type": "display_data",
          "data": {
            "image/png": "[encoded data removed]",
            "text/plain": [
              "<Figure size 432x288 with 1 Axes>"
            ]
          },
          "metadata": {
            "tags": []
          }
        }
      ]
    },
    {
      "cell_type": "code",
      "metadata": {
        "id": "v45wbk-_LI-i",
        "colab_type": "code",
        "colab": {}
      },
      "source": [
        ""
      ],
      "execution_count": 0,
      "outputs": []
    },
    {
      "cell_type": "code",
      "metadata": {
        "id": "c3towenYQhxf",
        "colab_type": "code",
        "colab": {}
      },
      "source": [
        ""
      ],
      "execution_count": 0,
      "outputs": []
    },
    {
      "cell_type": "markdown",
      "metadata": {
        "id": "kpO0AXAPmYnI",
        "colab_type": "text"
      },
      "source": [
        "### **Brute Force**"
      ]
    },
    {
      "cell_type": "code",
      "metadata": {
        "id": "ZgBE9ta8uNd5",
        "colab_type": "code",
        "colab": {}
      },
      "source": [
        "def generate(variables,power):\n",
        "  val = int((2**variables)/(2**(power+1)))\n",
        "  file_10 = []\n",
        "  for i in range(val):\n",
        "    for j in range(2**power):\n",
        "      file_10.append(0)\n",
        "\n",
        "    for j in range(2**power):\n",
        "      file_10.append(1)\n",
        "      \n",
        "  return file_10\n",
        "  "
      ],
      "execution_count": 0,
      "outputs": []
    },
    {
      "cell_type": "code",
      "metadata": {
        "id": "8vJo_TQZ_aA6",
        "colab_type": "code",
        "colab": {}
      },
      "source": [
        "list_ret = []\n",
        "variables = 10\n",
        "for power in range(variables-1,-1,-1):\n",
        "  list_ret.append(generate(variables,power))"
      ],
      "execution_count": 0,
      "outputs": []
    },
    {
      "cell_type": "code",
      "metadata": {
        "id": "kxNFimd_x_9x",
        "colab_type": "code",
        "colab": {}
      },
      "source": [
        "values ={\n",
        "    \n",
        "    'file ' + str(x+1):list_ret[x] for x in range(variables-1,-1,-1)\n",
        "    \n",
        "    \n",
        "    \n",
        "  }\n",
        "  #convert the array of population to a dataframe\n",
        "values = pd.DataFrame(values)"
      ],
      "execution_count": 0,
      "outputs": []
    },
    {
      "cell_type": "code",
      "metadata": {
        "id": "3e39LhojyYoD",
        "colab_type": "code",
        "colab": {
          "base_uri": "https://localhost:8080/",
          "height": 1969
        },
        "outputId": "d5d3842c-809f-4442-cd58-4f3c174de5c5"
      },
      "source": [
        "values"
      ],
      "execution_count": 43,
      "outputs": [
        {
          "output_type": "execute_result",
          "data": {
            "text/html": [
              "<div>\n",
              "<style scoped>\n",
              "    .dataframe tbody tr th:only-of-type {\n",
              "        vertical-align: middle;\n",
              "    }\n",
              "\n",
              "    .dataframe tbody tr th {\n",
              "        vertical-align: top;\n",
              "    }\n",
              "\n",
              "    .dataframe thead th {\n",
              "        text-align: right;\n",
              "    }\n",
              "</style>\n",
              "<table border=\"1\" class=\"dataframe\">\n",
              "  <thead>\n",
              "    <tr style=\"text-align: right;\">\n",
              "      <th></th>\n",
              "      <th>file 10</th>\n",
              "      <th>file 9</th>\n",
              "      <th>file 8</th>\n",
              "      <th>file 7</th>\n",
              "      <th>file 6</th>\n",
              "      <th>file 5</th>\n",
              "      <th>file 4</th>\n",
              "      <th>file 3</th>\n",
              "      <th>file 2</th>\n",
              "      <th>file 1</th>\n",
              "    </tr>\n",
              "  </thead>\n",
              "  <tbody>\n",
              "    <tr>\n",
              "      <th>0</th>\n",
              "      <td>0</td>\n",
              "      <td>0</td>\n",
              "      <td>0</td>\n",
              "      <td>0</td>\n",
              "      <td>0</td>\n",
              "      <td>0</td>\n",
              "      <td>0</td>\n",
              "      <td>0</td>\n",
              "      <td>0</td>\n",
              "      <td>0</td>\n",
              "    </tr>\n",
              "    <tr>\n",
              "      <th>1</th>\n",
              "      <td>1</td>\n",
              "      <td>0</td>\n",
              "      <td>0</td>\n",
              "      <td>0</td>\n",
              "      <td>0</td>\n",
              "      <td>0</td>\n",
              "      <td>0</td>\n",
              "      <td>0</td>\n",
              "      <td>0</td>\n",
              "      <td>0</td>\n",
              "    </tr>\n",
              "    <tr>\n",
              "      <th>2</th>\n",
              "      <td>0</td>\n",
              "      <td>1</td>\n",
              "      <td>0</td>\n",
              "      <td>0</td>\n",
              "      <td>0</td>\n",
              "      <td>0</td>\n",
              "      <td>0</td>\n",
              "      <td>0</td>\n",
              "      <td>0</td>\n",
              "      <td>0</td>\n",
              "    </tr>\n",
              "    <tr>\n",
              "      <th>3</th>\n",
              "      <td>1</td>\n",
              "      <td>1</td>\n",
              "      <td>0</td>\n",
              "      <td>0</td>\n",
              "      <td>0</td>\n",
              "      <td>0</td>\n",
              "      <td>0</td>\n",
              "      <td>0</td>\n",
              "      <td>0</td>\n",
              "      <td>0</td>\n",
              "    </tr>\n",
              "    <tr>\n",
              "      <th>4</th>\n",
              "      <td>0</td>\n",
              "      <td>0</td>\n",
              "      <td>1</td>\n",
              "      <td>0</td>\n",
              "      <td>0</td>\n",
              "      <td>0</td>\n",
              "      <td>0</td>\n",
              "      <td>0</td>\n",
              "      <td>0</td>\n",
              "      <td>0</td>\n",
              "    </tr>\n",
              "    <tr>\n",
              "      <th>5</th>\n",
              "      <td>1</td>\n",
              "      <td>0</td>\n",
              "      <td>1</td>\n",
              "      <td>0</td>\n",
              "      <td>0</td>\n",
              "      <td>0</td>\n",
              "      <td>0</td>\n",
              "      <td>0</td>\n",
              "      <td>0</td>\n",
              "      <td>0</td>\n",
              "    </tr>\n",
              "    <tr>\n",
              "      <th>6</th>\n",
              "      <td>0</td>\n",
              "      <td>1</td>\n",
              "      <td>1</td>\n",
              "      <td>0</td>\n",
              "      <td>0</td>\n",
              "      <td>0</td>\n",
              "      <td>0</td>\n",
              "      <td>0</td>\n",
              "      <td>0</td>\n",
              "      <td>0</td>\n",
              "    </tr>\n",
              "    <tr>\n",
              "      <th>7</th>\n",
              "      <td>1</td>\n",
              "      <td>1</td>\n",
              "      <td>1</td>\n",
              "      <td>0</td>\n",
              "      <td>0</td>\n",
              "      <td>0</td>\n",
              "      <td>0</td>\n",
              "      <td>0</td>\n",
              "      <td>0</td>\n",
              "      <td>0</td>\n",
              "    </tr>\n",
              "    <tr>\n",
              "      <th>8</th>\n",
              "      <td>0</td>\n",
              "      <td>0</td>\n",
              "      <td>0</td>\n",
              "      <td>1</td>\n",
              "      <td>0</td>\n",
              "      <td>0</td>\n",
              "      <td>0</td>\n",
              "      <td>0</td>\n",
              "      <td>0</td>\n",
              "      <td>0</td>\n",
              "    </tr>\n",
              "    <tr>\n",
              "      <th>9</th>\n",
              "      <td>1</td>\n",
              "      <td>0</td>\n",
              "      <td>0</td>\n",
              "      <td>1</td>\n",
              "      <td>0</td>\n",
              "      <td>0</td>\n",
              "      <td>0</td>\n",
              "      <td>0</td>\n",
              "      <td>0</td>\n",
              "      <td>0</td>\n",
              "    </tr>\n",
              "    <tr>\n",
              "      <th>10</th>\n",
              "      <td>0</td>\n",
              "      <td>1</td>\n",
              "      <td>0</td>\n",
              "      <td>1</td>\n",
              "      <td>0</td>\n",
              "      <td>0</td>\n",
              "      <td>0</td>\n",
              "      <td>0</td>\n",
              "      <td>0</td>\n",
              "      <td>0</td>\n",
              "    </tr>\n",
              "    <tr>\n",
              "      <th>11</th>\n",
              "      <td>1</td>\n",
              "      <td>1</td>\n",
              "      <td>0</td>\n",
              "      <td>1</td>\n",
              "      <td>0</td>\n",
              "      <td>0</td>\n",
              "      <td>0</td>\n",
              "      <td>0</td>\n",
              "      <td>0</td>\n",
              "      <td>0</td>\n",
              "    </tr>\n",
              "    <tr>\n",
              "      <th>12</th>\n",
              "      <td>0</td>\n",
              "      <td>0</td>\n",
              "      <td>1</td>\n",
              "      <td>1</td>\n",
              "      <td>0</td>\n",
              "      <td>0</td>\n",
              "      <td>0</td>\n",
              "      <td>0</td>\n",
              "      <td>0</td>\n",
              "      <td>0</td>\n",
              "    </tr>\n",
              "    <tr>\n",
              "      <th>13</th>\n",
              "      <td>1</td>\n",
              "      <td>0</td>\n",
              "      <td>1</td>\n",
              "      <td>1</td>\n",
              "      <td>0</td>\n",
              "      <td>0</td>\n",
              "      <td>0</td>\n",
              "      <td>0</td>\n",
              "      <td>0</td>\n",
              "      <td>0</td>\n",
              "    </tr>\n",
              "    <tr>\n",
              "      <th>14</th>\n",
              "      <td>0</td>\n",
              "      <td>1</td>\n",
              "      <td>1</td>\n",
              "      <td>1</td>\n",
              "      <td>0</td>\n",
              "      <td>0</td>\n",
              "      <td>0</td>\n",
              "      <td>0</td>\n",
              "      <td>0</td>\n",
              "      <td>0</td>\n",
              "    </tr>\n",
              "    <tr>\n",
              "      <th>15</th>\n",
              "      <td>1</td>\n",
              "      <td>1</td>\n",
              "      <td>1</td>\n",
              "      <td>1</td>\n",
              "      <td>0</td>\n",
              "      <td>0</td>\n",
              "      <td>0</td>\n",
              "      <td>0</td>\n",
              "      <td>0</td>\n",
              "      <td>0</td>\n",
              "    </tr>\n",
              "    <tr>\n",
              "      <th>16</th>\n",
              "      <td>0</td>\n",
              "      <td>0</td>\n",
              "      <td>0</td>\n",
              "      <td>0</td>\n",
              "      <td>1</td>\n",
              "      <td>0</td>\n",
              "      <td>0</td>\n",
              "      <td>0</td>\n",
              "      <td>0</td>\n",
              "      <td>0</td>\n",
              "    </tr>\n",
              "    <tr>\n",
              "      <th>17</th>\n",
              "      <td>1</td>\n",
              "      <td>0</td>\n",
              "      <td>0</td>\n",
              "      <td>0</td>\n",
              "      <td>1</td>\n",
              "      <td>0</td>\n",
              "      <td>0</td>\n",
              "      <td>0</td>\n",
              "      <td>0</td>\n",
              "      <td>0</td>\n",
              "    </tr>\n",
              "    <tr>\n",
              "      <th>18</th>\n",
              "      <td>0</td>\n",
              "      <td>1</td>\n",
              "      <td>0</td>\n",
              "      <td>0</td>\n",
              "      <td>1</td>\n",
              "      <td>0</td>\n",
              "      <td>0</td>\n",
              "      <td>0</td>\n",
              "      <td>0</td>\n",
              "      <td>0</td>\n",
              "    </tr>\n",
              "    <tr>\n",
              "      <th>19</th>\n",
              "      <td>1</td>\n",
              "      <td>1</td>\n",
              "      <td>0</td>\n",
              "      <td>0</td>\n",
              "      <td>1</td>\n",
              "      <td>0</td>\n",
              "      <td>0</td>\n",
              "      <td>0</td>\n",
              "      <td>0</td>\n",
              "      <td>0</td>\n",
              "    </tr>\n",
              "    <tr>\n",
              "      <th>20</th>\n",
              "      <td>0</td>\n",
              "      <td>0</td>\n",
              "      <td>1</td>\n",
              "      <td>0</td>\n",
              "      <td>1</td>\n",
              "      <td>0</td>\n",
              "      <td>0</td>\n",
              "      <td>0</td>\n",
              "      <td>0</td>\n",
              "      <td>0</td>\n",
              "    </tr>\n",
              "    <tr>\n",
              "      <th>21</th>\n",
              "      <td>1</td>\n",
              "      <td>0</td>\n",
              "      <td>1</td>\n",
              "      <td>0</td>\n",
              "      <td>1</td>\n",
              "      <td>0</td>\n",
              "      <td>0</td>\n",
              "      <td>0</td>\n",
              "      <td>0</td>\n",
              "      <td>0</td>\n",
              "    </tr>\n",
              "    <tr>\n",
              "      <th>22</th>\n",
              "      <td>0</td>\n",
              "      <td>1</td>\n",
              "      <td>1</td>\n",
              "      <td>0</td>\n",
              "      <td>1</td>\n",
              "      <td>0</td>\n",
              "      <td>0</td>\n",
              "      <td>0</td>\n",
              "      <td>0</td>\n",
              "      <td>0</td>\n",
              "    </tr>\n",
              "    <tr>\n",
              "      <th>23</th>\n",
              "      <td>1</td>\n",
              "      <td>1</td>\n",
              "      <td>1</td>\n",
              "      <td>0</td>\n",
              "      <td>1</td>\n",
              "      <td>0</td>\n",
              "      <td>0</td>\n",
              "      <td>0</td>\n",
              "      <td>0</td>\n",
              "      <td>0</td>\n",
              "    </tr>\n",
              "    <tr>\n",
              "      <th>24</th>\n",
              "      <td>0</td>\n",
              "      <td>0</td>\n",
              "      <td>0</td>\n",
              "      <td>1</td>\n",
              "      <td>1</td>\n",
              "      <td>0</td>\n",
              "      <td>0</td>\n",
              "      <td>0</td>\n",
              "      <td>0</td>\n",
              "      <td>0</td>\n",
              "    </tr>\n",
              "    <tr>\n",
              "      <th>25</th>\n",
              "      <td>1</td>\n",
              "      <td>0</td>\n",
              "      <td>0</td>\n",
              "      <td>1</td>\n",
              "      <td>1</td>\n",
              "      <td>0</td>\n",
              "      <td>0</td>\n",
              "      <td>0</td>\n",
              "      <td>0</td>\n",
              "      <td>0</td>\n",
              "    </tr>\n",
              "    <tr>\n",
              "      <th>26</th>\n",
              "      <td>0</td>\n",
              "      <td>1</td>\n",
              "      <td>0</td>\n",
              "      <td>1</td>\n",
              "      <td>1</td>\n",
              "      <td>0</td>\n",
              "      <td>0</td>\n",
              "      <td>0</td>\n",
              "      <td>0</td>\n",
              "      <td>0</td>\n",
              "    </tr>\n",
              "    <tr>\n",
              "      <th>27</th>\n",
              "      <td>1</td>\n",
              "      <td>1</td>\n",
              "      <td>0</td>\n",
              "      <td>1</td>\n",
              "      <td>1</td>\n",
              "      <td>0</td>\n",
              "      <td>0</td>\n",
              "      <td>0</td>\n",
              "      <td>0</td>\n",
              "      <td>0</td>\n",
              "    </tr>\n",
              "    <tr>\n",
              "      <th>28</th>\n",
              "      <td>0</td>\n",
              "      <td>0</td>\n",
              "      <td>1</td>\n",
              "      <td>1</td>\n",
              "      <td>1</td>\n",
              "      <td>0</td>\n",
              "      <td>0</td>\n",
              "      <td>0</td>\n",
              "      <td>0</td>\n",
              "      <td>0</td>\n",
              "    </tr>\n",
              "    <tr>\n",
              "      <th>29</th>\n",
              "      <td>1</td>\n",
              "      <td>0</td>\n",
              "      <td>1</td>\n",
              "      <td>1</td>\n",
              "      <td>1</td>\n",
              "      <td>0</td>\n",
              "      <td>0</td>\n",
              "      <td>0</td>\n",
              "      <td>0</td>\n",
              "      <td>0</td>\n",
              "    </tr>\n",
              "    <tr>\n",
              "      <th>...</th>\n",
              "      <td>...</td>\n",
              "      <td>...</td>\n",
              "      <td>...</td>\n",
              "      <td>...</td>\n",
              "      <td>...</td>\n",
              "      <td>...</td>\n",
              "      <td>...</td>\n",
              "      <td>...</td>\n",
              "      <td>...</td>\n",
              "      <td>...</td>\n",
              "    </tr>\n",
              "    <tr>\n",
              "      <th>994</th>\n",
              "      <td>0</td>\n",
              "      <td>1</td>\n",
              "      <td>0</td>\n",
              "      <td>0</td>\n",
              "      <td>0</td>\n",
              "      <td>1</td>\n",
              "      <td>1</td>\n",
              "      <td>1</td>\n",
              "      <td>1</td>\n",
              "      <td>1</td>\n",
              "    </tr>\n",
              "    <tr>\n",
              "      <th>995</th>\n",
              "      <td>1</td>\n",
              "      <td>1</td>\n",
              "      <td>0</td>\n",
              "      <td>0</td>\n",
              "      <td>0</td>\n",
              "      <td>1</td>\n",
              "      <td>1</td>\n",
              "      <td>1</td>\n",
              "      <td>1</td>\n",
              "      <td>1</td>\n",
              "    </tr>\n",
              "    <tr>\n",
              "      <th>996</th>\n",
              "      <td>0</td>\n",
              "      <td>0</td>\n",
              "      <td>1</td>\n",
              "      <td>0</td>\n",
              "      <td>0</td>\n",
              "      <td>1</td>\n",
              "      <td>1</td>\n",
              "      <td>1</td>\n",
              "      <td>1</td>\n",
              "      <td>1</td>\n",
              "    </tr>\n",
              "    <tr>\n",
              "      <th>997</th>\n",
              "      <td>1</td>\n",
              "      <td>0</td>\n",
              "      <td>1</td>\n",
              "      <td>0</td>\n",
              "      <td>0</td>\n",
              "      <td>1</td>\n",
              "      <td>1</td>\n",
              "      <td>1</td>\n",
              "      <td>1</td>\n",
              "      <td>1</td>\n",
              "    </tr>\n",
              "    <tr>\n",
              "      <th>998</th>\n",
              "      <td>0</td>\n",
              "      <td>1</td>\n",
              "      <td>1</td>\n",
              "      <td>0</td>\n",
              "      <td>0</td>\n",
              "      <td>1</td>\n",
              "      <td>1</td>\n",
              "      <td>1</td>\n",
              "      <td>1</td>\n",
              "      <td>1</td>\n",
              "    </tr>\n",
              "    <tr>\n",
              "      <th>999</th>\n",
              "      <td>1</td>\n",
              "      <td>1</td>\n",
              "      <td>1</td>\n",
              "      <td>0</td>\n",
              "      <td>0</td>\n",
              "      <td>1</td>\n",
              "      <td>1</td>\n",
              "      <td>1</td>\n",
              "      <td>1</td>\n",
              "      <td>1</td>\n",
              "    </tr>\n",
              "    <tr>\n",
              "      <th>1000</th>\n",
              "      <td>0</td>\n",
              "      <td>0</td>\n",
              "      <td>0</td>\n",
              "      <td>1</td>\n",
              "      <td>0</td>\n",
              "      <td>1</td>\n",
              "      <td>1</td>\n",
              "      <td>1</td>\n",
              "      <td>1</td>\n",
              "      <td>1</td>\n",
              "    </tr>\n",
              "    <tr>\n",
              "      <th>1001</th>\n",
              "      <td>1</td>\n",
              "      <td>0</td>\n",
              "      <td>0</td>\n",
              "      <td>1</td>\n",
              "      <td>0</td>\n",
              "      <td>1</td>\n",
              "      <td>1</td>\n",
              "      <td>1</td>\n",
              "      <td>1</td>\n",
              "      <td>1</td>\n",
              "    </tr>\n",
              "    <tr>\n",
              "      <th>1002</th>\n",
              "      <td>0</td>\n",
              "      <td>1</td>\n",
              "      <td>0</td>\n",
              "      <td>1</td>\n",
              "      <td>0</td>\n",
              "      <td>1</td>\n",
              "      <td>1</td>\n",
              "      <td>1</td>\n",
              "      <td>1</td>\n",
              "      <td>1</td>\n",
              "    </tr>\n",
              "    <tr>\n",
              "      <th>1003</th>\n",
              "      <td>1</td>\n",
              "      <td>1</td>\n",
              "      <td>0</td>\n",
              "      <td>1</td>\n",
              "      <td>0</td>\n",
              "      <td>1</td>\n",
              "      <td>1</td>\n",
              "      <td>1</td>\n",
              "      <td>1</td>\n",
              "      <td>1</td>\n",
              "    </tr>\n",
              "    <tr>\n",
              "      <th>1004</th>\n",
              "      <td>0</td>\n",
              "      <td>0</td>\n",
              "      <td>1</td>\n",
              "      <td>1</td>\n",
              "      <td>0</td>\n",
              "      <td>1</td>\n",
              "      <td>1</td>\n",
              "      <td>1</td>\n",
              "      <td>1</td>\n",
              "      <td>1</td>\n",
              "    </tr>\n",
              "    <tr>\n",
              "      <th>1005</th>\n",
              "      <td>1</td>\n",
              "      <td>0</td>\n",
              "      <td>1</td>\n",
              "      <td>1</td>\n",
              "      <td>0</td>\n",
              "      <td>1</td>\n",
              "      <td>1</td>\n",
              "      <td>1</td>\n",
              "      <td>1</td>\n",
              "      <td>1</td>\n",
              "    </tr>\n",
              "    <tr>\n",
              "      <th>1006</th>\n",
              "      <td>0</td>\n",
              "      <td>1</td>\n",
              "      <td>1</td>\n",
              "      <td>1</td>\n",
              "      <td>0</td>\n",
              "      <td>1</td>\n",
              "      <td>1</td>\n",
              "      <td>1</td>\n",
              "      <td>1</td>\n",
              "      <td>1</td>\n",
              "    </tr>\n",
              "    <tr>\n",
              "      <th>1007</th>\n",
              "      <td>1</td>\n",
              "      <td>1</td>\n",
              "      <td>1</td>\n",
              "      <td>1</td>\n",
              "      <td>0</td>\n",
              "      <td>1</td>\n",
              "      <td>1</td>\n",
              "      <td>1</td>\n",
              "      <td>1</td>\n",
              "      <td>1</td>\n",
              "    </tr>\n",
              "    <tr>\n",
              "      <th>1008</th>\n",
              "      <td>0</td>\n",
              "      <td>0</td>\n",
              "      <td>0</td>\n",
              "      <td>0</td>\n",
              "      <td>1</td>\n",
              "      <td>1</td>\n",
              "      <td>1</td>\n",
              "      <td>1</td>\n",
              "      <td>1</td>\n",
              "      <td>1</td>\n",
              "    </tr>\n",
              "    <tr>\n",
              "      <th>1009</th>\n",
              "      <td>1</td>\n",
              "      <td>0</td>\n",
              "      <td>0</td>\n",
              "      <td>0</td>\n",
              "      <td>1</td>\n",
              "      <td>1</td>\n",
              "      <td>1</td>\n",
              "      <td>1</td>\n",
              "      <td>1</td>\n",
              "      <td>1</td>\n",
              "    </tr>\n",
              "    <tr>\n",
              "      <th>1010</th>\n",
              "      <td>0</td>\n",
              "      <td>1</td>\n",
              "      <td>0</td>\n",
              "      <td>0</td>\n",
              "      <td>1</td>\n",
              "      <td>1</td>\n",
              "      <td>1</td>\n",
              "      <td>1</td>\n",
              "      <td>1</td>\n",
              "      <td>1</td>\n",
              "    </tr>\n",
              "    <tr>\n",
              "      <th>1011</th>\n",
              "      <td>1</td>\n",
              "      <td>1</td>\n",
              "      <td>0</td>\n",
              "      <td>0</td>\n",
              "      <td>1</td>\n",
              "      <td>1</td>\n",
              "      <td>1</td>\n",
              "      <td>1</td>\n",
              "      <td>1</td>\n",
              "      <td>1</td>\n",
              "    </tr>\n",
              "    <tr>\n",
              "      <th>1012</th>\n",
              "      <td>0</td>\n",
              "      <td>0</td>\n",
              "      <td>1</td>\n",
              "      <td>0</td>\n",
              "      <td>1</td>\n",
              "      <td>1</td>\n",
              "      <td>1</td>\n",
              "      <td>1</td>\n",
              "      <td>1</td>\n",
              "      <td>1</td>\n",
              "    </tr>\n",
              "    <tr>\n",
              "      <th>1013</th>\n",
              "      <td>1</td>\n",
              "      <td>0</td>\n",
              "      <td>1</td>\n",
              "      <td>0</td>\n",
              "      <td>1</td>\n",
              "      <td>1</td>\n",
              "      <td>1</td>\n",
              "      <td>1</td>\n",
              "      <td>1</td>\n",
              "      <td>1</td>\n",
              "    </tr>\n",
              "    <tr>\n",
              "      <th>1014</th>\n",
              "      <td>0</td>\n",
              "      <td>1</td>\n",
              "      <td>1</td>\n",
              "      <td>0</td>\n",
              "      <td>1</td>\n",
              "      <td>1</td>\n",
              "      <td>1</td>\n",
              "      <td>1</td>\n",
              "      <td>1</td>\n",
              "      <td>1</td>\n",
              "    </tr>\n",
              "    <tr>\n",
              "      <th>1015</th>\n",
              "      <td>1</td>\n",
              "      <td>1</td>\n",
              "      <td>1</td>\n",
              "      <td>0</td>\n",
              "      <td>1</td>\n",
              "      <td>1</td>\n",
              "      <td>1</td>\n",
              "      <td>1</td>\n",
              "      <td>1</td>\n",
              "      <td>1</td>\n",
              "    </tr>\n",
              "    <tr>\n",
              "      <th>1016</th>\n",
              "      <td>0</td>\n",
              "      <td>0</td>\n",
              "      <td>0</td>\n",
              "      <td>1</td>\n",
              "      <td>1</td>\n",
              "      <td>1</td>\n",
              "      <td>1</td>\n",
              "      <td>1</td>\n",
              "      <td>1</td>\n",
              "      <td>1</td>\n",
              "    </tr>\n",
              "    <tr>\n",
              "      <th>1017</th>\n",
              "      <td>1</td>\n",
              "      <td>0</td>\n",
              "      <td>0</td>\n",
              "      <td>1</td>\n",
              "      <td>1</td>\n",
              "      <td>1</td>\n",
              "      <td>1</td>\n",
              "      <td>1</td>\n",
              "      <td>1</td>\n",
              "      <td>1</td>\n",
              "    </tr>\n",
              "    <tr>\n",
              "      <th>1018</th>\n",
              "      <td>0</td>\n",
              "      <td>1</td>\n",
              "      <td>0</td>\n",
              "      <td>1</td>\n",
              "      <td>1</td>\n",
              "      <td>1</td>\n",
              "      <td>1</td>\n",
              "      <td>1</td>\n",
              "      <td>1</td>\n",
              "      <td>1</td>\n",
              "    </tr>\n",
              "    <tr>\n",
              "      <th>1019</th>\n",
              "      <td>1</td>\n",
              "      <td>1</td>\n",
              "      <td>0</td>\n",
              "      <td>1</td>\n",
              "      <td>1</td>\n",
              "      <td>1</td>\n",
              "      <td>1</td>\n",
              "      <td>1</td>\n",
              "      <td>1</td>\n",
              "      <td>1</td>\n",
              "    </tr>\n",
              "    <tr>\n",
              "      <th>1020</th>\n",
              "      <td>0</td>\n",
              "      <td>0</td>\n",
              "      <td>1</td>\n",
              "      <td>1</td>\n",
              "      <td>1</td>\n",
              "      <td>1</td>\n",
              "      <td>1</td>\n",
              "      <td>1</td>\n",
              "      <td>1</td>\n",
              "      <td>1</td>\n",
              "    </tr>\n",
              "    <tr>\n",
              "      <th>1021</th>\n",
              "      <td>1</td>\n",
              "      <td>0</td>\n",
              "      <td>1</td>\n",
              "      <td>1</td>\n",
              "      <td>1</td>\n",
              "      <td>1</td>\n",
              "      <td>1</td>\n",
              "      <td>1</td>\n",
              "      <td>1</td>\n",
              "      <td>1</td>\n",
              "    </tr>\n",
              "    <tr>\n",
              "      <th>1022</th>\n",
              "      <td>0</td>\n",
              "      <td>1</td>\n",
              "      <td>1</td>\n",
              "      <td>1</td>\n",
              "      <td>1</td>\n",
              "      <td>1</td>\n",
              "      <td>1</td>\n",
              "      <td>1</td>\n",
              "      <td>1</td>\n",
              "      <td>1</td>\n",
              "    </tr>\n",
              "    <tr>\n",
              "      <th>1023</th>\n",
              "      <td>1</td>\n",
              "      <td>1</td>\n",
              "      <td>1</td>\n",
              "      <td>1</td>\n",
              "      <td>1</td>\n",
              "      <td>1</td>\n",
              "      <td>1</td>\n",
              "      <td>1</td>\n",
              "      <td>1</td>\n",
              "      <td>1</td>\n",
              "    </tr>\n",
              "  </tbody>\n",
              "</table>\n",
              "<p>1024 rows × 10 columns</p>\n",
              "</div>"
            ],
            "text/plain": [
              "      file 10  file 9  file 8  file 7  ...  file 4  file 3  file 2  file 1\n",
              "0           0       0       0       0  ...       0       0       0       0\n",
              "1           1       0       0       0  ...       0       0       0       0\n",
              "2           0       1       0       0  ...       0       0       0       0\n",
              "3           1       1       0       0  ...       0       0       0       0\n",
              "4           0       0       1       0  ...       0       0       0       0\n",
              "5           1       0       1       0  ...       0       0       0       0\n",
              "6           0       1       1       0  ...       0       0       0       0\n",
              "7           1       1       1       0  ...       0       0       0       0\n",
              "8           0       0       0       1  ...       0       0       0       0\n",
              "9           1       0       0       1  ...       0       0       0       0\n",
              "10          0       1       0       1  ...       0       0       0       0\n",
              "11          1       1       0       1  ...       0       0       0       0\n",
              "12          0       0       1       1  ...       0       0       0       0\n",
              "13          1       0       1       1  ...       0       0       0       0\n",
              "14          0       1       1       1  ...       0       0       0       0\n",
              "15          1       1       1       1  ...       0       0       0       0\n",
              "16          0       0       0       0  ...       0       0       0       0\n",
              "17          1       0       0       0  ...       0       0       0       0\n",
              "18          0       1       0       0  ...       0       0       0       0\n",
              "19          1       1       0       0  ...       0       0       0       0\n",
              "20          0       0       1       0  ...       0       0       0       0\n",
              "21          1       0       1       0  ...       0       0       0       0\n",
              "22          0       1       1       0  ...       0       0       0       0\n",
              "23          1       1       1       0  ...       0       0       0       0\n",
              "24          0       0       0       1  ...       0       0       0       0\n",
              "25          1       0       0       1  ...       0       0       0       0\n",
              "26          0       1       0       1  ...       0       0       0       0\n",
              "27          1       1       0       1  ...       0       0       0       0\n",
              "28          0       0       1       1  ...       0       0       0       0\n",
              "29          1       0       1       1  ...       0       0       0       0\n",
              "...       ...     ...     ...     ...  ...     ...     ...     ...     ...\n",
              "994         0       1       0       0  ...       1       1       1       1\n",
              "995         1       1       0       0  ...       1       1       1       1\n",
              "996         0       0       1       0  ...       1       1       1       1\n",
              "997         1       0       1       0  ...       1       1       1       1\n",
              "998         0       1       1       0  ...       1       1       1       1\n",
              "999         1       1       1       0  ...       1       1       1       1\n",
              "1000        0       0       0       1  ...       1       1       1       1\n",
              "1001        1       0       0       1  ...       1       1       1       1\n",
              "1002        0       1       0       1  ...       1       1       1       1\n",
              "1003        1       1       0       1  ...       1       1       1       1\n",
              "1004        0       0       1       1  ...       1       1       1       1\n",
              "1005        1       0       1       1  ...       1       1       1       1\n",
              "1006        0       1       1       1  ...       1       1       1       1\n",
              "1007        1       1       1       1  ...       1       1       1       1\n",
              "1008        0       0       0       0  ...       1       1       1       1\n",
              "1009        1       0       0       0  ...       1       1       1       1\n",
              "1010        0       1       0       0  ...       1       1       1       1\n",
              "1011        1       1       0       0  ...       1       1       1       1\n",
              "1012        0       0       1       0  ...       1       1       1       1\n",
              "1013        1       0       1       0  ...       1       1       1       1\n",
              "1014        0       1       1       0  ...       1       1       1       1\n",
              "1015        1       1       1       0  ...       1       1       1       1\n",
              "1016        0       0       0       1  ...       1       1       1       1\n",
              "1017        1       0       0       1  ...       1       1       1       1\n",
              "1018        0       1       0       1  ...       1       1       1       1\n",
              "1019        1       1       0       1  ...       1       1       1       1\n",
              "1020        0       0       1       1  ...       1       1       1       1\n",
              "1021        1       0       1       1  ...       1       1       1       1\n",
              "1022        0       1       1       1  ...       1       1       1       1\n",
              "1023        1       1       1       1  ...       1       1       1       1\n",
              "\n",
              "[1024 rows x 10 columns]"
            ]
          },
          "metadata": {
            "tags": []
          },
          "execution_count": 43
        }
      ]
    },
    {
      "cell_type": "code",
      "metadata": {
        "id": "OCa8iJUp3cSd",
        "colab_type": "code",
        "colab": {}
      },
      "source": [
        "def details(row):\n",
        "  duration = 0\n",
        "  size = 0\n",
        "  fitness = 0\n",
        "  for i in range(len(row)):\n",
        "    if(row[i] == 1):\n",
        "      size += df.loc[9-i,'size']\n",
        "      duration += df.loc[9-i,'duration']\n",
        "    \n",
        "    if(size<=4500):\n",
        "      fitness += duration\n",
        "    else:\n",
        "      fitness += duration*0.5\n",
        "  \n",
        "  return duration,size,fitness"
      ],
      "execution_count": 0,
      "outputs": []
    },
    {
      "cell_type": "code",
      "metadata": {
        "id": "eXlCOq800KIJ",
        "colab_type": "code",
        "colab": {}
      },
      "source": [
        "final_duration = []\n",
        "final_fitness = []\n",
        "final_size = []\n",
        "for i in range(1024):\n",
        "  \n",
        "  duration,size,fitness = details(values.iloc[i].values)\n",
        "  final_duration.append(duration)\n",
        "  final_size.append(size)\n",
        "  final_fitness.append(fitness) "
      ],
      "execution_count": 0,
      "outputs": []
    },
    {
      "cell_type": "code",
      "metadata": {
        "id": "h4I_jx7TybkG",
        "colab_type": "code",
        "colab": {}
      },
      "source": [
        "nearst = 0\n",
        "index = -1\n",
        "for i in range(1024):\n",
        "  if(final_size[i] > nearst and final_size[i] <=4500):\n",
        "    nearst = final_size[i]\n",
        "    index = i"
      ],
      "execution_count": 0,
      "outputs": []
    },
    {
      "cell_type": "code",
      "metadata": {
        "id": "WBB0iG-G1OPP",
        "colab_type": "code",
        "colab": {
          "base_uri": "https://localhost:8080/",
          "height": 34
        },
        "outputId": "8c02c324-d518-478e-92c0-1db277cc47eb"
      },
      "source": [
        "final_size[index]"
      ],
      "execution_count": 47,
      "outputs": [
        {
          "output_type": "execute_result",
          "data": {
            "text/plain": [
              "4500"
            ]
          },
          "metadata": {
            "tags": []
          },
          "execution_count": 47
        }
      ]
    },
    {
      "cell_type": "code",
      "metadata": {
        "id": "m_T63a5I2xB6",
        "colab_type": "code",
        "colab": {
          "base_uri": "https://localhost:8080/",
          "height": 34
        },
        "outputId": "64c00d51-17c9-4905-aa9a-9967845d695c"
      },
      "source": [
        "final_duration[index]"
      ],
      "execution_count": 48,
      "outputs": [
        {
          "output_type": "execute_result",
          "data": {
            "text/plain": [
              "523"
            ]
          },
          "metadata": {
            "tags": []
          },
          "execution_count": 48
        }
      ]
    },
    {
      "cell_type": "code",
      "metadata": {
        "id": "XGPprHor25Wm",
        "colab_type": "code",
        "colab": {
          "base_uri": "https://localhost:8080/",
          "height": 34
        },
        "outputId": "3d6037e8-43b4-4bda-a247-c5b99bdb2023"
      },
      "source": [
        "index"
      ],
      "execution_count": 49,
      "outputs": [
        {
          "output_type": "execute_result",
          "data": {
            "text/plain": [
              "361"
            ]
          },
          "metadata": {
            "tags": []
          },
          "execution_count": 49
        }
      ]
    },
    {
      "cell_type": "code",
      "metadata": {
        "id": "c9xYYN9h8mna",
        "colab_type": "code",
        "colab": {
          "base_uri": "https://localhost:8080/",
          "height": 34
        },
        "outputId": "1ed1e070-ec19-41aa-9634-52cb9e1ba50b"
      },
      "source": [
        "final_fitness[index]"
      ],
      "execution_count": 50,
      "outputs": [
        {
          "output_type": "execute_result",
          "data": {
            "text/plain": [
              "3090"
            ]
          },
          "metadata": {
            "tags": []
          },
          "execution_count": 50
        }
      ]
    },
    {
      "cell_type": "code",
      "metadata": {
        "id": "ttaUL0WS6Kux",
        "colab_type": "code",
        "colab": {
          "base_uri": "https://localhost:8080/",
          "height": 204
        },
        "outputId": "1645e3d4-e340-4468-969a-0e1bea0a93db"
      },
      "source": [
        "values.iloc[index]"
      ],
      "execution_count": 51,
      "outputs": [
        {
          "output_type": "execute_result",
          "data": {
            "text/plain": [
              "file 10    1\n",
              "file 9     0\n",
              "file 8     0\n",
              "file 7     1\n",
              "file 6     0\n",
              "file 5     1\n",
              "file 4     1\n",
              "file 3     0\n",
              "file 2     1\n",
              "file 1     0\n",
              "Name: 361, dtype: int64"
            ]
          },
          "metadata": {
            "tags": []
          },
          "execution_count": 51
        }
      ]
    },
    {
      "cell_type": "code",
      "metadata": {
        "id": "1dzWWtwP6OSn",
        "colab_type": "code",
        "colab": {}
      },
      "source": [
        ""
      ],
      "execution_count": 0,
      "outputs": []
    },
    {
      "cell_type": "markdown",
      "metadata": {
        "id": "XbQ4-DPC_Eds",
        "colab_type": "text"
      },
      "source": [
        "### **Differential Evolution**"
      ]
    },
    {
      "cell_type": "code",
      "metadata": {
        "id": "4v5sDfKd_HWr",
        "colab_type": "code",
        "colab": {}
      },
      "source": [
        "def mutate():\n",
        "  #Get 4 distinct values\n",
        "  state = True\n",
        "  a = 0\n",
        "  b = 0\n",
        "  c = 0\n",
        "  target_id = 0\n",
        "  scaleFactor = 0.5\n",
        "  while(state):\n",
        "    a = np.random.randint(0,popSize)\n",
        "    b = np.random.randint(0,popSize)\n",
        "    c = np.random.randint(0,popSize)\n",
        "    target_id = np.random.randint(0,popSize)\n",
        "    state = checkDistinct(a,b,c,target_id)\n",
        "    #print(\"a:\" +str(a) +\" b :\"+str(b) +\" c:\" + str(c) +\" target id:\" +str(target_id) )\n",
        "  #Get the respective solution items as arrays\n",
        "  a_item = population.iloc[a,1:].values\n",
        "  b_item = population.iloc[b,1:].values\n",
        "  c_item = population.iloc[c,1:].values\n",
        "  target_item = population.iloc[target_id,1:].values\n",
        "  #Add the weighted difference\n",
        "  for i in range(2):\n",
        "    a_item[i] = a_item[i] + scaleFactor*(b_item[i]-c_item[i])\n",
        "    \n",
        "  return a_item, target_item,target_id"
      ],
      "execution_count": 0,
      "outputs": []
    },
    {
      "cell_type": "code",
      "metadata": {
        "id": "Ij0vnppYBGa-",
        "colab_type": "code",
        "colab": {}
      },
      "source": [
        "def crossover(donor,target):\n",
        "  #crossover rate\n",
        "  CR = 0.1\n",
        "  \n",
        "  #size of the arrays\n",
        "  size = len(donor)\n",
        "  \n",
        "  #trial vector\n",
        "  trial_vector = np.empty([size])\n",
        "  \n",
        "  #create an array with random values\n",
        "  random_array = [random.uniform(0,1) for x in range(size)]\n",
        "  for i in range(size):\n",
        "    if(random_array[i] <=CR or i == random.randint(1,size)):\n",
        "      #replace with donor\n",
        "      trial_vector[i] = donor[i]\n",
        "    else:\n",
        "      #replace with target\n",
        "      trial_vector[i] = target[i]\n",
        "  \n",
        "  return trial_vector"
      ],
      "execution_count": 0,
      "outputs": []
    },
    {
      "cell_type": "code",
      "metadata": {
        "id": "MTIc92SoBKUd",
        "colab_type": "code",
        "colab": {}
      },
      "source": [
        "def checkDistinct(a,b,c,d):\n",
        "  if(a != b != c !=d != a != c and b != d ):\n",
        "    return False\n",
        "  else:\n",
        "    return True"
      ],
      "execution_count": 0,
      "outputs": []
    },
    {
      "cell_type": "code",
      "metadata": {
        "id": "QTkeZjMBBNam",
        "colab_type": "code",
        "colab": {}
      },
      "source": [
        "def selection(trial_vector,target):\n",
        "  fitness_trial,size_trial = getFitness(trial_vector)\n",
        "  fitness_target,size_target = getFitness(trial_vector)\n",
        "  \n",
        "  \n",
        "  if(fitness_trial>fitness_target):\n",
        "    target = trial_vector\n",
        "  else : \n",
        "    target = target\n",
        "  \n",
        "  return target"
      ],
      "execution_count": 0,
      "outputs": []
    },
    {
      "cell_type": "code",
      "metadata": {
        "id": "H4et_MbNBQQm",
        "colab_type": "code",
        "colab": {}
      },
      "source": [
        "def replace_to_population(offspring,target_id):\n",
        "  population.iloc[target_id,1:] = offspring"
      ],
      "execution_count": 0,
      "outputs": []
    },
    {
      "cell_type": "code",
      "metadata": {
        "id": "d4JeqFSUBUfy",
        "colab_type": "code",
        "colab": {}
      },
      "source": [
        "def iterate(n):\n",
        "  #value = ackley_function(solution[0],solution[1])\n",
        "  for i in range(n):\n",
        "    donor, target,target_id = mutate()\n",
        "    trial_vector = crossover(donor,target)\n",
        "    offspring = selection(trial_vector,target)\n",
        "    replace_to_population(offspring,target_id)"
      ],
      "execution_count": 0,
      "outputs": []
    },
    {
      "cell_type": "code",
      "metadata": {
        "id": "yuYxCX6CK8Yw",
        "colab_type": "code",
        "colab": {}
      },
      "source": [
        "def details2(row):\n",
        "  duration = 0\n",
        "  size = 0\n",
        "  fitness = 0\n",
        "  for i in range(len(row)):\n",
        "    if(row[i] == 1):\n",
        "      size += df.loc[i,'size']\n",
        "      duration += df.loc[i,'duration']\n",
        "    \n",
        "    if(size<=4500):\n",
        "      fitness += duration\n",
        "    else:\n",
        "      fitness += duration*0.5\n",
        "  \n",
        "  return duration,size,fitness"
      ],
      "execution_count": 0,
      "outputs": []
    },
    {
      "cell_type": "code",
      "metadata": {
        "id": "AUxCaqBt_q9k",
        "colab_type": "code",
        "colab": {}
      },
      "source": [
        "popSize = 10\n",
        "population = createInitPop(popSize)"
      ],
      "execution_count": 0,
      "outputs": []
    },
    {
      "cell_type": "code",
      "metadata": {
        "id": "3vMEcpBIBawr",
        "colab_type": "code",
        "colab": {}
      },
      "source": [
        "iterate(1000)"
      ],
      "execution_count": 0,
      "outputs": []
    },
    {
      "cell_type": "code",
      "metadata": {
        "id": "nRcRCeWvKawF",
        "colab_type": "code",
        "colab": {}
      },
      "source": [
        ""
      ],
      "execution_count": 0,
      "outputs": []
    },
    {
      "cell_type": "code",
      "metadata": {
        "id": "dvQTXM1HBcUc",
        "colab_type": "code",
        "colab": {}
      },
      "source": [
        "finalDuration = []\n",
        "finalFitness = []\n",
        "finalSize = []\n",
        "#Get Fitness and Size information for the Last Population\n",
        "for i in range(popSize):\n",
        "  duration,size,fitness = details2(population.iloc[i,1:].values)\n",
        "  finalDuration.append(duration)\n",
        "  finalFitness.append(fitness)\n",
        "  finalSize.append(size)"
      ],
      "execution_count": 0,
      "outputs": []
    },
    {
      "cell_type": "code",
      "metadata": {
        "id": "yBBu8t91DGnF",
        "colab_type": "code",
        "colab": {}
      },
      "source": [
        "nearst = 0\n",
        "index = -1\n",
        "for i in range(popSize):\n",
        "  if(finalFitness[i] > nearst and finalSize[i] <=4500):\n",
        "    nearst = final_size[i]\n",
        "    index = i"
      ],
      "execution_count": 0,
      "outputs": []
    },
    {
      "cell_type": "code",
      "metadata": {
        "id": "McmqkVFHJaOQ",
        "colab_type": "code",
        "colab": {
          "base_uri": "https://localhost:8080/",
          "height": 34
        },
        "outputId": "5429cfd6-3900-4a22-fd56-b1599ad55914"
      },
      "source": [
        "finalFitness[index]"
      ],
      "execution_count": 70,
      "outputs": [
        {
          "output_type": "execute_result",
          "data": {
            "text/plain": [
              "1997"
            ]
          },
          "metadata": {
            "tags": []
          },
          "execution_count": 70
        }
      ]
    },
    {
      "cell_type": "code",
      "metadata": {
        "id": "JHDsez3zJjc0",
        "colab_type": "code",
        "colab": {
          "base_uri": "https://localhost:8080/",
          "height": 34
        },
        "outputId": "b27d496d-80cc-4c0a-d909-5e0d6e8b6b75"
      },
      "source": [
        "finalSize[index]"
      ],
      "execution_count": 71,
      "outputs": [
        {
          "output_type": "execute_result",
          "data": {
            "text/plain": [
              "3325"
            ]
          },
          "metadata": {
            "tags": []
          },
          "execution_count": 71
        }
      ]
    },
    {
      "cell_type": "code",
      "metadata": {
        "id": "51BpFkk_KtV_",
        "colab_type": "code",
        "colab": {
          "base_uri": "https://localhost:8080/",
          "height": 34
        },
        "outputId": "984364e1-d78b-4981-b011-d2ccf82c9703"
      },
      "source": [
        "finalDuration[index]"
      ],
      "execution_count": 72,
      "outputs": [
        {
          "output_type": "execute_result",
          "data": {
            "text/plain": [
              "461"
            ]
          },
          "metadata": {
            "tags": []
          },
          "execution_count": 72
        }
      ]
    },
    {
      "cell_type": "code",
      "metadata": {
        "id": "sjpx9UGUFGry",
        "colab_type": "code",
        "colab": {}
      },
      "source": [
        ""
      ],
      "execution_count": 0,
      "outputs": []
    }
  ]
}